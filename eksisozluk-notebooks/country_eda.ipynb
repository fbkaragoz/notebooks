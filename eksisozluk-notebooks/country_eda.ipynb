{
 "cells": [
  {
   "cell_type": "code",
   "execution_count": null,
   "id": "1d877e31",
   "metadata": {},
   "outputs": [],
   "source": [
    "# --- 1) Import Libraries and set file paths for EDA ---\n",
    "import json\n",
    "from pathlib import Path\n",
    "import pandas as pd\n",
    "import seaborn as sns\n",
    "import matplotlib.pyplot as plt\n",
    "from collections import Counter\n",
    "# import zeyrek #TODO: later analyze for morphological features\n",
    "\n",
    "sns.set_theme()\n",
    "DATA_PATH = Path(\"../datasets/countries.json\") # includes more than 10 country entries from eksisozluk\n",
    "\n"
   ]
  },
  {
   "cell_type": "code",
   "execution_count": 16,
   "id": "8a700956",
   "metadata": {},
   "outputs": [],
   "source": [
    "target_urls = [\n",
    "  \"https://eksisozluk.com/fransa--46687\",\n",
    "  \"https://eksisozluk.com/rusya--43748\",\n",
    "  \"https://eksisozluk.com/cin--2099924\",\n",
    "  \"https://eksisozluk.com/kanada--58585\",\n",
    "  \"https://eksisozluk.com/suudi-arabistan--128684\",\n",
    "  \"https://eksisozluk.com/yunanistan--39870\",\n",
    "  \"https://eksisozluk.com/sili--64696\",\n",
    "  \"https://eksisozluk.com/ermenistan--111737\",\n",
    "  \"https://eksisozluk.com/iran--45394\",\n",
    "  \"https://eksisozluk.com/israil--68980\",\n",
    "  \"https://eksisozluk.com/somali--129500\",\n",
    "  \"https://eksisozluk.com/cezayir--114173\",\n",
    "  \"https://eksisozluk.com/kazakistan--55971\",\n",
    "  \"https://eksisozluk.com/mogolistan--71457\",\n",
    "  \"https://eksisozluk.com/lihtenstayn--385546\",\n",
    "  \"https://eksisozluk.com/yeni-zelanda--86544\",\n",
    "  \"https://eksisozluk.com/angola--167447\",\n",
    "  \"https://eksisozluk.com/venezuela--61614\",\n",
    "  \"https://eksisozluk.com/el-salvador--96743\",\n",
    "  \"https://eksisozluk.com/vietnam--56902\",\n",
    "  \"https://eksisozluk.com/japonya--50310\",\n",
    "  \"https://eksisozluk.com/kuzey-kore--66320\",\n",
    "  \"https://eksisozluk.com/guney-kore--62870\",\n",
    "  \"https://eksisozluk.com/filistin--97065\",\n",
    "  \"https://eksisozluk.com/ukrayna--80137\",\n",
    "  \"https://eksisozluk.com/sirbistan--144150\",\n",
    "  \"https://eksisozluk.com/gurcistan--91933\",\n",
    "  \"https://eksisozluk.com/makedonya--93047\",\n",
    "  \"https://eksisozluk.com/bosna-hersek--127685\",\n",
    "  \"https://eksisozluk.com/isvicre--35513\",\n",
    "  \"https://eksisozluk.com/irak--55600\",\n",
    "  \"https://eksisozluk.com/kurdistan--240029\",\n",
    "  \"https://eksisozluk.com/kibris--36897\",\n",
    "  \"https://eksisozluk.com/suriye--57388\",\n",
    "  \"https://eksisozluk.com/pakistan--42073\",\n",
    "  \"https://eksisozluk.com/hindistan--42072\"\n",
    "]"
   ]
  },
  {
   "cell_type": "code",
   "execution_count": 18,
   "id": "30dd6402",
   "metadata": {},
   "outputs": [
    {
     "name": "stdout",
     "output_type": "stream",
     "text": [
      "Target IDs: ['46687', '43748', '2099924', '58585', '128684', '39870', '64696', '111737', '45394', '68980', '129500', '114173', '55971', '71457', '385546', '86544', '167447', '61614', '96743', '56902', '50310', '66320', '62870', '97065', '80137', '144150', '91933', '93047', '127685', '35513', '55600', '240029', '36897', '57388', '42073', '42072']\n"
     ]
    }
   ],
   "source": [
    "# --- 2) Extract the numeric ids from each URL ---\n",
    "\n",
    "TARGET_IDS = [url.split(\"--\")[-1] for url in target_urls]\n",
    "print(f'Target IDs: {TARGET_IDS}')"
   ]
  },
  {
   "cell_type": "code",
   "execution_count": 22,
   "id": "1659a340",
   "metadata": {},
   "outputs": [
    {
     "name": "stdout",
     "output_type": "stream",
     "text": [
      "JSON data loaded successfully.\n"
     ]
    }
   ],
   "source": [
    "# --- 3) Load JSON data from file and verify successful loading ---\n",
    "with DATA_PATH.open() as f:\n",
    "    raw = json.load(f)\n",
    "    if not raw:\n",
    "        raise ValueError(\"Failed to load JSON data from file.\")\n",
    "    else:\n",
    "        print(\"JSON data loaded successfully.\")\n"
   ]
  },
  {
   "cell_type": "code",
   "execution_count": 23,
   "id": "29ee411d",
   "metadata": {},
   "outputs": [
    {
     "name": "stdout",
     "output_type": "stream",
     "text": [
      "Filtered raw data to include only target IDs. The length: 36\n"
     ]
    }
   ],
   "source": [
    "# --- 4) Explore the top-level structure of the JSON data ---\n",
    "raw = {tid: blob for tid, blob in raw.items() if tid in TARGET_IDS}\n",
    "print(f'Filtered raw data to include only target IDs. The length: {len(raw)}')\n"
   ]
  },
  {
   "cell_type": "code",
   "execution_count": null,
   "id": "e15ef222",
   "metadata": {},
   "outputs": [
    {
     "name": "stdout",
     "output_type": "stream",
     "text": [
      "DataFrame shape: (57470, 11)\n",
      "  topic_id topic_title                             topic_url  \\\n",
      "0    46687      fransa  https://eksisozluk.com/fransa--46687   \n",
      "1    46687      fransa  https://eksisozluk.com/fransa--46687   \n",
      "2    46687      fransa  https://eksisozluk.com/fransa--46687   \n",
      "3    46687      fransa  https://eksisozluk.com/fransa--46687   \n",
      "4    46687      fransa  https://eksisozluk.com/fransa--46687   \n",
      "\n",
      "   entry_count_reported entry_id    author  favorites           created_at  \\\n",
      "0                     0               tazz          0  1999-11-07T18:59:00   \n",
      "1                     0              encre          0                 None   \n",
      "2                     0            suicyco          0  2000-05-30T21:54:00   \n",
      "3                     0               down          0                 None   \n",
      "4                     0           chuinase          0  2002-04-18T12:24:00   \n",
      "\n",
      "                        created_at_raw  \\\n",
      "0                     07.11.1999 18:59   \n",
      "1  20.05.2000 19:17 ~ 19.11.2003 23:35   \n",
      "2                     30.05.2000 21:54   \n",
      "3  19.08.2001 16:27 ~ 24.06.2015 18:54   \n",
      "4                     18.04.2002 12:24   \n",
      "\n",
      "                                                text  \\\n",
      "0                   olmeden gıdılesı gorulesı bı yer   \n",
      "1  sa ile bittigi icin sabanci'nin almak icin can...   \n",
      "2                       camamber peyniri ve $arap...   \n",
      "3                 (bkz:\\nfrance\\n)(bkz:\\noh la la\\n)   \n",
      "4  ozellikle paris teki orsay muzesi itibariyle g...   \n",
      "\n",
      "                                           entry_url  \n",
      "0   https://eksisozluk.com/fransa--46687?entry=53992  \n",
      "1  https://eksisozluk.com/fransa--46687?entry=166702  \n",
      "2  https://eksisozluk.com/fransa--46687?entry=177558  \n",
      "3  https://eksisozluk.com/fransa--46687?entry=598086  \n",
      "4  https://eksisozluk.com/fransa--46687?entry=119...  \n"
     ]
    }
   ],
   "source": [
    "# --- 5) Structure and Sample Data Inspection ---\n",
    "\n",
    "records = []\n",
    "\n",
    "for topic_id, topic_blob in raw.items():\n",
    "    topic_meta = topic_blob.get(\"topic\", {})\n",
    "    entries = topic_blob.get(\"entries\", [])\n",
    "    \n",
    "    for entry in entries:\n",
    "        row = {\n",
    "            'topic_id': topic_id,\n",
    "            'topic_title': topic_meta.get('title', ''),\n",
    "            'topic_url': topic_meta.get('url', ''),\n",
    "            'entry_count_reported': topic_meta.get('entry_count_reported', 0),\n",
    "            'entry_id': entry.get('id', ''),\n",
    "            'author': entry.get('author', ''),\n",
    "            'favorites': entry.get('favorites', 0),\n",
    "            'created_at': entry.get('created_at', ''),\n",
    "            'created_at_raw': entry.get('created_at_raw', 0),\n",
    "            'text': entry.get('text', ''),\n",
    "            'entry_url': entry.get('url', '')\n",
    "            \n",
    "        }\n",
    "        records.append(row)\n",
    "        \n",
    "df =pd.DataFrame(records)\n",
    "print(f'DataFrame shape: {df.shape}')\n",
    "print(df.head())"
   ]
  },
  {
   "cell_type": "code",
   "execution_count": 32,
   "id": "2eefa883",
   "metadata": {},
   "outputs": [
    {
     "name": "stdout",
     "output_type": "stream",
     "text": [
      "<class 'pandas.core.frame.DataFrame'>\n",
      "RangeIndex: 57470 entries, 0 to 57469\n",
      "Data columns (total 11 columns):\n",
      " #   Column                Non-Null Count  Dtype \n",
      "---  ------                --------------  ----- \n",
      " 0   topic_id              57470 non-null  object\n",
      " 1   topic_title           57470 non-null  object\n",
      " 2   topic_url             57470 non-null  object\n",
      " 3   entry_count_reported  57470 non-null  int64 \n",
      " 4   entry_id              57470 non-null  object\n",
      " 5   author                57470 non-null  object\n",
      " 6   favorites             57470 non-null  int64 \n",
      " 7   created_at            42677 non-null  object\n",
      " 8   created_at_raw        57470 non-null  object\n",
      " 9   text                  57470 non-null  object\n",
      " 10  entry_url             57470 non-null  object\n",
      "dtypes: int64(2), object(9)\n",
      "memory usage: 4.8+ MB\n"
     ]
    },
    {
     "data": {
      "text/plain": [
       "created_at              0.257404\n",
       "topic_id                0.000000\n",
       "topic_title             0.000000\n",
       "topic_url               0.000000\n",
       "entry_count_reported    0.000000\n",
       "entry_id                0.000000\n",
       "author                  0.000000\n",
       "favorites               0.000000\n",
       "created_at_raw          0.000000\n",
       "text                    0.000000\n",
       "entry_url               0.000000\n",
       "dtype: float64"
      ]
     },
     "execution_count": 32,
     "metadata": {},
     "output_type": "execute_result"
    }
   ],
   "source": [
    "# --- 6) Inspect Structure and Missing Values ---\n",
    "\n",
    "df.info()\n",
    "df.isna().mean().sort_values(ascending=False)"
   ]
  },
  {
   "cell_type": "code",
   "execution_count": 35,
   "id": "45331871",
   "metadata": {},
   "outputs": [
    {
     "name": "stdout",
     "output_type": "stream",
     "text": [
      "entries: 57470\n",
      "topics: 36\n",
      "authors: 19672\n",
      "duplicate entry_ids: 57469\n"
     ]
    },
    {
     "data": {
      "text/html": [
       "<div>\n",
       "<style scoped>\n",
       "    .dataframe tbody tr th:only-of-type {\n",
       "        vertical-align: middle;\n",
       "    }\n",
       "\n",
       "    .dataframe tbody tr th {\n",
       "        vertical-align: top;\n",
       "    }\n",
       "\n",
       "    .dataframe thead th {\n",
       "        text-align: right;\n",
       "    }\n",
       "</style>\n",
       "<table border=\"1\" class=\"dataframe\">\n",
       "  <thead>\n",
       "    <tr style=\"text-align: right;\">\n",
       "      <th></th>\n",
       "      <th>favorites</th>\n",
       "      <th>text_len</th>\n",
       "      <th>word_count</th>\n",
       "    </tr>\n",
       "  </thead>\n",
       "  <tbody>\n",
       "    <tr>\n",
       "      <th>count</th>\n",
       "      <td>57470.0</td>\n",
       "      <td>57470.000000</td>\n",
       "      <td>57470.000000</td>\n",
       "    </tr>\n",
       "    <tr>\n",
       "      <th>mean</th>\n",
       "      <td>0.0</td>\n",
       "      <td>598.140056</td>\n",
       "      <td>79.833043</td>\n",
       "    </tr>\n",
       "    <tr>\n",
       "      <th>std</th>\n",
       "      <td>0.0</td>\n",
       "      <td>1539.318133</td>\n",
       "      <td>204.043316</td>\n",
       "    </tr>\n",
       "    <tr>\n",
       "      <th>min</th>\n",
       "      <td>0.0</td>\n",
       "      <td>1.000000</td>\n",
       "      <td>1.000000</td>\n",
       "    </tr>\n",
       "    <tr>\n",
       "      <th>25%</th>\n",
       "      <td>0.0</td>\n",
       "      <td>104.000000</td>\n",
       "      <td>13.000000</td>\n",
       "    </tr>\n",
       "    <tr>\n",
       "      <th>50%</th>\n",
       "      <td>0.0</td>\n",
       "      <td>226.000000</td>\n",
       "      <td>30.000000</td>\n",
       "    </tr>\n",
       "    <tr>\n",
       "      <th>75%</th>\n",
       "      <td>0.0</td>\n",
       "      <td>538.000000</td>\n",
       "      <td>73.000000</td>\n",
       "    </tr>\n",
       "    <tr>\n",
       "      <th>max</th>\n",
       "      <td>0.0</td>\n",
       "      <td>81121.000000</td>\n",
       "      <td>10170.000000</td>\n",
       "    </tr>\n",
       "  </tbody>\n",
       "</table>\n",
       "</div>"
      ],
      "text/plain": [
       "       favorites      text_len    word_count\n",
       "count    57470.0  57470.000000  57470.000000\n",
       "mean         0.0    598.140056     79.833043\n",
       "std          0.0   1539.318133    204.043316\n",
       "min          0.0      1.000000      1.000000\n",
       "25%          0.0    104.000000     13.000000\n",
       "50%          0.0    226.000000     30.000000\n",
       "75%          0.0    538.000000     73.000000\n",
       "max          0.0  81121.000000  10170.000000"
      ]
     },
     "execution_count": 35,
     "metadata": {},
     "output_type": "execute_result"
    }
   ],
   "source": [
    "print(\"entries:\", df.shape[0])\n",
    "print(\"topics:\", df[\"topic_id\"].nunique())\n",
    "print(\"authors:\", df[\"author\"].nunique())\n",
    "print(\"duplicate entry_ids:\", df[\"entry_id\"].duplicated().sum())\n",
    "\n",
    "df[\"text_len\"] = df[\"text\"].str.len()\n",
    "df[\"word_count\"] = df[\"text\"].str.split().str.len()\n",
    "\n",
    "df[[\"favorites\", \"text_len\", \"word_count\"]].describe()\n"
   ]
  },
  {
   "cell_type": "code",
   "execution_count": null,
   "id": "e5d68c2f",
   "metadata": {},
   "outputs": [
    {
     "data": {
      "text/plain": [
       "bir       ülke       3835\n",
       "http      www        3138\n",
       "bir       şey        3066\n",
       "https     www        2952\n",
       "bir       şekilde    2168\n",
       "gibi      bir        2065\n",
       "büyük     bir        1820\n",
       "olan      ülke       1763\n",
       "başka     bir        1633\n",
       "böyle     bir        1599\n",
       "daha      fazla      1434\n",
       "herhangi  bir        1339\n",
       "çok       daha       1320\n",
       "bir       devlet     1240\n",
       "olduğu    için       1221\n",
       "olan      bir        1200\n",
       "bir       yer        1091\n",
       "youtube   com        1062\n",
       "diye      bir        1045\n",
       "www       youtube    1008\n",
       "dtype: int64"
      ]
     },
     "execution_count": 22,
     "metadata": {},
     "output_type": "execute_result"
    }
   ],
   "source": [
    "def tokenize(text): return [tok for tok in re.findall(r\"[a-züğışöçâîû]+(?:'[a-züğışöçâîû]+)?\", text.lower()) if len(tok) > 2]\n",
    "\n",
    "\n",
    "# apply stop words \n",
    "tokens = df['text'].dropna().map(tokenize)\n",
    "unigram_counts = Counter(tok for toks in tokens for tok in toks)\n",
    "pd.Series(unigram_counts).sort_values(ascending=False).head(20)\n",
    "bigram_counts = Counter(\n",
    "    (toks[i], toks[i + 1]) \n",
    "    for toks in tokens \n",
    "    for i in range(len(toks) - 1)\n",
    ")\n",
    "pd.Series(bigram_counts).sort_values(ascending=False).head(20)\n",
    "\n",
    "# we have a lot of URLs in the text data; extract and analyze them"
   ]
  },
  {
   "cell_type": "code",
   "execution_count": 23,
   "id": "b288fd02",
   "metadata": {},
   "outputs": [
    {
     "name": "stdout",
     "output_type": "stream",
     "text": [
      "Entries with URLs: 8719 (13.83%)\n"
     ]
    },
    {
     "data": {
      "text/html": [
       "<div>\n",
       "<style scoped>\n",
       "    .dataframe tbody tr th:only-of-type {\n",
       "        vertical-align: middle;\n",
       "    }\n",
       "\n",
       "    .dataframe tbody tr th {\n",
       "        vertical-align: top;\n",
       "    }\n",
       "\n",
       "    .dataframe thead th {\n",
       "        text-align: right;\n",
       "    }\n",
       "</style>\n",
       "<table border=\"1\" class=\"dataframe\">\n",
       "  <thead>\n",
       "    <tr style=\"text-align: right;\">\n",
       "      <th></th>\n",
       "      <th>text</th>\n",
       "      <th>urls</th>\n",
       "    </tr>\n",
       "  </thead>\n",
       "  <tbody>\n",
       "    <tr>\n",
       "      <th>181</th>\n",
       "      <td>(bkz:\\nmhp'nin akpkk tweeti\\n)\\nhttps://x.com/...</td>\n",
       "      <td>[https://x.com/mhp_bilgi/status/43550818577732...</td>\n",
       "    </tr>\n",
       "    <tr>\n",
       "      <th>518</th>\n",
       "      <td>https://x.com/…rbandicom/status/19791015344419...</td>\n",
       "      <td>[https://x.com/…rbandicom/status/1979101534441...</td>\n",
       "    </tr>\n",
       "    <tr>\n",
       "      <th>733</th>\n",
       "      <td>bu kişinin hasta olabileceğini, tıbbi müdahale...</td>\n",
       "      <td>[https://www.bbc.com/…rkce/articles/cml41e1g00...</td>\n",
       "    </tr>\n",
       "    <tr>\n",
       "      <th>738</th>\n",
       "      <td>bana şunu hatırlattı.\\nhttps://youtu.be/uhuj1e...</td>\n",
       "      <td>[https://youtu.be/uhuj1e_ti_q?si=y87gfuky8jhow...</td>\n",
       "    </tr>\n",
       "    <tr>\n",
       "      <th>1251</th>\n",
       "      <td>nereden nereye geldi türkiye diye bahçeli'nin ...</td>\n",
       "      <td>[https://www.youtube.com/shorts/y4jqf8mnga4]</td>\n",
       "    </tr>\n",
       "    <tr>\n",
       "      <th>1334</th>\n",
       "      <td>daha önce de yazmıştım.\\nhttps://api.whatsapp....</td>\n",
       "      <td>[https://api.whatsapp.com/send?phone=905xxxxxx...</td>\n",
       "    </tr>\n",
       "    <tr>\n",
       "      <th>1565</th>\n",
       "      <td>baraj doluluk oranı %0 olmuş. yani bursa'da ba...</td>\n",
       "      <td>[https://x.com/…=twsrc^google|twcamp^serp|twgr...</td>\n",
       "    </tr>\n",
       "    <tr>\n",
       "      <th>1598</th>\n",
       "      <td>çok acı.. alıştırılmaya çalıştırıldığımız şeyi...</td>\n",
       "      <td>[https://www.buski.gov.tr/…rununu-kokunden-coz...</td>\n",
       "    </tr>\n",
       "    <tr>\n",
       "      <th>2010</th>\n",
       "      <td>fatih terim'e de sordular röportajda, bazen ol...</td>\n",
       "      <td>[https://youtu.be/oikw6p5ryho?si=nyo2svuzczsna...</td>\n",
       "    </tr>\n",
       "    <tr>\n",
       "      <th>2289</th>\n",
       "      <td>göcekten selamlar\\nhttps://eksiup.com/p/2a4419...</td>\n",
       "      <td>[https://eksiup.com/p/2a44197hckz2]</td>\n",
       "    </tr>\n",
       "  </tbody>\n",
       "</table>\n",
       "</div>"
      ],
      "text/plain": [
       "                                                   text  \\\n",
       "181   (bkz:\\nmhp'nin akpkk tweeti\\n)\\nhttps://x.com/...   \n",
       "518   https://x.com/…rbandicom/status/19791015344419...   \n",
       "733   bu kişinin hasta olabileceğini, tıbbi müdahale...   \n",
       "738   bana şunu hatırlattı.\\nhttps://youtu.be/uhuj1e...   \n",
       "1251  nereden nereye geldi türkiye diye bahçeli'nin ...   \n",
       "1334  daha önce de yazmıştım.\\nhttps://api.whatsapp....   \n",
       "1565  baraj doluluk oranı %0 olmuş. yani bursa'da ba...   \n",
       "1598  çok acı.. alıştırılmaya çalıştırıldığımız şeyi...   \n",
       "2010  fatih terim'e de sordular röportajda, bazen ol...   \n",
       "2289  göcekten selamlar\\nhttps://eksiup.com/p/2a4419...   \n",
       "\n",
       "                                                   urls  \n",
       "181   [https://x.com/mhp_bilgi/status/43550818577732...  \n",
       "518   [https://x.com/…rbandicom/status/1979101534441...  \n",
       "733   [https://www.bbc.com/…rkce/articles/cml41e1g00...  \n",
       "738   [https://youtu.be/uhuj1e_ti_q?si=y87gfuky8jhow...  \n",
       "1251       [https://www.youtube.com/shorts/y4jqf8mnga4]  \n",
       "1334  [https://api.whatsapp.com/send?phone=905xxxxxx...  \n",
       "1565  [https://x.com/…=twsrc^google|twcamp^serp|twgr...  \n",
       "1598  [https://www.buski.gov.tr/…rununu-kokunden-coz...  \n",
       "2010  [https://youtu.be/oikw6p5ryho?si=nyo2svuzczsna...  \n",
       "2289                [https://eksiup.com/p/2a44197hckz2]  "
      ]
     },
     "execution_count": 23,
     "metadata": {},
     "output_type": "execute_result"
    }
   ],
   "source": [
    "url_pattern = re.compile(r'https?://[^\\s]+|www\\.[^\\s]+')\n",
    "df['urls'] = df['text'].apply(lambda x: url_pattern.findall(str(x)) if pd.notna(x) else [])\n",
    "df['has_url'] = df['urls'].apply(lambda x: len(x) > 0)\n",
    "print(f\"Entries with URLs: {df['has_url'].sum()} ({df['has_url'].mean()*100:.2f}%)\")\n",
    "df[df['has_url']].head(10)[['text', 'urls']]\n"
   ]
  },
  {
   "cell_type": "code",
   "execution_count": null,
   "id": "61de96c4",
   "metadata": {},
   "outputs": [],
   "source": []
  }
 ],
 "metadata": {
  "kernelspec": {
   "display_name": "nlp.env",
   "language": "python",
   "name": "python3"
  },
  "language_info": {
   "codemirror_mode": {
    "name": "ipython",
    "version": 3
   },
   "file_extension": ".py",
   "mimetype": "text/x-python",
   "name": "python",
   "nbconvert_exporter": "python",
   "pygments_lexer": "ipython3",
   "version": "3.10.18"
  }
 },
 "nbformat": 4,
 "nbformat_minor": 5
}
