{
 "cells": [
  {
   "cell_type": "markdown",
   "metadata": {},
   "source": [
    "# Ekşi Sözlük Country Analysis\n",
    "\n",
    "Simplified, modular analysis using utility modules."
   ]
  },
  {
   "cell_type": "code",
   "execution_count": null,
   "metadata": {},
   "outputs": [
    {
     "name": "stdout",
     "output_type": "stream",
     "text": [
      "Processing ../datasets/countries.json...\n",
      "Processing ../datasets/three_country.json...\n",
      "\n",
      "Merged data saved to: ../datasets/eksidata.json\n",
      "Total topics: 39\n"
     ]
    }
   ],
   "source": [
    "import json\n",
    "\n",
    "def merge_eksi_data(file_paths: list, target_ids: list, output_path: str):\n",
    "    merged_data = {}\n",
    "    \n",
    "    for file_path in file_paths:\n",
    "        print(f\"Processing {file_path}...\")\n",
    "        with open(file_path, 'r', encoding='utf-8') as f:\n",
    "            data = json.load(f)\n",
    "            filtered = {\n",
    "                tid: content for tid, content in data.items()\n",
    "                if tid in target_ids\n",
    "            }\n",
    "            merged_data.update(filtered)\n",
    "    \n",
    "    cleaned_data = {}\n",
    "    for topic_id, content in merged_data.items():\n",
    "        topic_meta = content.get('topic', {})\n",
    "        entries = content.get('entries', [])\n",
    "        \n",
    "        cleaned_entries = []\n",
    "        for entry in entries:\n",
    "            cleaned_entry = {\n",
    "                'author': entry.get('author', ''),\n",
    "                'created_at_raw': entry.get('created_at_raw', ''),\n",
    "                'text': entry.get('text', '')\n",
    "            }\n",
    "            cleaned_entries.append(cleaned_entry)\n",
    "        \n",
    "        cleaned_data[topic_id] = {\n",
    "            'topic': {\n",
    "                'title': topic_meta.get('title', ''),\n",
    "                'id': topic_id\n",
    "            },\n",
    "            'entries': cleaned_entries\n",
    "        }\n",
    "    \n",
    "    with open(output_path, 'w', encoding='utf-8') as f:\n",
    "        json.dump(cleaned_data, f, ensure_ascii=False, indent=2)\n",
    "    \n",
    "    print(f\"\\nMerged data saved to: {output_path}\")\n",
    "    print(f\"Total topics: {len(cleaned_data)}\")\n",
    "\n",
    "if __name__ == \"__main__\":\n",
    "    INPUT_PATHS = [\n",
    "        \"../datasets/countries.json\",\n",
    "        \"../datasets/three_country.json\"\n",
    "    ]\n",
    "    \n",
    "    TARGET_IDS = [\n",
    "        '46687', '43748', '2099924', '58585', '128684', '39870', '64696', \n",
    "        '111737', '45394', '68980', '129500', '114173', '55971', '71457', \n",
    "        '385546', '86544', '167447', '61614', '96743', '56902', '50310', \n",
    "        '66320', '62870', '97065', '80137', '144150', '91933', '93047', \n",
    "        '127685', '35513', '55600', '240029', '36897', '57388', '42073', \n",
    "        '42072',\n",
    "        # New countries\n",
    "        '43722', '49635', '74714'\n",
    "    ]\n",
    "    \n",
    "    OUTPUT_PATH = \"../datasets/eksidata.json\"\n",
    "    merge_eksi_data(INPUT_PATHS, TARGET_IDS, OUTPUT_PATH)"
   ]
  },
  {
   "cell_type": "markdown",
   "metadata": {},
   "source": [
    "## 1. Setup and Data Loading"
   ]
  },
  {
   "cell_type": "code",
   "execution_count": null,
   "metadata": {},
   "outputs": [],
   "source": [
    "import pandas as pd\n",
    "import seaborn as sns\n",
    "from pathlib import Path\n",
    "\n",
    "from collections import Counter\n",
    "from nltk.util import bigrams\n",
    "import plotly.graph_objects as go\n",
    "import networkx as nx\n",
    "import numpy as np\n",
    "\n",
    "from text_utils import tokenize, extract_country_terms, aggregate_tokens_by_group # custom modules\n",
    "from tfidf_analysis import TfidfAnalyzer, analyze_by_group\n",
    "\n",
    "sns.set_theme()\n",
    "DATA_PATH = Path(\"../datasets/eksidata.json\")"
   ]
  },
  {
   "cell_type": "markdown",
   "metadata": {},
   "source": [
    "## 2. Create Simplified DataFrame"
   ]
  },
  {
   "cell_type": "code",
   "execution_count": null,
   "metadata": {},
   "outputs": [],
   "source": [
    "def extract_records(raw_data):\n",
    "    records = []\n",
    "    \n",
    "    def parse_turkish_date(date_str):\n",
    "        \"\"\"Parse Turkish date format with error handling\"\"\"\n",
    "        try:\n",
    "            if '~' in date_str:  # Handle date ranges\n",
    "                date_str = date_str.split('~')[0].strip()  # Take first date\n",
    "            return pd.to_datetime(date_str, format='%d.%m.%Y %H:%M')\n",
    "        except:\n",
    "            return pd.NaT  # Return Not-a-Time for invalid dates\n",
    "    \n",
    "    for topic_id, content in raw_data.items():\n",
    "        topic_title = content.get('topic', {}).get('title', '')\n",
    "        \n",
    "        for entry in content.get('entries', []):\n",
    "            record = {\n",
    "                'topic': topic_title,\n",
    "                'author': entry.get('author', ''),\n",
    "                'date': parse_turkish_date(entry.get('created_at_raw', '')),\n",
    "                'text': entry.get('text', '')\n",
    "            }\n",
    "            records.append(record)\n",
    "    \n",
    "    df = pd.DataFrame(records)\n",
    "    print(f\"Found {df['date'].isna().sum()} invalid dates\")\n",
    "    \n",
    "    return df"
   ]
  },
  {
   "cell_type": "markdown",
   "metadata": {},
   "source": [
    "## 3. Text Processing and Tokenization"
   ]
  },
  {
   "cell_type": "code",
   "execution_count": 12,
   "metadata": {},
   "outputs": [
    {
     "name": "stdout",
     "output_type": "stream",
     "text": [
      "Found 16 invalid dates\n",
      "Average tokens per entry: 65.1\n",
      "Median tokens per entry: 25.0\n",
      "Total unique authors: 28094\n",
      "Total unique topics: 39\n",
      "\n",
      "Total stopwords used: 228\n"
     ]
    }
   ],
   "source": [
    "# Apply tokenization using our utility function\n",
    "# The tokenize() function uses:\n",
    "# - Custom Turkish stopwords (BASE + DOMAIN specific)\n",
    "# - BKZ pattern removal (ekşi sözlük cross-references)\n",
    "# - GÖRSEL repetition removal (image placeholders)\n",
    "# - Apostrophe normalization for Turkish possessives\n",
    "# - Minimum token length: 2\n",
    "df = extract_records(json.load(open(DATA_PATH, 'r', encoding='utf-8')))\n",
    "\n",
    "df['tokens'] = df['text'].fillna(\"\").apply(tokenize)\n",
    "\n",
    "# Quick stats\n",
    "df['token_count'] = df['tokens'].apply(len)\n",
    "print(f\"Average tokens per entry: {df['token_count'].mean():.1f}\")\n",
    "print(f\"Median tokens per entry: {df['token_count'].median():.1f}\")\n",
    "print(f\"Total unique authors: {df['author'].nunique()}\")\n",
    "print(f\"Total unique topics: {df['topic'].nunique()}\")\n",
    "\n",
    "# Show stopword info\n",
    "from text_utils import get_turkish_stopwords\n",
    "stopwords = get_turkish_stopwords(include_domain_stopwords=True)\n",
    "print(f\"\\nTotal stopwords used: {len(stopwords)}\")"
   ]
  },
  {
   "cell_type": "markdown",
   "metadata": {},
   "source": [
    "## 4. TF-IDF Analysis by Topic"
   ]
  },
  {
   "cell_type": "code",
   "execution_count": 13,
   "metadata": {},
   "outputs": [
    {
     "name": "stdout",
     "output_type": "stream",
     "text": [
      "\n",
      "Some filter terms: ['de', 'yedi', 'sen', 'ondan', 'of', 'ister', 'ki', 'arkasında', 'güneyinde', 'seni', 'yapıyor', 'olduğu', 'kürdistan', 'kıbrıs', 'hakkında', 'üstünde', 'birşey', 'hepsi', 'veya', 'onu'] ...\n"
     ]
    },
    {
     "name": "stderr",
     "output_type": "stream",
     "text": [
      "/home/zk/miniconda3/envs/nlp.env/lib/python3.10/site-packages/sklearn/feature_extraction/text.py:517: UserWarning:\n",
      "\n",
      "The parameter 'token_pattern' will not be used since 'tokenizer' is not None'\n",
      "\n"
     ]
    },
    {
     "name": "stdout",
     "output_type": "stream",
     "text": [
      "TF-IDF processing time: 1.98 seconds\n",
      "Shape: 39 documents × 386 terms\n",
      "GPU acceleration: enabled\n",
      "\n",
      "Results saved to: country_topics_tfidf_top_terms.csv\n",
      "Top terms shape: (390, 3)\n",
      "Topics analyzed: 39\n"
     ]
    },
    {
     "data": {
      "text/html": [
       "<div>\n",
       "<style scoped>\n",
       "    .dataframe tbody tr th:only-of-type {\n",
       "        vertical-align: middle;\n",
       "    }\n",
       "\n",
       "    .dataframe tbody tr th {\n",
       "        vertical-align: top;\n",
       "    }\n",
       "\n",
       "    .dataframe thead th {\n",
       "        text-align: right;\n",
       "    }\n",
       "</style>\n",
       "<table border=\"1\" class=\"dataframe\">\n",
       "  <thead>\n",
       "    <tr style=\"text-align: right;\">\n",
       "      <th></th>\n",
       "      <th>topic</th>\n",
       "      <th>token</th>\n",
       "      <th>tfidf</th>\n",
       "    </tr>\n",
       "  </thead>\n",
       "  <tbody>\n",
       "    <tr>\n",
       "      <th>0</th>\n",
       "      <td>almanya</td>\n",
       "      <td>bi</td>\n",
       "      <td>0.059472</td>\n",
       "    </tr>\n",
       "    <tr>\n",
       "      <th>1</th>\n",
       "      <td>almanya</td>\n",
       "      <td>büyük</td>\n",
       "      <td>0.100018</td>\n",
       "    </tr>\n",
       "    <tr>\n",
       "      <th>2</th>\n",
       "      <td>almanya</td>\n",
       "      <td>ev</td>\n",
       "      <td>0.053815</td>\n",
       "    </tr>\n",
       "    <tr>\n",
       "      <th>3</th>\n",
       "      <td>almanya</td>\n",
       "      <td>gün</td>\n",
       "      <td>0.058272</td>\n",
       "    </tr>\n",
       "    <tr>\n",
       "      <th>4</th>\n",
       "      <td>almanya</td>\n",
       "      <td>ilk</td>\n",
       "      <td>0.063048</td>\n",
       "    </tr>\n",
       "    <tr>\n",
       "      <th>5</th>\n",
       "      <td>almanya</td>\n",
       "      <td>iyi</td>\n",
       "      <td>0.109300</td>\n",
       "    </tr>\n",
       "    <tr>\n",
       "      <th>6</th>\n",
       "      <td>almanya</td>\n",
       "      <td>iş</td>\n",
       "      <td>0.085935</td>\n",
       "    </tr>\n",
       "    <tr>\n",
       "      <th>7</th>\n",
       "      <td>almanya</td>\n",
       "      <td>tek</td>\n",
       "      <td>0.055482</td>\n",
       "    </tr>\n",
       "    <tr>\n",
       "      <th>8</th>\n",
       "      <td>almanya</td>\n",
       "      <td>türk</td>\n",
       "      <td>0.093150</td>\n",
       "    </tr>\n",
       "    <tr>\n",
       "      <th>9</th>\n",
       "      <td>almanya</td>\n",
       "      <td>vs</td>\n",
       "      <td>0.062350</td>\n",
       "    </tr>\n",
       "    <tr>\n",
       "      <th>10</th>\n",
       "      <td>amerika birleşik devletleri</td>\n",
       "      <td>büyük</td>\n",
       "      <td>0.130288</td>\n",
       "    </tr>\n",
       "    <tr>\n",
       "      <th>11</th>\n",
       "      <td>amerika birleşik devletleri</td>\n",
       "      <td>ev</td>\n",
       "      <td>0.055361</td>\n",
       "    </tr>\n",
       "    <tr>\n",
       "      <th>12</th>\n",
       "      <td>amerika birleşik devletleri</td>\n",
       "      <td>geri</td>\n",
       "      <td>0.050232</td>\n",
       "    </tr>\n",
       "    <tr>\n",
       "      <th>13</th>\n",
       "      <td>amerika birleşik devletleri</td>\n",
       "      <td>ilk</td>\n",
       "      <td>0.066268</td>\n",
       "    </tr>\n",
       "    <tr>\n",
       "      <th>14</th>\n",
       "      <td>amerika birleşik devletleri</td>\n",
       "      <td>iyi</td>\n",
       "      <td>0.120742</td>\n",
       "    </tr>\n",
       "    <tr>\n",
       "      <th>15</th>\n",
       "      <td>amerika birleşik devletleri</td>\n",
       "      <td>tek</td>\n",
       "      <td>0.080745</td>\n",
       "    </tr>\n",
       "    <tr>\n",
       "      <th>16</th>\n",
       "      <td>amerika birleşik devletleri</td>\n",
       "      <td>trump</td>\n",
       "      <td>0.107959</td>\n",
       "    </tr>\n",
       "    <tr>\n",
       "      <th>17</th>\n",
       "      <td>amerika birleşik devletleri</td>\n",
       "      <td>tüm</td>\n",
       "      <td>0.059247</td>\n",
       "    </tr>\n",
       "    <tr>\n",
       "      <th>18</th>\n",
       "      <td>amerika birleşik devletleri</td>\n",
       "      <td>ulke</td>\n",
       "      <td>0.059484</td>\n",
       "    </tr>\n",
       "    <tr>\n",
       "      <th>19</th>\n",
       "      <td>amerika birleşik devletleri</td>\n",
       "      <td>vs</td>\n",
       "      <td>0.055618</td>\n",
       "    </tr>\n",
       "  </tbody>\n",
       "</table>\n",
       "</div>"
      ],
      "text/plain": [
       "                          topic  token     tfidf\n",
       "0                       almanya     bi  0.059472\n",
       "1                       almanya  büyük  0.100018\n",
       "2                       almanya     ev  0.053815\n",
       "3                       almanya    gün  0.058272\n",
       "4                       almanya    ilk  0.063048\n",
       "5                       almanya    iyi  0.109300\n",
       "6                       almanya     iş  0.085935\n",
       "7                       almanya    tek  0.055482\n",
       "8                       almanya   türk  0.093150\n",
       "9                       almanya     vs  0.062350\n",
       "10  amerika birleşik devletleri  büyük  0.130288\n",
       "11  amerika birleşik devletleri     ev  0.055361\n",
       "12  amerika birleşik devletleri   geri  0.050232\n",
       "13  amerika birleşik devletleri    ilk  0.066268\n",
       "14  amerika birleşik devletleri    iyi  0.120742\n",
       "15  amerika birleşik devletleri    tek  0.080745\n",
       "16  amerika birleşik devletleri  trump  0.107959\n",
       "17  amerika birleşik devletleri    tüm  0.059247\n",
       "18  amerika birleşik devletleri   ulke  0.059484\n",
       "19  amerika birleşik devletleri     vs  0.055618"
      ]
     },
     "execution_count": 13,
     "metadata": {},
     "output_type": "execute_result"
    }
   ],
   "source": [
    "# Prepare topic-level documents\n",
    "df_with_text = df.copy()\n",
    "df_with_text['token_text'] = df_with_text['tokens'].apply(lambda x: ' '.join(x))\n",
    "\n",
    "# Get complete filter terms once\n",
    "\n",
    "stopwords = get_turkish_stopwords(include_domain_stopwords=False)\n",
    "country_terms = extract_country_terms(df['topic'].unique())\n",
    "filter_terms = stopwords.union(country_terms)\n",
    "print(f\"\\nSome filter terms: {list(filter_terms)[:20]} ...\")\n",
    "\n",
    "FILTERED_TERMS = filter_terms  # Save for reuse\n",
    "\n",
    "# Initialize analyzer with GPU support\n",
    "analyzer = TfidfAnalyzer(min_df=2, max_features=2000, use_gpu=True)\n",
    "\n",
    "# Run analysis\n",
    "tfidf_matrix, top_terms = analyze_by_group(\n",
    "    df=df_with_text,\n",
    "    group_col='topic',\n",
    "    text_col='token_text',\n",
    "    analyzer=analyzer,\n",
    "    top_n=10,\n",
    "    filter_terms=FILTERED_TERMS  # Use the prepared filter terms\n",
    ")\n",
    "\n",
    "# Save to CSV with UTF-8 encoding\n",
    "output_file = \"country_topics_tfidf_top_terms.csv\"\n",
    "top_terms.to_csv(output_file, index=False, encoding='utf-8-sig')\n",
    "print(f\"\\nResults saved to: {output_file}\")\n",
    "\n",
    "print(f\"Top terms shape: {top_terms.shape}\")\n",
    "print(f\"Topics analyzed: {top_terms['topic'].nunique()}\")\n",
    "top_terms.head(20)"
   ]
  },
  {
   "cell_type": "markdown",
   "metadata": {},
   "source": [
    "## 5. Visualization: Top Terms per Topic"
   ]
  },
  {
   "cell_type": "code",
   "execution_count": 7,
   "metadata": {},
   "outputs": [
    {
     "data": {
      "application/vnd.plotly.v1+json": {
       "config": {
        "plotlyServerURL": "https://plot.ly"
       },
       "data": [
        {
         "branchvalues": "total",
         "customdata": [
          [
           "almanya"
          ],
          [
           "almanya"
          ],
          [
           "almanya"
          ],
          [
           "almanya"
          ],
          [
           "almanya"
          ],
          [
           "almanya"
          ],
          [
           "almanya"
          ],
          [
           "almanya"
          ],
          [
           "almanya"
          ],
          [
           "almanya"
          ],
          [
           "almanya"
          ],
          [
           "amerika birleşik devletleri"
          ],
          [
           "amerika birleşik devletleri"
          ],
          [
           "amerika birleşik devletleri"
          ],
          [
           "amerika birleşik devletleri"
          ],
          [
           "amerika birleşik devletleri"
          ],
          [
           "amerika birleşik devletleri"
          ],
          [
           "amerika birleşik devletleri"
          ],
          [
           "amerika birleşik devletleri"
          ],
          [
           "amerika birleşik devletleri"
          ],
          [
           "amerika birleşik devletleri"
          ],
          [
           "amerika birleşik devletleri"
          ],
          [
           "angola"
          ],
          [
           "angola"
          ],
          [
           "angola"
          ],
          [
           "angola"
          ],
          [
           "angola"
          ],
          [
           "angola"
          ],
          [
           "angola"
          ],
          [
           "angola"
          ],
          [
           "angola"
          ],
          [
           "angola"
          ],
          [
           "angola"
          ],
          [
           "bosna-hersek"
          ],
          [
           "bosna-hersek"
          ],
          [
           "bosna-hersek"
          ],
          [
           "bosna-hersek"
          ],
          [
           "bosna-hersek"
          ],
          [
           "bosna-hersek"
          ],
          [
           "bosna-hersek"
          ],
          [
           "bosna-hersek"
          ],
          [
           "bosna-hersek"
          ],
          [
           "bosna-hersek"
          ],
          [
           "bosna-hersek"
          ],
          [
           "cezayir"
          ],
          [
           "cezayir"
          ],
          [
           "cezayir"
          ],
          [
           "cezayir"
          ],
          [
           "cezayir"
          ],
          [
           "cezayir"
          ],
          [
           "cezayir"
          ],
          [
           "cezayir"
          ],
          [
           "cezayir"
          ],
          [
           "cezayir"
          ],
          [
           "cezayir"
          ],
          [
           "el salvador"
          ],
          [
           "el salvador"
          ],
          [
           "el salvador"
          ],
          [
           "el salvador"
          ],
          [
           "el salvador"
          ],
          [
           "el salvador"
          ],
          [
           "el salvador"
          ],
          [
           "el salvador"
          ],
          [
           "el salvador"
          ],
          [
           "el salvador"
          ],
          [
           "el salvador"
          ],
          [
           "ermenistan"
          ],
          [
           "ermenistan"
          ],
          [
           "ermenistan"
          ],
          [
           "ermenistan"
          ],
          [
           "ermenistan"
          ],
          [
           "ermenistan"
          ],
          [
           "ermenistan"
          ],
          [
           "ermenistan"
          ],
          [
           "ermenistan"
          ],
          [
           "ermenistan"
          ],
          [
           "ermenistan"
          ],
          [
           "filistin"
          ],
          [
           "filistin"
          ],
          [
           "filistin"
          ],
          [
           "filistin"
          ],
          [
           "filistin"
          ],
          [
           "filistin"
          ],
          [
           "filistin"
          ],
          [
           "filistin"
          ],
          [
           "filistin"
          ],
          [
           "filistin"
          ],
          [
           "filistin"
          ],
          [
           "fransa"
          ],
          [
           "fransa"
          ],
          [
           "fransa"
          ],
          [
           "fransa"
          ],
          [
           "fransa"
          ],
          [
           "fransa"
          ],
          [
           "fransa"
          ],
          [
           "fransa"
          ],
          [
           "fransa"
          ],
          [
           "fransa"
          ],
          [
           "fransa"
          ],
          [
           "güney kore"
          ],
          [
           "güney kore"
          ],
          [
           "güney kore"
          ],
          [
           "güney kore"
          ],
          [
           "güney kore"
          ],
          [
           "güney kore"
          ],
          [
           "güney kore"
          ],
          [
           "güney kore"
          ],
          [
           "güney kore"
          ],
          [
           "güney kore"
          ],
          [
           "güney kore"
          ],
          [
           "gürcistan"
          ],
          [
           "gürcistan"
          ],
          [
           "gürcistan"
          ],
          [
           "gürcistan"
          ],
          [
           "gürcistan"
          ],
          [
           "gürcistan"
          ],
          [
           "gürcistan"
          ],
          [
           "gürcistan"
          ],
          [
           "gürcistan"
          ],
          [
           "gürcistan"
          ],
          [
           "gürcistan"
          ],
          [
           "hindistan"
          ],
          [
           "hindistan"
          ],
          [
           "hindistan"
          ],
          [
           "hindistan"
          ],
          [
           "hindistan"
          ],
          [
           "hindistan"
          ],
          [
           "hindistan"
          ],
          [
           "hindistan"
          ],
          [
           "hindistan"
          ],
          [
           "hindistan"
          ],
          [
           "hindistan"
          ],
          [
           "iran"
          ],
          [
           "iran"
          ],
          [
           "iran"
          ],
          [
           "iran"
          ],
          [
           "iran"
          ],
          [
           "iran"
          ],
          [
           "iran"
          ],
          [
           "iran"
          ],
          [
           "iran"
          ],
          [
           "iran"
          ],
          [
           "iran"
          ],
          [
           "israil"
          ],
          [
           "israil"
          ],
          [
           "israil"
          ],
          [
           "israil"
          ],
          [
           "israil"
          ],
          [
           "israil"
          ],
          [
           "israil"
          ],
          [
           "israil"
          ],
          [
           "israil"
          ],
          [
           "israil"
          ],
          [
           "israil"
          ],
          [
           "isviçre"
          ],
          [
           "isviçre"
          ],
          [
           "isviçre"
          ],
          [
           "isviçre"
          ],
          [
           "isviçre"
          ],
          [
           "isviçre"
          ],
          [
           "isviçre"
          ],
          [
           "isviçre"
          ],
          [
           "isviçre"
          ],
          [
           "isviçre"
          ],
          [
           "isviçre"
          ],
          [
           "japonya"
          ],
          [
           "japonya"
          ],
          [
           "japonya"
          ],
          [
           "japonya"
          ],
          [
           "japonya"
          ],
          [
           "japonya"
          ],
          [
           "japonya"
          ],
          [
           "japonya"
          ],
          [
           "japonya"
          ],
          [
           "japonya"
          ],
          [
           "japonya"
          ],
          [
           "kanada"
          ],
          [
           "kanada"
          ],
          [
           "kanada"
          ],
          [
           "kanada"
          ],
          [
           "kanada"
          ],
          [
           "kanada"
          ],
          [
           "kanada"
          ],
          [
           "kanada"
          ],
          [
           "kanada"
          ],
          [
           "kanada"
          ],
          [
           "kanada"
          ],
          [
           "kazakistan"
          ],
          [
           "kazakistan"
          ],
          [
           "kazakistan"
          ],
          [
           "kazakistan"
          ],
          [
           "kazakistan"
          ],
          [
           "kazakistan"
          ],
          [
           "kazakistan"
          ],
          [
           "kazakistan"
          ],
          [
           "kazakistan"
          ],
          [
           "kazakistan"
          ],
          [
           "kazakistan"
          ],
          [
           "kuzey kore"
          ],
          [
           "kuzey kore"
          ],
          [
           "kuzey kore"
          ],
          [
           "kuzey kore"
          ],
          [
           "kuzey kore"
          ],
          [
           "kuzey kore"
          ],
          [
           "kuzey kore"
          ],
          [
           "kuzey kore"
          ],
          [
           "kuzey kore"
          ],
          [
           "kuzey kore"
          ],
          [
           "kuzey kore"
          ],
          [
           "kürdistan"
          ],
          [
           "kürdistan"
          ],
          [
           "kürdistan"
          ],
          [
           "kürdistan"
          ],
          [
           "kürdistan"
          ],
          [
           "kürdistan"
          ],
          [
           "kürdistan"
          ],
          [
           "kürdistan"
          ],
          [
           "kürdistan"
          ],
          [
           "kürdistan"
          ],
          [
           "kürdistan"
          ],
          [
           "kıbrıs"
          ],
          [
           "kıbrıs"
          ],
          [
           "kıbrıs"
          ],
          [
           "kıbrıs"
          ],
          [
           "kıbrıs"
          ],
          [
           "kıbrıs"
          ],
          [
           "kıbrıs"
          ],
          [
           "kıbrıs"
          ],
          [
           "kıbrıs"
          ],
          [
           "kıbrıs"
          ],
          [
           "kıbrıs"
          ],
          [
           "lihtenştayn"
          ],
          [
           "lihtenştayn"
          ],
          [
           "lihtenştayn"
          ],
          [
           "lihtenştayn"
          ],
          [
           "lihtenştayn"
          ],
          [
           "lihtenştayn"
          ],
          [
           "lihtenştayn"
          ],
          [
           "lihtenştayn"
          ],
          [
           "lihtenştayn"
          ],
          [
           "lihtenştayn"
          ],
          [
           "lihtenştayn"
          ],
          [
           "makedonya"
          ],
          [
           "makedonya"
          ],
          [
           "makedonya"
          ],
          [
           "makedonya"
          ],
          [
           "makedonya"
          ],
          [
           "makedonya"
          ],
          [
           "makedonya"
          ],
          [
           "makedonya"
          ],
          [
           "makedonya"
          ],
          [
           "makedonya"
          ],
          [
           "makedonya"
          ],
          [
           "moğolistan"
          ],
          [
           "moğolistan"
          ],
          [
           "moğolistan"
          ],
          [
           "moğolistan"
          ],
          [
           "moğolistan"
          ],
          [
           "moğolistan"
          ],
          [
           "moğolistan"
          ],
          [
           "moğolistan"
          ],
          [
           "moğolistan"
          ],
          [
           "moğolistan"
          ],
          [
           "moğolistan"
          ],
          [
           "pakistan"
          ],
          [
           "pakistan"
          ],
          [
           "pakistan"
          ],
          [
           "pakistan"
          ],
          [
           "pakistan"
          ],
          [
           "pakistan"
          ],
          [
           "pakistan"
          ],
          [
           "pakistan"
          ],
          [
           "pakistan"
          ],
          [
           "pakistan"
          ],
          [
           "pakistan"
          ],
          [
           "rusya"
          ],
          [
           "rusya"
          ],
          [
           "rusya"
          ],
          [
           "rusya"
          ],
          [
           "rusya"
          ],
          [
           "rusya"
          ],
          [
           "rusya"
          ],
          [
           "rusya"
          ],
          [
           "rusya"
          ],
          [
           "rusya"
          ],
          [
           "rusya"
          ],
          [
           "somali"
          ],
          [
           "somali"
          ],
          [
           "somali"
          ],
          [
           "somali"
          ],
          [
           "somali"
          ],
          [
           "somali"
          ],
          [
           "somali"
          ],
          [
           "somali"
          ],
          [
           "somali"
          ],
          [
           "somali"
          ],
          [
           "somali"
          ],
          [
           "suriye"
          ],
          [
           "suriye"
          ],
          [
           "suriye"
          ],
          [
           "suriye"
          ],
          [
           "suriye"
          ],
          [
           "suriye"
          ],
          [
           "suriye"
          ],
          [
           "suriye"
          ],
          [
           "suriye"
          ],
          [
           "suriye"
          ],
          [
           "suriye"
          ],
          [
           "suudi arabistan"
          ],
          [
           "suudi arabistan"
          ],
          [
           "suudi arabistan"
          ],
          [
           "suudi arabistan"
          ],
          [
           "suudi arabistan"
          ],
          [
           "suudi arabistan"
          ],
          [
           "suudi arabistan"
          ],
          [
           "suudi arabistan"
          ],
          [
           "suudi arabistan"
          ],
          [
           "suudi arabistan"
          ],
          [
           "suudi arabistan"
          ],
          [
           "sırbistan"
          ],
          [
           "sırbistan"
          ],
          [
           "sırbistan"
          ],
          [
           "sırbistan"
          ],
          [
           "sırbistan"
          ],
          [
           "sırbistan"
          ],
          [
           "sırbistan"
          ],
          [
           "sırbistan"
          ],
          [
           "sırbistan"
          ],
          [
           "sırbistan"
          ],
          [
           "sırbistan"
          ],
          [
           "türkiye"
          ],
          [
           "türkiye"
          ],
          [
           "türkiye"
          ],
          [
           "türkiye"
          ],
          [
           "türkiye"
          ],
          [
           "türkiye"
          ],
          [
           "türkiye"
          ],
          [
           "türkiye"
          ],
          [
           "türkiye"
          ],
          [
           "türkiye"
          ],
          [
           "türkiye"
          ],
          [
           "ukrayna"
          ],
          [
           "ukrayna"
          ],
          [
           "ukrayna"
          ],
          [
           "ukrayna"
          ],
          [
           "ukrayna"
          ],
          [
           "ukrayna"
          ],
          [
           "ukrayna"
          ],
          [
           "ukrayna"
          ],
          [
           "ukrayna"
          ],
          [
           "ukrayna"
          ],
          [
           "ukrayna"
          ],
          [
           "venezuela"
          ],
          [
           "venezuela"
          ],
          [
           "venezuela"
          ],
          [
           "venezuela"
          ],
          [
           "venezuela"
          ],
          [
           "venezuela"
          ],
          [
           "venezuela"
          ],
          [
           "venezuela"
          ],
          [
           "venezuela"
          ],
          [
           "venezuela"
          ],
          [
           "venezuela"
          ],
          [
           "vietnam"
          ],
          [
           "vietnam"
          ],
          [
           "vietnam"
          ],
          [
           "vietnam"
          ],
          [
           "vietnam"
          ],
          [
           "vietnam"
          ],
          [
           "vietnam"
          ],
          [
           "vietnam"
          ],
          [
           "vietnam"
          ],
          [
           "vietnam"
          ],
          [
           "vietnam"
          ],
          [
           "yeni zelanda"
          ],
          [
           "yeni zelanda"
          ],
          [
           "yeni zelanda"
          ],
          [
           "yeni zelanda"
          ],
          [
           "yeni zelanda"
          ],
          [
           "yeni zelanda"
          ],
          [
           "yeni zelanda"
          ],
          [
           "yeni zelanda"
          ],
          [
           "yeni zelanda"
          ],
          [
           "yeni zelanda"
          ],
          [
           "yeni zelanda"
          ],
          [
           "yunanistan"
          ],
          [
           "yunanistan"
          ],
          [
           "yunanistan"
          ],
          [
           "yunanistan"
          ],
          [
           "yunanistan"
          ],
          [
           "yunanistan"
          ],
          [
           "yunanistan"
          ],
          [
           "yunanistan"
          ],
          [
           "yunanistan"
          ],
          [
           "yunanistan"
          ],
          [
           "yunanistan"
          ],
          [
           "çin"
          ],
          [
           "çin"
          ],
          [
           "çin"
          ],
          [
           "çin"
          ],
          [
           "çin"
          ],
          [
           "çin"
          ],
          [
           "çin"
          ],
          [
           "çin"
          ],
          [
           "çin"
          ],
          [
           "çin"
          ],
          [
           "çin"
          ],
          [
           "ırak"
          ],
          [
           "ırak"
          ],
          [
           "ırak"
          ],
          [
           "ırak"
          ],
          [
           "ırak"
          ],
          [
           "ırak"
          ],
          [
           "ırak"
          ],
          [
           "ırak"
          ],
          [
           "ırak"
          ],
          [
           "ırak"
          ],
          [
           "ırak"
          ],
          [
           "şili"
          ],
          [
           "şili"
          ],
          [
           "şili"
          ],
          [
           "şili"
          ],
          [
           "şili"
          ],
          [
           "şili"
          ],
          [
           "şili"
          ],
          [
           "şili"
          ],
          [
           "şili"
          ],
          [
           "şili"
          ],
          [
           "şili"
          ]
         ],
         "domain": {
          "x": [
           0,
           1
          ],
          "y": [
           0,
           1
          ]
         },
         "hovertemplate": "labels=%{label}<br>tfidf=%{value}<br>parent=%{parent}<br>id=%{id}<br>topic=%{customdata[0]}<extra></extra>",
         "ids": [
          "almanya/bi",
          "almanya/vs",
          "almanya/türk",
          "almanya/tek",
          "almanya/iş",
          "almanya",
          "almanya/ilk",
          "almanya/gün",
          "almanya/ev",
          "almanya/büyük",
          "almanya/iyi",
          "amerika birleşik devletleri",
          "amerika birleşik devletleri/vs",
          "amerika birleşik devletleri/ulke",
          "amerika birleşik devletleri/tüm",
          "amerika birleşik devletleri/trump",
          "amerika birleşik devletleri/tek",
          "amerika birleşik devletleri/iyi",
          "amerika birleşik devletleri/ilk",
          "amerika birleşik devletleri/geri",
          "amerika birleşik devletleri/ev",
          "amerika birleşik devletleri/büyük",
          "angola/ülkesi",
          "angola/ülkedir",
          "angola/uzun",
          "angola/ulke",
          "angola/cumhuriyeti",
          "angola/su",
          "angola/km",
          "angola/iç",
          "angola/büyük",
          "angola/tüm",
          "angola",
          "bosna-hersek",
          "bosna-hersek/türk",
          "bosna-hersek/şehir",
          "bosna-hersek/yer",
          "bosna-hersek/tek",
          "bosna-hersek/güzel",
          "bosna-hersek/gün",
          "bosna-hersek/etnik",
          "bosna-hersek/cumhuriyeti",
          "bosna-hersek/km",
          "bosna-hersek/büyük",
          "cezayir",
          "cezayir/şehir",
          "cezayir/yıl",
          "cezayir/yer",
          "cezayir/türk",
          "cezayir/kuzey",
          "cezayir/iş",
          "cezayir/iyi",
          "cezayir/ilk",
          "cezayir/güzel",
          "cezayir/büyük",
          "el salvador",
          "el salvador/ülkesi",
          "el salvador/un",
          "el salvador/el",
          "el salvador/suç",
          "el salvador/iç",
          "el salvador/iyi",
          "el salvador/ilk",
          "el salvador/büyük",
          "el salvador/bütün",
          "el salvador/ulke",
          "ermenistan",
          "ermenistan/ülkedir",
          "ermenistan/tek",
          "ermenistan/türkler",
          "ermenistan/terör",
          "ermenistan/rus",
          "ermenistan/yıl",
          "ermenistan/iyi",
          "ermenistan/büyük",
          "ermenistan/tüm",
          "ermenistan/türk",
          "filistin/türk",
          "filistin/yer",
          "filistin/yıl",
          "filistin/bütün",
          "filistin/büyük",
          "filistin/el",
          "filistin/ilk",
          "filistin/tek",
          "filistin",
          "filistin/kudüs",
          "filistin/tüm",
          "fransa",
          "fransa/un",
          "fransa/türk",
          "fransa/tüm",
          "fransa/tek",
          "fransa/iyi",
          "fransa/ilk",
          "fransa/güzel",
          "fransa/büyük",
          "fransa/ülkedir",
          "fransa/le",
          "güney kore",
          "güney kore/kuzey",
          "güney kore/yer",
          "güney kore/büyük",
          "güney kore/güzel",
          "güney kore/ilk",
          "güney kore/iyi",
          "güney kore/iş",
          "güney kore/tek",
          "güney kore/türk",
          "güney kore/yüksek",
          "gürcistan",
          "gürcistan/gel",
          "gürcistan/yer",
          "gürcistan/ucuz",
          "gürcistan/türk",
          "gürcistan/tek",
          "gürcistan/rus",
          "gürcistan/iyi",
          "gürcistan/ilk",
          "gürcistan/güzel",
          "gürcistan/büyük",
          "hindistan",
          "hindistan/ülkedir",
          "hindistan/tek",
          "hindistan/büyük",
          "hindistan/gün",
          "hindistan/güzel",
          "hindistan/ilk",
          "hindistan/iyi",
          "hindistan/yemek",
          "hindistan/yer",
          "hindistan/ülkesi",
          "iran/büyük",
          "iran/ilk",
          "iran",
          "iran/iyi",
          "iran/nükleer",
          "iran/şii",
          "iran/türk",
          "iran/tüm",
          "iran/tek",
          "iran/rejim",
          "iran/ülkedir",
          "israil/bütün",
          "israil/kudüs",
          "israil/büyük",
          "israil/gün",
          "israil/ilk",
          "israil/iyi",
          "israil",
          "israil/tek",
          "israil/terör",
          "israil/tüm",
          "israil/türk",
          "isviçre/yer",
          "isviçre/bi",
          "isviçre/büyük",
          "isviçre/ev",
          "isviçre/gün",
          "isviçre/güzel",
          "isviçre/iyi",
          "isviçre/yüksek",
          "isviçre",
          "isviçre/tek",
          "isviçre/ulke",
          "japonya/güzel",
          "japonya",
          "japonya/yer",
          "japonya/türk",
          "japonya/tek",
          "japonya/büyük",
          "japonya/iş",
          "japonya/iyi",
          "japonya/ilk",
          "japonya/gün",
          "japonya/kürt",
          "kanada/ev",
          "kanada/vs",
          "kanada/ulke",
          "kanada/tek",
          "kanada/iş",
          "kanada/iyi",
          "kanada/ilk",
          "kanada",
          "kanada/büyük",
          "kanada/bi",
          "kanada/yer",
          "kazakistan",
          "kazakistan/tek",
          "kazakistan/vs",
          "kazakistan/bütün",
          "kazakistan/büyük",
          "kazakistan/gün",
          "kazakistan/güzel",
          "kazakistan/ilk",
          "kazakistan/iyi",
          "kazakistan/rus",
          "kazakistan/türk",
          "kuzey kore/tüm",
          "kuzey kore/tek",
          "kuzey kore/rejim",
          "kuzey kore/kuzey",
          "kuzey kore/yıl",
          "kuzey kore/dış",
          "kuzey kore/büyük",
          "kuzey kore",
          "kuzey kore/füze",
          "kuzey kore/un",
          "kuzey kore/nükleer",
          "kürdistan/yer",
          "kürdistan/bi",
          "kürdistan/bölge",
          "kürdistan",
          "kürdistan/büyük",
          "kürdistan/cumhuriyeti",
          "kürdistan/kuzey",
          "kürdistan/kürt",
          "kürdistan/pkk",
          "kürdistan/tek",
          "kürdistan/türk",
          "kıbrıs/yer",
          "kıbrıs/büyük",
          "kıbrıs/gün",
          "kıbrıs/güzel",
          "kıbrıs/ilk",
          "kıbrıs/iyi",
          "kıbrıs/kuzey",
          "kıbrıs/tek",
          "kıbrıs",
          "kıbrıs/türk",
          "kıbrıs/türkler",
          "lihtenştayn",
          "lihtenştayn/nüfus",
          "lihtenştayn/ülkeyi",
          "lihtenştayn/büyük",
          "lihtenştayn/erkek",
          "lihtenştayn/gün",
          "lihtenştayn/ulke",
          "lihtenştayn/yer",
          "lihtenştayn/yıl",
          "lihtenştayn/ülkesi",
          "lihtenştayn/bi",
          "makedonya/büyük",
          "makedonya/güzel",
          "makedonya/ilk",
          "makedonya/iyi",
          "makedonya/kuzey",
          "makedonya/türk",
          "makedonya/türkçe",
          "makedonya/yer",
          "makedonya/şehir",
          "makedonya/gün",
          "makedonya",
          "moğolistan",
          "moğolistan/ilk",
          "moğolistan/güzel",
          "moğolistan/büyük",
          "moğolistan/et",
          "moğolistan/km",
          "moğolistan/türk",
          "moğolistan/yer",
          "moğolistan/ülkedir",
          "moğolistan/ülkesi",
          "moğolistan/tek",
          "pakistan/büyük",
          "pakistan/ciddi",
          "pakistan/ilk",
          "pakistan/iyi",
          "pakistan/nükleer",
          "pakistan/tek",
          "pakistan/tüm",
          "pakistan/yer",
          "pakistan/ülkedir",
          "pakistan",
          "pakistan/türk",
          "rusya/büyük",
          "rusya/ilk",
          "rusya/tek",
          "rusya/iyi",
          "rusya/tüm",
          "rusya/kırım",
          "rusya/nükleer",
          "rusya",
          "rusya/türk",
          "rusya/rus",
          "rusya/ülkedir",
          "somali/tek",
          "somali/türk",
          "somali/ye",
          "somali",
          "somali/bi",
          "somali/büyük",
          "somali/el",
          "somali/etmek",
          "somali/yer",
          "somali/terör",
          "somali/iç",
          "suriye/büyük",
          "suriye/iç",
          "suriye/pkk",
          "suriye/el",
          "suriye/sünni",
          "suriye/tek",
          "suriye/türk",
          "suriye/ypg",
          "suriye",
          "suriye/rejim",
          "suriye/terör",
          "suudi arabistan",
          "suudi arabistan/tüm",
          "suudi arabistan/büyük",
          "suudi arabistan/ilk",
          "suudi arabistan/iyi",
          "suudi arabistan/suudi",
          "suudi arabistan/ülkesi",
          "suudi arabistan/yıl",
          "suudi arabistan/türk",
          "suudi arabistan/tek",
          "suudi arabistan/ülkedir",
          "sırbistan",
          "sırbistan/yer",
          "sırbistan/büyük",
          "sırbistan/gün",
          "sırbistan/güzel",
          "sırbistan/ilk",
          "sırbistan/iyi",
          "sırbistan/tek",
          "sırbistan/türk",
          "sırbistan/vize",
          "sırbistan/ülkedir",
          "türkiye/büyük",
          "türkiye/yer",
          "türkiye/türk",
          "türkiye/tüm",
          "türkiye/tek",
          "türkiye/ülkem",
          "türkiye",
          "türkiye/güzel",
          "türkiye/gün",
          "türkiye/ülkedir",
          "türkiye/iyi",
          "ukrayna/gün",
          "ukrayna/büyük",
          "ukrayna/güzel",
          "ukrayna",
          "ukrayna/türk",
          "ukrayna/tek",
          "ukrayna/yer",
          "ukrayna/kırım",
          "ukrayna/iyi",
          "ukrayna/ilk",
          "ukrayna/rus",
          "venezuela",
          "venezuela/büyük",
          "venezuela/ülkeyi",
          "venezuela/ülkedir",
          "venezuela/ulke",
          "venezuela/tüm",
          "venezuela/tek",
          "venezuela/kötü",
          "venezuela/iyi",
          "venezuela/ilk",
          "venezuela/güzel",
          "vietnam",
          "vietnam/büyük",
          "vietnam/yer",
          "vietnam/görsel",
          "vietnam/gün",
          "vietnam/güzel",
          "vietnam/ilk",
          "vietnam/iyi",
          "vietnam/ucuz",
          "vietnam/vize",
          "vietnam/yemek",
          "yeni zelanda/yer",
          "yeni zelanda/vs",
          "yeni zelanda/ulke",
          "yeni zelanda/tek",
          "yeni zelanda/iş",
          "yeni zelanda/iyi",
          "yeni zelanda/ilk",
          "yeni zelanda/güzel",
          "yeni zelanda/gün",
          "yeni zelanda/büyük",
          "yeni zelanda",
          "yunanistan/güzel",
          "yunanistan/iyi",
          "yunanistan/ülkedir",
          "yunanistan/ilk",
          "yunanistan/ege",
          "yunanistan/tüm",
          "yunanistan/bi",
          "yunanistan/türk",
          "yunanistan",
          "yunanistan/büyük",
          "yunanistan/tek",
          "çin",
          "çin/tüm",
          "çin/büyük",
          "çin/geri",
          "çin/ilk",
          "çin/iyi",
          "çin/uzun",
          "çin/yıl",
          "çin/özellikle",
          "çin/üretim",
          "çin/tek",
          "ırak/sünni",
          "ırak/merkezi",
          "ırak/kürt",
          "ırak/bölgesel",
          "ırak/el",
          "ırak/büyük",
          "ırak/ilk",
          "ırak/yer",
          "ırak/şii",
          "ırak",
          "ırak/ışid",
          "şili/büyük",
          "şili/gelir",
          "şili/güzel",
          "şili/ilk",
          "şili/km",
          "şili/tek",
          "şili/ulke",
          "şili/uzun",
          "şili/yer",
          "şili/ülkesi",
          "şili"
         ],
         "labels": [
          "bi",
          "vs",
          "türk",
          "tek",
          "iş",
          "almanya",
          "ilk",
          "gün",
          "ev",
          "büyük",
          "iyi",
          "amerika birleşik devletleri",
          "vs",
          "ulke",
          "tüm",
          "trump",
          "tek",
          "iyi",
          "ilk",
          "geri",
          "ev",
          "büyük",
          "ülkesi",
          "ülkedir",
          "uzun",
          "ulke",
          "cumhuriyeti",
          "su",
          "km",
          "iç",
          "büyük",
          "tüm",
          "angola",
          "bosna-hersek",
          "türk",
          "şehir",
          "yer",
          "tek",
          "güzel",
          "gün",
          "etnik",
          "cumhuriyeti",
          "km",
          "büyük",
          "cezayir",
          "şehir",
          "yıl",
          "yer",
          "türk",
          "kuzey",
          "iş",
          "iyi",
          "ilk",
          "güzel",
          "büyük",
          "el salvador",
          "ülkesi",
          "un",
          "el",
          "suç",
          "iç",
          "iyi",
          "ilk",
          "büyük",
          "bütün",
          "ulke",
          "ermenistan",
          "ülkedir",
          "tek",
          "türkler",
          "terör",
          "rus",
          "yıl",
          "iyi",
          "büyük",
          "tüm",
          "türk",
          "türk",
          "yer",
          "yıl",
          "bütün",
          "büyük",
          "el",
          "ilk",
          "tek",
          "filistin",
          "kudüs",
          "tüm",
          "fransa",
          "un",
          "türk",
          "tüm",
          "tek",
          "iyi",
          "ilk",
          "güzel",
          "büyük",
          "ülkedir",
          "le",
          "güney kore",
          "kuzey",
          "yer",
          "büyük",
          "güzel",
          "ilk",
          "iyi",
          "iş",
          "tek",
          "türk",
          "yüksek",
          "gürcistan",
          "gel",
          "yer",
          "ucuz",
          "türk",
          "tek",
          "rus",
          "iyi",
          "ilk",
          "güzel",
          "büyük",
          "hindistan",
          "ülkedir",
          "tek",
          "büyük",
          "gün",
          "güzel",
          "ilk",
          "iyi",
          "yemek",
          "yer",
          "ülkesi",
          "büyük",
          "ilk",
          "iran",
          "iyi",
          "nükleer",
          "şii",
          "türk",
          "tüm",
          "tek",
          "rejim",
          "ülkedir",
          "bütün",
          "kudüs",
          "büyük",
          "gün",
          "ilk",
          "iyi",
          "israil",
          "tek",
          "terör",
          "tüm",
          "türk",
          "yer",
          "bi",
          "büyük",
          "ev",
          "gün",
          "güzel",
          "iyi",
          "yüksek",
          "isviçre",
          "tek",
          "ulke",
          "güzel",
          "japonya",
          "yer",
          "türk",
          "tek",
          "büyük",
          "iş",
          "iyi",
          "ilk",
          "gün",
          "kürt",
          "ev",
          "vs",
          "ulke",
          "tek",
          "iş",
          "iyi",
          "ilk",
          "kanada",
          "büyük",
          "bi",
          "yer",
          "kazakistan",
          "tek",
          "vs",
          "bütün",
          "büyük",
          "gün",
          "güzel",
          "ilk",
          "iyi",
          "rus",
          "türk",
          "tüm",
          "tek",
          "rejim",
          "kuzey",
          "yıl",
          "dış",
          "büyük",
          "kuzey kore",
          "füze",
          "un",
          "nükleer",
          "yer",
          "bi",
          "bölge",
          "kürdistan",
          "büyük",
          "cumhuriyeti",
          "kuzey",
          "kürt",
          "pkk",
          "tek",
          "türk",
          "yer",
          "büyük",
          "gün",
          "güzel",
          "ilk",
          "iyi",
          "kuzey",
          "tek",
          "kıbrıs",
          "türk",
          "türkler",
          "lihtenştayn",
          "nüfus",
          "ülkeyi",
          "büyük",
          "erkek",
          "gün",
          "ulke",
          "yer",
          "yıl",
          "ülkesi",
          "bi",
          "büyük",
          "güzel",
          "ilk",
          "iyi",
          "kuzey",
          "türk",
          "türkçe",
          "yer",
          "şehir",
          "gün",
          "makedonya",
          "moğolistan",
          "ilk",
          "güzel",
          "büyük",
          "et",
          "km",
          "türk",
          "yer",
          "ülkedir",
          "ülkesi",
          "tek",
          "büyük",
          "ciddi",
          "ilk",
          "iyi",
          "nükleer",
          "tek",
          "tüm",
          "yer",
          "ülkedir",
          "pakistan",
          "türk",
          "büyük",
          "ilk",
          "tek",
          "iyi",
          "tüm",
          "kırım",
          "nükleer",
          "rusya",
          "türk",
          "rus",
          "ülkedir",
          "tek",
          "türk",
          "ye",
          "somali",
          "bi",
          "büyük",
          "el",
          "etmek",
          "yer",
          "terör",
          "iç",
          "büyük",
          "iç",
          "pkk",
          "el",
          "sünni",
          "tek",
          "türk",
          "ypg",
          "suriye",
          "rejim",
          "terör",
          "suudi arabistan",
          "tüm",
          "büyük",
          "ilk",
          "iyi",
          "suudi",
          "ülkesi",
          "yıl",
          "türk",
          "tek",
          "ülkedir",
          "sırbistan",
          "yer",
          "büyük",
          "gün",
          "güzel",
          "ilk",
          "iyi",
          "tek",
          "türk",
          "vize",
          "ülkedir",
          "büyük",
          "yer",
          "türk",
          "tüm",
          "tek",
          "ülkem",
          "türkiye",
          "güzel",
          "gün",
          "ülkedir",
          "iyi",
          "gün",
          "büyük",
          "güzel",
          "ukrayna",
          "türk",
          "tek",
          "yer",
          "kırım",
          "iyi",
          "ilk",
          "rus",
          "venezuela",
          "büyük",
          "ülkeyi",
          "ülkedir",
          "ulke",
          "tüm",
          "tek",
          "kötü",
          "iyi",
          "ilk",
          "güzel",
          "vietnam",
          "büyük",
          "yer",
          "görsel",
          "gün",
          "güzel",
          "ilk",
          "iyi",
          "ucuz",
          "vize",
          "yemek",
          "yer",
          "vs",
          "ulke",
          "tek",
          "iş",
          "iyi",
          "ilk",
          "güzel",
          "gün",
          "büyük",
          "yeni zelanda",
          "güzel",
          "iyi",
          "ülkedir",
          "ilk",
          "ege",
          "tüm",
          "bi",
          "türk",
          "yunanistan",
          "büyük",
          "tek",
          "çin",
          "tüm",
          "büyük",
          "geri",
          "ilk",
          "iyi",
          "uzun",
          "yıl",
          "özellikle",
          "üretim",
          "tek",
          "sünni",
          "merkezi",
          "kürt",
          "bölgesel",
          "el",
          "büyük",
          "ilk",
          "yer",
          "şii",
          "ırak",
          "ışid",
          "büyük",
          "gelir",
          "güzel",
          "ilk",
          "km",
          "tek",
          "ulke",
          "uzun",
          "yer",
          "ülkesi",
          "şili"
         ],
         "marker": {
          "colors": [
           "rgb(141,211,199)",
           "rgb(141,211,199)",
           "rgb(141,211,199)",
           "rgb(141,211,199)",
           "rgb(141,211,199)",
           "rgb(141,211,199)",
           "rgb(141,211,199)",
           "rgb(141,211,199)",
           "rgb(141,211,199)",
           "rgb(141,211,199)",
           "rgb(141,211,199)",
           "rgb(255,255,179)",
           "rgb(255,255,179)",
           "rgb(255,255,179)",
           "rgb(255,255,179)",
           "rgb(255,255,179)",
           "rgb(255,255,179)",
           "rgb(255,255,179)",
           "rgb(255,255,179)",
           "rgb(255,255,179)",
           "rgb(255,255,179)",
           "rgb(255,255,179)",
           "rgb(190,186,218)",
           "rgb(190,186,218)",
           "rgb(190,186,218)",
           "rgb(190,186,218)",
           "rgb(190,186,218)",
           "rgb(190,186,218)",
           "rgb(190,186,218)",
           "rgb(190,186,218)",
           "rgb(190,186,218)",
           "rgb(190,186,218)",
           "rgb(190,186,218)",
           "rgb(251,128,114)",
           "rgb(251,128,114)",
           "rgb(251,128,114)",
           "rgb(251,128,114)",
           "rgb(251,128,114)",
           "rgb(251,128,114)",
           "rgb(251,128,114)",
           "rgb(251,128,114)",
           "rgb(251,128,114)",
           "rgb(251,128,114)",
           "rgb(251,128,114)",
           "rgb(128,177,211)",
           "rgb(128,177,211)",
           "rgb(128,177,211)",
           "rgb(128,177,211)",
           "rgb(128,177,211)",
           "rgb(128,177,211)",
           "rgb(128,177,211)",
           "rgb(128,177,211)",
           "rgb(128,177,211)",
           "rgb(128,177,211)",
           "rgb(128,177,211)",
           "rgb(253,180,98)",
           "rgb(253,180,98)",
           "rgb(253,180,98)",
           "rgb(253,180,98)",
           "rgb(253,180,98)",
           "rgb(253,180,98)",
           "rgb(253,180,98)",
           "rgb(253,180,98)",
           "rgb(253,180,98)",
           "rgb(253,180,98)",
           "rgb(253,180,98)",
           "rgb(179,222,105)",
           "rgb(179,222,105)",
           "rgb(179,222,105)",
           "rgb(179,222,105)",
           "rgb(179,222,105)",
           "rgb(179,222,105)",
           "rgb(179,222,105)",
           "rgb(179,222,105)",
           "rgb(179,222,105)",
           "rgb(179,222,105)",
           "rgb(179,222,105)",
           "rgb(252,205,229)",
           "rgb(252,205,229)",
           "rgb(252,205,229)",
           "rgb(252,205,229)",
           "rgb(252,205,229)",
           "rgb(252,205,229)",
           "rgb(252,205,229)",
           "rgb(252,205,229)",
           "rgb(252,205,229)",
           "rgb(252,205,229)",
           "rgb(252,205,229)",
           "rgb(217,217,217)",
           "rgb(217,217,217)",
           "rgb(217,217,217)",
           "rgb(217,217,217)",
           "rgb(217,217,217)",
           "rgb(217,217,217)",
           "rgb(217,217,217)",
           "rgb(217,217,217)",
           "rgb(217,217,217)",
           "rgb(217,217,217)",
           "rgb(217,217,217)",
           "rgb(188,128,189)",
           "rgb(188,128,189)",
           "rgb(188,128,189)",
           "rgb(188,128,189)",
           "rgb(188,128,189)",
           "rgb(188,128,189)",
           "rgb(188,128,189)",
           "rgb(188,128,189)",
           "rgb(188,128,189)",
           "rgb(188,128,189)",
           "rgb(188,128,189)",
           "rgb(204,235,197)",
           "rgb(204,235,197)",
           "rgb(204,235,197)",
           "rgb(204,235,197)",
           "rgb(204,235,197)",
           "rgb(204,235,197)",
           "rgb(204,235,197)",
           "rgb(204,235,197)",
           "rgb(204,235,197)",
           "rgb(204,235,197)",
           "rgb(204,235,197)",
           "rgb(255,237,111)",
           "rgb(255,237,111)",
           "rgb(255,237,111)",
           "rgb(255,237,111)",
           "rgb(255,237,111)",
           "rgb(255,237,111)",
           "rgb(255,237,111)",
           "rgb(255,237,111)",
           "rgb(255,237,111)",
           "rgb(255,237,111)",
           "rgb(255,237,111)",
           "rgb(141,211,199)",
           "rgb(141,211,199)",
           "rgb(141,211,199)",
           "rgb(141,211,199)",
           "rgb(141,211,199)",
           "rgb(141,211,199)",
           "rgb(141,211,199)",
           "rgb(141,211,199)",
           "rgb(141,211,199)",
           "rgb(141,211,199)",
           "rgb(141,211,199)",
           "rgb(255,255,179)",
           "rgb(255,255,179)",
           "rgb(255,255,179)",
           "rgb(255,255,179)",
           "rgb(255,255,179)",
           "rgb(255,255,179)",
           "rgb(255,255,179)",
           "rgb(255,255,179)",
           "rgb(255,255,179)",
           "rgb(255,255,179)",
           "rgb(255,255,179)",
           "rgb(190,186,218)",
           "rgb(190,186,218)",
           "rgb(190,186,218)",
           "rgb(190,186,218)",
           "rgb(190,186,218)",
           "rgb(190,186,218)",
           "rgb(190,186,218)",
           "rgb(190,186,218)",
           "rgb(190,186,218)",
           "rgb(190,186,218)",
           "rgb(190,186,218)",
           "rgb(251,128,114)",
           "rgb(251,128,114)",
           "rgb(251,128,114)",
           "rgb(251,128,114)",
           "rgb(251,128,114)",
           "rgb(251,128,114)",
           "rgb(251,128,114)",
           "rgb(251,128,114)",
           "rgb(251,128,114)",
           "rgb(251,128,114)",
           "rgb(251,128,114)",
           "rgb(128,177,211)",
           "rgb(128,177,211)",
           "rgb(128,177,211)",
           "rgb(128,177,211)",
           "rgb(128,177,211)",
           "rgb(128,177,211)",
           "rgb(128,177,211)",
           "rgb(128,177,211)",
           "rgb(128,177,211)",
           "rgb(128,177,211)",
           "rgb(128,177,211)",
           "rgb(253,180,98)",
           "rgb(253,180,98)",
           "rgb(253,180,98)",
           "rgb(253,180,98)",
           "rgb(253,180,98)",
           "rgb(253,180,98)",
           "rgb(253,180,98)",
           "rgb(253,180,98)",
           "rgb(253,180,98)",
           "rgb(253,180,98)",
           "rgb(253,180,98)",
           "rgb(179,222,105)",
           "rgb(179,222,105)",
           "rgb(179,222,105)",
           "rgb(179,222,105)",
           "rgb(179,222,105)",
           "rgb(179,222,105)",
           "rgb(179,222,105)",
           "rgb(179,222,105)",
           "rgb(179,222,105)",
           "rgb(179,222,105)",
           "rgb(179,222,105)",
           "rgb(252,205,229)",
           "rgb(252,205,229)",
           "rgb(252,205,229)",
           "rgb(252,205,229)",
           "rgb(252,205,229)",
           "rgb(252,205,229)",
           "rgb(252,205,229)",
           "rgb(252,205,229)",
           "rgb(252,205,229)",
           "rgb(252,205,229)",
           "rgb(252,205,229)",
           "rgb(217,217,217)",
           "rgb(217,217,217)",
           "rgb(217,217,217)",
           "rgb(217,217,217)",
           "rgb(217,217,217)",
           "rgb(217,217,217)",
           "rgb(217,217,217)",
           "rgb(217,217,217)",
           "rgb(217,217,217)",
           "rgb(217,217,217)",
           "rgb(217,217,217)",
           "rgb(188,128,189)",
           "rgb(188,128,189)",
           "rgb(188,128,189)",
           "rgb(188,128,189)",
           "rgb(188,128,189)",
           "rgb(188,128,189)",
           "rgb(188,128,189)",
           "rgb(188,128,189)",
           "rgb(188,128,189)",
           "rgb(188,128,189)",
           "rgb(188,128,189)",
           "rgb(204,235,197)",
           "rgb(204,235,197)",
           "rgb(204,235,197)",
           "rgb(204,235,197)",
           "rgb(204,235,197)",
           "rgb(204,235,197)",
           "rgb(204,235,197)",
           "rgb(204,235,197)",
           "rgb(204,235,197)",
           "rgb(204,235,197)",
           "rgb(204,235,197)",
           "rgb(255,237,111)",
           "rgb(255,237,111)",
           "rgb(255,237,111)",
           "rgb(255,237,111)",
           "rgb(255,237,111)",
           "rgb(255,237,111)",
           "rgb(255,237,111)",
           "rgb(255,237,111)",
           "rgb(255,237,111)",
           "rgb(255,237,111)",
           "rgb(255,237,111)",
           "rgb(141,211,199)",
           "rgb(141,211,199)",
           "rgb(141,211,199)",
           "rgb(141,211,199)",
           "rgb(141,211,199)",
           "rgb(141,211,199)",
           "rgb(141,211,199)",
           "rgb(141,211,199)",
           "rgb(141,211,199)",
           "rgb(141,211,199)",
           "rgb(141,211,199)",
           "rgb(255,255,179)",
           "rgb(255,255,179)",
           "rgb(255,255,179)",
           "rgb(255,255,179)",
           "rgb(255,255,179)",
           "rgb(255,255,179)",
           "rgb(255,255,179)",
           "rgb(255,255,179)",
           "rgb(255,255,179)",
           "rgb(255,255,179)",
           "rgb(255,255,179)",
           "rgb(190,186,218)",
           "rgb(190,186,218)",
           "rgb(190,186,218)",
           "rgb(190,186,218)",
           "rgb(190,186,218)",
           "rgb(190,186,218)",
           "rgb(190,186,218)",
           "rgb(190,186,218)",
           "rgb(190,186,218)",
           "rgb(190,186,218)",
           "rgb(190,186,218)",
           "rgb(251,128,114)",
           "rgb(251,128,114)",
           "rgb(251,128,114)",
           "rgb(251,128,114)",
           "rgb(251,128,114)",
           "rgb(251,128,114)",
           "rgb(251,128,114)",
           "rgb(251,128,114)",
           "rgb(251,128,114)",
           "rgb(251,128,114)",
           "rgb(251,128,114)",
           "rgb(128,177,211)",
           "rgb(128,177,211)",
           "rgb(128,177,211)",
           "rgb(128,177,211)",
           "rgb(128,177,211)",
           "rgb(128,177,211)",
           "rgb(128,177,211)",
           "rgb(128,177,211)",
           "rgb(128,177,211)",
           "rgb(128,177,211)",
           "rgb(128,177,211)",
           "rgb(253,180,98)",
           "rgb(253,180,98)",
           "rgb(253,180,98)",
           "rgb(253,180,98)",
           "rgb(253,180,98)",
           "rgb(253,180,98)",
           "rgb(253,180,98)",
           "rgb(253,180,98)",
           "rgb(253,180,98)",
           "rgb(253,180,98)",
           "rgb(253,180,98)",
           "rgb(179,222,105)",
           "rgb(179,222,105)",
           "rgb(179,222,105)",
           "rgb(179,222,105)",
           "rgb(179,222,105)",
           "rgb(179,222,105)",
           "rgb(179,222,105)",
           "rgb(179,222,105)",
           "rgb(179,222,105)",
           "rgb(179,222,105)",
           "rgb(179,222,105)",
           "rgb(252,205,229)",
           "rgb(252,205,229)",
           "rgb(252,205,229)",
           "rgb(252,205,229)",
           "rgb(252,205,229)",
           "rgb(252,205,229)",
           "rgb(252,205,229)",
           "rgb(252,205,229)",
           "rgb(252,205,229)",
           "rgb(252,205,229)",
           "rgb(252,205,229)",
           "rgb(217,217,217)",
           "rgb(217,217,217)",
           "rgb(217,217,217)",
           "rgb(217,217,217)",
           "rgb(217,217,217)",
           "rgb(217,217,217)",
           "rgb(217,217,217)",
           "rgb(217,217,217)",
           "rgb(217,217,217)",
           "rgb(217,217,217)",
           "rgb(217,217,217)",
           "rgb(188,128,189)",
           "rgb(188,128,189)",
           "rgb(188,128,189)",
           "rgb(188,128,189)",
           "rgb(188,128,189)",
           "rgb(188,128,189)",
           "rgb(188,128,189)",
           "rgb(188,128,189)",
           "rgb(188,128,189)",
           "rgb(188,128,189)",
           "rgb(188,128,189)",
           "rgb(204,235,197)",
           "rgb(204,235,197)",
           "rgb(204,235,197)",
           "rgb(204,235,197)",
           "rgb(204,235,197)",
           "rgb(204,235,197)",
           "rgb(204,235,197)",
           "rgb(204,235,197)",
           "rgb(204,235,197)",
           "rgb(204,235,197)",
           "rgb(204,235,197)",
           "rgb(255,237,111)",
           "rgb(255,237,111)",
           "rgb(255,237,111)",
           "rgb(255,237,111)",
           "rgb(255,237,111)",
           "rgb(255,237,111)",
           "rgb(255,237,111)",
           "rgb(255,237,111)",
           "rgb(255,237,111)",
           "rgb(255,237,111)",
           "rgb(255,237,111)",
           "rgb(141,211,199)",
           "rgb(141,211,199)",
           "rgb(141,211,199)",
           "rgb(141,211,199)",
           "rgb(141,211,199)",
           "rgb(141,211,199)",
           "rgb(141,211,199)",
           "rgb(141,211,199)",
           "rgb(141,211,199)",
           "rgb(141,211,199)",
           "rgb(141,211,199)",
           "rgb(255,255,179)",
           "rgb(255,255,179)",
           "rgb(255,255,179)",
           "rgb(255,255,179)",
           "rgb(255,255,179)",
           "rgb(255,255,179)",
           "rgb(255,255,179)",
           "rgb(255,255,179)",
           "rgb(255,255,179)",
           "rgb(255,255,179)",
           "rgb(255,255,179)",
           "rgb(190,186,218)",
           "rgb(190,186,218)",
           "rgb(190,186,218)",
           "rgb(190,186,218)",
           "rgb(190,186,218)",
           "rgb(190,186,218)",
           "rgb(190,186,218)",
           "rgb(190,186,218)",
           "rgb(190,186,218)",
           "rgb(190,186,218)",
           "rgb(190,186,218)"
          ]
         },
         "name": "",
         "parents": [
          "almanya",
          "almanya",
          "almanya",
          "almanya",
          "almanya",
          "",
          "almanya",
          "almanya",
          "almanya",
          "almanya",
          "almanya",
          "",
          "amerika birleşik devletleri",
          "amerika birleşik devletleri",
          "amerika birleşik devletleri",
          "amerika birleşik devletleri",
          "amerika birleşik devletleri",
          "amerika birleşik devletleri",
          "amerika birleşik devletleri",
          "amerika birleşik devletleri",
          "amerika birleşik devletleri",
          "amerika birleşik devletleri",
          "angola",
          "angola",
          "angola",
          "angola",
          "angola",
          "angola",
          "angola",
          "angola",
          "angola",
          "angola",
          "",
          "",
          "bosna-hersek",
          "bosna-hersek",
          "bosna-hersek",
          "bosna-hersek",
          "bosna-hersek",
          "bosna-hersek",
          "bosna-hersek",
          "bosna-hersek",
          "bosna-hersek",
          "bosna-hersek",
          "",
          "cezayir",
          "cezayir",
          "cezayir",
          "cezayir",
          "cezayir",
          "cezayir",
          "cezayir",
          "cezayir",
          "cezayir",
          "cezayir",
          "",
          "el salvador",
          "el salvador",
          "el salvador",
          "el salvador",
          "el salvador",
          "el salvador",
          "el salvador",
          "el salvador",
          "el salvador",
          "el salvador",
          "",
          "ermenistan",
          "ermenistan",
          "ermenistan",
          "ermenistan",
          "ermenistan",
          "ermenistan",
          "ermenistan",
          "ermenistan",
          "ermenistan",
          "ermenistan",
          "filistin",
          "filistin",
          "filistin",
          "filistin",
          "filistin",
          "filistin",
          "filistin",
          "filistin",
          "",
          "filistin",
          "filistin",
          "",
          "fransa",
          "fransa",
          "fransa",
          "fransa",
          "fransa",
          "fransa",
          "fransa",
          "fransa",
          "fransa",
          "fransa",
          "",
          "güney kore",
          "güney kore",
          "güney kore",
          "güney kore",
          "güney kore",
          "güney kore",
          "güney kore",
          "güney kore",
          "güney kore",
          "güney kore",
          "",
          "gürcistan",
          "gürcistan",
          "gürcistan",
          "gürcistan",
          "gürcistan",
          "gürcistan",
          "gürcistan",
          "gürcistan",
          "gürcistan",
          "gürcistan",
          "",
          "hindistan",
          "hindistan",
          "hindistan",
          "hindistan",
          "hindistan",
          "hindistan",
          "hindistan",
          "hindistan",
          "hindistan",
          "hindistan",
          "iran",
          "iran",
          "",
          "iran",
          "iran",
          "iran",
          "iran",
          "iran",
          "iran",
          "iran",
          "iran",
          "israil",
          "israil",
          "israil",
          "israil",
          "israil",
          "israil",
          "",
          "israil",
          "israil",
          "israil",
          "israil",
          "isviçre",
          "isviçre",
          "isviçre",
          "isviçre",
          "isviçre",
          "isviçre",
          "isviçre",
          "isviçre",
          "",
          "isviçre",
          "isviçre",
          "japonya",
          "",
          "japonya",
          "japonya",
          "japonya",
          "japonya",
          "japonya",
          "japonya",
          "japonya",
          "japonya",
          "japonya",
          "kanada",
          "kanada",
          "kanada",
          "kanada",
          "kanada",
          "kanada",
          "kanada",
          "",
          "kanada",
          "kanada",
          "kanada",
          "",
          "kazakistan",
          "kazakistan",
          "kazakistan",
          "kazakistan",
          "kazakistan",
          "kazakistan",
          "kazakistan",
          "kazakistan",
          "kazakistan",
          "kazakistan",
          "kuzey kore",
          "kuzey kore",
          "kuzey kore",
          "kuzey kore",
          "kuzey kore",
          "kuzey kore",
          "kuzey kore",
          "",
          "kuzey kore",
          "kuzey kore",
          "kuzey kore",
          "kürdistan",
          "kürdistan",
          "kürdistan",
          "",
          "kürdistan",
          "kürdistan",
          "kürdistan",
          "kürdistan",
          "kürdistan",
          "kürdistan",
          "kürdistan",
          "kıbrıs",
          "kıbrıs",
          "kıbrıs",
          "kıbrıs",
          "kıbrıs",
          "kıbrıs",
          "kıbrıs",
          "kıbrıs",
          "",
          "kıbrıs",
          "kıbrıs",
          "",
          "lihtenştayn",
          "lihtenştayn",
          "lihtenştayn",
          "lihtenştayn",
          "lihtenştayn",
          "lihtenştayn",
          "lihtenştayn",
          "lihtenştayn",
          "lihtenştayn",
          "lihtenştayn",
          "makedonya",
          "makedonya",
          "makedonya",
          "makedonya",
          "makedonya",
          "makedonya",
          "makedonya",
          "makedonya",
          "makedonya",
          "makedonya",
          "",
          "",
          "moğolistan",
          "moğolistan",
          "moğolistan",
          "moğolistan",
          "moğolistan",
          "moğolistan",
          "moğolistan",
          "moğolistan",
          "moğolistan",
          "moğolistan",
          "pakistan",
          "pakistan",
          "pakistan",
          "pakistan",
          "pakistan",
          "pakistan",
          "pakistan",
          "pakistan",
          "pakistan",
          "",
          "pakistan",
          "rusya",
          "rusya",
          "rusya",
          "rusya",
          "rusya",
          "rusya",
          "rusya",
          "",
          "rusya",
          "rusya",
          "rusya",
          "somali",
          "somali",
          "somali",
          "",
          "somali",
          "somali",
          "somali",
          "somali",
          "somali",
          "somali",
          "somali",
          "suriye",
          "suriye",
          "suriye",
          "suriye",
          "suriye",
          "suriye",
          "suriye",
          "suriye",
          "",
          "suriye",
          "suriye",
          "",
          "suudi arabistan",
          "suudi arabistan",
          "suudi arabistan",
          "suudi arabistan",
          "suudi arabistan",
          "suudi arabistan",
          "suudi arabistan",
          "suudi arabistan",
          "suudi arabistan",
          "suudi arabistan",
          "",
          "sırbistan",
          "sırbistan",
          "sırbistan",
          "sırbistan",
          "sırbistan",
          "sırbistan",
          "sırbistan",
          "sırbistan",
          "sırbistan",
          "sırbistan",
          "türkiye",
          "türkiye",
          "türkiye",
          "türkiye",
          "türkiye",
          "türkiye",
          "",
          "türkiye",
          "türkiye",
          "türkiye",
          "türkiye",
          "ukrayna",
          "ukrayna",
          "ukrayna",
          "",
          "ukrayna",
          "ukrayna",
          "ukrayna",
          "ukrayna",
          "ukrayna",
          "ukrayna",
          "ukrayna",
          "",
          "venezuela",
          "venezuela",
          "venezuela",
          "venezuela",
          "venezuela",
          "venezuela",
          "venezuela",
          "venezuela",
          "venezuela",
          "venezuela",
          "",
          "vietnam",
          "vietnam",
          "vietnam",
          "vietnam",
          "vietnam",
          "vietnam",
          "vietnam",
          "vietnam",
          "vietnam",
          "vietnam",
          "yeni zelanda",
          "yeni zelanda",
          "yeni zelanda",
          "yeni zelanda",
          "yeni zelanda",
          "yeni zelanda",
          "yeni zelanda",
          "yeni zelanda",
          "yeni zelanda",
          "yeni zelanda",
          "",
          "yunanistan",
          "yunanistan",
          "yunanistan",
          "yunanistan",
          "yunanistan",
          "yunanistan",
          "yunanistan",
          "yunanistan",
          "",
          "yunanistan",
          "yunanistan",
          "",
          "çin",
          "çin",
          "çin",
          "çin",
          "çin",
          "çin",
          "çin",
          "çin",
          "çin",
          "çin",
          "ırak",
          "ırak",
          "ırak",
          "ırak",
          "ırak",
          "ırak",
          "ırak",
          "ırak",
          "ırak",
          "",
          "ırak",
          "şili",
          "şili",
          "şili",
          "şili",
          "şili",
          "şili",
          "şili",
          "şili",
          "şili",
          "şili",
          ""
         ],
         "type": "treemap",
         "values": {
          "bdata": "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",
          "dtype": "f8"
         }
        }
       ],
       "layout": {
        "legend": {
         "tracegroupgap": 0
        },
        "margin": {
         "b": 25,
         "l": 25,
         "r": 25,
         "t": 50
        },
        "template": {
         "data": {
          "bar": [
           {
            "error_x": {
             "color": "#2a3f5f"
            },
            "error_y": {
             "color": "#2a3f5f"
            },
            "marker": {
             "line": {
              "color": "#E5ECF6",
              "width": 0.5
             },
             "pattern": {
              "fillmode": "overlay",
              "size": 10,
              "solidity": 0.2
             }
            },
            "type": "bar"
           }
          ],
          "barpolar": [
           {
            "marker": {
             "line": {
              "color": "#E5ECF6",
              "width": 0.5
             },
             "pattern": {
              "fillmode": "overlay",
              "size": 10,
              "solidity": 0.2
             }
            },
            "type": "barpolar"
           }
          ],
          "carpet": [
           {
            "aaxis": {
             "endlinecolor": "#2a3f5f",
             "gridcolor": "white",
             "linecolor": "white",
             "minorgridcolor": "white",
             "startlinecolor": "#2a3f5f"
            },
            "baxis": {
             "endlinecolor": "#2a3f5f",
             "gridcolor": "white",
             "linecolor": "white",
             "minorgridcolor": "white",
             "startlinecolor": "#2a3f5f"
            },
            "type": "carpet"
           }
          ],
          "choropleth": [
           {
            "colorbar": {
             "outlinewidth": 0,
             "ticks": ""
            },
            "type": "choropleth"
           }
          ],
          "contour": [
           {
            "colorbar": {
             "outlinewidth": 0,
             "ticks": ""
            },
            "colorscale": [
             [
              0,
              "#0d0887"
             ],
             [
              0.1111111111111111,
              "#46039f"
             ],
             [
              0.2222222222222222,
              "#7201a8"
             ],
             [
              0.3333333333333333,
              "#9c179e"
             ],
             [
              0.4444444444444444,
              "#bd3786"
             ],
             [
              0.5555555555555556,
              "#d8576b"
             ],
             [
              0.6666666666666666,
              "#ed7953"
             ],
             [
              0.7777777777777778,
              "#fb9f3a"
             ],
             [
              0.8888888888888888,
              "#fdca26"
             ],
             [
              1,
              "#f0f921"
             ]
            ],
            "type": "contour"
           }
          ],
          "contourcarpet": [
           {
            "colorbar": {
             "outlinewidth": 0,
             "ticks": ""
            },
            "type": "contourcarpet"
           }
          ],
          "heatmap": [
           {
            "colorbar": {
             "outlinewidth": 0,
             "ticks": ""
            },
            "colorscale": [
             [
              0,
              "#0d0887"
             ],
             [
              0.1111111111111111,
              "#46039f"
             ],
             [
              0.2222222222222222,
              "#7201a8"
             ],
             [
              0.3333333333333333,
              "#9c179e"
             ],
             [
              0.4444444444444444,
              "#bd3786"
             ],
             [
              0.5555555555555556,
              "#d8576b"
             ],
             [
              0.6666666666666666,
              "#ed7953"
             ],
             [
              0.7777777777777778,
              "#fb9f3a"
             ],
             [
              0.8888888888888888,
              "#fdca26"
             ],
             [
              1,
              "#f0f921"
             ]
            ],
            "type": "heatmap"
           }
          ],
          "histogram": [
           {
            "marker": {
             "pattern": {
              "fillmode": "overlay",
              "size": 10,
              "solidity": 0.2
             }
            },
            "type": "histogram"
           }
          ],
          "histogram2d": [
           {
            "colorbar": {
             "outlinewidth": 0,
             "ticks": ""
            },
            "colorscale": [
             [
              0,
              "#0d0887"
             ],
             [
              0.1111111111111111,
              "#46039f"
             ],
             [
              0.2222222222222222,
              "#7201a8"
             ],
             [
              0.3333333333333333,
              "#9c179e"
             ],
             [
              0.4444444444444444,
              "#bd3786"
             ],
             [
              0.5555555555555556,
              "#d8576b"
             ],
             [
              0.6666666666666666,
              "#ed7953"
             ],
             [
              0.7777777777777778,
              "#fb9f3a"
             ],
             [
              0.8888888888888888,
              "#fdca26"
             ],
             [
              1,
              "#f0f921"
             ]
            ],
            "type": "histogram2d"
           }
          ],
          "histogram2dcontour": [
           {
            "colorbar": {
             "outlinewidth": 0,
             "ticks": ""
            },
            "colorscale": [
             [
              0,
              "#0d0887"
             ],
             [
              0.1111111111111111,
              "#46039f"
             ],
             [
              0.2222222222222222,
              "#7201a8"
             ],
             [
              0.3333333333333333,
              "#9c179e"
             ],
             [
              0.4444444444444444,
              "#bd3786"
             ],
             [
              0.5555555555555556,
              "#d8576b"
             ],
             [
              0.6666666666666666,
              "#ed7953"
             ],
             [
              0.7777777777777778,
              "#fb9f3a"
             ],
             [
              0.8888888888888888,
              "#fdca26"
             ],
             [
              1,
              "#f0f921"
             ]
            ],
            "type": "histogram2dcontour"
           }
          ],
          "mesh3d": [
           {
            "colorbar": {
             "outlinewidth": 0,
             "ticks": ""
            },
            "type": "mesh3d"
           }
          ],
          "parcoords": [
           {
            "line": {
             "colorbar": {
              "outlinewidth": 0,
              "ticks": ""
             }
            },
            "type": "parcoords"
           }
          ],
          "pie": [
           {
            "automargin": true,
            "type": "pie"
           }
          ],
          "scatter": [
           {
            "fillpattern": {
             "fillmode": "overlay",
             "size": 10,
             "solidity": 0.2
            },
            "type": "scatter"
           }
          ],
          "scatter3d": [
           {
            "line": {
             "colorbar": {
              "outlinewidth": 0,
              "ticks": ""
             }
            },
            "marker": {
             "colorbar": {
              "outlinewidth": 0,
              "ticks": ""
             }
            },
            "type": "scatter3d"
           }
          ],
          "scattercarpet": [
           {
            "marker": {
             "colorbar": {
              "outlinewidth": 0,
              "ticks": ""
             }
            },
            "type": "scattercarpet"
           }
          ],
          "scattergeo": [
           {
            "marker": {
             "colorbar": {
              "outlinewidth": 0,
              "ticks": ""
             }
            },
            "type": "scattergeo"
           }
          ],
          "scattergl": [
           {
            "marker": {
             "colorbar": {
              "outlinewidth": 0,
              "ticks": ""
             }
            },
            "type": "scattergl"
           }
          ],
          "scattermap": [
           {
            "marker": {
             "colorbar": {
              "outlinewidth": 0,
              "ticks": ""
             }
            },
            "type": "scattermap"
           }
          ],
          "scattermapbox": [
           {
            "marker": {
             "colorbar": {
              "outlinewidth": 0,
              "ticks": ""
             }
            },
            "type": "scattermapbox"
           }
          ],
          "scatterpolar": [
           {
            "marker": {
             "colorbar": {
              "outlinewidth": 0,
              "ticks": ""
             }
            },
            "type": "scatterpolar"
           }
          ],
          "scatterpolargl": [
           {
            "marker": {
             "colorbar": {
              "outlinewidth": 0,
              "ticks": ""
             }
            },
            "type": "scatterpolargl"
           }
          ],
          "scatterternary": [
           {
            "marker": {
             "colorbar": {
              "outlinewidth": 0,
              "ticks": ""
             }
            },
            "type": "scatterternary"
           }
          ],
          "surface": [
           {
            "colorbar": {
             "outlinewidth": 0,
             "ticks": ""
            },
            "colorscale": [
             [
              0,
              "#0d0887"
             ],
             [
              0.1111111111111111,
              "#46039f"
             ],
             [
              0.2222222222222222,
              "#7201a8"
             ],
             [
              0.3333333333333333,
              "#9c179e"
             ],
             [
              0.4444444444444444,
              "#bd3786"
             ],
             [
              0.5555555555555556,
              "#d8576b"
             ],
             [
              0.6666666666666666,
              "#ed7953"
             ],
             [
              0.7777777777777778,
              "#fb9f3a"
             ],
             [
              0.8888888888888888,
              "#fdca26"
             ],
             [
              1,
              "#f0f921"
             ]
            ],
            "type": "surface"
           }
          ],
          "table": [
           {
            "cells": {
             "fill": {
              "color": "#EBF0F8"
             },
             "line": {
              "color": "white"
             }
            },
            "header": {
             "fill": {
              "color": "#C8D4E3"
             },
             "line": {
              "color": "white"
             }
            },
            "type": "table"
           }
          ]
         },
         "layout": {
          "annotationdefaults": {
           "arrowcolor": "#2a3f5f",
           "arrowhead": 0,
           "arrowwidth": 1
          },
          "autotypenumbers": "strict",
          "coloraxis": {
           "colorbar": {
            "outlinewidth": 0,
            "ticks": ""
           }
          },
          "colorscale": {
           "diverging": [
            [
             0,
             "#8e0152"
            ],
            [
             0.1,
             "#c51b7d"
            ],
            [
             0.2,
             "#de77ae"
            ],
            [
             0.3,
             "#f1b6da"
            ],
            [
             0.4,
             "#fde0ef"
            ],
            [
             0.5,
             "#f7f7f7"
            ],
            [
             0.6,
             "#e6f5d0"
            ],
            [
             0.7,
             "#b8e186"
            ],
            [
             0.8,
             "#7fbc41"
            ],
            [
             0.9,
             "#4d9221"
            ],
            [
             1,
             "#276419"
            ]
           ],
           "sequential": [
            [
             0,
             "#0d0887"
            ],
            [
             0.1111111111111111,
             "#46039f"
            ],
            [
             0.2222222222222222,
             "#7201a8"
            ],
            [
             0.3333333333333333,
             "#9c179e"
            ],
            [
             0.4444444444444444,
             "#bd3786"
            ],
            [
             0.5555555555555556,
             "#d8576b"
            ],
            [
             0.6666666666666666,
             "#ed7953"
            ],
            [
             0.7777777777777778,
             "#fb9f3a"
            ],
            [
             0.8888888888888888,
             "#fdca26"
            ],
            [
             1,
             "#f0f921"
            ]
           ],
           "sequentialminus": [
            [
             0,
             "#0d0887"
            ],
            [
             0.1111111111111111,
             "#46039f"
            ],
            [
             0.2222222222222222,
             "#7201a8"
            ],
            [
             0.3333333333333333,
             "#9c179e"
            ],
            [
             0.4444444444444444,
             "#bd3786"
            ],
            [
             0.5555555555555556,
             "#d8576b"
            ],
            [
             0.6666666666666666,
             "#ed7953"
            ],
            [
             0.7777777777777778,
             "#fb9f3a"
            ],
            [
             0.8888888888888888,
             "#fdca26"
            ],
            [
             1,
             "#f0f921"
            ]
           ]
          },
          "colorway": [
           "#636efa",
           "#EF553B",
           "#00cc96",
           "#ab63fa",
           "#FFA15A",
           "#19d3f3",
           "#FF6692",
           "#B6E880",
           "#FF97FF",
           "#FECB52"
          ],
          "font": {
           "color": "#2a3f5f"
          },
          "geo": {
           "bgcolor": "white",
           "lakecolor": "white",
           "landcolor": "#E5ECF6",
           "showlakes": true,
           "showland": true,
           "subunitcolor": "white"
          },
          "hoverlabel": {
           "align": "left"
          },
          "hovermode": "closest",
          "mapbox": {
           "style": "light"
          },
          "paper_bgcolor": "white",
          "plot_bgcolor": "#E5ECF6",
          "polar": {
           "angularaxis": {
            "gridcolor": "white",
            "linecolor": "white",
            "ticks": ""
           },
           "bgcolor": "#E5ECF6",
           "radialaxis": {
            "gridcolor": "white",
            "linecolor": "white",
            "ticks": ""
           }
          },
          "scene": {
           "xaxis": {
            "backgroundcolor": "#E5ECF6",
            "gridcolor": "white",
            "gridwidth": 2,
            "linecolor": "white",
            "showbackground": true,
            "ticks": "",
            "zerolinecolor": "white"
           },
           "yaxis": {
            "backgroundcolor": "#E5ECF6",
            "gridcolor": "white",
            "gridwidth": 2,
            "linecolor": "white",
            "showbackground": true,
            "ticks": "",
            "zerolinecolor": "white"
           },
           "zaxis": {
            "backgroundcolor": "#E5ECF6",
            "gridcolor": "white",
            "gridwidth": 2,
            "linecolor": "white",
            "showbackground": true,
            "ticks": "",
            "zerolinecolor": "white"
           }
          },
          "shapedefaults": {
           "line": {
            "color": "#2a3f5f"
           }
          },
          "ternary": {
           "aaxis": {
            "gridcolor": "white",
            "linecolor": "white",
            "ticks": ""
           },
           "baxis": {
            "gridcolor": "white",
            "linecolor": "white",
            "ticks": ""
           },
           "bgcolor": "#E5ECF6",
           "caxis": {
            "gridcolor": "white",
            "linecolor": "white",
            "ticks": ""
           }
          },
          "title": {
           "x": 0.05
          },
          "xaxis": {
           "automargin": true,
           "gridcolor": "white",
           "linecolor": "white",
           "ticks": "",
           "title": {
            "standoff": 15
           },
           "zerolinecolor": "white",
           "zerolinewidth": 2
          },
          "yaxis": {
           "automargin": true,
           "gridcolor": "white",
           "linecolor": "white",
           "ticks": "",
           "title": {
            "standoff": 15
           },
           "zerolinecolor": "white",
           "zerolinewidth": 2
          }
         }
        },
        "title": {
         "text": "Top Terms per Topic (Interactive Treemap)"
        },
        "treemapcolorway": [
         "rgb(141,211,199)",
         "rgb(255,255,179)",
         "rgb(190,186,218)",
         "rgb(251,128,114)",
         "rgb(128,177,211)",
         "rgb(253,180,98)",
         "rgb(179,222,105)",
         "rgb(252,205,229)",
         "rgb(217,217,217)",
         "rgb(188,128,189)",
         "rgb(204,235,197)",
         "rgb(255,237,111)"
        ]
       }
      }
     },
     "metadata": {},
     "output_type": "display_data"
    }
   ],
   "source": [
    "import plotly.express as px\n",
    "\n",
    "def plot_topic_terms_treemap(top_terms_df, n_terms=10, filter_terms=None):\n",
    "    \"\"\"Plot interactive treemap of top terms per topic.\"\"\"\n",
    "    if filter_terms:\n",
    "        data = top_terms_df[~top_terms_df['token'].isin(filter_terms)]\n",
    "    else:\n",
    "        data = top_terms_df\n",
    "        \n",
    "    data = data.groupby('topic').head(n_terms)\n",
    "    \n",
    "    fig = px.treemap(\n",
    "    data,\n",
    "    path=['topic', 'token'],\n",
    "    values='tfidf',\n",
    "    color='topic',\n",
    "    color_discrete_sequence=px.colors.qualitative.Set3,\n",
    "    title=\"Top Terms per Topic (Interactive Treemap)\"\n",
    ")\n",
    "    fig.update_layout(margin=dict(t=50, l=25, r=25, b=25))\n",
    "    fig.show()\n",
    "\n",
    "plot_topic_terms_treemap(top_terms, n_terms=10, filter_terms=FILTERED_TERMS)"
   ]
  },
  {
   "cell_type": "markdown",
   "metadata": {},
   "source": [
    "## 6. Analysis by Author (Optional)"
   ]
  },
  {
   "cell_type": "code",
   "execution_count": 8,
   "metadata": {},
   "outputs": [
    {
     "name": "stdout",
     "output_type": "stream",
     "text": [
      "Analyzing 649 authors with 20+ entries\n"
     ]
    },
    {
     "name": "stderr",
     "output_type": "stream",
     "text": [
      "/home/zk/miniconda3/envs/nlp.env/lib/python3.10/site-packages/sklearn/feature_extraction/text.py:517: UserWarning:\n",
      "\n",
      "The parameter 'token_pattern' will not be used since 'tokenizer' is not None'\n",
      "\n"
     ]
    },
    {
     "name": "stdout",
     "output_type": "stream",
     "text": [
      "TF-IDF processing time: 0.81 seconds\n",
      "Shape: 649 documents × 978 terms\n",
      "GPU acceleration: enabled\n",
      "\n",
      "Sample author-specific terms:\n",
      "  sanver: abd (0.176), analiz (0.138), siyasal (0.127), jeopolitik (0.125), ab (0.116)\n",
      "  bm778: abd (0.520), vs (0.240), ülkedir (0.233), çin (0.169), kendi (0.137)\n",
      "  osbirci31: amerika (0.257), filan (0.219), dolar (0.182), abd (0.178), sürekli (0.155)\n",
      "  buyuyup buyuk adam olacaktim: abd (0.599), trump (0.257), çin (0.229), avrupa (0.202), iyi (0.113)\n",
      "  sanfransiskolu mufettis: abd (0.404), çin (0.234), california (0.175), amerikan (0.170), dolar (0.146)\n"
     ]
    }
   ],
   "source": [
    "# Filter to top authors (with at least 20 entries)\n",
    "author_counts = df['author'].value_counts()\n",
    "top_authors = author_counts[author_counts >= 20].index\n",
    "\n",
    "df_top_authors = df[df['author'].isin(top_authors)].copy()\n",
    "df_top_authors['token_text'] = df_top_authors['tokens'].apply(lambda x: ' '.join(x))\n",
    "\n",
    "print(f\"Analyzing {len(top_authors)} authors with 20+ entries\")\n",
    "\n",
    "# Analyze by author\n",
    "analyzer_author = TfidfAnalyzer(min_df=2, max_features=1000, use_gpu=True)\n",
    "_, top_terms_by_author = analyze_by_group(\n",
    "    df=df_top_authors,\n",
    "    group_col='author',\n",
    "    text_col='token_text',\n",
    "    analyzer=analyzer_author,\n",
    "    top_n=10,\n",
    "    filter_terms=country_terms\n",
    ")\n",
    "\n",
    "# Show sample\n",
    "print(\"\\nSample author-specific terms:\")\n",
    "for author in top_authors[:5]:\n",
    "    terms = top_terms_by_author[top_terms_by_author['author'] == author].nlargest(5, 'tfidf')\n",
    "    terms_str = \", \".join([f\"{row['token']} ({row['tfidf']:.3f})\" for _, row in terms.iterrows()])\n",
    "    print(f\"  {author}: {terms_str}\")"
   ]
  },
  {
   "cell_type": "markdown",
   "metadata": {},
   "source": [
    "## 7. Export Results"
   ]
  },
  {
   "cell_type": "code",
   "execution_count": 9,
   "metadata": {},
   "outputs": [
    {
     "name": "stdout",
     "output_type": "stream",
     "text": [
      "Results exported to: top_tfidf_terms_by_topic_clean.csv\n",
      "Encoding: UTF-8 with BOM (Excel-compatible)\n"
     ]
    }
   ],
   "source": [
    "# Export top terms by topic with UTF-8 encoding\n",
    "output_file = \"top_tfidf_terms_by_topic_clean.csv\"\n",
    "top_terms.to_csv(output_file, index=False, encoding='utf-8-sig')\n",
    "print(f\"Results exported to: {output_file}\")\n",
    "print(f\"Encoding: UTF-8 with BOM (Excel-compatible)\")"
   ]
  },
  {
   "cell_type": "markdown",
   "metadata": {},
   "source": [
    "## 8. Extract Bigrams"
   ]
  },
  {
   "cell_type": "code",
   "execution_count": 14,
   "metadata": {},
   "outputs": [],
   "source": [
    "def extract_bigrams(tokens, min_freq=5):\n",
    "    bigram_list = list(bigrams(tokens))\n",
    "    \n",
    "    # Count bigrams\n",
    "    bigram_counts = Counter(bigram_list)\n",
    "    \n",
    "    # Filter by minimum frequency\n",
    "    filtered_bigrams = {b: c for b, c in bigram_counts.items() if c >= min_freq}\n",
    "    \n",
    "    # Convert to DataFrame\n",
    "    bigram_df = pd.DataFrame([\n",
    "        {\n",
    "            'bigram': ' '.join(bg), \n",
    "            'count': count, \n",
    "            'word1': bg[0], \n",
    "            'word2': bg[1]\n",
    "        }\n",
    "        for bg, count in filtered_bigrams.items()\n",
    "    ])\n",
    "    \n",
    "    return bigram_df.sort_values('count', ascending=False).reset_index(drop=True)\n"
   ]
  },
  {
   "cell_type": "markdown",
   "metadata": {},
   "source": [
    "## 9. Analyze Bigrams by Topic"
   ]
  },
  {
   "cell_type": "code",
   "execution_count": 15,
   "metadata": {},
   "outputs": [
    {
     "name": "stdout",
     "output_type": "stream",
     "text": [
      "Extracting bigrams for each topic...\n",
      "\n",
      "Bigram extraction complete!\n",
      "Topics analyzed: 39\n",
      "\n",
      "Bigrams per topic:\n",
      "  fransa: 1379 bigrams\n",
      "  rusya: 6659 bigrams\n",
      "  çin: 467 bigrams\n",
      "  kanada: 2601 bigrams\n",
      "  suudi arabistan: 944 bigrams\n",
      "  yunanistan: 4365 bigrams\n",
      "  şili: 111 bigrams\n",
      "  ermenistan: 1625 bigrams\n",
      "  iran: 5350 bigrams\n",
      "  israil: 11650 bigrams\n",
      "  somali: 173 bigrams\n",
      "  cezayir: 93 bigrams\n",
      "  kazakistan: 677 bigrams\n",
      "  moğolistan: 53 bigrams\n",
      "  lihtenştayn: 44 bigrams\n",
      "  yeni zelanda: 208 bigrams\n",
      "  angola: 19 bigrams\n",
      "  venezuela: 777 bigrams\n",
      "  el salvador: 42 bigrams\n",
      "  vietnam: 102 bigrams\n",
      "  japonya: 6421 bigrams\n",
      "  kuzey kore: 120 bigrams\n",
      "  güney kore: 752 bigrams\n",
      "  filistin: 1556 bigrams\n",
      "  ukrayna: 2940 bigrams\n",
      "  sırbistan: 215 bigrams\n",
      "  gürcistan: 558 bigrams\n",
      "  makedonya: 283 bigrams\n",
      "  bosna-hersek: 527 bigrams\n",
      "  isviçre: 938 bigrams\n",
      "  ırak: 269 bigrams\n",
      "  kürdistan: 683 bigrams\n",
      "  kıbrıs: 560 bigrams\n",
      "  suriye: 3294 bigrams\n",
      "  pakistan: 457 bigrams\n",
      "  hindistan: 972 bigrams\n",
      "  türkiye: 25846 bigrams\n",
      "  almanya: 18465 bigrams\n",
      "  amerika birleşik devletleri: 32514 bigrams\n"
     ]
    }
   ],
   "source": [
    "# Analyze bigrams by topic\n",
    "topic_bigrams = {}\n",
    "\n",
    "print(\"Extracting bigrams for each topic...\")\n",
    "for topic in df['topic'].unique():\n",
    "    # Get all tokens for this topic\n",
    "    topic_tokens = df[df['topic'] == topic]['tokens'].sum()\n",
    "    \n",
    "    # Extract bigrams (minimum frequency = 3)\n",
    "    bigram_df = extract_bigrams(topic_tokens, min_freq=3)\n",
    "    \n",
    "    # Store results\n",
    "    topic_bigrams[topic] = bigram_df\n",
    "\n",
    "# Show summary statistics\n",
    "print(f\"\\nBigram extraction complete!\")\n",
    "print(f\"Topics analyzed: {len(topic_bigrams)}\")\n",
    "print(f\"\\nBigrams per topic:\")\n",
    "for topic, bigrams in topic_bigrams.items():\n",
    "    print(f\"  {topic}: {len(bigrams)} bigrams\")\n"
   ]
  },
  {
   "cell_type": "code",
   "execution_count": null,
   "metadata": {},
   "outputs": [
    {
     "name": "stdout",
     "output_type": "stream",
     "text": [
      "Bigram analysis functions loaded successfully\n",
      "Available functions:\n",
      "  - extract_bigrams(tokens, min_freq=5)\n",
      "  - plot_bigram_network(bigram_df, n_bigrams=50, title='...')\n"
     ]
    }
   ],
   "source": [
    "def plot_bigram_network(bigram_df, n_bigrams=50, title=\"Top Bigrams Network\"):\n",
    "    \"\"\"\n",
    "    Create interactive network visualization of top bigrams using NetworkX and Plotly.\n",
    "    \n",
    "    Parameters:\n",
    "    -----------\n",
    "    bigram_df : pd.DataFrame\n",
    "        DataFrame with columns: word1, word2, count\n",
    "    n_bigrams : int, default=50\n",
    "        Number of top bigrams to visualize\n",
    "    title : str\n",
    "        Plot title\n",
    "    \"\"\"\n",
    "    # Get top N bigrams\n",
    "    top_bigrams = bigram_df.head(n_bigrams)\n",
    "    \n",
    "    if len(top_bigrams) == 0:\n",
    "        print(\"No bigrams to visualize\")\n",
    "        return\n",
    "    \n",
    "    G = nx.DiGraph()\n",
    "    \n",
    "    for _, row in top_bigrams.iterrows():\n",
    "        G.add_edge(row['word1'], row['word2'], weight=row['count'])\n",
    "    \n",
    "    pos = nx.spring_layout(G, k=0.5, iterations=50, seed=42)\n",
    "    \n",
    "    edge_trace = []\n",
    "    for edge in G.edges(data=True):\n",
    "        x0, y0 = pos[edge[0]]\n",
    "        x1, y1 = pos[edge[1]]\n",
    "        weight = edge[2]['weight']\n",
    "        \n",
    "        edge_trace.append(\n",
    "            go.Scatter(\n",
    "                x=[x0, x1, None],\n",
    "                y=[y0, y1, None],\n",
    "                mode='lines',\n",
    "                line=dict(width=np.log1p(weight) * 0.5, color='#888'),\n",
    "                hoverinfo='text',\n",
    "                text=f\"{edge[0]} → {edge[1]}: {weight}\",\n",
    "                showlegend=False\n",
    "            )\n",
    "        )\n",
    "    \n",
    "    node_x = []\n",
    "    node_y = []\n",
    "    node_text = []\n",
    "    node_size = []\n",
    "\n",
    "    for node in G.nodes():\n",
    "        x, y = pos[node]\n",
    "        node_x.append(x)\n",
    "        node_y.append(y)\n",
    "\n",
    "        degree = G.degree(node)\n",
    "        node_size.append(10 + degree * 3)\n",
    "        node_text.append(f\"{node}<br>Connections: {degree}\")\n",
    "        \n",
    "    node_trace = go.Scatter(\n",
    "        x=node_x,\n",
    "        y=node_y,\n",
    "        mode='markers+text',\n",
    "        marker=dict(\n",
    "            size=node_size,\n",
    "            color='lightblue',\n",
    "            line=dict(width=2, color='darkblue')\n",
    "        ),\n",
    "        text=[pos_node for pos_node in G.nodes()],\n",
    "        textposition=\"top center\",\n",
    "        hoverinfo='text',\n",
    "        hovertext=node_text,\n",
    "        showlegend=False\n",
    "    )\n",
    "    \n",
    "    fig = go.Figure(data=edge_trace + [node_trace])\n",
    "    \n",
    "    fig.update_layout(\n",
    "        title=title,\n",
    "        showlegend=False,\n",
    "        hovermode='closest',\n",
    "        margin=dict(b=20, l=5, r=5, t=40),\n",
    "        xaxis=dict(showgrid=False, zeroline=False, showticklabels=False),\n",
    "        yaxis=dict(showgrid=False, zeroline=False, showticklabels=False),\n",
    "        height=600,\n",
    "        plot_bgcolor='white'\n",
    "    )\n",
    "    \n",
    "    fig.show()\n",
    "\n",
    "\n",
    "print(\"Bigram analysis functions loaded successfully\")\n",
    "print(\"Available functions:\")\n",
    "print(\"  - extract_bigrams(tokens, min_freq=5)\")\n",
    "print(\"  - plot_bigram_network(bigram_df, n_bigrams=50, title='...')\")\n"
   ]
  },
  {
   "cell_type": "code",
   "execution_count": null,
   "metadata": {},
   "outputs": [
    {
     "data": {
      "application/vnd.plotly.v1+json": {
       "config": {
        "plotlyServerURL": "https://plot.ly"
       },
       "data": [
        {
         "hoverinfo": "text",
         "line": {
          "color": "#888",
          "width": 0.6931471805599453
         },
         "mode": "lines",
         "showlegend": false,
         "text": "aaa → aa: 3",
         "type": "scatter",
         "x": [
          0.04933343661551838,
          0.7975620460334744,
          null
         ],
         "y": [
          -0.11766593501077587,
          0.4938317036999662,
          null
         ]
        },
        {
         "hoverinfo": "text",
         "line": {
          "color": "#888",
          "width": 0.6931471805599453
         },
         "mode": "lines",
         "showlegend": false,
         "text": "aaa → bak: 3",
         "type": "scatter",
         "x": [
          0.04933343661551838,
          -0.6832364532064724,
          null
         ],
         "y": [
          -0.11766593501077587,
          -0.7215217054709019,
          null
         ]
        },
        {
         "hoverinfo": "text",
         "line": {
          "color": "#888",
          "width": 0.8047189562170501
         },
         "mode": "lines",
         "showlegend": false,
         "text": "aachen → makine: 4",
         "type": "scatter",
         "x": [
          0.18386968575288995,
          0.33238109084349393,
          null
         ],
         "y": [
          0.2270783062089326,
          0.8604249842442898,
          null
         ]
        },
        {
         "hoverinfo": "text",
         "line": {
          "color": "#888",
          "width": 0.6931471805599453
         },
         "mode": "lines",
         "showlegend": false,
         "text": "aachen → rwth: 3",
         "type": "scatter",
         "x": [
          0.18386968575288995,
          -0.7392420411683956,
          null
         ],
         "y": [
          0.2270783062089326,
          0.7578072558919628,
          null
         ]
        },
        {
         "hoverinfo": "text",
         "line": {
          "color": "#888",
          "width": 0.8047189562170501
         },
         "mode": "lines",
         "showlegend": false,
         "text": "aachen → teknik: 4",
         "type": "scatter",
         "x": [
          0.18386968575288995,
          0.7992369041586933,
          null
         ],
         "y": [
          0.2270783062089326,
          -0.5961693737599574,
          null
         ]
        },
        {
         "hoverinfo": "text",
         "line": {
          "color": "#888",
          "width": 0.6931471805599453
         },
         "mode": "lines",
         "showlegend": false,
         "text": "aamir → khan: 3",
         "type": "scatter",
         "x": [
          -0.5556716845770737,
          -0.6430843923473132,
          null
         ],
         "y": [
          0.33363782261614944,
          0.6071890258367028,
          null
         ]
        },
        {
         "hoverinfo": "text",
         "line": {
          "color": "#888",
          "width": 2.4414009612931853
         },
         "mode": "lines",
         "showlegend": false,
         "text": "ab → abd: 131",
         "type": "scatter",
         "x": [
          0.1119595252987641,
          0.18528965524432223,
          null
         ],
         "y": [
          -0.08287328114587447,
          -0.15176368445071176,
          null
         ]
        },
        {
         "hoverinfo": "text",
         "line": {
          "color": "#888",
          "width": 0.8958797346140275
         },
         "mode": "lines",
         "showlegend": false,
         "text": "ab → aeb: 5",
         "type": "scatter",
         "x": [
          0.1119595252987641,
          -0.8032457942951886,
          null
         ],
         "y": [
          -0.08287328114587447,
          -0.4134237716080268,
          null
         ]
        },
        {
         "hoverinfo": "text",
         "line": {
          "color": "#888",
          "width": 1.2424533248940002
         },
         "mode": "lines",
         "showlegend": false,
         "text": "ab → almanya: 11",
         "type": "scatter",
         "x": [
          0.1119595252987641,
          0.002774368733079872,
          null
         ],
         "y": [
          -0.08287328114587447,
          0.9397339134570888,
          null
         ]
        },
        {
         "hoverinfo": "text",
         "line": {
          "color": "#888",
          "width": 0.6931471805599453
         },
         "mode": "lines",
         "showlegend": false,
         "text": "ab → amerika: 3",
         "type": "scatter",
         "x": [
          0.1119595252987641,
          -0.9103268414040716,
          null
         ],
         "y": [
          -0.08287328114587447,
          0.1861378974483965,
          null
         ]
        },
        {
         "hoverinfo": "text",
         "line": {
          "color": "#888",
          "width": 1.0397207708399179
         },
         "mode": "lines",
         "showlegend": false,
         "text": "ab → arasında: 7",
         "type": "scatter",
         "x": [
          0.1119595252987641,
          0.07803293160000734,
          null
         ],
         "y": [
          -0.08287328114587447,
          -0.990291898675518,
          null
         ]
        },
        {
         "hoverinfo": "text",
         "line": {
          "color": "#888",
          "width": 0.6931471805599453
         },
         "mode": "lines",
         "showlegend": false,
         "text": "ab → arasındaki: 3",
         "type": "scatter",
         "x": [
          0.1119595252987641,
          0.28320657915214226,
          null
         ],
         "y": [
          -0.08287328114587447,
          -0.9157322852140876,
          null
         ]
        },
        {
         "hoverinfo": "text",
         "line": {
          "color": "#888",
          "width": 0.6931471805599453
         },
         "mode": "lines",
         "showlegend": false,
         "text": "ab → bel: 3",
         "type": "scatter",
         "x": [
          0.1119595252987641,
          -0.6013700456834072,
          null
         ],
         "y": [
          -0.08287328114587447,
          0.8513367417279115,
          null
         ]
        },
        {
         "hoverinfo": "text",
         "line": {
          "color": "#888",
          "width": 0.6931471805599453
         },
         "mode": "lines",
         "showlegend": false,
         "text": "ab → benzeri: 3",
         "type": "scatter",
         "x": [
          0.1119595252987641,
          0.9219430387911887,
          null
         ],
         "y": [
          -0.08287328114587447,
          0.4810801665796009,
          null
         ]
        },
        {
         "hoverinfo": "text",
         "line": {
          "color": "#888",
          "width": 0.6931471805599453
         },
         "mode": "lines",
         "showlegend": false,
         "text": "ab → bize: 3",
         "type": "scatter",
         "x": [
          0.1119595252987641,
          -0.4391191154739082,
          null
         ],
         "y": [
          -0.08287328114587447,
          -0.8789441236942533,
          null
         ]
        },
        {
         "hoverinfo": "text",
         "line": {
          "color": "#888",
          "width": 1.0397207708399179
         },
         "mode": "lines",
         "showlegend": false,
         "text": "ab → büyük: 7",
         "type": "scatter",
         "x": [
          0.1119595252987641,
          0.8671267824779636,
          null
         ],
         "y": [
          -0.08287328114587447,
          -0.2984893769210638,
          null
         ]
        },
        {
         "hoverinfo": "text",
         "line": {
          "color": "#888",
          "width": 1.2824746787307684
         },
         "mode": "lines",
         "showlegend": false,
         "text": "ab → deki: 12",
         "type": "scatter",
         "x": [
          0.1119595252987641,
          -0.9542504378641651,
          null
         ],
         "y": [
          -0.08287328114587447,
          0.04805071135638618,
          null
         ]
        },
        {
         "hoverinfo": "text",
         "line": {
          "color": "#888",
          "width": 1.7169936022425731
         },
         "mode": "lines",
         "showlegend": false,
         "text": "ab → den: 30",
         "type": "scatter",
         "x": [
          0.1119595252987641,
          -0.8087064893201719,
          null
         ],
         "y": [
          -0.08287328114587447,
          0.6535677965060954,
          null
         ]
        },
        {
         "hoverinfo": "text",
         "line": {
          "color": "#888",
          "width": 0.8047189562170501
         },
         "mode": "lines",
         "showlegend": false,
         "text": "ab → disindan: 4",
         "type": "scatter",
         "x": [
          0.1119595252987641,
          -0.5214438045470027,
          null
         ],
         "y": [
          -0.08287328114587447,
          0.7627272546639006,
          null
         ]
        },
        {
         "hoverinfo": "text",
         "line": {
          "color": "#888",
          "width": 0.6931471805599453
         },
         "mode": "lines",
         "showlegend": false,
         "text": "ab → doğu: 3",
         "type": "scatter",
         "x": [
          0.1119595252987641,
          -0.3064472884511149,
          null
         ],
         "y": [
          -0.08287328114587447,
          0.7678445429660102,
          null
         ]
        },
        {
         "hoverinfo": "text",
         "line": {
          "color": "#888",
          "width": 0.6931471805599453
         },
         "mode": "lines",
         "showlegend": false,
         "text": "ab → dışı: 3",
         "type": "scatter",
         "x": [
          0.1119595252987641,
          0.18622114926011946,
          null
         ],
         "y": [
          -0.08287328114587447,
          -0.9296247730700036,
          null
         ]
        },
        {
         "hoverinfo": "text",
         "line": {
          "color": "#888",
          "width": 1.0986122886681098
         },
         "mode": "lines",
         "showlegend": false,
         "text": "ab → dışından: 8",
         "type": "scatter",
         "x": [
          0.1119595252987641,
          0.9853726784061522,
          null
         ],
         "y": [
          -0.08287328114587447,
          0.3028562595743138,
          null
         ]
        },
        {
         "hoverinfo": "text",
         "line": {
          "color": "#888",
          "width": 0.6931471805599453
         },
         "mode": "lines",
         "showlegend": false,
         "text": "ab → ekonomik: 3",
         "type": "scatter",
         "x": [
          0.1119595252987641,
          0.711496793710109,
          null
         ],
         "y": [
          -0.08287328114587447,
          0.7698260577335665,
          null
         ]
        },
        {
         "hoverinfo": "text",
         "line": {
          "color": "#888",
          "width": 0.6931471805599453
         },
         "mode": "lines",
         "showlegend": false,
         "text": "ab → entegrasyon: 3",
         "type": "scatter",
         "x": [
          0.1119595252987641,
          0.13434794112655063,
          null
         ],
         "y": [
          -0.08287328114587447,
          0.9806160985946512,
          null
         ]
        },
        {
         "hoverinfo": "text",
         "line": {
          "color": "#888",
          "width": 0.9729550745276566
         },
         "mode": "lines",
         "showlegend": false,
         "text": "ab → ermenistan: 6",
         "type": "scatter",
         "x": [
          0.1119595252987641,
          -0.817228306175835,
          null
         ],
         "y": [
          -0.08287328114587447,
          -0.5760644780333428,
          null
         ]
        },
        {
         "hoverinfo": "text",
         "line": {
          "color": "#888",
          "width": 0.6931471805599453
         },
         "mode": "lines",
         "showlegend": false,
         "text": "ab → euro: 3",
         "type": "scatter",
         "x": [
          0.1119595252987641,
          -0.9678718831290175,
          null
         ],
         "y": [
          -0.08287328114587447,
          -0.20366045538367997,
          null
         ]
        },
        {
         "hoverinfo": "text",
         "line": {
          "color": "#888",
          "width": 0.6931471805599453
         },
         "mode": "lines",
         "showlegend": false,
         "text": "ab → eurozone: 3",
         "type": "scatter",
         "x": [
          0.1119595252987641,
          -0.34750214039853533,
          null
         ],
         "y": [
          -0.08287328114587447,
          -0.8491819244530786,
          null
         ]
        },
        {
         "hoverinfo": "text",
         "line": {
          "color": "#888",
          "width": 0.8047189562170501
         },
         "mode": "lines",
         "showlegend": false,
         "text": "ab → fonlarını: 4",
         "type": "scatter",
         "x": [
          0.1119595252987641,
          0.9498308761265025,
          null
         ],
         "y": [
          -0.08287328114587447,
          -0.20174863351179026,
          null
         ]
        },
        {
         "hoverinfo": "text",
         "line": {
          "color": "#888",
          "width": 0.8958797346140275
         },
         "mode": "lines",
         "showlegend": false,
         "text": "ab → gelen: 5",
         "type": "scatter",
         "x": [
          0.1119595252987641,
          -0.8443396869385071,
          null
         ],
         "y": [
          -0.08287328114587447,
          0.3129641229650206,
          null
         ]
        },
        {
         "hoverinfo": "text",
         "line": {
          "color": "#888",
          "width": 0.6931471805599453
         },
         "mode": "lines",
         "showlegend": false,
         "text": "ab → girmek: 3",
         "type": "scatter",
         "x": [
          0.1119595252987641,
          -0.6536636666989991,
          null
         ],
         "y": [
          -0.08287328114587447,
          0.7425525396323909,
          null
         ]
        },
        {
         "hoverinfo": "text",
         "line": {
          "color": "#888",
          "width": 0.6931471805599453
         },
         "mode": "lines",
         "showlegend": false,
         "text": "ab → girmesi: 3",
         "type": "scatter",
         "x": [
          0.1119595252987641,
          -0.383691693885883,
          null
         ],
         "y": [
          -0.08287328114587447,
          0.9677216744990651,
          null
         ]
        },
        {
         "hoverinfo": "text",
         "line": {
          "color": "#888",
          "width": 0.8047189562170501
         },
         "mode": "lines",
         "showlegend": false,
         "text": "ab → girmeye: 4",
         "type": "scatter",
         "x": [
          0.1119595252987641,
          0.6043982915669428,
          null
         ],
         "y": [
          -0.08287328114587447,
          -0.7751649679074399,
          null
         ]
        },
        {
         "hoverinfo": "text",
         "line": {
          "color": "#888",
          "width": 0.6931471805599453
         },
         "mode": "lines",
         "showlegend": false,
         "text": "ab → gümrük: 3",
         "type": "scatter",
         "x": [
          0.1119595252987641,
          -0.9450644895970027,
          null
         ],
         "y": [
          -0.08287328114587447,
          0.3911387667461693,
          null
         ]
        },
        {
         "hoverinfo": "text",
         "line": {
          "color": "#888",
          "width": 0.6931471805599453
         },
         "mode": "lines",
         "showlegend": false,
         "text": "ab → gürcistan: 3",
         "type": "scatter",
         "x": [
          0.1119595252987641,
          0.6094250478177337,
          null
         ],
         "y": [
          -0.08287328114587447,
          0.7352418408220852,
          null
         ]
        },
        {
         "hoverinfo": "text",
         "line": {
          "color": "#888",
          "width": 0.8047189562170501
         },
         "mode": "lines",
         "showlegend": false,
         "text": "ab → güçlü: 4",
         "type": "scatter",
         "x": [
          0.1119595252987641,
          0.5539037212900418,
          null
         ],
         "y": [
          -0.08287328114587447,
          -0.8512179140173939,
          null
         ]
        },
        {
         "hoverinfo": "text",
         "line": {
          "color": "#888",
          "width": 1.0397207708399179
         },
         "mode": "lines",
         "showlegend": false,
         "text": "ab → icinde: 7",
         "type": "scatter",
         "x": [
          0.1119595252987641,
          -0.014469283836336376,
          null
         ],
         "y": [
          -0.08287328114587447,
          -0.9620263098404263,
          null
         ]
        },
        {
         "hoverinfo": "text",
         "line": {
          "color": "#888",
          "width": 1.3195286648076294
         },
         "mode": "lines",
         "showlegend": false,
         "text": "ab → imf: 13",
         "type": "scatter",
         "x": [
          0.1119595252987641,
          0.9048138143437496,
          null
         ],
         "y": [
          -0.08287328114587447,
          0.38306035242167746,
          null
         ]
        },
        {
         "hoverinfo": "text",
         "line": {
          "color": "#888",
          "width": 0.8958797346140275
         },
         "mode": "lines",
         "showlegend": false,
         "text": "ab → iran: 5",
         "type": "scatter",
         "x": [
          0.1119595252987641,
          -0.1768968360663597,
          null
         ],
         "y": [
          -0.08287328114587447,
          -0.9740394538875397,
          null
         ]
        },
        {
         "hoverinfo": "text",
         "line": {
          "color": "#888",
          "width": 0.6931471805599453
         },
         "mode": "lines",
         "showlegend": false,
         "text": "ab → israil: 3",
         "type": "scatter",
         "x": [
          0.1119595252987641,
          -0.6547176356728712,
          null
         ],
         "y": [
          -0.08287328114587447,
          -0.6419892331842869,
          null
         ]
        },
        {
         "hoverinfo": "text",
         "line": {
          "color": "#888",
          "width": 0.8047189562170501
         },
         "mode": "lines",
         "showlegend": false,
         "text": "ab → içerisinde: 4",
         "type": "scatter",
         "x": [
          0.1119595252987641,
          0.6900572056779469,
          null
         ],
         "y": [
          -0.08287328114587447,
          0.6382708597220479,
          null
         ]
        },
        {
         "hoverinfo": "text",
         "line": {
          "color": "#888",
          "width": 0.6931471805599453
         },
         "mode": "lines",
         "showlegend": false,
         "text": "ab → içerisindeki: 3",
         "type": "scatter",
         "x": [
          0.1119595252987641,
          0.9835892203395273,
          null
         ],
         "y": [
          -0.08287328114587447,
          0.00006993354755345097,
          null
         ]
        },
        {
         "hoverinfo": "text",
         "line": {
          "color": "#888",
          "width": 0.8047189562170501
         },
         "mode": "lines",
         "showlegend": false,
         "text": "ab → karşıtı: 4",
         "type": "scatter",
         "x": [
          0.1119595252987641,
          -0.8685575030643637,
          null
         ],
         "y": [
          -0.08287328114587447,
          0.44486581473759107,
          null
         ]
        },
        {
         "hoverinfo": "text",
         "line": {
          "color": "#888",
          "width": 0.6931471805599453
         },
         "mode": "lines",
         "showlegend": false,
         "text": "ab → kendi: 3",
         "type": "scatter",
         "x": [
          0.1119595252987641,
          0.9042918756224612,
          null
         ],
         "y": [
          -0.08287328114587447,
          0.2735073839692968,
          null
         ]
        },
        {
         "hoverinfo": "text",
         "line": {
          "color": "#888",
          "width": 0.6931471805599453
         },
         "mode": "lines",
         "showlegend": false,
         "text": "ab → kendilerine: 3",
         "type": "scatter",
         "x": [
          0.1119595252987641,
          0.9420868328658133,
          null
         ],
         "y": [
          -0.08287328114587447,
          -0.07710294629244863,
          null
         ]
        },
        {
         "hoverinfo": "text",
         "line": {
          "color": "#888",
          "width": 0.8047189562170501
         },
         "mode": "lines",
         "showlegend": false,
         "text": "ab → komisyonu: 4",
         "type": "scatter",
         "x": [
          0.1119595252987641,
          0.7429080909542635,
          null
         ],
         "y": [
          -0.08287328114587447,
          0.40828083246935964,
          null
         ]
        },
        {
         "hoverinfo": "text",
         "line": {
          "color": "#888",
          "width": 0.6931471805599453
         },
         "mode": "lines",
         "showlegend": false,
         "text": "ab → lider: 3",
         "type": "scatter",
         "x": [
          0.1119595252987641,
          -0.7768135112718135,
          null
         ],
         "y": [
          -0.08287328114587447,
          -0.6850538569258637,
          null
         ]
        },
        {
         "hoverinfo": "text",
         "line": {
          "color": "#888",
          "width": 0.6931471805599453
         },
         "mode": "lines",
         "showlegend": false,
         "text": "ab → lokomotifi: 3",
         "type": "scatter",
         "x": [
          0.1119595252987641,
          -0.9552135552371024,
          null
         ],
         "y": [
          -0.08287328114587447,
          0.27114675354360335,
          null
         ]
        },
        {
         "hoverinfo": "text",
         "line": {
          "color": "#888",
          "width": 1.354025100551105
         },
         "mode": "lines",
         "showlegend": false,
         "text": "ab → merkez: 14",
         "type": "scatter",
         "x": [
          0.1119595252987641,
          -0.8430140840535753,
          null
         ],
         "y": [
          -0.08287328114587447,
          -0.03757642711440362,
          null
         ]
        },
        {
         "hoverinfo": "text",
         "line": {
          "color": "#888",
          "width": 0.8047189562170501
         },
         "mode": "lines",
         "showlegend": false,
         "text": "ab → müktesebatı: 4",
         "type": "scatter",
         "x": [
          0.1119595252987641,
          0.9312053062319712,
          null
         ],
         "y": [
          -0.08287328114587447,
          -0.3688396434599527,
          null
         ]
        },
        {
         "hoverinfo": "text",
         "line": {
          "color": "#888",
          "width": 0.8047189562170501
         },
         "mode": "lines",
         "showlegend": false,
         "text": "ab → müktesebatına: 4",
         "type": "scatter",
         "x": [
          0.1119595252987641,
          -0.10073742295126449,
          null
         ],
         "y": [
          -0.08287328114587447,
          0.9228595122414356,
          null
         ]
        },
        {
         "hoverinfo": "text",
         "line": {
          "color": "#888",
          "width": 1.9459101490553132
         },
         "mode": "lines",
         "showlegend": false,
         "text": "ab → nato: 48",
         "type": "scatter",
         "x": [
          0.1119595252987641,
          -0.5622268987894604,
          null
         ],
         "y": [
          -0.08287328114587447,
          -0.8275052332602378,
          null
         ]
        },
        {
         "hoverinfo": "text",
         "line": {
          "color": "#888",
          "width": 0.8047189562170501
         },
         "mode": "lines",
         "showlegend": false,
         "text": "ab → olmasa: 4",
         "type": "scatter",
         "x": [
          0.1119595252987641,
          -0.5982190195467139,
          null
         ],
         "y": [
          -0.08287328114587447,
          -0.7526773281166853,
          null
         ]
        },
        {
         "hoverinfo": "text",
         "line": {
          "color": "#888",
          "width": 1.2824746787307684
         },
         "mode": "lines",
         "showlegend": false,
         "text": "ab → ortaklık: 12",
         "type": "scatter",
         "x": [
          0.1119595252987641,
          0.7847765438442517,
          null
         ],
         "y": [
          -0.08287328114587447,
          0.665953720281973,
          null
         ]
        },
        {
         "hoverinfo": "text",
         "line": {
          "color": "#888",
          "width": 0.6931471805599453
         },
         "mode": "lines",
         "showlegend": false,
         "text": "ab → ortalamasının: 3",
         "type": "scatter",
         "x": [
          0.1119595252987641,
          0.27184144169785585,
          null
         ],
         "y": [
          -0.08287328114587447,
          0.9408454195351268,
          null
         ]
        },
        {
         "hoverinfo": "text",
         "line": {
          "color": "#888",
          "width": 0.6931471805599453
         },
         "mode": "lines",
         "showlegend": false,
         "text": "ab → pasaportu: 3",
         "type": "scatter",
         "x": [
          0.1119595252987641,
          0.6745971056596257,
          null
         ],
         "y": [
          -0.08287328114587447,
          -0.7307159610386397,
          null
         ]
        },
        {
         "hoverinfo": "text",
         "line": {
          "color": "#888",
          "width": 1.9459101490553132
         },
         "mode": "lines",
         "showlegend": false,
         "text": "ab → rusya: 48",
         "type": "scatter",
         "x": [
          0.1119595252987641,
          0.9824993481269291,
          null
         ],
         "y": [
          -0.08287328114587447,
          0.09200235802155043,
          null
         ]
        },
        {
         "hoverinfo": "text",
         "line": {
          "color": "#888",
          "width": 0.6931471805599453
         },
         "mode": "lines",
         "showlegend": false,
         "text": "ab → sayesinde: 3",
         "type": "scatter",
         "x": [
          0.1119595252987641,
          0.42614219049659513,
          null
         ],
         "y": [
          -0.08287328114587447,
          0.9160203796734919,
          null
         ]
        },
        {
         "hoverinfo": "text",
         "line": {
          "color": "#888",
          "width": 0.6931471805599453
         },
         "mode": "lines",
         "showlegend": false,
         "text": "ab → serbest: 3",
         "type": "scatter",
         "x": [
          0.1119595252987641,
          -0.27304013316490083,
          null
         ],
         "y": [
          -0.08287328114587447,
          -0.937571064182839,
          null
         ]
        },
        {
         "hoverinfo": "text",
         "line": {
          "color": "#888",
          "width": 0.8047189562170501
         },
         "mode": "lines",
         "showlegend": false,
         "text": "ab → tüm: 4",
         "type": "scatter",
         "x": [
          0.1119595252987641,
          -0.8917404965238723,
          null
         ],
         "y": [
          -0.08287328114587447,
          -0.2315605122560049,
          null
         ]
        },
        {
         "hoverinfo": "text",
         "line": {
          "color": "#888",
          "width": 1.629048269010741
         },
         "mode": "lines",
         "showlegend": false,
         "text": "ab → türkiye: 25",
         "type": "scatter",
         "x": [
          0.1119595252987641,
          0.5720043409408445,
          null
         ],
         "y": [
          -0.08287328114587447,
          0.831633599597254,
          null
         ]
        },
        {
         "hoverinfo": "text",
         "line": {
          "color": "#888",
          "width": 1.3862943611198906
         },
         "mode": "lines",
         "showlegend": false,
         "text": "ab → ukrayna: 15",
         "type": "scatter",
         "x": [
          0.1119595252987641,
          -0.9930008763598003,
          null
         ],
         "y": [
          -0.08287328114587447,
          -0.035139540430459915,
          null
         ]
        },
        {
         "hoverinfo": "text",
         "line": {
          "color": "#888",
          "width": 1.1989476363991853
         },
         "mode": "lines",
         "showlegend": false,
         "text": "ab → uyesi: 10",
         "type": "scatter",
         "x": [
          0.1119595252987641,
          -0.18142618150673978,
          null
         ],
         "y": [
          -0.08287328114587447,
          -0.9159984078758536,
          null
         ]
        },
        {
         "hoverinfo": "text",
         "line": {
          "color": "#888",
          "width": 1.6094379124341003
         },
         "mode": "lines",
         "showlegend": false,
         "text": "ab → uyum: 24",
         "type": "scatter",
         "x": [
          0.1119595252987641,
          -0.9139907523782185,
          null
         ],
         "y": [
          -0.08287328114587447,
          -0.31442490668614015,
          null
         ]
        },
        {
         "hoverinfo": "text",
         "line": {
          "color": "#888",
          "width": 1.1989476363991853
         },
         "mode": "lines",
         "showlegend": false,
         "text": "ab → vatandaşı: 10",
         "type": "scatter",
         "x": [
          0.1119595252987641,
          1,
          null
         ],
         "y": [
          -0.08287328114587447,
          -0.12560232960945172,
          null
         ]
        },
        {
         "hoverinfo": "text",
         "line": {
          "color": "#888",
          "width": 0.6931471805599453
         },
         "mode": "lines",
         "showlegend": false,
         "text": "ab → vize: 3",
         "type": "scatter",
         "x": [
          0.1119595252987641,
          0.08958591750212824,
          null
         ],
         "y": [
          -0.08287328114587447,
          0.9063722646024631,
          null
         ]
        },
        {
         "hoverinfo": "text",
         "line": {
          "color": "#888",
          "width": 1.4451858789480823
         },
         "mode": "lines",
         "showlegend": false,
         "text": "ab → yanlısı: 17",
         "type": "scatter",
         "x": [
          0.1119595252987641,
          -0.10491135524044812,
          null
         ],
         "y": [
          -0.08287328114587447,
          0.9977585851424386,
          null
         ]
        },
        {
         "hoverinfo": "text",
         "line": {
          "color": "#888",
          "width": 0.6931471805599453
         },
         "mode": "lines",
         "showlegend": false,
         "text": "ab → yardım: 3",
         "type": "scatter",
         "x": [
          0.1119595252987641,
          0.9843924597841228,
          null
         ],
         "y": [
          -0.08287328114587447,
          -0.28262737595653603,
          null
         ]
        },
        {
         "hoverinfo": "text",
         "line": {
          "color": "#888",
          "width": 2.302585092994046
         },
         "mode": "lines",
         "showlegend": false,
         "text": "ab → ye: 99",
         "type": "scatter",
         "x": [
          0.1119595252987641,
          0.5014637091432979,
          null
         ],
         "y": [
          -0.08287328114587447,
          -0.7302489917673765,
          null
         ]
        },
        {
         "hoverinfo": "text",
         "line": {
          "color": "#888",
          "width": 0.6931471805599453
         },
         "mode": "lines",
         "showlegend": false,
         "text": "ab → yeni: 3",
         "type": "scatter",
         "x": [
          0.1119595252987641,
          -0.36023341173367973,
          null
         ],
         "y": [
          -0.08287328114587447,
          -0.9384165644203557,
          null
         ]
        },
        {
         "hoverinfo": "text",
         "line": {
          "color": "#888",
          "width": 1.151292546497023
         },
         "mode": "lines",
         "showlegend": false,
         "text": "ab → yi: 9",
         "type": "scatter",
         "x": [
          0.1119595252987641,
          0.8827953154529026,
          null
         ],
         "y": [
          -0.08287328114587447,
          0.08376642567706226,
          null
         ]
        },
        {
         "hoverinfo": "text",
         "line": {
          "color": "#888",
          "width": 1.151292546497023
         },
         "mode": "lines",
         "showlegend": false,
         "text": "ab → yunanistan: 9",
         "type": "scatter",
         "x": [
          0.1119595252987641,
          -0.9120794810304906,
          null
         ],
         "y": [
          -0.08287328114587447,
          -0.40002827613057207,
          null
         ]
        },
        {
         "hoverinfo": "text",
         "line": {
          "color": "#888",
          "width": 0.6931471805599453
         },
         "mode": "lines",
         "showlegend": false,
         "text": "ab → yüksek: 3",
         "type": "scatter",
         "x": [
          0.1119595252987641,
          0.8615506591664056,
          null
         ],
         "y": [
          -0.08287328114587447,
          -0.5297825827288979,
          null
         ]
        },
        {
         "hoverinfo": "text",
         "line": {
          "color": "#888",
          "width": 0.6931471805599453
         },
         "mode": "lines",
         "showlegend": false,
         "text": "ab → çatısı: 3",
         "type": "scatter",
         "x": [
          0.1119595252987641,
          -0.9398601121644838,
          null
         ],
         "y": [
          -0.08287328114587447,
          -0.10964611994836554,
          null
         ]
        },
        {
         "hoverinfo": "text",
         "line": {
          "color": "#888",
          "width": 1.0986122886681098
         },
         "mode": "lines",
         "showlegend": false,
         "text": "ab → çin: 8",
         "type": "scatter",
         "x": [
          0.1119595252987641,
          0.9287719653159021,
          null
         ],
         "y": [
          -0.08287328114587447,
          -0.4581227743906925,
          null
         ]
        },
        {
         "hoverinfo": "text",
         "line": {
          "color": "#888",
          "width": 2.2213256282451583
         },
         "mode": "lines",
         "showlegend": false,
         "text": "ab → ülkeleri: 84",
         "type": "scatter",
         "x": [
          0.1119595252987641,
          0.44792056265216273,
          null
         ],
         "y": [
          -0.08287328114587447,
          0.8304521929630797,
          null
         ]
        },
        {
         "hoverinfo": "text",
         "line": {
          "color": "#888",
          "width": 1.3195286648076294
         },
         "mode": "lines",
         "showlegend": false,
         "text": "ab → ülkelerinde: 13",
         "type": "scatter",
         "x": [
          0.1119595252987641,
          -0.3755461868341658,
          null
         ],
         "y": [
          -0.08287328114587447,
          0.8658596437831813,
          null
         ]
        },
        {
         "hoverinfo": "text",
         "line": {
          "color": "#888",
          "width": 0.6931471805599453
         },
         "mode": "lines",
         "showlegend": false,
         "text": "ab → ülkelerinden: 3",
         "type": "scatter",
         "x": [
          0.1119595252987641,
          -0.19624771576795283,
          null
         ],
         "y": [
          -0.08287328114587447,
          0.8687671355715603,
          null
         ]
        },
        {
         "hoverinfo": "text",
         "line": {
          "color": "#888",
          "width": 1.3195286648076294
         },
         "mode": "lines",
         "showlegend": false,
         "text": "ab → ülkelerine: 13",
         "type": "scatter",
         "x": [
          0.1119595252987641,
          0.4958985504473455,
          null
         ],
         "y": [
          -0.08287328114587447,
          0.7283590246775834,
          null
         ]
        },
        {
         "hoverinfo": "text",
         "line": {
          "color": "#888",
          "width": 1.0397207708399179
         },
         "mode": "lines",
         "showlegend": false,
         "text": "ab → ülkelerini: 7",
         "type": "scatter",
         "x": [
          0.1119595252987641,
          -0.8415798491348695,
          null
         ],
         "y": [
          -0.08287328114587447,
          0.5521480190014162,
          null
         ]
        },
        {
         "hoverinfo": "text",
         "line": {
          "color": "#888",
          "width": 1.629048269010741
         },
         "mode": "lines",
         "showlegend": false,
         "text": "ab → ülkelerinin: 25",
         "type": "scatter",
         "x": [
          0.1119595252987641,
          -0.49133777652984467,
          null
         ],
         "y": [
          -0.08287328114587447,
          -0.8168790691586751,
          null
         ]
        },
        {
         "hoverinfo": "text",
         "line": {
          "color": "#888",
          "width": 1.416606672028108
         },
         "mode": "lines",
         "showlegend": false,
         "text": "ab → ülkesi: 16",
         "type": "scatter",
         "x": [
          0.1119595252987641,
          -0.9760507423952336,
          null
         ],
         "y": [
          -0.08287328114587447,
          0.13611430210682166,
          null
         ]
        },
        {
         "hoverinfo": "text",
         "line": {
          "color": "#888",
          "width": 1.1989476363991853
         },
         "mode": "lines",
         "showlegend": false,
         "text": "ab → üye: 10",
         "type": "scatter",
         "x": [
          0.1119595252987641,
          0.4332339160158953,
          null
         ],
         "y": [
          -0.08287328114587447,
          -0.919270302075822,
          null
         ]
        },
        {
         "hoverinfo": "text",
         "line": {
          "color": "#888",
          "width": 1.1989476363991853
         },
         "mode": "lines",
         "showlegend": false,
         "text": "ab → üyelik: 10",
         "type": "scatter",
         "x": [
          0.1119595252987641,
          0.07626514110065423,
          null
         ],
         "y": [
          -0.08287328114587447,
          -0.9280091571309192,
          null
         ]
        },
        {
         "hoverinfo": "text",
         "line": {
          "color": "#888",
          "width": 1.7005986908310777
         },
         "mode": "lines",
         "showlegend": false,
         "text": "ab → üyeliği: 29",
         "type": "scatter",
         "x": [
          0.1119595252987641,
          0.4601097170852236,
          null
         ],
         "y": [
          -0.08287328114587447,
          -0.8454166046977339,
          null
         ]
        },
        {
         "hoverinfo": "text",
         "line": {
          "color": "#888",
          "width": 0.8958797346140275
         },
         "mode": "lines",
         "showlegend": false,
         "text": "ab → üyeliğine: 5",
         "type": "scatter",
         "x": [
          0.1119595252987641,
          0.8012553889651173,
          null
         ],
         "y": [
          -0.08287328114587447,
          -0.46476681321603847,
          null
         ]
        },
        {
         "hoverinfo": "text",
         "line": {
          "color": "#888",
          "width": 2.359249435647547
         },
         "mode": "lines",
         "showlegend": false,
         "text": "ab → üyesi: 111",
         "type": "scatter",
         "x": [
          0.1119595252987641,
          0.7753741491928713,
          null
         ],
         "y": [
          -0.08287328114587447,
          -0.6918513803445908,
          null
         ]
        },
        {
         "hoverinfo": "text",
         "line": {
          "color": "#888",
          "width": 0.8047189562170501
         },
         "mode": "lines",
         "showlegend": false,
         "text": "ab → şımarık: 4",
         "type": "scatter",
         "x": [
          0.1119595252987641,
          -0.0872840943765655,
          null
         ],
         "y": [
          -0.08287328114587447,
          -0.9670767869474026,
          null
         ]
        },
        {
         "hoverinfo": "text",
         "line": {
          "color": "#888",
          "width": 2.5499332139120994
         },
         "mode": "lines",
         "showlegend": false,
         "text": "abd → ab: 163",
         "type": "scatter",
         "x": [
          0.18528965524432223,
          0.1119595252987641,
          null
         ],
         "y": [
          -0.15176368445071176,
          -0.08287328114587447,
          null
         ]
        },
        {
         "hoverinfo": "text",
         "line": {
          "color": "#888",
          "width": 2.1653666701431655
         },
         "mode": "lines",
         "showlegend": false,
         "text": "abd → abd: 75",
         "type": "scatter",
         "x": [
          0.18528965524432223,
          0.18528965524432223,
          null
         ],
         "y": [
          -0.15176368445071176,
          -0.15176368445071176,
          null
         ]
        },
        {
         "hoverinfo": "text",
         "line": {
          "color": "#888",
          "width": 0.6931471805599453
         },
         "mode": "lines",
         "showlegend": false,
         "text": "abd → abrams: 3",
         "type": "scatter",
         "x": [
          0.18528965524432223,
          0.701304003258428,
          null
         ],
         "y": [
          -0.15176368445071176,
          -0.6368320246952904,
          null
         ]
        },
        {
         "hoverinfo": "text",
         "line": {
          "color": "#888",
          "width": 1.0397207708399179
         },
         "mode": "lines",
         "showlegend": false,
         "text": "aba → altından: 7",
         "type": "scatter",
         "x": [
          -0.46112934373797054,
          -0.7657032886050406,
          null
         ],
         "y": [
          0.4223719635475272,
          0.5211598367149053,
          null
         ]
        },
        {
         "hoverinfo": "text",
         "line": {
          "color": "#888",
          "width": 0.6931471805599453
         },
         "mode": "lines",
         "showlegend": false,
         "text": "abartı → abartı: 3",
         "type": "scatter",
         "x": [
          0.9453739537224335,
          0.9453739537224335,
          null
         ],
         "y": [
          0.18093919387973434,
          0.18093919387973434,
          null
         ]
        },
        {
         "hoverinfo": "text",
         "line": {
          "color": "#888",
          "width": 0.6931471805599453
         },
         "mode": "lines",
         "showlegend": false,
         "text": "abartısız → söylüyorum: 3",
         "type": "scatter",
         "x": [
          -0.28932933297789376,
          -0.49113449975865564,
          null
         ],
         "y": [
          0.4897340314909003,
          0.8923788450133905,
          null
         ]
        },
        {
         "hoverinfo": "text",
         "line": {
          "color": "#888",
          "width": 0.8958797346140275
         },
         "mode": "lines",
         "showlegend": false,
         "text": "abat → olanın: 5",
         "type": "scatter",
         "x": [
          -0.2951956225671099,
          -0.7270229710380849,
          null
         ],
         "y": [
          -0.2914949436932223,
          -0.5321701342390238,
          null
         ]
        },
        {
         "hoverinfo": "text",
         "line": {
          "color": "#888",
          "width": 1.0397207708399179
         },
         "mode": "lines",
         "showlegend": false,
         "text": "abbas → hasgül: 7",
         "type": "scatter",
         "x": [
          0.3559213888155055,
          0.8363411862801089,
          null
         ],
         "y": [
          0.03025414467481994,
          0.5724362006946442,
          null
         ]
        },
        {
         "hoverinfo": "text",
         "line": {
          "color": "#888",
          "width": 0.6931471805599453
         },
         "mode": "lines",
         "showlegend": false,
         "text": "abbas → kiyarüstemi: 3",
         "type": "scatter",
         "x": [
          0.3559213888155055,
          0.3534023706462584,
          null
         ],
         "y": [
          0.03025414467481994,
          -0.9257272098274741,
          null
         ]
        },
        {
         "hoverinfo": "text",
         "line": {
          "color": "#888",
          "width": 0.6931471805599453
         },
         "mode": "lines",
         "showlegend": false,
         "text": "abbas → rum: 3",
         "type": "scatter",
         "x": [
          0.3559213888155055,
          -0.25384145962293453,
          null
         ],
         "y": [
          0.03025414467481994,
          0.9637275411236148,
          null
         ]
        },
        {
         "hoverinfo": "text",
         "line": {
          "color": "#888",
          "width": 0.6931471805599453
         },
         "mode": "lines",
         "showlegend": false,
         "text": "abbas → tır: 3",
         "type": "scatter",
         "x": [
          0.3559213888155055,
          0.208004465246019,
          null
         ],
         "y": [
          0.03025414467481994,
          -0.9882560291096495,
          null
         ]
        },
        {
         "hoverinfo": "text",
         "line": {
          "color": "#888",
          "width": 0.6931471805599453
         },
         "mode": "lines",
         "showlegend": false,
         "text": "abc → mart: 3",
         "type": "scatter",
         "x": [
          -0.30706898999708626,
          -0.8968452075140876,
          null
         ],
         "y": [
          0.2405709618419593,
          -0.5039755506970756,
          null
         ]
        },
        {
         "hoverinfo": "text",
         "line": {
          "color": "#888",
          "width": 0.8047189562170501
         },
         "mode": "lines",
         "showlegend": false,
         "text": "abc → news: 4",
         "type": "scatter",
         "x": [
          -0.30706898999708626,
          0.2044812060117443,
          null
         ],
         "y": [
          0.2405709618419593,
          0.8869077116251257,
          null
         ]
        },
        {
         "hoverinfo": "text",
         "hovertext": [
          "aaa<br>Connections: 2",
          "aa<br>Connections: 1",
          "bak<br>Connections: 1",
          "aachen<br>Connections: 3",
          "makine<br>Connections: 1",
          "rwth<br>Connections: 1",
          "teknik<br>Connections: 1",
          "aamir<br>Connections: 1",
          "khan<br>Connections: 1",
          "ab<br>Connections: 82",
          "abd<br>Connections: 5",
          "aeb<br>Connections: 1",
          "almanya<br>Connections: 1",
          "amerika<br>Connections: 1",
          "arasında<br>Connections: 1",
          "arasındaki<br>Connections: 1",
          "bel<br>Connections: 1",
          "benzeri<br>Connections: 1",
          "bize<br>Connections: 1",
          "büyük<br>Connections: 1",
          "deki<br>Connections: 1",
          "den<br>Connections: 1",
          "disindan<br>Connections: 1",
          "doğu<br>Connections: 1",
          "dışı<br>Connections: 1",
          "dışından<br>Connections: 1",
          "ekonomik<br>Connections: 1",
          "entegrasyon<br>Connections: 1",
          "ermenistan<br>Connections: 1",
          "euro<br>Connections: 1",
          "eurozone<br>Connections: 1",
          "fonlarını<br>Connections: 1",
          "gelen<br>Connections: 1",
          "girmek<br>Connections: 1",
          "girmesi<br>Connections: 1",
          "girmeye<br>Connections: 1",
          "gümrük<br>Connections: 1",
          "gürcistan<br>Connections: 1",
          "güçlü<br>Connections: 1",
          "icinde<br>Connections: 1",
          "imf<br>Connections: 1",
          "iran<br>Connections: 1",
          "israil<br>Connections: 1",
          "içerisinde<br>Connections: 1",
          "içerisindeki<br>Connections: 1",
          "karşıtı<br>Connections: 1",
          "kendi<br>Connections: 1",
          "kendilerine<br>Connections: 1",
          "komisyonu<br>Connections: 1",
          "lider<br>Connections: 1",
          "lokomotifi<br>Connections: 1",
          "merkez<br>Connections: 1",
          "müktesebatı<br>Connections: 1",
          "müktesebatına<br>Connections: 1",
          "nato<br>Connections: 1",
          "olmasa<br>Connections: 1",
          "ortaklık<br>Connections: 1",
          "ortalamasının<br>Connections: 1",
          "pasaportu<br>Connections: 1",
          "rusya<br>Connections: 1",
          "sayesinde<br>Connections: 1",
          "serbest<br>Connections: 1",
          "tüm<br>Connections: 1",
          "türkiye<br>Connections: 1",
          "ukrayna<br>Connections: 1",
          "uyesi<br>Connections: 1",
          "uyum<br>Connections: 1",
          "vatandaşı<br>Connections: 1",
          "vize<br>Connections: 1",
          "yanlısı<br>Connections: 1",
          "yardım<br>Connections: 1",
          "ye<br>Connections: 1",
          "yeni<br>Connections: 1",
          "yi<br>Connections: 1",
          "yunanistan<br>Connections: 1",
          "yüksek<br>Connections: 1",
          "çatısı<br>Connections: 1",
          "çin<br>Connections: 1",
          "ülkeleri<br>Connections: 1",
          "ülkelerinde<br>Connections: 1",
          "ülkelerinden<br>Connections: 1",
          "ülkelerine<br>Connections: 1",
          "ülkelerini<br>Connections: 1",
          "ülkelerinin<br>Connections: 1",
          "ülkesi<br>Connections: 1",
          "üye<br>Connections: 1",
          "üyelik<br>Connections: 1",
          "üyeliği<br>Connections: 1",
          "üyeliğine<br>Connections: 1",
          "üyesi<br>Connections: 1",
          "şımarık<br>Connections: 1",
          "aba<br>Connections: 1",
          "altından<br>Connections: 1",
          "abartı<br>Connections: 2",
          "abartısız<br>Connections: 1",
          "söylüyorum<br>Connections: 1",
          "abat<br>Connections: 1",
          "olanın<br>Connections: 1",
          "abbas<br>Connections: 4",
          "hasgül<br>Connections: 1",
          "kiyarüstemi<br>Connections: 1",
          "rum<br>Connections: 1",
          "tır<br>Connections: 1",
          "abc<br>Connections: 2",
          "mart<br>Connections: 1",
          "news<br>Connections: 1",
          "abrams<br>Connections: 1"
         ],
         "marker": {
          "color": "lightblue",
          "line": {
           "color": "darkblue",
           "width": 2
          },
          "size": [
           16,
           13,
           13,
           19,
           13,
           13,
           13,
           13,
           13,
           256,
           25,
           13,
           13,
           13,
           13,
           13,
           13,
           13,
           13,
           13,
           13,
           13,
           13,
           13,
           13,
           13,
           13,
           13,
           13,
           13,
           13,
           13,
           13,
           13,
           13,
           13,
           13,
           13,
           13,
           13,
           13,
           13,
           13,
           13,
           13,
           13,
           13,
           13,
           13,
           13,
           13,
           13,
           13,
           13,
           13,
           13,
           13,
           13,
           13,
           13,
           13,
           13,
           13,
           13,
           13,
           13,
           13,
           13,
           13,
           13,
           13,
           13,
           13,
           13,
           13,
           13,
           13,
           13,
           13,
           13,
           13,
           13,
           13,
           13,
           13,
           13,
           13,
           13,
           13,
           13,
           13,
           13,
           13,
           16,
           13,
           13,
           13,
           13,
           22,
           13,
           13,
           13,
           13,
           16,
           13,
           13,
           13
          ]
         },
         "mode": "markers+text",
         "showlegend": false,
         "text": [
          "aaa",
          "aa",
          "bak",
          "aachen",
          "makine",
          "rwth",
          "teknik",
          "aamir",
          "khan",
          "ab",
          "abd",
          "aeb",
          "almanya",
          "amerika",
          "arasında",
          "arasındaki",
          "bel",
          "benzeri",
          "bize",
          "büyük",
          "deki",
          "den",
          "disindan",
          "doğu",
          "dışı",
          "dışından",
          "ekonomik",
          "entegrasyon",
          "ermenistan",
          "euro",
          "eurozone",
          "fonlarını",
          "gelen",
          "girmek",
          "girmesi",
          "girmeye",
          "gümrük",
          "gürcistan",
          "güçlü",
          "icinde",
          "imf",
          "iran",
          "israil",
          "içerisinde",
          "içerisindeki",
          "karşıtı",
          "kendi",
          "kendilerine",
          "komisyonu",
          "lider",
          "lokomotifi",
          "merkez",
          "müktesebatı",
          "müktesebatına",
          "nato",
          "olmasa",
          "ortaklık",
          "ortalamasının",
          "pasaportu",
          "rusya",
          "sayesinde",
          "serbest",
          "tüm",
          "türkiye",
          "ukrayna",
          "uyesi",
          "uyum",
          "vatandaşı",
          "vize",
          "yanlısı",
          "yardım",
          "ye",
          "yeni",
          "yi",
          "yunanistan",
          "yüksek",
          "çatısı",
          "çin",
          "ülkeleri",
          "ülkelerinde",
          "ülkelerinden",
          "ülkelerine",
          "ülkelerini",
          "ülkelerinin",
          "ülkesi",
          "üye",
          "üyelik",
          "üyeliği",
          "üyeliğine",
          "üyesi",
          "şımarık",
          "aba",
          "altından",
          "abartı",
          "abartısız",
          "söylüyorum",
          "abat",
          "olanın",
          "abbas",
          "hasgül",
          "kiyarüstemi",
          "rum",
          "tır",
          "abc",
          "mart",
          "news",
          "abrams"
         ],
         "textposition": "top center",
         "type": "scatter",
         "x": [
          0.04933343661551838,
          0.7975620460334744,
          -0.6832364532064724,
          0.18386968575288995,
          0.33238109084349393,
          -0.7392420411683956,
          0.7992369041586933,
          -0.5556716845770737,
          -0.6430843923473132,
          0.1119595252987641,
          0.18528965524432223,
          -0.8032457942951886,
          0.002774368733079872,
          -0.9103268414040716,
          0.07803293160000734,
          0.28320657915214226,
          -0.6013700456834072,
          0.9219430387911887,
          -0.4391191154739082,
          0.8671267824779636,
          -0.9542504378641651,
          -0.8087064893201719,
          -0.5214438045470027,
          -0.3064472884511149,
          0.18622114926011946,
          0.9853726784061522,
          0.711496793710109,
          0.13434794112655063,
          -0.817228306175835,
          -0.9678718831290175,
          -0.34750214039853533,
          0.9498308761265025,
          -0.8443396869385071,
          -0.6536636666989991,
          -0.383691693885883,
          0.6043982915669428,
          -0.9450644895970027,
          0.6094250478177337,
          0.5539037212900418,
          -0.014469283836336376,
          0.9048138143437496,
          -0.1768968360663597,
          -0.6547176356728712,
          0.6900572056779469,
          0.9835892203395273,
          -0.8685575030643637,
          0.9042918756224612,
          0.9420868328658133,
          0.7429080909542635,
          -0.7768135112718135,
          -0.9552135552371024,
          -0.8430140840535753,
          0.9312053062319712,
          -0.10073742295126449,
          -0.5622268987894604,
          -0.5982190195467139,
          0.7847765438442517,
          0.27184144169785585,
          0.6745971056596257,
          0.9824993481269291,
          0.42614219049659513,
          -0.27304013316490083,
          -0.8917404965238723,
          0.5720043409408445,
          -0.9930008763598003,
          -0.18142618150673978,
          -0.9139907523782185,
          1,
          0.08958591750212824,
          -0.10491135524044812,
          0.9843924597841228,
          0.5014637091432979,
          -0.36023341173367973,
          0.8827953154529026,
          -0.9120794810304906,
          0.8615506591664056,
          -0.9398601121644838,
          0.9287719653159021,
          0.44792056265216273,
          -0.3755461868341658,
          -0.19624771576795283,
          0.4958985504473455,
          -0.8415798491348695,
          -0.49133777652984467,
          -0.9760507423952336,
          0.4332339160158953,
          0.07626514110065423,
          0.4601097170852236,
          0.8012553889651173,
          0.7753741491928713,
          -0.0872840943765655,
          -0.46112934373797054,
          -0.7657032886050406,
          0.9453739537224335,
          -0.28932933297789376,
          -0.49113449975865564,
          -0.2951956225671099,
          -0.7270229710380849,
          0.3559213888155055,
          0.8363411862801089,
          0.3534023706462584,
          -0.25384145962293453,
          0.208004465246019,
          -0.30706898999708626,
          -0.8968452075140876,
          0.2044812060117443,
          0.701304003258428
         ],
         "y": [
          -0.11766593501077587,
          0.4938317036999662,
          -0.7215217054709019,
          0.2270783062089326,
          0.8604249842442898,
          0.7578072558919628,
          -0.5961693737599574,
          0.33363782261614944,
          0.6071890258367028,
          -0.08287328114587447,
          -0.15176368445071176,
          -0.4134237716080268,
          0.9397339134570888,
          0.1861378974483965,
          -0.990291898675518,
          -0.9157322852140876,
          0.8513367417279115,
          0.4810801665796009,
          -0.8789441236942533,
          -0.2984893769210638,
          0.04805071135638618,
          0.6535677965060954,
          0.7627272546639006,
          0.7678445429660102,
          -0.9296247730700036,
          0.3028562595743138,
          0.7698260577335665,
          0.9806160985946512,
          -0.5760644780333428,
          -0.20366045538367997,
          -0.8491819244530786,
          -0.20174863351179026,
          0.3129641229650206,
          0.7425525396323909,
          0.9677216744990651,
          -0.7751649679074399,
          0.3911387667461693,
          0.7352418408220852,
          -0.8512179140173939,
          -0.9620263098404263,
          0.38306035242167746,
          -0.9740394538875397,
          -0.6419892331842869,
          0.6382708597220479,
          0.00006993354755345097,
          0.44486581473759107,
          0.2735073839692968,
          -0.07710294629244863,
          0.40828083246935964,
          -0.6850538569258637,
          0.27114675354360335,
          -0.03757642711440362,
          -0.3688396434599527,
          0.9228595122414356,
          -0.8275052332602378,
          -0.7526773281166853,
          0.665953720281973,
          0.9408454195351268,
          -0.7307159610386397,
          0.09200235802155043,
          0.9160203796734919,
          -0.937571064182839,
          -0.2315605122560049,
          0.831633599597254,
          -0.035139540430459915,
          -0.9159984078758536,
          -0.31442490668614015,
          -0.12560232960945172,
          0.9063722646024631,
          0.9977585851424386,
          -0.28262737595653603,
          -0.7302489917673765,
          -0.9384165644203557,
          0.08376642567706226,
          -0.40002827613057207,
          -0.5297825827288979,
          -0.10964611994836554,
          -0.4581227743906925,
          0.8304521929630797,
          0.8658596437831813,
          0.8687671355715603,
          0.7283590246775834,
          0.5521480190014162,
          -0.8168790691586751,
          0.13611430210682166,
          -0.919270302075822,
          -0.9280091571309192,
          -0.8454166046977339,
          -0.46476681321603847,
          -0.6918513803445908,
          -0.9670767869474026,
          0.4223719635475272,
          0.5211598367149053,
          0.18093919387973434,
          0.4897340314909003,
          0.8923788450133905,
          -0.2914949436932223,
          -0.5321701342390238,
          0.03025414467481994,
          0.5724362006946442,
          -0.9257272098274741,
          0.9637275411236148,
          -0.9882560291096495,
          0.2405709618419593,
          -0.5039755506970756,
          0.8869077116251257,
          -0.6368320246952904
         ]
        }
       ],
       "layout": {
        "height": 600,
        "hovermode": "closest",
        "margin": {
         "b": 20,
         "l": 5,
         "r": 5,
         "t": 40
        },
        "plot_bgcolor": "white",
        "showlegend": false,
        "template": {
         "data": {
          "bar": [
           {
            "error_x": {
             "color": "#2a3f5f"
            },
            "error_y": {
             "color": "#2a3f5f"
            },
            "marker": {
             "line": {
              "color": "#E5ECF6",
              "width": 0.5
             },
             "pattern": {
              "fillmode": "overlay",
              "size": 10,
              "solidity": 0.2
             }
            },
            "type": "bar"
           }
          ],
          "barpolar": [
           {
            "marker": {
             "line": {
              "color": "#E5ECF6",
              "width": 0.5
             },
             "pattern": {
              "fillmode": "overlay",
              "size": 10,
              "solidity": 0.2
             }
            },
            "type": "barpolar"
           }
          ],
          "carpet": [
           {
            "aaxis": {
             "endlinecolor": "#2a3f5f",
             "gridcolor": "white",
             "linecolor": "white",
             "minorgridcolor": "white",
             "startlinecolor": "#2a3f5f"
            },
            "baxis": {
             "endlinecolor": "#2a3f5f",
             "gridcolor": "white",
             "linecolor": "white",
             "minorgridcolor": "white",
             "startlinecolor": "#2a3f5f"
            },
            "type": "carpet"
           }
          ],
          "choropleth": [
           {
            "colorbar": {
             "outlinewidth": 0,
             "ticks": ""
            },
            "type": "choropleth"
           }
          ],
          "contour": [
           {
            "colorbar": {
             "outlinewidth": 0,
             "ticks": ""
            },
            "colorscale": [
             [
              0,
              "#0d0887"
             ],
             [
              0.1111111111111111,
              "#46039f"
             ],
             [
              0.2222222222222222,
              "#7201a8"
             ],
             [
              0.3333333333333333,
              "#9c179e"
             ],
             [
              0.4444444444444444,
              "#bd3786"
             ],
             [
              0.5555555555555556,
              "#d8576b"
             ],
             [
              0.6666666666666666,
              "#ed7953"
             ],
             [
              0.7777777777777778,
              "#fb9f3a"
             ],
             [
              0.8888888888888888,
              "#fdca26"
             ],
             [
              1,
              "#f0f921"
             ]
            ],
            "type": "contour"
           }
          ],
          "contourcarpet": [
           {
            "colorbar": {
             "outlinewidth": 0,
             "ticks": ""
            },
            "type": "contourcarpet"
           }
          ],
          "heatmap": [
           {
            "colorbar": {
             "outlinewidth": 0,
             "ticks": ""
            },
            "colorscale": [
             [
              0,
              "#0d0887"
             ],
             [
              0.1111111111111111,
              "#46039f"
             ],
             [
              0.2222222222222222,
              "#7201a8"
             ],
             [
              0.3333333333333333,
              "#9c179e"
             ],
             [
              0.4444444444444444,
              "#bd3786"
             ],
             [
              0.5555555555555556,
              "#d8576b"
             ],
             [
              0.6666666666666666,
              "#ed7953"
             ],
             [
              0.7777777777777778,
              "#fb9f3a"
             ],
             [
              0.8888888888888888,
              "#fdca26"
             ],
             [
              1,
              "#f0f921"
             ]
            ],
            "type": "heatmap"
           }
          ],
          "histogram": [
           {
            "marker": {
             "pattern": {
              "fillmode": "overlay",
              "size": 10,
              "solidity": 0.2
             }
            },
            "type": "histogram"
           }
          ],
          "histogram2d": [
           {
            "colorbar": {
             "outlinewidth": 0,
             "ticks": ""
            },
            "colorscale": [
             [
              0,
              "#0d0887"
             ],
             [
              0.1111111111111111,
              "#46039f"
             ],
             [
              0.2222222222222222,
              "#7201a8"
             ],
             [
              0.3333333333333333,
              "#9c179e"
             ],
             [
              0.4444444444444444,
              "#bd3786"
             ],
             [
              0.5555555555555556,
              "#d8576b"
             ],
             [
              0.6666666666666666,
              "#ed7953"
             ],
             [
              0.7777777777777778,
              "#fb9f3a"
             ],
             [
              0.8888888888888888,
              "#fdca26"
             ],
             [
              1,
              "#f0f921"
             ]
            ],
            "type": "histogram2d"
           }
          ],
          "histogram2dcontour": [
           {
            "colorbar": {
             "outlinewidth": 0,
             "ticks": ""
            },
            "colorscale": [
             [
              0,
              "#0d0887"
             ],
             [
              0.1111111111111111,
              "#46039f"
             ],
             [
              0.2222222222222222,
              "#7201a8"
             ],
             [
              0.3333333333333333,
              "#9c179e"
             ],
             [
              0.4444444444444444,
              "#bd3786"
             ],
             [
              0.5555555555555556,
              "#d8576b"
             ],
             [
              0.6666666666666666,
              "#ed7953"
             ],
             [
              0.7777777777777778,
              "#fb9f3a"
             ],
             [
              0.8888888888888888,
              "#fdca26"
             ],
             [
              1,
              "#f0f921"
             ]
            ],
            "type": "histogram2dcontour"
           }
          ],
          "mesh3d": [
           {
            "colorbar": {
             "outlinewidth": 0,
             "ticks": ""
            },
            "type": "mesh3d"
           }
          ],
          "parcoords": [
           {
            "line": {
             "colorbar": {
              "outlinewidth": 0,
              "ticks": ""
             }
            },
            "type": "parcoords"
           }
          ],
          "pie": [
           {
            "automargin": true,
            "type": "pie"
           }
          ],
          "scatter": [
           {
            "fillpattern": {
             "fillmode": "overlay",
             "size": 10,
             "solidity": 0.2
            },
            "type": "scatter"
           }
          ],
          "scatter3d": [
           {
            "line": {
             "colorbar": {
              "outlinewidth": 0,
              "ticks": ""
             }
            },
            "marker": {
             "colorbar": {
              "outlinewidth": 0,
              "ticks": ""
             }
            },
            "type": "scatter3d"
           }
          ],
          "scattercarpet": [
           {
            "marker": {
             "colorbar": {
              "outlinewidth": 0,
              "ticks": ""
             }
            },
            "type": "scattercarpet"
           }
          ],
          "scattergeo": [
           {
            "marker": {
             "colorbar": {
              "outlinewidth": 0,
              "ticks": ""
             }
            },
            "type": "scattergeo"
           }
          ],
          "scattergl": [
           {
            "marker": {
             "colorbar": {
              "outlinewidth": 0,
              "ticks": ""
             }
            },
            "type": "scattergl"
           }
          ],
          "scattermap": [
           {
            "marker": {
             "colorbar": {
              "outlinewidth": 0,
              "ticks": ""
             }
            },
            "type": "scattermap"
           }
          ],
          "scattermapbox": [
           {
            "marker": {
             "colorbar": {
              "outlinewidth": 0,
              "ticks": ""
             }
            },
            "type": "scattermapbox"
           }
          ],
          "scatterpolar": [
           {
            "marker": {
             "colorbar": {
              "outlinewidth": 0,
              "ticks": ""
             }
            },
            "type": "scatterpolar"
           }
          ],
          "scatterpolargl": [
           {
            "marker": {
             "colorbar": {
              "outlinewidth": 0,
              "ticks": ""
             }
            },
            "type": "scatterpolargl"
           }
          ],
          "scatterternary": [
           {
            "marker": {
             "colorbar": {
              "outlinewidth": 0,
              "ticks": ""
             }
            },
            "type": "scatterternary"
           }
          ],
          "surface": [
           {
            "colorbar": {
             "outlinewidth": 0,
             "ticks": ""
            },
            "colorscale": [
             [
              0,
              "#0d0887"
             ],
             [
              0.1111111111111111,
              "#46039f"
             ],
             [
              0.2222222222222222,
              "#7201a8"
             ],
             [
              0.3333333333333333,
              "#9c179e"
             ],
             [
              0.4444444444444444,
              "#bd3786"
             ],
             [
              0.5555555555555556,
              "#d8576b"
             ],
             [
              0.6666666666666666,
              "#ed7953"
             ],
             [
              0.7777777777777778,
              "#fb9f3a"
             ],
             [
              0.8888888888888888,
              "#fdca26"
             ],
             [
              1,
              "#f0f921"
             ]
            ],
            "type": "surface"
           }
          ],
          "table": [
           {
            "cells": {
             "fill": {
              "color": "#EBF0F8"
             },
             "line": {
              "color": "white"
             }
            },
            "header": {
             "fill": {
              "color": "#C8D4E3"
             },
             "line": {
              "color": "white"
             }
            },
            "type": "table"
           }
          ]
         },
         "layout": {
          "annotationdefaults": {
           "arrowcolor": "#2a3f5f",
           "arrowhead": 0,
           "arrowwidth": 1
          },
          "autotypenumbers": "strict",
          "coloraxis": {
           "colorbar": {
            "outlinewidth": 0,
            "ticks": ""
           }
          },
          "colorscale": {
           "diverging": [
            [
             0,
             "#8e0152"
            ],
            [
             0.1,
             "#c51b7d"
            ],
            [
             0.2,
             "#de77ae"
            ],
            [
             0.3,
             "#f1b6da"
            ],
            [
             0.4,
             "#fde0ef"
            ],
            [
             0.5,
             "#f7f7f7"
            ],
            [
             0.6,
             "#e6f5d0"
            ],
            [
             0.7,
             "#b8e186"
            ],
            [
             0.8,
             "#7fbc41"
            ],
            [
             0.9,
             "#4d9221"
            ],
            [
             1,
             "#276419"
            ]
           ],
           "sequential": [
            [
             0,
             "#0d0887"
            ],
            [
             0.1111111111111111,
             "#46039f"
            ],
            [
             0.2222222222222222,
             "#7201a8"
            ],
            [
             0.3333333333333333,
             "#9c179e"
            ],
            [
             0.4444444444444444,
             "#bd3786"
            ],
            [
             0.5555555555555556,
             "#d8576b"
            ],
            [
             0.6666666666666666,
             "#ed7953"
            ],
            [
             0.7777777777777778,
             "#fb9f3a"
            ],
            [
             0.8888888888888888,
             "#fdca26"
            ],
            [
             1,
             "#f0f921"
            ]
           ],
           "sequentialminus": [
            [
             0,
             "#0d0887"
            ],
            [
             0.1111111111111111,
             "#46039f"
            ],
            [
             0.2222222222222222,
             "#7201a8"
            ],
            [
             0.3333333333333333,
             "#9c179e"
            ],
            [
             0.4444444444444444,
             "#bd3786"
            ],
            [
             0.5555555555555556,
             "#d8576b"
            ],
            [
             0.6666666666666666,
             "#ed7953"
            ],
            [
             0.7777777777777778,
             "#fb9f3a"
            ],
            [
             0.8888888888888888,
             "#fdca26"
            ],
            [
             1,
             "#f0f921"
            ]
           ]
          },
          "colorway": [
           "#636efa",
           "#EF553B",
           "#00cc96",
           "#ab63fa",
           "#FFA15A",
           "#19d3f3",
           "#FF6692",
           "#B6E880",
           "#FF97FF",
           "#FECB52"
          ],
          "font": {
           "color": "#2a3f5f"
          },
          "geo": {
           "bgcolor": "white",
           "lakecolor": "white",
           "landcolor": "#E5ECF6",
           "showlakes": true,
           "showland": true,
           "subunitcolor": "white"
          },
          "hoverlabel": {
           "align": "left"
          },
          "hovermode": "closest",
          "mapbox": {
           "style": "light"
          },
          "paper_bgcolor": "white",
          "plot_bgcolor": "#E5ECF6",
          "polar": {
           "angularaxis": {
            "gridcolor": "white",
            "linecolor": "white",
            "ticks": ""
           },
           "bgcolor": "#E5ECF6",
           "radialaxis": {
            "gridcolor": "white",
            "linecolor": "white",
            "ticks": ""
           }
          },
          "scene": {
           "xaxis": {
            "backgroundcolor": "#E5ECF6",
            "gridcolor": "white",
            "gridwidth": 2,
            "linecolor": "white",
            "showbackground": true,
            "ticks": "",
            "zerolinecolor": "white"
           },
           "yaxis": {
            "backgroundcolor": "#E5ECF6",
            "gridcolor": "white",
            "gridwidth": 2,
            "linecolor": "white",
            "showbackground": true,
            "ticks": "",
            "zerolinecolor": "white"
           },
           "zaxis": {
            "backgroundcolor": "#E5ECF6",
            "gridcolor": "white",
            "gridwidth": 2,
            "linecolor": "white",
            "showbackground": true,
            "ticks": "",
            "zerolinecolor": "white"
           }
          },
          "shapedefaults": {
           "line": {
            "color": "#2a3f5f"
           }
          },
          "ternary": {
           "aaxis": {
            "gridcolor": "white",
            "linecolor": "white",
            "ticks": ""
           },
           "baxis": {
            "gridcolor": "white",
            "linecolor": "white",
            "ticks": ""
           },
           "bgcolor": "#E5ECF6",
           "caxis": {
            "gridcolor": "white",
            "linecolor": "white",
            "ticks": ""
           }
          },
          "title": {
           "x": 0.05
          },
          "xaxis": {
           "automargin": true,
           "gridcolor": "white",
           "linecolor": "white",
           "ticks": "",
           "title": {
            "standoff": 15
           },
           "zerolinecolor": "white",
           "zerolinewidth": 2
          },
          "yaxis": {
           "automargin": true,
           "gridcolor": "white",
           "linecolor": "white",
           "ticks": "",
           "title": {
            "standoff": 15
           },
           "zerolinecolor": "white",
           "zerolinewidth": 2
          }
         }
        },
        "title": {
         "text": "Combined Bigram Network Across All Countries"
        },
        "xaxis": {
         "showgrid": false,
         "showticklabels": false,
         "zeroline": false
        },
        "yaxis": {
         "showgrid": false,
         "showticklabels": false,
         "zeroline": false
        }
       }
      }
     },
     "metadata": {},
     "output_type": "display_data"
    }
   ],
   "source": [
    "# Create combined bigram DataFrame\n",
    "all_bigrams = []\n",
    "for topic, bigram_df in topic_bigrams.items():\n",
    "    # Add topic column to track source\n",
    "    topic_bigrams_with_source = bigram_df.copy()\n",
    "    topic_bigrams_with_source['topic'] = topic\n",
    "    all_bigrams.append(topic_bigrams_with_source)\n",
    "\n",
    "# Combine all bigrams\n",
    "combined_df = pd.concat(all_bigrams, ignore_index=True)\n",
    "\n",
    "# Aggregate counts across topics\n",
    "aggregated_df = (combined_df\n",
    "    .groupby(['word1', 'word2'])\n",
    "    .agg({\n",
    "        'count': 'sum',\n",
    "        'topic': lambda x: ' | '.join(sorted(set(x)))  # Keep track of source topics\n",
    "    })\n",
    "    .reset_index())\n",
    "\n",
    "# Create the network visualization\n",
    "plot_bigram_network(\n",
    "    bigram_df=aggregated_df,\n",
    "    n_bigrams=100,  # Increase for more comprehensive view\n",
    "    title=\"Combined Bigram Network Across All Countries\"\n",
    ")\n"
   ]
  },
  {
   "cell_type": "code",
   "execution_count": 18,
   "metadata": {},
   "outputs": [
    {
     "data": {
      "application/vnd.plotly.v1+json": {
       "config": {
        "plotlyServerURL": "https://plot.ly"
       },
       "data": [
        {
         "hoverinfo": "text",
         "line": {
          "color": "#888",
          "width": 2.8919125911648687
         },
         "mode": "lines",
         "showlegend": false,
         "text": "güzel → ülkem: 324",
         "type": "scatter",
         "x": [
          0.7464614904432755,
          0.829287205641869,
          null
         ],
         "y": [
          0.3831722172846394,
          0.43427013814704307,
          null
         ]
        },
        {
         "hoverinfo": "text",
         "line": {
          "color": "#888",
          "width": 2.84517972716203
         },
         "mode": "lines",
         "showlegend": false,
         "text": "türkiye → cumhuriyeti: 295",
         "type": "scatter",
         "x": [
          -0.6761253574210359,
          -0.8697318511410335,
          null
         ],
         "y": [
          0.3547595367205247,
          0.3590014256789297,
          null
         ]
        },
        {
         "hoverinfo": "text",
         "line": {
          "color": "#888",
          "width": 2.5407021824922316
         },
         "mode": "lines",
         "showlegend": false,
         "text": "türkiye → deki: 160",
         "type": "scatter",
         "x": [
          -0.6761253574210359,
          -0.8090835318738524,
          null
         ],
         "y": [
          0.3547595367205247,
          0.5245086308029469,
          null
         ]
        },
        {
         "hoverinfo": "text",
         "line": {
          "color": "#888",
          "width": 2.7647145437557117
         },
         "mode": "lines",
         "showlegend": false,
         "text": "atatürk → ün: 251",
         "type": "scatter",
         "x": [
          -0.5128087056755919,
          -0.6309708725136643,
          null
         ],
         "y": [
          0.6006009896224459,
          0.7580993363208139,
          null
         ]
        },
        {
         "hoverinfo": "text",
         "line": {
          "color": "#888",
          "width": 2.7423984667453274
         },
         "mode": "lines",
         "showlegend": false,
         "text": "aynı → zamanda: 240",
         "type": "scatter",
         "x": [
          -0.4392666699805482,
          -0.7162567015362885,
          null
         ],
         "y": [
          -0.02286343466710222,
          -0.6157620992285943,
          null
         ]
        },
        {
         "hoverinfo": "text",
         "line": {
          "color": "#888",
          "width": 2.336414417230953
         },
         "mode": "lines",
         "showlegend": false,
         "text": "aynı → şekilde: 106",
         "type": "scatter",
         "x": [
          -0.4392666699805482,
          -0.023485409603246705,
          null
         ],
         "y": [
          -0.02286343466710222,
          0.867996564195209,
          null
         ]
        },
        {
         "hoverinfo": "text",
         "line": {
          "color": "#888",
          "width": 2.7423984667453274
         },
         "mode": "lines",
         "showlegend": false,
         "text": "olursa → olsun: 240",
         "type": "scatter",
         "x": [
          0.15902645449086572,
          0.17516417444024537,
          null
         ],
         "y": [
          -0.8099195365315424,
          -0.9034922855185052,
          null
         ]
        },
        {
         "hoverinfo": "text",
         "line": {
          "color": "#888",
          "width": 2.7146728144772205
         },
         "mode": "lines",
         "showlegend": false,
         "text": "canım → ülkem: 227",
         "type": "scatter",
         "x": [
          0.7223025932789846,
          0.829287205641869,
          null
         ],
         "y": [
          0.3646134704398075,
          0.43427013814704307,
          null
         ]
        },
        {
         "hoverinfo": "text",
         "line": {
          "color": "#888",
          "width": 2.6968137731761805
         },
         "mode": "lines",
         "showlegend": false,
         "text": "mustafa → kemal: 219",
         "type": "scatter",
         "x": [
          -0.4323725791431086,
          -0.4901169783917237,
          null
         ],
         "y": [
          0.5660365074886895,
          0.6307921285306158,
          null
         ]
        },
        {
         "hoverinfo": "text",
         "line": {
          "color": "#888",
          "width": 2.488366871210287
         },
         "mode": "lines",
         "showlegend": false,
         "text": "kemal → atatürk: 144",
         "type": "scatter",
         "x": [
          -0.4901169783917237,
          -0.5128087056755919,
          null
         ],
         "y": [
          0.6307921285306158,
          0.6006009896224459,
          null
         ]
        },
        {
         "hoverinfo": "text",
         "line": {
          "color": "#888",
          "width": 2.6945358649082505
         },
         "mode": "lines",
         "showlegend": false,
         "text": "orta → doğu: 218",
         "type": "scatter",
         "x": [
          0.2507084498999139,
          0.30302590666059825,
          null
         ],
         "y": [
          -0.7897195520702507,
          -0.9702904238110113,
          null
         ]
        },
        {
         "hoverinfo": "text",
         "line": {
          "color": "#888",
          "width": 2.68994867677023
         },
         "mode": "lines",
         "showlegend": false,
         "text": "geçen → gün: 216",
         "type": "scatter",
         "x": [
          -0.3173822532931627,
          -0.44287086607732556,
          null
         ],
         "y": [
          0.5835529600564502,
          0.8619587779488534,
          null
         ]
        },
        {
         "hoverinfo": "text",
         "line": {
          "color": "#888",
          "width": 2.5795276496072646
         },
         "mode": "lines",
         "showlegend": false,
         "text": "devam → ediyor: 173",
         "type": "scatter",
         "x": [
          -0.3705367085681752,
          -0.35121632699990707,
          null
         ],
         "y": [
          -0.5223819483868904,
          -0.9109615268044441,
          null
         ]
        },
        {
         "hoverinfo": "text",
         "line": {
          "color": "#888",
          "width": 2.282174095733918
         },
         "mode": "lines",
         "showlegend": false,
         "text": "devam → edecek: 95",
         "type": "scatter",
         "x": [
          -0.3705367085681752,
          -0.8304438311680363,
          null
         ],
         "y": [
          -0.5223819483868904,
          -0.3974832784924001,
          null
         ]
        },
        {
         "hoverinfo": "text",
         "line": {
          "color": "#888",
          "width": 2.5619819897016294
         },
         "mode": "lines",
         "showlegend": false,
         "text": "avrupa → birliği: 167",
         "type": "scatter",
         "x": [
          -0.7111033128297115,
          -0.8934016425973144,
          null
         ],
         "y": [
          0.029006832861477327,
          0.04227975356790926,
          null
         ]
        },
        {
         "hoverinfo": "text",
         "line": {
          "color": "#888",
          "width": 2.5344521011101158
         },
         "mode": "lines",
         "showlegend": false,
         "text": "olmak → üzere: 158",
         "type": "scatter",
         "x": [
          -0.5661140758079847,
          -0.5311361025425603,
          null
         ],
         "y": [
          0.5138738467050391,
          0.5315881766592526,
          null
         ]
        },
        {
         "hoverinfo": "text",
         "line": {
          "color": "#888",
          "width": 2.5184763012068148
         },
         "mode": "lines",
         "showlegend": false,
         "text": "son → yılda: 153",
         "type": "scatter",
         "x": [
          0.31131468354646946,
          0.917502390999054,
          null
         ],
         "y": [
          -0.14588142591288988,
          0.46680003311681306,
          null
         ]
        },
        {
         "hoverinfo": "text",
         "line": {
          "color": "#888",
          "width": 2.4020105223666284
         },
         "mode": "lines",
         "showlegend": false,
         "text": "son → derece: 121",
         "type": "scatter",
         "x": [
          0.31131468354646946,
          1,
          null
         ],
         "y": [
          -0.14588142591288988,
          -0.02733591748097159,
          null
         ]
        },
        {
         "hoverinfo": "text",
         "line": {
          "color": "#888",
          "width": 2.34106561356211
         },
         "mode": "lines",
         "showlegend": false,
         "text": "son → yıllarda: 107",
         "type": "scatter",
         "x": [
          0.31131468354646946,
          0.9386524760251065,
          null
         ],
         "y": [
          -0.14588142591288988,
          -0.4020583016894624,
          null
         ]
        },
        {
         "hoverinfo": "text",
         "line": {
          "color": "#888",
          "width": 2.302585092994046
         },
         "mode": "lines",
         "showlegend": false,
         "text": "son → zamanlarda: 99",
         "type": "scatter",
         "x": [
          0.31131468354646946,
          -0.8572795218804551,
          null
         ],
         "y": [
          -0.14588142591288988,
          -0.12386622788639744,
          null
         ]
        },
        {
         "hoverinfo": "text",
         "line": {
          "color": "#888",
          "width": 2.2608942885245202
         },
         "mode": "lines",
         "showlegend": false,
         "text": "son → yıldır: 91",
         "type": "scatter",
         "x": [
          0.31131468354646946,
          -0.22607846084076974,
          null
         ],
         "y": [
          -0.14588142591288988,
          -0.9771911790141886,
          null
         ]
        },
        {
         "hoverinfo": "text",
         "line": {
          "color": "#888",
          "width": 2.488366871210287
         },
         "mode": "lines",
         "showlegend": false,
         "text": "söz → konusu: 144",
         "type": "scatter",
         "x": [
          0.12307428912234825,
          0.08757018860305602,
          null
         ],
         "y": [
          0.9183911563634767,
          0.9308015431547613,
          null
         ]
        },
        {
         "hoverinfo": "text",
         "line": {
          "color": "#888",
          "width": 2.4814223151299535
         },
         "mode": "lines",
         "showlegend": false,
         "text": "olmasına → rağmen: 142",
         "type": "scatter",
         "x": [
          -0.9035493913579401,
          -0.920334953167771,
          null
         ],
         "y": [
          -0.15737056614323755,
          -0.11952356541406517,
          null
         ]
        },
        {
         "hoverinfo": "text",
         "line": {
          "color": "#888",
          "width": 2.4779135288006304
         },
         "mode": "lines",
         "showlegend": false,
         "text": "tayyip → erdoğan: 141",
         "type": "scatter",
         "x": [
          0.8277999116564848,
          0.9599617976452532,
          null
         ],
         "y": [
          -0.2284375361549159,
          -0.2614300306117487,
          null
         ]
        },
        {
         "hoverinfo": "text",
         "line": {
          "color": "#888",
          "width": 2.470821211304652
         },
         "mode": "lines",
         "showlegend": false,
         "text": "saçma → sapan: 139",
         "type": "scatter",
         "x": [
          -0.5979335530389621,
          -0.6674501102156026,
          null
         ],
         "y": [
          0.5734948045871174,
          0.6329219910106512,
          null
         ]
        },
        {
         "hoverinfo": "text",
         "line": {
          "color": "#888",
          "width": 2.456327442868026
         },
         "mode": "lines",
         "showlegend": false,
         "text": "yavaş → yavaş: 135",
         "type": "scatter",
         "x": [
          -0.24017606466841776,
          -0.24017606466841776,
          null
         ],
         "y": [
          0.9384267817046203,
          0.9384267817046203,
          null
         ]
        },
        {
         "hoverinfo": "text",
         "line": {
          "color": "#888",
          "width": 2.4375986616005756
         },
         "mode": "lines",
         "showlegend": false,
         "text": "türk → milleti: 130",
         "type": "scatter",
         "x": [
          -0.6262468710681888,
          -0.9226415344346571,
          null
         ],
         "y": [
          0.15733812818282253,
          0.2090859379624721,
          null
         ]
        },
        {
         "hoverinfo": "text",
         "line": {
          "color": "#888",
          "width": 2.429906202180836
         },
         "mode": "lines",
         "showlegend": false,
         "text": "suudi → arabistan: 128",
         "type": "scatter",
         "x": [
          0.5032300074702288,
          0.6267334152667892,
          null
         ],
         "y": [
          -0.6749250773107871,
          -0.8291967858470511,
          null
         ]
        },
        {
         "hoverinfo": "text",
         "line": {
          "color": "#888",
          "width": 2.4220935432292956
         },
         "mode": "lines",
         "showlegend": false,
         "text": "haber → içeriği: 126",
         "type": "scatter",
         "x": [
          0.7453601765165018,
          0.9548685949256389,
          null
         ],
         "y": [
          0.1944187890513188,
          0.25913754903095654,
          null
         ]
        },
        {
         "hoverinfo": "text",
         "line": {
          "color": "#888",
          "width": 2.4060921776862085
         },
         "mode": "lines",
         "showlegend": false,
         "text": "birleşik → devletleri: 122",
         "type": "scatter",
         "x": [
          -0.7204458510193497,
          -0.730175178085036,
          null
         ],
         "y": [
          -0.4480428563223985,
          -0.40795687455956753,
          null
         ]
        },
        {
         "hoverinfo": "text",
         "line": {
          "color": "#888",
          "width": 2.4060921776862085
         },
         "mode": "lines",
         "showlegend": false,
         "text": "amerika → birleşik: 122",
         "type": "scatter",
         "x": [
          -0.5351790044653719,
          -0.7204458510193497,
          null
         ],
         "y": [
          -0.4202243389933752,
          -0.4480428563223985,
          null
         ]
        },
        {
         "hoverinfo": "text",
         "line": {
          "color": "#888",
          "width": 2.393745871391023
         },
         "mode": "lines",
         "showlegend": false,
         "text": "insanların → yaşadığı: 119",
         "type": "scatter",
         "x": [
          0.48922205874135377,
          0.9496084669621215,
          null
         ],
         "y": [
          0.5095921276708073,
          0.12377085064908926,
          null
         ]
        },
        {
         "hoverinfo": "text",
         "line": {
          "color": "#888",
          "width": 2.271647391135002
         },
         "mode": "lines",
         "showlegend": false,
         "text": "insanların → ülkesi: 93",
         "type": "scatter",
         "x": [
          0.48922205874135377,
          -0.029909343918977215,
          null
         ],
         "y": [
          0.5095921276708073,
          0.9475333175291124,
          null
         ]
        },
        {
         "hoverinfo": "text",
         "line": {
          "color": "#888",
          "width": 2.354765100656167
         },
         "mode": "lines",
         "showlegend": false,
         "text": "tek → başına: 110",
         "type": "scatter",
         "x": [
          0.9139417910880845,
          0.8690278771216734,
          null
         ],
         "y": [
          -0.034898151427701155,
          -0.02916289374327353,
          null
         ]
        },
        {
         "hoverinfo": "text",
         "line": {
          "color": "#888",
          "width": 2.3456739411145717
         },
         "mode": "lines",
         "showlegend": false,
         "text": "ülkedir → türkiye: 108",
         "type": "scatter",
         "x": [
          -0.6332219062597965,
          -0.6761253574210359,
          null
         ],
         "y": [
          0.3254425497128286,
          0.3547595367205247,
          null
         ]
        },
        {
         "hoverinfo": "text",
         "line": {
          "color": "#888",
          "width": 2.3456739411145717
         },
         "mode": "lines",
         "showlegend": false,
         "text": "siyasal → islam: 108",
         "type": "scatter",
         "x": [
          -0.29098303856764707,
          -0.26013025951229124,
          null
         ],
         "y": [
          -0.6787829672331005,
          -0.7074230917125757,
          null
         ]
        },
        {
         "hoverinfo": "text",
         "line": {
          "color": "#888",
          "width": 2.3317195470560335
         },
         "mode": "lines",
         "showlegend": false,
         "text": "vatan → haini: 105",
         "type": "scatter",
         "x": [
          -0.5681313573491605,
          -0.5605154007598563,
          null
         ],
         "y": [
          -0.7941407157280745,
          -0.7516743272671509,
          null
         ]
        },
        {
         "hoverinfo": "text",
         "line": {
          "color": "#888",
          "width": 2.3269801750787615
         },
         "mode": "lines",
         "showlegend": false,
         "text": "sosyal → medya: 104",
         "type": "scatter",
         "x": [
          0.43986722530866734,
          0.3974682169813948,
          null
         ],
         "y": [
          0.8513006701606662,
          0.8554462881946501,
          null
         ]
        },
        {
         "hoverinfo": "text",
         "line": {
          "color": "#888",
          "width": 2.317364494114818
         },
         "mode": "lines",
         "showlegend": false,
         "text": "önceki → yılın: 102",
         "type": "scatter",
         "x": [
          -0.39649370785306703,
          -0.458701725214546,
          null
         ],
         "y": [
          -0.06628762483941894,
          -0.05734043433777078,
          null
         ]
        },
        {
         "hoverinfo": "text",
         "line": {
          "color": "#888",
          "width": 2.302585092994046
         },
         "mode": "lines",
         "showlegend": false,
         "text": "yılın → aynı: 99",
         "type": "scatter",
         "x": [
          -0.458701725214546,
          -0.4392666699805482,
          null
         ],
         "y": [
          -0.05734043433777078,
          -0.02286343466710222,
          null
         ]
        },
        {
         "hoverinfo": "text",
         "line": {
          "color": "#888",
          "width": 2.30756025842063
         },
         "mode": "lines",
         "showlegend": false,
         "text": "asgari → ücret: 100",
         "type": "scatter",
         "x": [
          -0.04645548391400771,
          -0.09386208011516542,
          null
         ],
         "y": [
          -0.6958136338562211,
          -0.9732294856098481,
          null
         ]
        },
        {
         "hoverinfo": "text",
         "line": {
          "color": "#888",
          "width": 2.2873554892516914
         },
         "mode": "lines",
         "showlegend": false,
         "text": "recep → tayyip: 96",
         "type": "scatter",
         "x": [
          0.7858918440253169,
          0.8277999116564848,
          null
         ],
         "y": [
          -0.23283564450139013,
          -0.2284375361549159,
          null
         ]
        },
        {
         "hoverinfo": "text",
         "line": {
          "color": "#888",
          "width": 2.2873554892516914
         },
         "mode": "lines",
         "showlegend": false,
         "text": "yer → alan: 96",
         "type": "scatter",
         "x": [
          0.022561980623890844,
          0.026373657678109817,
          null
         ],
         "y": [
          -0.8327519517866687,
          -0.943550377207186,
          null
         ]
        },
        {
         "hoverinfo": "text",
         "line": {
          "color": "#888",
          "width": 2.2769384458002704
         },
         "mode": "lines",
         "showlegend": false,
         "text": "merak → ediyorum: 94",
         "type": "scatter",
         "x": [
          0.2797222299182134,
          0.31271613819684835,
          null
         ],
         "y": [
          0.7085090792072497,
          0.8173780500375583,
          null
         ]
        },
        {
         "hoverinfo": "text",
         "line": {
          "color": "#888",
          "width": 2.2608942885245202
         },
         "mode": "lines",
         "showlegend": false,
         "text": "iç → savaş: 91",
         "type": "scatter",
         "x": [
          0.42391866982367854,
          0.3863663023624095,
          null
         ],
         "y": [
          -0.8647478919137908,
          -0.8425420662985751,
          null
         ]
        },
        {
         "hoverinfo": "text",
         "line": {
          "color": "#888",
          "width": 2.2608942885245202
         },
         "mode": "lines",
         "showlegend": false,
         "text": "dünyanın → güzel: 91",
         "type": "scatter",
         "x": [
          0.6897804761856915,
          0.7464614904432755,
          null
         ],
         "y": [
          0.37054905746838707,
          0.3831722172846394,
          null
         ]
        },
        {
         "hoverinfo": "text",
         "line": {
          "color": "#888",
          "width": 2.255429753258425
         },
         "mode": "lines",
         "showlegend": false,
         "text": "terör → örgütü: 90",
         "type": "scatter",
         "x": [
          0.6008055527176043,
          0.7794536909097076,
          null
         ],
         "y": [
          -0.5264646391108392,
          -0.681123243134832,
          null
         ]
        },
        {
         "hoverinfo": "text",
         "line": {
          "color": "#888",
          "width": 2.2499048351651325
         },
         "mode": "lines",
         "showlegend": false,
         "text": "milyon → bin: 89",
         "type": "scatter",
         "x": [
          0.6744937706638334,
          0.9089000017121867,
          null
         ],
         "y": [
          -0.39229635726130013,
          -0.5443963115423535,
          null
         ]
        },
        {
         "hoverinfo": "text",
         "line": {
          "color": "#888",
          "width": 2.2386684072391034
         },
         "mode": "lines",
         "showlegend": false,
         "text": "olması → gereken: 87",
         "type": "scatter",
         "x": [
          -0.2704290251794445,
          -0.2876961485820072,
          null
         ],
         "y": [
          0.7433746446061119,
          0.814231714910821,
          null
         ]
        },
        {
         "hoverinfo": "text",
         "line": {
          "color": "#888",
          "width": 2.2271736481267537
         },
         "mode": "lines",
         "showlegend": false,
         "text": "tarafı → denizlerle: 85",
         "type": "scatter",
         "x": [
          0.6420110215991379,
          0.6842685693801516,
          null
         ],
         "y": [
          0.5162808817692249,
          0.5454393382517179,
          null
         ]
        },
        {
         "hoverinfo": "text",
         "hovertext": [
          "güzel<br>Connections: 2",
          "ülkem<br>Connections: 2",
          "türkiye<br>Connections: 3",
          "cumhuriyeti<br>Connections: 1",
          "atatürk<br>Connections: 2",
          "ün<br>Connections: 1",
          "aynı<br>Connections: 3",
          "zamanda<br>Connections: 1",
          "olursa<br>Connections: 1",
          "olsun<br>Connections: 1",
          "canım<br>Connections: 1",
          "mustafa<br>Connections: 1",
          "kemal<br>Connections: 2",
          "orta<br>Connections: 1",
          "doğu<br>Connections: 1",
          "geçen<br>Connections: 1",
          "gün<br>Connections: 1",
          "devam<br>Connections: 2",
          "ediyor<br>Connections: 1",
          "avrupa<br>Connections: 1",
          "birliği<br>Connections: 1",
          "deki<br>Connections: 1",
          "olmak<br>Connections: 1",
          "üzere<br>Connections: 1",
          "son<br>Connections: 5",
          "yılda<br>Connections: 1",
          "söz<br>Connections: 1",
          "konusu<br>Connections: 1",
          "olmasına<br>Connections: 1",
          "rağmen<br>Connections: 1",
          "tayyip<br>Connections: 2",
          "erdoğan<br>Connections: 1",
          "saçma<br>Connections: 1",
          "sapan<br>Connections: 1",
          "yavaş<br>Connections: 2",
          "türk<br>Connections: 1",
          "milleti<br>Connections: 1",
          "suudi<br>Connections: 1",
          "arabistan<br>Connections: 1",
          "haber<br>Connections: 1",
          "içeriği<br>Connections: 1",
          "birleşik<br>Connections: 2",
          "devletleri<br>Connections: 1",
          "amerika<br>Connections: 1",
          "derece<br>Connections: 1",
          "insanların<br>Connections: 2",
          "yaşadığı<br>Connections: 1",
          "tek<br>Connections: 1",
          "başına<br>Connections: 1",
          "ülkedir<br>Connections: 1",
          "siyasal<br>Connections: 1",
          "islam<br>Connections: 1",
          "yıllarda<br>Connections: 1",
          "şekilde<br>Connections: 1",
          "vatan<br>Connections: 1",
          "haini<br>Connections: 1",
          "sosyal<br>Connections: 1",
          "medya<br>Connections: 1",
          "önceki<br>Connections: 1",
          "yılın<br>Connections: 2",
          "asgari<br>Connections: 1",
          "ücret<br>Connections: 1",
          "zamanlarda<br>Connections: 1",
          "recep<br>Connections: 1",
          "yer<br>Connections: 1",
          "alan<br>Connections: 1",
          "edecek<br>Connections: 1",
          "merak<br>Connections: 1",
          "ediyorum<br>Connections: 1",
          "ülkesi<br>Connections: 1",
          "iç<br>Connections: 1",
          "savaş<br>Connections: 1",
          "yıldır<br>Connections: 1",
          "dünyanın<br>Connections: 1",
          "terör<br>Connections: 1",
          "örgütü<br>Connections: 1",
          "milyon<br>Connections: 1",
          "bin<br>Connections: 1",
          "olması<br>Connections: 1",
          "gereken<br>Connections: 1",
          "tarafı<br>Connections: 1",
          "denizlerle<br>Connections: 1"
         ],
         "marker": {
          "color": "lightblue",
          "line": {
           "color": "darkblue",
           "width": 2
          },
          "size": [
           16,
           16,
           19,
           13,
           16,
           13,
           19,
           13,
           13,
           13,
           13,
           13,
           16,
           13,
           13,
           13,
           13,
           16,
           13,
           13,
           13,
           13,
           13,
           13,
           25,
           13,
           13,
           13,
           13,
           13,
           16,
           13,
           13,
           13,
           16,
           13,
           13,
           13,
           13,
           13,
           13,
           16,
           13,
           13,
           13,
           16,
           13,
           13,
           13,
           13,
           13,
           13,
           13,
           13,
           13,
           13,
           13,
           13,
           13,
           16,
           13,
           13,
           13,
           13,
           13,
           13,
           13,
           13,
           13,
           13,
           13,
           13,
           13,
           13,
           13,
           13,
           13,
           13,
           13,
           13,
           13,
           13
          ]
         },
         "mode": "markers+text",
         "showlegend": false,
         "text": [
          "güzel",
          "ülkem",
          "türkiye",
          "cumhuriyeti",
          "atatürk",
          "ün",
          "aynı",
          "zamanda",
          "olursa",
          "olsun",
          "canım",
          "mustafa",
          "kemal",
          "orta",
          "doğu",
          "geçen",
          "gün",
          "devam",
          "ediyor",
          "avrupa",
          "birliği",
          "deki",
          "olmak",
          "üzere",
          "son",
          "yılda",
          "söz",
          "konusu",
          "olmasına",
          "rağmen",
          "tayyip",
          "erdoğan",
          "saçma",
          "sapan",
          "yavaş",
          "türk",
          "milleti",
          "suudi",
          "arabistan",
          "haber",
          "içeriği",
          "birleşik",
          "devletleri",
          "amerika",
          "derece",
          "insanların",
          "yaşadığı",
          "tek",
          "başına",
          "ülkedir",
          "siyasal",
          "islam",
          "yıllarda",
          "şekilde",
          "vatan",
          "haini",
          "sosyal",
          "medya",
          "önceki",
          "yılın",
          "asgari",
          "ücret",
          "zamanlarda",
          "recep",
          "yer",
          "alan",
          "edecek",
          "merak",
          "ediyorum",
          "ülkesi",
          "iç",
          "savaş",
          "yıldır",
          "dünyanın",
          "terör",
          "örgütü",
          "milyon",
          "bin",
          "olması",
          "gereken",
          "tarafı",
          "denizlerle"
         ],
         "textposition": "top center",
         "type": "scatter",
         "x": [
          0.7464614904432755,
          0.829287205641869,
          -0.6761253574210359,
          -0.8697318511410335,
          -0.5128087056755919,
          -0.6309708725136643,
          -0.4392666699805482,
          -0.7162567015362885,
          0.15902645449086572,
          0.17516417444024537,
          0.7223025932789846,
          -0.4323725791431086,
          -0.4901169783917237,
          0.2507084498999139,
          0.30302590666059825,
          -0.3173822532931627,
          -0.44287086607732556,
          -0.3705367085681752,
          -0.35121632699990707,
          -0.7111033128297115,
          -0.8934016425973144,
          -0.8090835318738524,
          -0.5661140758079847,
          -0.5311361025425603,
          0.31131468354646946,
          0.917502390999054,
          0.12307428912234825,
          0.08757018860305602,
          -0.9035493913579401,
          -0.920334953167771,
          0.8277999116564848,
          0.9599617976452532,
          -0.5979335530389621,
          -0.6674501102156026,
          -0.24017606466841776,
          -0.6262468710681888,
          -0.9226415344346571,
          0.5032300074702288,
          0.6267334152667892,
          0.7453601765165018,
          0.9548685949256389,
          -0.7204458510193497,
          -0.730175178085036,
          -0.5351790044653719,
          1,
          0.48922205874135377,
          0.9496084669621215,
          0.9139417910880845,
          0.8690278771216734,
          -0.6332219062597965,
          -0.29098303856764707,
          -0.26013025951229124,
          0.9386524760251065,
          -0.023485409603246705,
          -0.5681313573491605,
          -0.5605154007598563,
          0.43986722530866734,
          0.3974682169813948,
          -0.39649370785306703,
          -0.458701725214546,
          -0.04645548391400771,
          -0.09386208011516542,
          -0.8572795218804551,
          0.7858918440253169,
          0.022561980623890844,
          0.026373657678109817,
          -0.8304438311680363,
          0.2797222299182134,
          0.31271613819684835,
          -0.029909343918977215,
          0.42391866982367854,
          0.3863663023624095,
          -0.22607846084076974,
          0.6897804761856915,
          0.6008055527176043,
          0.7794536909097076,
          0.6744937706638334,
          0.9089000017121867,
          -0.2704290251794445,
          -0.2876961485820072,
          0.6420110215991379,
          0.6842685693801516
         ],
         "y": [
          0.3831722172846394,
          0.43427013814704307,
          0.3547595367205247,
          0.3590014256789297,
          0.6006009896224459,
          0.7580993363208139,
          -0.02286343466710222,
          -0.6157620992285943,
          -0.8099195365315424,
          -0.9034922855185052,
          0.3646134704398075,
          0.5660365074886895,
          0.6307921285306158,
          -0.7897195520702507,
          -0.9702904238110113,
          0.5835529600564502,
          0.8619587779488534,
          -0.5223819483868904,
          -0.9109615268044441,
          0.029006832861477327,
          0.04227975356790926,
          0.5245086308029469,
          0.5138738467050391,
          0.5315881766592526,
          -0.14588142591288988,
          0.46680003311681306,
          0.9183911563634767,
          0.9308015431547613,
          -0.15737056614323755,
          -0.11952356541406517,
          -0.2284375361549159,
          -0.2614300306117487,
          0.5734948045871174,
          0.6329219910106512,
          0.9384267817046203,
          0.15733812818282253,
          0.2090859379624721,
          -0.6749250773107871,
          -0.8291967858470511,
          0.1944187890513188,
          0.25913754903095654,
          -0.4480428563223985,
          -0.40795687455956753,
          -0.4202243389933752,
          -0.02733591748097159,
          0.5095921276708073,
          0.12377085064908926,
          -0.034898151427701155,
          -0.02916289374327353,
          0.3254425497128286,
          -0.6787829672331005,
          -0.7074230917125757,
          -0.4020583016894624,
          0.867996564195209,
          -0.7941407157280745,
          -0.7516743272671509,
          0.8513006701606662,
          0.8554462881946501,
          -0.06628762483941894,
          -0.05734043433777078,
          -0.6958136338562211,
          -0.9732294856098481,
          -0.12386622788639744,
          -0.23283564450139013,
          -0.8327519517866687,
          -0.943550377207186,
          -0.3974832784924001,
          0.7085090792072497,
          0.8173780500375583,
          0.9475333175291124,
          -0.8647478919137908,
          -0.8425420662985751,
          -0.9771911790141886,
          0.37054905746838707,
          -0.5264646391108392,
          -0.681123243134832,
          -0.39229635726130013,
          -0.5443963115423535,
          0.7433746446061119,
          0.814231714910821,
          0.5162808817692249,
          0.5454393382517179
         ]
        }
       ],
       "layout": {
        "height": 600,
        "hovermode": "closest",
        "margin": {
         "b": 20,
         "l": 5,
         "r": 5,
         "t": 40
        },
        "plot_bgcolor": "white",
        "showlegend": false,
        "template": {
         "data": {
          "bar": [
           {
            "error_x": {
             "color": "#2a3f5f"
            },
            "error_y": {
             "color": "#2a3f5f"
            },
            "marker": {
             "line": {
              "color": "#E5ECF6",
              "width": 0.5
             },
             "pattern": {
              "fillmode": "overlay",
              "size": 10,
              "solidity": 0.2
             }
            },
            "type": "bar"
           }
          ],
          "barpolar": [
           {
            "marker": {
             "line": {
              "color": "#E5ECF6",
              "width": 0.5
             },
             "pattern": {
              "fillmode": "overlay",
              "size": 10,
              "solidity": 0.2
             }
            },
            "type": "barpolar"
           }
          ],
          "carpet": [
           {
            "aaxis": {
             "endlinecolor": "#2a3f5f",
             "gridcolor": "white",
             "linecolor": "white",
             "minorgridcolor": "white",
             "startlinecolor": "#2a3f5f"
            },
            "baxis": {
             "endlinecolor": "#2a3f5f",
             "gridcolor": "white",
             "linecolor": "white",
             "minorgridcolor": "white",
             "startlinecolor": "#2a3f5f"
            },
            "type": "carpet"
           }
          ],
          "choropleth": [
           {
            "colorbar": {
             "outlinewidth": 0,
             "ticks": ""
            },
            "type": "choropleth"
           }
          ],
          "contour": [
           {
            "colorbar": {
             "outlinewidth": 0,
             "ticks": ""
            },
            "colorscale": [
             [
              0,
              "#0d0887"
             ],
             [
              0.1111111111111111,
              "#46039f"
             ],
             [
              0.2222222222222222,
              "#7201a8"
             ],
             [
              0.3333333333333333,
              "#9c179e"
             ],
             [
              0.4444444444444444,
              "#bd3786"
             ],
             [
              0.5555555555555556,
              "#d8576b"
             ],
             [
              0.6666666666666666,
              "#ed7953"
             ],
             [
              0.7777777777777778,
              "#fb9f3a"
             ],
             [
              0.8888888888888888,
              "#fdca26"
             ],
             [
              1,
              "#f0f921"
             ]
            ],
            "type": "contour"
           }
          ],
          "contourcarpet": [
           {
            "colorbar": {
             "outlinewidth": 0,
             "ticks": ""
            },
            "type": "contourcarpet"
           }
          ],
          "heatmap": [
           {
            "colorbar": {
             "outlinewidth": 0,
             "ticks": ""
            },
            "colorscale": [
             [
              0,
              "#0d0887"
             ],
             [
              0.1111111111111111,
              "#46039f"
             ],
             [
              0.2222222222222222,
              "#7201a8"
             ],
             [
              0.3333333333333333,
              "#9c179e"
             ],
             [
              0.4444444444444444,
              "#bd3786"
             ],
             [
              0.5555555555555556,
              "#d8576b"
             ],
             [
              0.6666666666666666,
              "#ed7953"
             ],
             [
              0.7777777777777778,
              "#fb9f3a"
             ],
             [
              0.8888888888888888,
              "#fdca26"
             ],
             [
              1,
              "#f0f921"
             ]
            ],
            "type": "heatmap"
           }
          ],
          "histogram": [
           {
            "marker": {
             "pattern": {
              "fillmode": "overlay",
              "size": 10,
              "solidity": 0.2
             }
            },
            "type": "histogram"
           }
          ],
          "histogram2d": [
           {
            "colorbar": {
             "outlinewidth": 0,
             "ticks": ""
            },
            "colorscale": [
             [
              0,
              "#0d0887"
             ],
             [
              0.1111111111111111,
              "#46039f"
             ],
             [
              0.2222222222222222,
              "#7201a8"
             ],
             [
              0.3333333333333333,
              "#9c179e"
             ],
             [
              0.4444444444444444,
              "#bd3786"
             ],
             [
              0.5555555555555556,
              "#d8576b"
             ],
             [
              0.6666666666666666,
              "#ed7953"
             ],
             [
              0.7777777777777778,
              "#fb9f3a"
             ],
             [
              0.8888888888888888,
              "#fdca26"
             ],
             [
              1,
              "#f0f921"
             ]
            ],
            "type": "histogram2d"
           }
          ],
          "histogram2dcontour": [
           {
            "colorbar": {
             "outlinewidth": 0,
             "ticks": ""
            },
            "colorscale": [
             [
              0,
              "#0d0887"
             ],
             [
              0.1111111111111111,
              "#46039f"
             ],
             [
              0.2222222222222222,
              "#7201a8"
             ],
             [
              0.3333333333333333,
              "#9c179e"
             ],
             [
              0.4444444444444444,
              "#bd3786"
             ],
             [
              0.5555555555555556,
              "#d8576b"
             ],
             [
              0.6666666666666666,
              "#ed7953"
             ],
             [
              0.7777777777777778,
              "#fb9f3a"
             ],
             [
              0.8888888888888888,
              "#fdca26"
             ],
             [
              1,
              "#f0f921"
             ]
            ],
            "type": "histogram2dcontour"
           }
          ],
          "mesh3d": [
           {
            "colorbar": {
             "outlinewidth": 0,
             "ticks": ""
            },
            "type": "mesh3d"
           }
          ],
          "parcoords": [
           {
            "line": {
             "colorbar": {
              "outlinewidth": 0,
              "ticks": ""
             }
            },
            "type": "parcoords"
           }
          ],
          "pie": [
           {
            "automargin": true,
            "type": "pie"
           }
          ],
          "scatter": [
           {
            "fillpattern": {
             "fillmode": "overlay",
             "size": 10,
             "solidity": 0.2
            },
            "type": "scatter"
           }
          ],
          "scatter3d": [
           {
            "line": {
             "colorbar": {
              "outlinewidth": 0,
              "ticks": ""
             }
            },
            "marker": {
             "colorbar": {
              "outlinewidth": 0,
              "ticks": ""
             }
            },
            "type": "scatter3d"
           }
          ],
          "scattercarpet": [
           {
            "marker": {
             "colorbar": {
              "outlinewidth": 0,
              "ticks": ""
             }
            },
            "type": "scattercarpet"
           }
          ],
          "scattergeo": [
           {
            "marker": {
             "colorbar": {
              "outlinewidth": 0,
              "ticks": ""
             }
            },
            "type": "scattergeo"
           }
          ],
          "scattergl": [
           {
            "marker": {
             "colorbar": {
              "outlinewidth": 0,
              "ticks": ""
             }
            },
            "type": "scattergl"
           }
          ],
          "scattermap": [
           {
            "marker": {
             "colorbar": {
              "outlinewidth": 0,
              "ticks": ""
             }
            },
            "type": "scattermap"
           }
          ],
          "scattermapbox": [
           {
            "marker": {
             "colorbar": {
              "outlinewidth": 0,
              "ticks": ""
             }
            },
            "type": "scattermapbox"
           }
          ],
          "scatterpolar": [
           {
            "marker": {
             "colorbar": {
              "outlinewidth": 0,
              "ticks": ""
             }
            },
            "type": "scatterpolar"
           }
          ],
          "scatterpolargl": [
           {
            "marker": {
             "colorbar": {
              "outlinewidth": 0,
              "ticks": ""
             }
            },
            "type": "scatterpolargl"
           }
          ],
          "scatterternary": [
           {
            "marker": {
             "colorbar": {
              "outlinewidth": 0,
              "ticks": ""
             }
            },
            "type": "scatterternary"
           }
          ],
          "surface": [
           {
            "colorbar": {
             "outlinewidth": 0,
             "ticks": ""
            },
            "colorscale": [
             [
              0,
              "#0d0887"
             ],
             [
              0.1111111111111111,
              "#46039f"
             ],
             [
              0.2222222222222222,
              "#7201a8"
             ],
             [
              0.3333333333333333,
              "#9c179e"
             ],
             [
              0.4444444444444444,
              "#bd3786"
             ],
             [
              0.5555555555555556,
              "#d8576b"
             ],
             [
              0.6666666666666666,
              "#ed7953"
             ],
             [
              0.7777777777777778,
              "#fb9f3a"
             ],
             [
              0.8888888888888888,
              "#fdca26"
             ],
             [
              1,
              "#f0f921"
             ]
            ],
            "type": "surface"
           }
          ],
          "table": [
           {
            "cells": {
             "fill": {
              "color": "#EBF0F8"
             },
             "line": {
              "color": "white"
             }
            },
            "header": {
             "fill": {
              "color": "#C8D4E3"
             },
             "line": {
              "color": "white"
             }
            },
            "type": "table"
           }
          ]
         },
         "layout": {
          "annotationdefaults": {
           "arrowcolor": "#2a3f5f",
           "arrowhead": 0,
           "arrowwidth": 1
          },
          "autotypenumbers": "strict",
          "coloraxis": {
           "colorbar": {
            "outlinewidth": 0,
            "ticks": ""
           }
          },
          "colorscale": {
           "diverging": [
            [
             0,
             "#8e0152"
            ],
            [
             0.1,
             "#c51b7d"
            ],
            [
             0.2,
             "#de77ae"
            ],
            [
             0.3,
             "#f1b6da"
            ],
            [
             0.4,
             "#fde0ef"
            ],
            [
             0.5,
             "#f7f7f7"
            ],
            [
             0.6,
             "#e6f5d0"
            ],
            [
             0.7,
             "#b8e186"
            ],
            [
             0.8,
             "#7fbc41"
            ],
            [
             0.9,
             "#4d9221"
            ],
            [
             1,
             "#276419"
            ]
           ],
           "sequential": [
            [
             0,
             "#0d0887"
            ],
            [
             0.1111111111111111,
             "#46039f"
            ],
            [
             0.2222222222222222,
             "#7201a8"
            ],
            [
             0.3333333333333333,
             "#9c179e"
            ],
            [
             0.4444444444444444,
             "#bd3786"
            ],
            [
             0.5555555555555556,
             "#d8576b"
            ],
            [
             0.6666666666666666,
             "#ed7953"
            ],
            [
             0.7777777777777778,
             "#fb9f3a"
            ],
            [
             0.8888888888888888,
             "#fdca26"
            ],
            [
             1,
             "#f0f921"
            ]
           ],
           "sequentialminus": [
            [
             0,
             "#0d0887"
            ],
            [
             0.1111111111111111,
             "#46039f"
            ],
            [
             0.2222222222222222,
             "#7201a8"
            ],
            [
             0.3333333333333333,
             "#9c179e"
            ],
            [
             0.4444444444444444,
             "#bd3786"
            ],
            [
             0.5555555555555556,
             "#d8576b"
            ],
            [
             0.6666666666666666,
             "#ed7953"
            ],
            [
             0.7777777777777778,
             "#fb9f3a"
            ],
            [
             0.8888888888888888,
             "#fdca26"
            ],
            [
             1,
             "#f0f921"
            ]
           ]
          },
          "colorway": [
           "#636efa",
           "#EF553B",
           "#00cc96",
           "#ab63fa",
           "#FFA15A",
           "#19d3f3",
           "#FF6692",
           "#B6E880",
           "#FF97FF",
           "#FECB52"
          ],
          "font": {
           "color": "#2a3f5f"
          },
          "geo": {
           "bgcolor": "white",
           "lakecolor": "white",
           "landcolor": "#E5ECF6",
           "showlakes": true,
           "showland": true,
           "subunitcolor": "white"
          },
          "hoverlabel": {
           "align": "left"
          },
          "hovermode": "closest",
          "mapbox": {
           "style": "light"
          },
          "paper_bgcolor": "white",
          "plot_bgcolor": "#E5ECF6",
          "polar": {
           "angularaxis": {
            "gridcolor": "white",
            "linecolor": "white",
            "ticks": ""
           },
           "bgcolor": "#E5ECF6",
           "radialaxis": {
            "gridcolor": "white",
            "linecolor": "white",
            "ticks": ""
           }
          },
          "scene": {
           "xaxis": {
            "backgroundcolor": "#E5ECF6",
            "gridcolor": "white",
            "gridwidth": 2,
            "linecolor": "white",
            "showbackground": true,
            "ticks": "",
            "zerolinecolor": "white"
           },
           "yaxis": {
            "backgroundcolor": "#E5ECF6",
            "gridcolor": "white",
            "gridwidth": 2,
            "linecolor": "white",
            "showbackground": true,
            "ticks": "",
            "zerolinecolor": "white"
           },
           "zaxis": {
            "backgroundcolor": "#E5ECF6",
            "gridcolor": "white",
            "gridwidth": 2,
            "linecolor": "white",
            "showbackground": true,
            "ticks": "",
            "zerolinecolor": "white"
           }
          },
          "shapedefaults": {
           "line": {
            "color": "#2a3f5f"
           }
          },
          "ternary": {
           "aaxis": {
            "gridcolor": "white",
            "linecolor": "white",
            "ticks": ""
           },
           "baxis": {
            "gridcolor": "white",
            "linecolor": "white",
            "ticks": ""
           },
           "bgcolor": "#E5ECF6",
           "caxis": {
            "gridcolor": "white",
            "linecolor": "white",
            "ticks": ""
           }
          },
          "title": {
           "x": 0.05
          },
          "xaxis": {
           "automargin": true,
           "gridcolor": "white",
           "linecolor": "white",
           "ticks": "",
           "title": {
            "standoff": 15
           },
           "zerolinecolor": "white",
           "zerolinewidth": 2
          },
          "yaxis": {
           "automargin": true,
           "gridcolor": "white",
           "linecolor": "white",
           "ticks": "",
           "title": {
            "standoff": 15
           },
           "zerolinecolor": "white",
           "zerolinewidth": 2
          }
         }
        },
        "title": {
         "text": "Bigram Network for Türkiye"
        },
        "xaxis": {
         "showgrid": false,
         "showticklabels": false,
         "zeroline": false
        },
        "yaxis": {
         "showgrid": false,
         "showticklabels": false,
         "zeroline": false
        }
       }
      }
     },
     "metadata": {},
     "output_type": "display_data"
    }
   ],
   "source": [
    "# create the network visualization for Turkey only\n",
    "plot_bigram_network(\n",
    "    bigram_df=topic_bigrams.get('türkiye', pd.DataFrame(columns=['word1', 'word2', 'count'])),\n",
    "    n_bigrams=50,\n",
    "    title=\"Bigram Network for Türkiye\"\n",
    ")"
   ]
  }
 ],
 "metadata": {
  "kernelspec": {
   "display_name": "nlp.env",
   "language": "python",
   "name": "python3"
  },
  "language_info": {
   "codemirror_mode": {
    "name": "ipython",
    "version": 3
   },
   "file_extension": ".py",
   "mimetype": "text/x-python",
   "name": "python",
   "nbconvert_exporter": "python",
   "pygments_lexer": "ipython3",
   "version": "3.10.18"
  }
 },
 "nbformat": 4,
 "nbformat_minor": 4
}
