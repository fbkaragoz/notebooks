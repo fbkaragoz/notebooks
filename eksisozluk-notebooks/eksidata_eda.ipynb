{
 "cells": [
  {
   "cell_type": "markdown",
   "metadata": {},
   "source": [
    "# Ekşi Sözlük Country Analysis\n",
    "\n",
    "Simplified, modular analysis using utility modules."
   ]
  },
  {
   "cell_type": "code",
   "execution_count": 2,
   "metadata": {},
   "outputs": [
    {
     "name": "stdout",
     "output_type": "stream",
     "text": [
      "Processing ../datasets/countries.json...\n",
      "Processing ../datasets/three_country.json...\n",
      "\n",
      "Merged data saved to: ../datasets/eksidata.json\n",
      "Total topics: 39\n"
     ]
    }
   ],
   "source": [
    "import json\n",
    "\n",
    "def merge_eksi_data(file_paths: list, target_ids: list, output_path: str):\n",
    "    merged_data = {}\n",
    "    \n",
    "    for file_path in file_paths:\n",
    "        print(f\"Processing {file_path}...\")\n",
    "        with open(file_path, 'r', encoding='utf-8') as f:\n",
    "            data = json.load(f)\n",
    "            filtered = {\n",
    "                tid: content for tid, content in data.items()\n",
    "                if tid in target_ids\n",
    "            }\n",
    "            merged_data.update(filtered)\n",
    "    \n",
    "    cleaned_data = {}\n",
    "    for topic_id, content in merged_data.items():\n",
    "        topic_meta = content.get('topic', {})\n",
    "        entries = content.get('entries', [])\n",
    "        \n",
    "        cleaned_entries = []\n",
    "        for entry in entries:\n",
    "            cleaned_entry = {\n",
    "                'author': entry.get('author', ''),\n",
    "                'created_at_raw': entry.get('created_at_raw', ''),\n",
    "                'text': entry.get('text', '')\n",
    "            }\n",
    "            cleaned_entries.append(cleaned_entry)\n",
    "        \n",
    "        cleaned_data[topic_id] = {\n",
    "            'topic': {\n",
    "                'title': topic_meta.get('title', ''),\n",
    "                'id': topic_id\n",
    "            },\n",
    "            'entries': cleaned_entries\n",
    "        }\n",
    "    \n",
    "    with open(output_path, 'w', encoding='utf-8') as f:\n",
    "        json.dump(cleaned_data, f, ensure_ascii=False, indent=2)\n",
    "    \n",
    "    print(f\"\\nMerged data saved to: {output_path}\")\n",
    "    print(f\"Total topics: {len(cleaned_data)}\")\n",
    "\n",
    "if __name__ == \"__main__\":\n",
    "    INPUT_PATHS = [\n",
    "        \"../datasets/countries.json\",\n",
    "        \"../datasets/three_country.json\"\n",
    "    ]\n",
    "    \n",
    "    TARGET_IDS = [\n",
    "        '46687', '43748', '2099924', '58585', '128684', '39870', '64696', \n",
    "        '111737', '45394', '68980', '129500', '114173', '55971', '71457', \n",
    "        '385546', '86544', '167447', '61614', '96743', '56902', '50310', \n",
    "        '66320', '62870', '97065', '80137', '144150', '91933', '93047', \n",
    "        '127685', '35513', '55600', '240029', '36897', '57388', '42073', \n",
    "        '42072',\n",
    "        # New countries\n",
    "        '43722', '49635', '74714'\n",
    "    ]\n",
    "    \n",
    "    OUTPUT_PATH = \"../datasets/eksidata.json\"\n",
    "    merge_eksi_data(INPUT_PATHS, TARGET_IDS, OUTPUT_PATH)"
   ]
  },
  {
   "cell_type": "markdown",
   "metadata": {},
   "source": [
    "## 1. Setup and Data Loading"
   ]
  },
  {
   "cell_type": "code",
   "execution_count": null,
   "metadata": {},
   "outputs": [],
   "source": [
    "import pandas as pd\n",
    "import seaborn as sns\n",
    "from pathlib import Path\n",
    "\n",
    "from collections import Counter\n",
    "from nltk.util import bigrams\n",
    "import plotly.graph_objects as go\n",
    "import networkx as nx\n",
    "import numpy as np\n",
    "\n",
    "from pyscripts.text_utils import tokenize, extract_country_terms, aggregate_tokens_by_group # custom modules\n",
    "from pyscripts.tfidf_analysis import TfidfAnalyzer, analyze_by_group\n",
    "\n",
    "sns.set_theme()\n",
    "DATA_PATH = Path(\"../datasets/eksidata.json\")"
   ]
  },
  {
   "cell_type": "markdown",
   "metadata": {},
   "source": [
    "## 2. Create Simplified DataFrame"
   ]
  },
  {
   "cell_type": "code",
   "execution_count": 4,
   "metadata": {},
   "outputs": [],
   "source": [
    "def extract_records(raw_data):\n",
    "    records = []\n",
    "    \n",
    "    def parse_turkish_date(date_str):\n",
    "        \"\"\"Parse Turkish date format with error handling\"\"\"\n",
    "        try:\n",
    "            if '~' in date_str:  # Handle date ranges\n",
    "                date_str = date_str.split('~')[0].strip()  # Take first date\n",
    "            return pd.to_datetime(date_str, format='%d.%m.%Y %H:%M')\n",
    "        except:\n",
    "            return pd.NaT  # Return Not-a-Time for invalid dates\n",
    "    \n",
    "    for topic_id, content in raw_data.items():\n",
    "        topic_title = content.get('topic', {}).get('title', '')\n",
    "        \n",
    "        for entry in content.get('entries', []):\n",
    "            record = {\n",
    "                'topic': topic_title,\n",
    "                'author': entry.get('author', ''),\n",
    "                'date': parse_turkish_date(entry.get('created_at_raw', '')),\n",
    "                'text': entry.get('text', '')\n",
    "            }\n",
    "            records.append(record)\n",
    "    \n",
    "    df = pd.DataFrame(records)\n",
    "    print(f\"Found {df['date'].isna().sum()} invalid dates\")\n",
    "    \n",
    "    return df"
   ]
  },
  {
   "cell_type": "markdown",
   "metadata": {},
   "source": [
    "## 3. Text Processing and Tokenization"
   ]
  },
  {
   "cell_type": "code",
   "execution_count": null,
   "metadata": {},
   "outputs": [
    {
     "name": "stdout",
     "output_type": "stream",
     "text": [
      "Found 16 invalid dates\n",
      "Average tokens per entry: 65.1\n",
      "Median tokens per entry: 25.0\n",
      "Total unique authors: 28094\n",
      "Total unique topics: 39\n",
      "\n",
      "Total stopwords used: 228\n"
     ]
    }
   ],
   "source": [
    "# Apply tokenization using our utility function\n",
    "# The tokenize() function uses:\n",
    "# - Custom Turkish stopwords (BASE + DOMAIN specific)\n",
    "# - BKZ pattern removal (ekşi sözlük cross-references)\n",
    "# - GÖRSEL repetition removal (image placeholders)\n",
    "# - Apostrophe normalization for Turkish possessives\n",
    "# - Minimum token length: 2\n",
    "df = extract_records(json.load(open(DATA_PATH, 'r', encoding='utf-8')))\n",
    "\n",
    "df['tokens'] = df['text'].fillna(\"\").apply(tokenize)\n",
    "\n",
    "# Quick stats\n",
    "df['token_count'] = df['tokens'].apply(len)\n",
    "print(f\"Average tokens per entry: {df['token_count'].mean():.1f}\")\n",
    "print(f\"Median tokens per entry: {df['token_count'].median():.1f}\")\n",
    "print(f\"Total unique authors: {df['author'].nunique()}\")\n",
    "print(f\"Total unique topics: {df['topic'].nunique()}\")\n",
    "\n",
    "# Show stopword info\n",
    "from pyscripts.text_utils import get_turkish_stopwords\n",
    "stopwords = get_turkish_stopwords(include_domain_stopwords=True)\n",
    "print(f\"\\nTotal stopwords used: {len(stopwords)}\")"
   ]
  },
  {
   "cell_type": "markdown",
   "metadata": {},
   "source": [
    "## 4. TF-IDF Analysis by Topic"
   ]
  },
  {
   "cell_type": "code",
   "execution_count": null,
   "metadata": {},
   "outputs": [
    {
     "name": "stdout",
     "output_type": "stream",
     "text": [
      "\n",
      "Some filter terms: ['dahi', 'the', 'bunda', 'diğer', 'ayrıca', 'hakkında', 'sr', 'var', 'şunun', 'iran', 'yapıyor', 'biz', 'kıbrıs', 'çok', 'kore', 'hayli', 'da', 'israil', 'ki', 'göre'] ...\n"
     ]
    },
    {
     "name": "stderr",
     "output_type": "stream",
     "text": [
      "/home/zk/miniconda3/envs/nlp.env/lib/python3.10/site-packages/sklearn/feature_extraction/text.py:517: UserWarning: The parameter 'token_pattern' will not be used since 'tokenizer' is not None'\n",
      "  warnings.warn(\n"
     ]
    },
    {
     "name": "stdout",
     "output_type": "stream",
     "text": [
      "TF-IDF processing time: 2.27 seconds\n",
      "Shape: 39 documents × 386 terms\n",
      "GPU acceleration: enabled\n",
      "\n",
      "Results saved to: country_topics_tfidf_top_terms.csv\n",
      "Top terms shape: (390, 3)\n",
      "Topics analyzed: 39\n"
     ]
    },
    {
     "data": {
      "text/html": [
       "<div>\n",
       "<style scoped>\n",
       "    .dataframe tbody tr th:only-of-type {\n",
       "        vertical-align: middle;\n",
       "    }\n",
       "\n",
       "    .dataframe tbody tr th {\n",
       "        vertical-align: top;\n",
       "    }\n",
       "\n",
       "    .dataframe thead th {\n",
       "        text-align: right;\n",
       "    }\n",
       "</style>\n",
       "<table border=\"1\" class=\"dataframe\">\n",
       "  <thead>\n",
       "    <tr style=\"text-align: right;\">\n",
       "      <th></th>\n",
       "      <th>topic</th>\n",
       "      <th>token</th>\n",
       "      <th>tfidf</th>\n",
       "    </tr>\n",
       "  </thead>\n",
       "  <tbody>\n",
       "    <tr>\n",
       "      <th>0</th>\n",
       "      <td>almanya</td>\n",
       "      <td>bi</td>\n",
       "      <td>0.059472</td>\n",
       "    </tr>\n",
       "    <tr>\n",
       "      <th>1</th>\n",
       "      <td>almanya</td>\n",
       "      <td>büyük</td>\n",
       "      <td>0.100018</td>\n",
       "    </tr>\n",
       "    <tr>\n",
       "      <th>2</th>\n",
       "      <td>almanya</td>\n",
       "      <td>ev</td>\n",
       "      <td>0.053815</td>\n",
       "    </tr>\n",
       "    <tr>\n",
       "      <th>3</th>\n",
       "      <td>almanya</td>\n",
       "      <td>gün</td>\n",
       "      <td>0.058272</td>\n",
       "    </tr>\n",
       "    <tr>\n",
       "      <th>4</th>\n",
       "      <td>almanya</td>\n",
       "      <td>ilk</td>\n",
       "      <td>0.063048</td>\n",
       "    </tr>\n",
       "    <tr>\n",
       "      <th>5</th>\n",
       "      <td>almanya</td>\n",
       "      <td>iyi</td>\n",
       "      <td>0.109300</td>\n",
       "    </tr>\n",
       "    <tr>\n",
       "      <th>6</th>\n",
       "      <td>almanya</td>\n",
       "      <td>iş</td>\n",
       "      <td>0.085935</td>\n",
       "    </tr>\n",
       "    <tr>\n",
       "      <th>7</th>\n",
       "      <td>almanya</td>\n",
       "      <td>tek</td>\n",
       "      <td>0.055482</td>\n",
       "    </tr>\n",
       "    <tr>\n",
       "      <th>8</th>\n",
       "      <td>almanya</td>\n",
       "      <td>türk</td>\n",
       "      <td>0.093150</td>\n",
       "    </tr>\n",
       "    <tr>\n",
       "      <th>9</th>\n",
       "      <td>almanya</td>\n",
       "      <td>vs</td>\n",
       "      <td>0.062350</td>\n",
       "    </tr>\n",
       "    <tr>\n",
       "      <th>10</th>\n",
       "      <td>amerika birleşik devletleri</td>\n",
       "      <td>büyük</td>\n",
       "      <td>0.130288</td>\n",
       "    </tr>\n",
       "    <tr>\n",
       "      <th>11</th>\n",
       "      <td>amerika birleşik devletleri</td>\n",
       "      <td>ev</td>\n",
       "      <td>0.055361</td>\n",
       "    </tr>\n",
       "    <tr>\n",
       "      <th>12</th>\n",
       "      <td>amerika birleşik devletleri</td>\n",
       "      <td>geri</td>\n",
       "      <td>0.050232</td>\n",
       "    </tr>\n",
       "    <tr>\n",
       "      <th>13</th>\n",
       "      <td>amerika birleşik devletleri</td>\n",
       "      <td>ilk</td>\n",
       "      <td>0.066268</td>\n",
       "    </tr>\n",
       "    <tr>\n",
       "      <th>14</th>\n",
       "      <td>amerika birleşik devletleri</td>\n",
       "      <td>iyi</td>\n",
       "      <td>0.120742</td>\n",
       "    </tr>\n",
       "    <tr>\n",
       "      <th>15</th>\n",
       "      <td>amerika birleşik devletleri</td>\n",
       "      <td>tek</td>\n",
       "      <td>0.080745</td>\n",
       "    </tr>\n",
       "    <tr>\n",
       "      <th>16</th>\n",
       "      <td>amerika birleşik devletleri</td>\n",
       "      <td>trump</td>\n",
       "      <td>0.107959</td>\n",
       "    </tr>\n",
       "    <tr>\n",
       "      <th>17</th>\n",
       "      <td>amerika birleşik devletleri</td>\n",
       "      <td>tüm</td>\n",
       "      <td>0.059247</td>\n",
       "    </tr>\n",
       "    <tr>\n",
       "      <th>18</th>\n",
       "      <td>amerika birleşik devletleri</td>\n",
       "      <td>ulke</td>\n",
       "      <td>0.059484</td>\n",
       "    </tr>\n",
       "    <tr>\n",
       "      <th>19</th>\n",
       "      <td>amerika birleşik devletleri</td>\n",
       "      <td>vs</td>\n",
       "      <td>0.055618</td>\n",
       "    </tr>\n",
       "  </tbody>\n",
       "</table>\n",
       "</div>"
      ],
      "text/plain": [
       "                          topic  token     tfidf\n",
       "0                       almanya     bi  0.059472\n",
       "1                       almanya  büyük  0.100018\n",
       "2                       almanya     ev  0.053815\n",
       "3                       almanya    gün  0.058272\n",
       "4                       almanya    ilk  0.063048\n",
       "5                       almanya    iyi  0.109300\n",
       "6                       almanya     iş  0.085935\n",
       "7                       almanya    tek  0.055482\n",
       "8                       almanya   türk  0.093150\n",
       "9                       almanya     vs  0.062350\n",
       "10  amerika birleşik devletleri  büyük  0.130288\n",
       "11  amerika birleşik devletleri     ev  0.055361\n",
       "12  amerika birleşik devletleri   geri  0.050232\n",
       "13  amerika birleşik devletleri    ilk  0.066268\n",
       "14  amerika birleşik devletleri    iyi  0.120742\n",
       "15  amerika birleşik devletleri    tek  0.080745\n",
       "16  amerika birleşik devletleri  trump  0.107959\n",
       "17  amerika birleşik devletleri    tüm  0.059247\n",
       "18  amerika birleşik devletleri   ulke  0.059484\n",
       "19  amerika birleşik devletleri     vs  0.055618"
      ]
     },
     "execution_count": 6,
     "metadata": {},
     "output_type": "execute_result"
    }
   ],
   "source": [
    "# Prepare topic-level documents\n",
    "df_with_text = df.copy()\n",
    "df_with_text['token_text'] = df_with_text['tokens'].apply(lambda x: ' '.join(x))\n",
    "\n",
    "# Get complete filter terms once\n",
    "\n",
    "stopwords = get_turkish_stopwords(include_domain_stopwords=False)\n",
    "country_terms = extract_country_terms(df['topic'].unique())\n",
    "filter_terms = stopwords.union(country_terms)\n",
    "print(f\"\\nSome filter terms: {list(filter_terms)[:20]} ...\")\n",
    "\n",
    "FILTERED_TERMS = filter_terms  # Save for reuse\n",
    "\n",
    "# Initialize analyzer with GPU support\n",
    "analyzer = TfidfAnalyzer(min_df=2, max_df=0.3, max_features=2000, use_gpu=True)\n",
    "\n",
    "# Run analysis\n",
    "tfidf_matrix, top_terms = analyze_by_group(\n",
    "    df=df_with_text,\n",
    "    group_col='topic',\n",
    "    text_col='token_text',\n",
    "    analyzer=analyzer,\n",
    "    top_n=10,\n",
    "    filter_terms=FILTERED_TERMS  # Use the prepared filter terms\n",
    ")\n",
    "\n",
    "# Save to CSV with UTF-8 encoding\n",
    "output_file = \"country_topics_tfidf_top_terms.csv\"\n",
    "top_terms.to_csv(output_file, index=False, encoding='utf-8-sig')\n",
    "print(f\"\\nResults saved to: {output_file}\")\n",
    "\n",
    "print(f\"Top terms shape: {top_terms.shape}\")\n",
    "print(f\"Topics analyzed: {top_terms['topic'].nunique()}\")\n",
    "top_terms.head(20)"
   ]
  },
  {
   "cell_type": "markdown",
   "metadata": {},
   "source": [
    "## 5. Visualization: Top Terms per Topic"
   ]
  },
  {
   "cell_type": "code",
   "execution_count": 7,
   "metadata": {},
   "outputs": [
    {
     "data": {
      "application/vnd.plotly.v1+json": {
       "config": {
        "plotlyServerURL": "https://plot.ly"
       },
       "data": [
        {
         "branchvalues": "total",
         "customdata": [
          [
           "almanya"
          ],
          [
           "almanya"
          ],
          [
           "almanya"
          ],
          [
           "almanya"
          ],
          [
           "almanya"
          ],
          [
           "almanya"
          ],
          [
           "almanya"
          ],
          [
           "almanya"
          ],
          [
           "almanya"
          ],
          [
           "almanya"
          ],
          [
           "almanya"
          ],
          [
           "amerika birleşik devletleri"
          ],
          [
           "amerika birleşik devletleri"
          ],
          [
           "amerika birleşik devletleri"
          ],
          [
           "amerika birleşik devletleri"
          ],
          [
           "amerika birleşik devletleri"
          ],
          [
           "amerika birleşik devletleri"
          ],
          [
           "amerika birleşik devletleri"
          ],
          [
           "amerika birleşik devletleri"
          ],
          [
           "amerika birleşik devletleri"
          ],
          [
           "amerika birleşik devletleri"
          ],
          [
           "amerika birleşik devletleri"
          ],
          [
           "angola"
          ],
          [
           "angola"
          ],
          [
           "angola"
          ],
          [
           "angola"
          ],
          [
           "angola"
          ],
          [
           "angola"
          ],
          [
           "angola"
          ],
          [
           "angola"
          ],
          [
           "angola"
          ],
          [
           "angola"
          ],
          [
           "angola"
          ],
          [
           "bosna-hersek"
          ],
          [
           "bosna-hersek"
          ],
          [
           "bosna-hersek"
          ],
          [
           "bosna-hersek"
          ],
          [
           "bosna-hersek"
          ],
          [
           "bosna-hersek"
          ],
          [
           "bosna-hersek"
          ],
          [
           "bosna-hersek"
          ],
          [
           "bosna-hersek"
          ],
          [
           "bosna-hersek"
          ],
          [
           "bosna-hersek"
          ],
          [
           "cezayir"
          ],
          [
           "cezayir"
          ],
          [
           "cezayir"
          ],
          [
           "cezayir"
          ],
          [
           "cezayir"
          ],
          [
           "cezayir"
          ],
          [
           "cezayir"
          ],
          [
           "cezayir"
          ],
          [
           "cezayir"
          ],
          [
           "cezayir"
          ],
          [
           "cezayir"
          ],
          [
           "el salvador"
          ],
          [
           "el salvador"
          ],
          [
           "el salvador"
          ],
          [
           "el salvador"
          ],
          [
           "el salvador"
          ],
          [
           "el salvador"
          ],
          [
           "el salvador"
          ],
          [
           "el salvador"
          ],
          [
           "el salvador"
          ],
          [
           "el salvador"
          ],
          [
           "el salvador"
          ],
          [
           "ermenistan"
          ],
          [
           "ermenistan"
          ],
          [
           "ermenistan"
          ],
          [
           "ermenistan"
          ],
          [
           "ermenistan"
          ],
          [
           "ermenistan"
          ],
          [
           "ermenistan"
          ],
          [
           "ermenistan"
          ],
          [
           "ermenistan"
          ],
          [
           "ermenistan"
          ],
          [
           "ermenistan"
          ],
          [
           "filistin"
          ],
          [
           "filistin"
          ],
          [
           "filistin"
          ],
          [
           "filistin"
          ],
          [
           "filistin"
          ],
          [
           "filistin"
          ],
          [
           "filistin"
          ],
          [
           "filistin"
          ],
          [
           "filistin"
          ],
          [
           "filistin"
          ],
          [
           "filistin"
          ],
          [
           "fransa"
          ],
          [
           "fransa"
          ],
          [
           "fransa"
          ],
          [
           "fransa"
          ],
          [
           "fransa"
          ],
          [
           "fransa"
          ],
          [
           "fransa"
          ],
          [
           "fransa"
          ],
          [
           "fransa"
          ],
          [
           "fransa"
          ],
          [
           "fransa"
          ],
          [
           "güney kore"
          ],
          [
           "güney kore"
          ],
          [
           "güney kore"
          ],
          [
           "güney kore"
          ],
          [
           "güney kore"
          ],
          [
           "güney kore"
          ],
          [
           "güney kore"
          ],
          [
           "güney kore"
          ],
          [
           "güney kore"
          ],
          [
           "güney kore"
          ],
          [
           "güney kore"
          ],
          [
           "gürcistan"
          ],
          [
           "gürcistan"
          ],
          [
           "gürcistan"
          ],
          [
           "gürcistan"
          ],
          [
           "gürcistan"
          ],
          [
           "gürcistan"
          ],
          [
           "gürcistan"
          ],
          [
           "gürcistan"
          ],
          [
           "gürcistan"
          ],
          [
           "gürcistan"
          ],
          [
           "gürcistan"
          ],
          [
           "hindistan"
          ],
          [
           "hindistan"
          ],
          [
           "hindistan"
          ],
          [
           "hindistan"
          ],
          [
           "hindistan"
          ],
          [
           "hindistan"
          ],
          [
           "hindistan"
          ],
          [
           "hindistan"
          ],
          [
           "hindistan"
          ],
          [
           "hindistan"
          ],
          [
           "hindistan"
          ],
          [
           "iran"
          ],
          [
           "iran"
          ],
          [
           "iran"
          ],
          [
           "iran"
          ],
          [
           "iran"
          ],
          [
           "iran"
          ],
          [
           "iran"
          ],
          [
           "iran"
          ],
          [
           "iran"
          ],
          [
           "iran"
          ],
          [
           "iran"
          ],
          [
           "israil"
          ],
          [
           "israil"
          ],
          [
           "israil"
          ],
          [
           "israil"
          ],
          [
           "israil"
          ],
          [
           "israil"
          ],
          [
           "israil"
          ],
          [
           "israil"
          ],
          [
           "israil"
          ],
          [
           "israil"
          ],
          [
           "israil"
          ],
          [
           "isviçre"
          ],
          [
           "isviçre"
          ],
          [
           "isviçre"
          ],
          [
           "isviçre"
          ],
          [
           "isviçre"
          ],
          [
           "isviçre"
          ],
          [
           "isviçre"
          ],
          [
           "isviçre"
          ],
          [
           "isviçre"
          ],
          [
           "isviçre"
          ],
          [
           "isviçre"
          ],
          [
           "japonya"
          ],
          [
           "japonya"
          ],
          [
           "japonya"
          ],
          [
           "japonya"
          ],
          [
           "japonya"
          ],
          [
           "japonya"
          ],
          [
           "japonya"
          ],
          [
           "japonya"
          ],
          [
           "japonya"
          ],
          [
           "japonya"
          ],
          [
           "japonya"
          ],
          [
           "kanada"
          ],
          [
           "kanada"
          ],
          [
           "kanada"
          ],
          [
           "kanada"
          ],
          [
           "kanada"
          ],
          [
           "kanada"
          ],
          [
           "kanada"
          ],
          [
           "kanada"
          ],
          [
           "kanada"
          ],
          [
           "kanada"
          ],
          [
           "kanada"
          ],
          [
           "kazakistan"
          ],
          [
           "kazakistan"
          ],
          [
           "kazakistan"
          ],
          [
           "kazakistan"
          ],
          [
           "kazakistan"
          ],
          [
           "kazakistan"
          ],
          [
           "kazakistan"
          ],
          [
           "kazakistan"
          ],
          [
           "kazakistan"
          ],
          [
           "kazakistan"
          ],
          [
           "kazakistan"
          ],
          [
           "kuzey kore"
          ],
          [
           "kuzey kore"
          ],
          [
           "kuzey kore"
          ],
          [
           "kuzey kore"
          ],
          [
           "kuzey kore"
          ],
          [
           "kuzey kore"
          ],
          [
           "kuzey kore"
          ],
          [
           "kuzey kore"
          ],
          [
           "kuzey kore"
          ],
          [
           "kuzey kore"
          ],
          [
           "kuzey kore"
          ],
          [
           "kürdistan"
          ],
          [
           "kürdistan"
          ],
          [
           "kürdistan"
          ],
          [
           "kürdistan"
          ],
          [
           "kürdistan"
          ],
          [
           "kürdistan"
          ],
          [
           "kürdistan"
          ],
          [
           "kürdistan"
          ],
          [
           "kürdistan"
          ],
          [
           "kürdistan"
          ],
          [
           "kürdistan"
          ],
          [
           "kıbrıs"
          ],
          [
           "kıbrıs"
          ],
          [
           "kıbrıs"
          ],
          [
           "kıbrıs"
          ],
          [
           "kıbrıs"
          ],
          [
           "kıbrıs"
          ],
          [
           "kıbrıs"
          ],
          [
           "kıbrıs"
          ],
          [
           "kıbrıs"
          ],
          [
           "kıbrıs"
          ],
          [
           "kıbrıs"
          ],
          [
           "lihtenştayn"
          ],
          [
           "lihtenştayn"
          ],
          [
           "lihtenştayn"
          ],
          [
           "lihtenştayn"
          ],
          [
           "lihtenştayn"
          ],
          [
           "lihtenştayn"
          ],
          [
           "lihtenştayn"
          ],
          [
           "lihtenştayn"
          ],
          [
           "lihtenştayn"
          ],
          [
           "lihtenştayn"
          ],
          [
           "lihtenştayn"
          ],
          [
           "makedonya"
          ],
          [
           "makedonya"
          ],
          [
           "makedonya"
          ],
          [
           "makedonya"
          ],
          [
           "makedonya"
          ],
          [
           "makedonya"
          ],
          [
           "makedonya"
          ],
          [
           "makedonya"
          ],
          [
           "makedonya"
          ],
          [
           "makedonya"
          ],
          [
           "makedonya"
          ],
          [
           "moğolistan"
          ],
          [
           "moğolistan"
          ],
          [
           "moğolistan"
          ],
          [
           "moğolistan"
          ],
          [
           "moğolistan"
          ],
          [
           "moğolistan"
          ],
          [
           "moğolistan"
          ],
          [
           "moğolistan"
          ],
          [
           "moğolistan"
          ],
          [
           "moğolistan"
          ],
          [
           "moğolistan"
          ],
          [
           "pakistan"
          ],
          [
           "pakistan"
          ],
          [
           "pakistan"
          ],
          [
           "pakistan"
          ],
          [
           "pakistan"
          ],
          [
           "pakistan"
          ],
          [
           "pakistan"
          ],
          [
           "pakistan"
          ],
          [
           "pakistan"
          ],
          [
           "pakistan"
          ],
          [
           "pakistan"
          ],
          [
           "rusya"
          ],
          [
           "rusya"
          ],
          [
           "rusya"
          ],
          [
           "rusya"
          ],
          [
           "rusya"
          ],
          [
           "rusya"
          ],
          [
           "rusya"
          ],
          [
           "rusya"
          ],
          [
           "rusya"
          ],
          [
           "rusya"
          ],
          [
           "rusya"
          ],
          [
           "somali"
          ],
          [
           "somali"
          ],
          [
           "somali"
          ],
          [
           "somali"
          ],
          [
           "somali"
          ],
          [
           "somali"
          ],
          [
           "somali"
          ],
          [
           "somali"
          ],
          [
           "somali"
          ],
          [
           "somali"
          ],
          [
           "somali"
          ],
          [
           "suriye"
          ],
          [
           "suriye"
          ],
          [
           "suriye"
          ],
          [
           "suriye"
          ],
          [
           "suriye"
          ],
          [
           "suriye"
          ],
          [
           "suriye"
          ],
          [
           "suriye"
          ],
          [
           "suriye"
          ],
          [
           "suriye"
          ],
          [
           "suriye"
          ],
          [
           "suudi arabistan"
          ],
          [
           "suudi arabistan"
          ],
          [
           "suudi arabistan"
          ],
          [
           "suudi arabistan"
          ],
          [
           "suudi arabistan"
          ],
          [
           "suudi arabistan"
          ],
          [
           "suudi arabistan"
          ],
          [
           "suudi arabistan"
          ],
          [
           "suudi arabistan"
          ],
          [
           "suudi arabistan"
          ],
          [
           "suudi arabistan"
          ],
          [
           "sırbistan"
          ],
          [
           "sırbistan"
          ],
          [
           "sırbistan"
          ],
          [
           "sırbistan"
          ],
          [
           "sırbistan"
          ],
          [
           "sırbistan"
          ],
          [
           "sırbistan"
          ],
          [
           "sırbistan"
          ],
          [
           "sırbistan"
          ],
          [
           "sırbistan"
          ],
          [
           "sırbistan"
          ],
          [
           "türkiye"
          ],
          [
           "türkiye"
          ],
          [
           "türkiye"
          ],
          [
           "türkiye"
          ],
          [
           "türkiye"
          ],
          [
           "türkiye"
          ],
          [
           "türkiye"
          ],
          [
           "türkiye"
          ],
          [
           "türkiye"
          ],
          [
           "türkiye"
          ],
          [
           "türkiye"
          ],
          [
           "ukrayna"
          ],
          [
           "ukrayna"
          ],
          [
           "ukrayna"
          ],
          [
           "ukrayna"
          ],
          [
           "ukrayna"
          ],
          [
           "ukrayna"
          ],
          [
           "ukrayna"
          ],
          [
           "ukrayna"
          ],
          [
           "ukrayna"
          ],
          [
           "ukrayna"
          ],
          [
           "ukrayna"
          ],
          [
           "venezuela"
          ],
          [
           "venezuela"
          ],
          [
           "venezuela"
          ],
          [
           "venezuela"
          ],
          [
           "venezuela"
          ],
          [
           "venezuela"
          ],
          [
           "venezuela"
          ],
          [
           "venezuela"
          ],
          [
           "venezuela"
          ],
          [
           "venezuela"
          ],
          [
           "venezuela"
          ],
          [
           "vietnam"
          ],
          [
           "vietnam"
          ],
          [
           "vietnam"
          ],
          [
           "vietnam"
          ],
          [
           "vietnam"
          ],
          [
           "vietnam"
          ],
          [
           "vietnam"
          ],
          [
           "vietnam"
          ],
          [
           "vietnam"
          ],
          [
           "vietnam"
          ],
          [
           "vietnam"
          ],
          [
           "yeni zelanda"
          ],
          [
           "yeni zelanda"
          ],
          [
           "yeni zelanda"
          ],
          [
           "yeni zelanda"
          ],
          [
           "yeni zelanda"
          ],
          [
           "yeni zelanda"
          ],
          [
           "yeni zelanda"
          ],
          [
           "yeni zelanda"
          ],
          [
           "yeni zelanda"
          ],
          [
           "yeni zelanda"
          ],
          [
           "yeni zelanda"
          ],
          [
           "yunanistan"
          ],
          [
           "yunanistan"
          ],
          [
           "yunanistan"
          ],
          [
           "yunanistan"
          ],
          [
           "yunanistan"
          ],
          [
           "yunanistan"
          ],
          [
           "yunanistan"
          ],
          [
           "yunanistan"
          ],
          [
           "yunanistan"
          ],
          [
           "yunanistan"
          ],
          [
           "yunanistan"
          ],
          [
           "çin"
          ],
          [
           "çin"
          ],
          [
           "çin"
          ],
          [
           "çin"
          ],
          [
           "çin"
          ],
          [
           "çin"
          ],
          [
           "çin"
          ],
          [
           "çin"
          ],
          [
           "çin"
          ],
          [
           "çin"
          ],
          [
           "çin"
          ],
          [
           "ırak"
          ],
          [
           "ırak"
          ],
          [
           "ırak"
          ],
          [
           "ırak"
          ],
          [
           "ırak"
          ],
          [
           "ırak"
          ],
          [
           "ırak"
          ],
          [
           "ırak"
          ],
          [
           "ırak"
          ],
          [
           "ırak"
          ],
          [
           "ırak"
          ],
          [
           "şili"
          ],
          [
           "şili"
          ],
          [
           "şili"
          ],
          [
           "şili"
          ],
          [
           "şili"
          ],
          [
           "şili"
          ],
          [
           "şili"
          ],
          [
           "şili"
          ],
          [
           "şili"
          ],
          [
           "şili"
          ],
          [
           "şili"
          ]
         ],
         "domain": {
          "x": [
           0,
           1
          ],
          "y": [
           0,
           1
          ]
         },
         "hovertemplate": "labels=%{label}<br>tfidf=%{value}<br>parent=%{parent}<br>id=%{id}<br>topic=%{customdata[0]}<extra></extra>",
         "ids": [
          "almanya/bi",
          "almanya/vs",
          "almanya/türk",
          "almanya/tek",
          "almanya/iş",
          "almanya",
          "almanya/ilk",
          "almanya/gün",
          "almanya/ev",
          "almanya/büyük",
          "almanya/iyi",
          "amerika birleşik devletleri",
          "amerika birleşik devletleri/vs",
          "amerika birleşik devletleri/ulke",
          "amerika birleşik devletleri/tüm",
          "amerika birleşik devletleri/trump",
          "amerika birleşik devletleri/tek",
          "amerika birleşik devletleri/iyi",
          "amerika birleşik devletleri/ilk",
          "amerika birleşik devletleri/geri",
          "amerika birleşik devletleri/ev",
          "amerika birleşik devletleri/büyük",
          "angola/ülkesi",
          "angola/ülkedir",
          "angola/uzun",
          "angola/ulke",
          "angola/cumhuriyeti",
          "angola/su",
          "angola/km",
          "angola/iç",
          "angola/büyük",
          "angola/tüm",
          "angola",
          "bosna-hersek",
          "bosna-hersek/türk",
          "bosna-hersek/şehir",
          "bosna-hersek/yer",
          "bosna-hersek/tek",
          "bosna-hersek/güzel",
          "bosna-hersek/gün",
          "bosna-hersek/etnik",
          "bosna-hersek/cumhuriyeti",
          "bosna-hersek/km",
          "bosna-hersek/büyük",
          "cezayir",
          "cezayir/şehir",
          "cezayir/yıl",
          "cezayir/yer",
          "cezayir/türk",
          "cezayir/kuzey",
          "cezayir/iş",
          "cezayir/iyi",
          "cezayir/ilk",
          "cezayir/güzel",
          "cezayir/büyük",
          "el salvador",
          "el salvador/ülkesi",
          "el salvador/un",
          "el salvador/el",
          "el salvador/suç",
          "el salvador/iç",
          "el salvador/iyi",
          "el salvador/ilk",
          "el salvador/büyük",
          "el salvador/bütün",
          "el salvador/ulke",
          "ermenistan",
          "ermenistan/ülkedir",
          "ermenistan/tek",
          "ermenistan/türkler",
          "ermenistan/terör",
          "ermenistan/rus",
          "ermenistan/yıl",
          "ermenistan/iyi",
          "ermenistan/büyük",
          "ermenistan/tüm",
          "ermenistan/türk",
          "filistin/türk",
          "filistin/yer",
          "filistin/yıl",
          "filistin/bütün",
          "filistin/büyük",
          "filistin/el",
          "filistin/ilk",
          "filistin/tek",
          "filistin",
          "filistin/kudüs",
          "filistin/tüm",
          "fransa",
          "fransa/un",
          "fransa/türk",
          "fransa/tüm",
          "fransa/tek",
          "fransa/iyi",
          "fransa/ilk",
          "fransa/güzel",
          "fransa/büyük",
          "fransa/ülkedir",
          "fransa/le",
          "güney kore",
          "güney kore/kuzey",
          "güney kore/yer",
          "güney kore/büyük",
          "güney kore/güzel",
          "güney kore/ilk",
          "güney kore/iyi",
          "güney kore/iş",
          "güney kore/tek",
          "güney kore/türk",
          "güney kore/yüksek",
          "gürcistan",
          "gürcistan/gel",
          "gürcistan/yer",
          "gürcistan/ucuz",
          "gürcistan/türk",
          "gürcistan/tek",
          "gürcistan/rus",
          "gürcistan/iyi",
          "gürcistan/ilk",
          "gürcistan/güzel",
          "gürcistan/büyük",
          "hindistan",
          "hindistan/ülkedir",
          "hindistan/tek",
          "hindistan/büyük",
          "hindistan/gün",
          "hindistan/güzel",
          "hindistan/ilk",
          "hindistan/iyi",
          "hindistan/yemek",
          "hindistan/yer",
          "hindistan/ülkesi",
          "iran/büyük",
          "iran/ilk",
          "iran",
          "iran/iyi",
          "iran/nükleer",
          "iran/şii",
          "iran/türk",
          "iran/tüm",
          "iran/tek",
          "iran/rejim",
          "iran/ülkedir",
          "israil/bütün",
          "israil/kudüs",
          "israil/büyük",
          "israil/gün",
          "israil/ilk",
          "israil/iyi",
          "israil",
          "israil/tek",
          "israil/terör",
          "israil/tüm",
          "israil/türk",
          "isviçre/yer",
          "isviçre/bi",
          "isviçre/büyük",
          "isviçre/ev",
          "isviçre/gün",
          "isviçre/güzel",
          "isviçre/iyi",
          "isviçre/yüksek",
          "isviçre",
          "isviçre/tek",
          "isviçre/ulke",
          "japonya/güzel",
          "japonya",
          "japonya/yer",
          "japonya/türk",
          "japonya/tek",
          "japonya/büyük",
          "japonya/iş",
          "japonya/iyi",
          "japonya/ilk",
          "japonya/gün",
          "japonya/kürt",
          "kanada/ev",
          "kanada/vs",
          "kanada/ulke",
          "kanada/tek",
          "kanada/iş",
          "kanada/iyi",
          "kanada/ilk",
          "kanada",
          "kanada/büyük",
          "kanada/bi",
          "kanada/yer",
          "kazakistan",
          "kazakistan/tek",
          "kazakistan/vs",
          "kazakistan/bütün",
          "kazakistan/büyük",
          "kazakistan/gün",
          "kazakistan/güzel",
          "kazakistan/ilk",
          "kazakistan/iyi",
          "kazakistan/rus",
          "kazakistan/türk",
          "kuzey kore/tüm",
          "kuzey kore/tek",
          "kuzey kore/rejim",
          "kuzey kore/kuzey",
          "kuzey kore/yıl",
          "kuzey kore/dış",
          "kuzey kore/büyük",
          "kuzey kore",
          "kuzey kore/füze",
          "kuzey kore/un",
          "kuzey kore/nükleer",
          "kürdistan/yer",
          "kürdistan/bi",
          "kürdistan/bölge",
          "kürdistan",
          "kürdistan/büyük",
          "kürdistan/cumhuriyeti",
          "kürdistan/kuzey",
          "kürdistan/kürt",
          "kürdistan/pkk",
          "kürdistan/tek",
          "kürdistan/türk",
          "kıbrıs/yer",
          "kıbrıs/büyük",
          "kıbrıs/gün",
          "kıbrıs/güzel",
          "kıbrıs/ilk",
          "kıbrıs/iyi",
          "kıbrıs/kuzey",
          "kıbrıs/tek",
          "kıbrıs",
          "kıbrıs/türk",
          "kıbrıs/türkler",
          "lihtenştayn",
          "lihtenştayn/nüfus",
          "lihtenştayn/ülkeyi",
          "lihtenştayn/büyük",
          "lihtenştayn/erkek",
          "lihtenştayn/gün",
          "lihtenştayn/ulke",
          "lihtenştayn/yer",
          "lihtenştayn/yıl",
          "lihtenştayn/ülkesi",
          "lihtenştayn/bi",
          "makedonya/büyük",
          "makedonya/güzel",
          "makedonya/ilk",
          "makedonya/iyi",
          "makedonya/kuzey",
          "makedonya/türk",
          "makedonya/türkçe",
          "makedonya/yer",
          "makedonya/şehir",
          "makedonya/gün",
          "makedonya",
          "moğolistan",
          "moğolistan/ilk",
          "moğolistan/güzel",
          "moğolistan/büyük",
          "moğolistan/et",
          "moğolistan/km",
          "moğolistan/türk",
          "moğolistan/yer",
          "moğolistan/ülkedir",
          "moğolistan/ülkesi",
          "moğolistan/tek",
          "pakistan/büyük",
          "pakistan/ciddi",
          "pakistan/ilk",
          "pakistan/iyi",
          "pakistan/nükleer",
          "pakistan/tek",
          "pakistan/tüm",
          "pakistan/yer",
          "pakistan/ülkedir",
          "pakistan",
          "pakistan/türk",
          "rusya/büyük",
          "rusya/ilk",
          "rusya/tek",
          "rusya/iyi",
          "rusya/tüm",
          "rusya/kırım",
          "rusya/nükleer",
          "rusya",
          "rusya/türk",
          "rusya/rus",
          "rusya/ülkedir",
          "somali/tek",
          "somali/türk",
          "somali/ye",
          "somali",
          "somali/bi",
          "somali/büyük",
          "somali/el",
          "somali/etmek",
          "somali/yer",
          "somali/terör",
          "somali/iç",
          "suriye/büyük",
          "suriye/iç",
          "suriye/pkk",
          "suriye/el",
          "suriye/sünni",
          "suriye/tek",
          "suriye/türk",
          "suriye/ypg",
          "suriye",
          "suriye/rejim",
          "suriye/terör",
          "suudi arabistan",
          "suudi arabistan/tüm",
          "suudi arabistan/büyük",
          "suudi arabistan/ilk",
          "suudi arabistan/iyi",
          "suudi arabistan/suudi",
          "suudi arabistan/ülkesi",
          "suudi arabistan/yıl",
          "suudi arabistan/türk",
          "suudi arabistan/tek",
          "suudi arabistan/ülkedir",
          "sırbistan",
          "sırbistan/yer",
          "sırbistan/büyük",
          "sırbistan/gün",
          "sırbistan/güzel",
          "sırbistan/ilk",
          "sırbistan/iyi",
          "sırbistan/tek",
          "sırbistan/türk",
          "sırbistan/vize",
          "sırbistan/ülkedir",
          "türkiye/büyük",
          "türkiye/yer",
          "türkiye/türk",
          "türkiye/tüm",
          "türkiye/tek",
          "türkiye/ülkem",
          "türkiye",
          "türkiye/güzel",
          "türkiye/gün",
          "türkiye/ülkedir",
          "türkiye/iyi",
          "ukrayna/gün",
          "ukrayna/büyük",
          "ukrayna/güzel",
          "ukrayna",
          "ukrayna/türk",
          "ukrayna/tek",
          "ukrayna/yer",
          "ukrayna/kırım",
          "ukrayna/iyi",
          "ukrayna/ilk",
          "ukrayna/rus",
          "venezuela",
          "venezuela/büyük",
          "venezuela/ülkeyi",
          "venezuela/ülkedir",
          "venezuela/ulke",
          "venezuela/tüm",
          "venezuela/tek",
          "venezuela/kötü",
          "venezuela/iyi",
          "venezuela/ilk",
          "venezuela/güzel",
          "vietnam",
          "vietnam/büyük",
          "vietnam/yer",
          "vietnam/görsel",
          "vietnam/gün",
          "vietnam/güzel",
          "vietnam/ilk",
          "vietnam/iyi",
          "vietnam/ucuz",
          "vietnam/vize",
          "vietnam/yemek",
          "yeni zelanda/yer",
          "yeni zelanda/vs",
          "yeni zelanda/ulke",
          "yeni zelanda/tek",
          "yeni zelanda/iş",
          "yeni zelanda/iyi",
          "yeni zelanda/ilk",
          "yeni zelanda/güzel",
          "yeni zelanda/gün",
          "yeni zelanda/büyük",
          "yeni zelanda",
          "yunanistan/güzel",
          "yunanistan/iyi",
          "yunanistan/ülkedir",
          "yunanistan/ilk",
          "yunanistan/ege",
          "yunanistan/tüm",
          "yunanistan/bi",
          "yunanistan/türk",
          "yunanistan",
          "yunanistan/büyük",
          "yunanistan/tek",
          "çin",
          "çin/tüm",
          "çin/büyük",
          "çin/geri",
          "çin/ilk",
          "çin/iyi",
          "çin/uzun",
          "çin/yıl",
          "çin/özellikle",
          "çin/üretim",
          "çin/tek",
          "ırak/sünni",
          "ırak/merkezi",
          "ırak/kürt",
          "ırak/bölgesel",
          "ırak/el",
          "ırak/büyük",
          "ırak/ilk",
          "ırak/yer",
          "ırak/şii",
          "ırak",
          "ırak/ışid",
          "şili/büyük",
          "şili/gelir",
          "şili/güzel",
          "şili/ilk",
          "şili/km",
          "şili/tek",
          "şili/ulke",
          "şili/uzun",
          "şili/yer",
          "şili/ülkesi",
          "şili"
         ],
         "labels": [
          "bi",
          "vs",
          "türk",
          "tek",
          "iş",
          "almanya",
          "ilk",
          "gün",
          "ev",
          "büyük",
          "iyi",
          "amerika birleşik devletleri",
          "vs",
          "ulke",
          "tüm",
          "trump",
          "tek",
          "iyi",
          "ilk",
          "geri",
          "ev",
          "büyük",
          "ülkesi",
          "ülkedir",
          "uzun",
          "ulke",
          "cumhuriyeti",
          "su",
          "km",
          "iç",
          "büyük",
          "tüm",
          "angola",
          "bosna-hersek",
          "türk",
          "şehir",
          "yer",
          "tek",
          "güzel",
          "gün",
          "etnik",
          "cumhuriyeti",
          "km",
          "büyük",
          "cezayir",
          "şehir",
          "yıl",
          "yer",
          "türk",
          "kuzey",
          "iş",
          "iyi",
          "ilk",
          "güzel",
          "büyük",
          "el salvador",
          "ülkesi",
          "un",
          "el",
          "suç",
          "iç",
          "iyi",
          "ilk",
          "büyük",
          "bütün",
          "ulke",
          "ermenistan",
          "ülkedir",
          "tek",
          "türkler",
          "terör",
          "rus",
          "yıl",
          "iyi",
          "büyük",
          "tüm",
          "türk",
          "türk",
          "yer",
          "yıl",
          "bütün",
          "büyük",
          "el",
          "ilk",
          "tek",
          "filistin",
          "kudüs",
          "tüm",
          "fransa",
          "un",
          "türk",
          "tüm",
          "tek",
          "iyi",
          "ilk",
          "güzel",
          "büyük",
          "ülkedir",
          "le",
          "güney kore",
          "kuzey",
          "yer",
          "büyük",
          "güzel",
          "ilk",
          "iyi",
          "iş",
          "tek",
          "türk",
          "yüksek",
          "gürcistan",
          "gel",
          "yer",
          "ucuz",
          "türk",
          "tek",
          "rus",
          "iyi",
          "ilk",
          "güzel",
          "büyük",
          "hindistan",
          "ülkedir",
          "tek",
          "büyük",
          "gün",
          "güzel",
          "ilk",
          "iyi",
          "yemek",
          "yer",
          "ülkesi",
          "büyük",
          "ilk",
          "iran",
          "iyi",
          "nükleer",
          "şii",
          "türk",
          "tüm",
          "tek",
          "rejim",
          "ülkedir",
          "bütün",
          "kudüs",
          "büyük",
          "gün",
          "ilk",
          "iyi",
          "israil",
          "tek",
          "terör",
          "tüm",
          "türk",
          "yer",
          "bi",
          "büyük",
          "ev",
          "gün",
          "güzel",
          "iyi",
          "yüksek",
          "isviçre",
          "tek",
          "ulke",
          "güzel",
          "japonya",
          "yer",
          "türk",
          "tek",
          "büyük",
          "iş",
          "iyi",
          "ilk",
          "gün",
          "kürt",
          "ev",
          "vs",
          "ulke",
          "tek",
          "iş",
          "iyi",
          "ilk",
          "kanada",
          "büyük",
          "bi",
          "yer",
          "kazakistan",
          "tek",
          "vs",
          "bütün",
          "büyük",
          "gün",
          "güzel",
          "ilk",
          "iyi",
          "rus",
          "türk",
          "tüm",
          "tek",
          "rejim",
          "kuzey",
          "yıl",
          "dış",
          "büyük",
          "kuzey kore",
          "füze",
          "un",
          "nükleer",
          "yer",
          "bi",
          "bölge",
          "kürdistan",
          "büyük",
          "cumhuriyeti",
          "kuzey",
          "kürt",
          "pkk",
          "tek",
          "türk",
          "yer",
          "büyük",
          "gün",
          "güzel",
          "ilk",
          "iyi",
          "kuzey",
          "tek",
          "kıbrıs",
          "türk",
          "türkler",
          "lihtenştayn",
          "nüfus",
          "ülkeyi",
          "büyük",
          "erkek",
          "gün",
          "ulke",
          "yer",
          "yıl",
          "ülkesi",
          "bi",
          "büyük",
          "güzel",
          "ilk",
          "iyi",
          "kuzey",
          "türk",
          "türkçe",
          "yer",
          "şehir",
          "gün",
          "makedonya",
          "moğolistan",
          "ilk",
          "güzel",
          "büyük",
          "et",
          "km",
          "türk",
          "yer",
          "ülkedir",
          "ülkesi",
          "tek",
          "büyük",
          "ciddi",
          "ilk",
          "iyi",
          "nükleer",
          "tek",
          "tüm",
          "yer",
          "ülkedir",
          "pakistan",
          "türk",
          "büyük",
          "ilk",
          "tek",
          "iyi",
          "tüm",
          "kırım",
          "nükleer",
          "rusya",
          "türk",
          "rus",
          "ülkedir",
          "tek",
          "türk",
          "ye",
          "somali",
          "bi",
          "büyük",
          "el",
          "etmek",
          "yer",
          "terör",
          "iç",
          "büyük",
          "iç",
          "pkk",
          "el",
          "sünni",
          "tek",
          "türk",
          "ypg",
          "suriye",
          "rejim",
          "terör",
          "suudi arabistan",
          "tüm",
          "büyük",
          "ilk",
          "iyi",
          "suudi",
          "ülkesi",
          "yıl",
          "türk",
          "tek",
          "ülkedir",
          "sırbistan",
          "yer",
          "büyük",
          "gün",
          "güzel",
          "ilk",
          "iyi",
          "tek",
          "türk",
          "vize",
          "ülkedir",
          "büyük",
          "yer",
          "türk",
          "tüm",
          "tek",
          "ülkem",
          "türkiye",
          "güzel",
          "gün",
          "ülkedir",
          "iyi",
          "gün",
          "büyük",
          "güzel",
          "ukrayna",
          "türk",
          "tek",
          "yer",
          "kırım",
          "iyi",
          "ilk",
          "rus",
          "venezuela",
          "büyük",
          "ülkeyi",
          "ülkedir",
          "ulke",
          "tüm",
          "tek",
          "kötü",
          "iyi",
          "ilk",
          "güzel",
          "vietnam",
          "büyük",
          "yer",
          "görsel",
          "gün",
          "güzel",
          "ilk",
          "iyi",
          "ucuz",
          "vize",
          "yemek",
          "yer",
          "vs",
          "ulke",
          "tek",
          "iş",
          "iyi",
          "ilk",
          "güzel",
          "gün",
          "büyük",
          "yeni zelanda",
          "güzel",
          "iyi",
          "ülkedir",
          "ilk",
          "ege",
          "tüm",
          "bi",
          "türk",
          "yunanistan",
          "büyük",
          "tek",
          "çin",
          "tüm",
          "büyük",
          "geri",
          "ilk",
          "iyi",
          "uzun",
          "yıl",
          "özellikle",
          "üretim",
          "tek",
          "sünni",
          "merkezi",
          "kürt",
          "bölgesel",
          "el",
          "büyük",
          "ilk",
          "yer",
          "şii",
          "ırak",
          "ışid",
          "büyük",
          "gelir",
          "güzel",
          "ilk",
          "km",
          "tek",
          "ulke",
          "uzun",
          "yer",
          "ülkesi",
          "şili"
         ],
         "marker": {
          "colors": [
           "rgb(141,211,199)",
           "rgb(141,211,199)",
           "rgb(141,211,199)",
           "rgb(141,211,199)",
           "rgb(141,211,199)",
           "rgb(141,211,199)",
           "rgb(141,211,199)",
           "rgb(141,211,199)",
           "rgb(141,211,199)",
           "rgb(141,211,199)",
           "rgb(141,211,199)",
           "rgb(255,255,179)",
           "rgb(255,255,179)",
           "rgb(255,255,179)",
           "rgb(255,255,179)",
           "rgb(255,255,179)",
           "rgb(255,255,179)",
           "rgb(255,255,179)",
           "rgb(255,255,179)",
           "rgb(255,255,179)",
           "rgb(255,255,179)",
           "rgb(255,255,179)",
           "rgb(190,186,218)",
           "rgb(190,186,218)",
           "rgb(190,186,218)",
           "rgb(190,186,218)",
           "rgb(190,186,218)",
           "rgb(190,186,218)",
           "rgb(190,186,218)",
           "rgb(190,186,218)",
           "rgb(190,186,218)",
           "rgb(190,186,218)",
           "rgb(190,186,218)",
           "rgb(251,128,114)",
           "rgb(251,128,114)",
           "rgb(251,128,114)",
           "rgb(251,128,114)",
           "rgb(251,128,114)",
           "rgb(251,128,114)",
           "rgb(251,128,114)",
           "rgb(251,128,114)",
           "rgb(251,128,114)",
           "rgb(251,128,114)",
           "rgb(251,128,114)",
           "rgb(128,177,211)",
           "rgb(128,177,211)",
           "rgb(128,177,211)",
           "rgb(128,177,211)",
           "rgb(128,177,211)",
           "rgb(128,177,211)",
           "rgb(128,177,211)",
           "rgb(128,177,211)",
           "rgb(128,177,211)",
           "rgb(128,177,211)",
           "rgb(128,177,211)",
           "rgb(253,180,98)",
           "rgb(253,180,98)",
           "rgb(253,180,98)",
           "rgb(253,180,98)",
           "rgb(253,180,98)",
           "rgb(253,180,98)",
           "rgb(253,180,98)",
           "rgb(253,180,98)",
           "rgb(253,180,98)",
           "rgb(253,180,98)",
           "rgb(253,180,98)",
           "rgb(179,222,105)",
           "rgb(179,222,105)",
           "rgb(179,222,105)",
           "rgb(179,222,105)",
           "rgb(179,222,105)",
           "rgb(179,222,105)",
           "rgb(179,222,105)",
           "rgb(179,222,105)",
           "rgb(179,222,105)",
           "rgb(179,222,105)",
           "rgb(179,222,105)",
           "rgb(252,205,229)",
           "rgb(252,205,229)",
           "rgb(252,205,229)",
           "rgb(252,205,229)",
           "rgb(252,205,229)",
           "rgb(252,205,229)",
           "rgb(252,205,229)",
           "rgb(252,205,229)",
           "rgb(252,205,229)",
           "rgb(252,205,229)",
           "rgb(252,205,229)",
           "rgb(217,217,217)",
           "rgb(217,217,217)",
           "rgb(217,217,217)",
           "rgb(217,217,217)",
           "rgb(217,217,217)",
           "rgb(217,217,217)",
           "rgb(217,217,217)",
           "rgb(217,217,217)",
           "rgb(217,217,217)",
           "rgb(217,217,217)",
           "rgb(217,217,217)",
           "rgb(188,128,189)",
           "rgb(188,128,189)",
           "rgb(188,128,189)",
           "rgb(188,128,189)",
           "rgb(188,128,189)",
           "rgb(188,128,189)",
           "rgb(188,128,189)",
           "rgb(188,128,189)",
           "rgb(188,128,189)",
           "rgb(188,128,189)",
           "rgb(188,128,189)",
           "rgb(204,235,197)",
           "rgb(204,235,197)",
           "rgb(204,235,197)",
           "rgb(204,235,197)",
           "rgb(204,235,197)",
           "rgb(204,235,197)",
           "rgb(204,235,197)",
           "rgb(204,235,197)",
           "rgb(204,235,197)",
           "rgb(204,235,197)",
           "rgb(204,235,197)",
           "rgb(255,237,111)",
           "rgb(255,237,111)",
           "rgb(255,237,111)",
           "rgb(255,237,111)",
           "rgb(255,237,111)",
           "rgb(255,237,111)",
           "rgb(255,237,111)",
           "rgb(255,237,111)",
           "rgb(255,237,111)",
           "rgb(255,237,111)",
           "rgb(255,237,111)",
           "rgb(141,211,199)",
           "rgb(141,211,199)",
           "rgb(141,211,199)",
           "rgb(141,211,199)",
           "rgb(141,211,199)",
           "rgb(141,211,199)",
           "rgb(141,211,199)",
           "rgb(141,211,199)",
           "rgb(141,211,199)",
           "rgb(141,211,199)",
           "rgb(141,211,199)",
           "rgb(255,255,179)",
           "rgb(255,255,179)",
           "rgb(255,255,179)",
           "rgb(255,255,179)",
           "rgb(255,255,179)",
           "rgb(255,255,179)",
           "rgb(255,255,179)",
           "rgb(255,255,179)",
           "rgb(255,255,179)",
           "rgb(255,255,179)",
           "rgb(255,255,179)",
           "rgb(190,186,218)",
           "rgb(190,186,218)",
           "rgb(190,186,218)",
           "rgb(190,186,218)",
           "rgb(190,186,218)",
           "rgb(190,186,218)",
           "rgb(190,186,218)",
           "rgb(190,186,218)",
           "rgb(190,186,218)",
           "rgb(190,186,218)",
           "rgb(190,186,218)",
           "rgb(251,128,114)",
           "rgb(251,128,114)",
           "rgb(251,128,114)",
           "rgb(251,128,114)",
           "rgb(251,128,114)",
           "rgb(251,128,114)",
           "rgb(251,128,114)",
           "rgb(251,128,114)",
           "rgb(251,128,114)",
           "rgb(251,128,114)",
           "rgb(251,128,114)",
           "rgb(128,177,211)",
           "rgb(128,177,211)",
           "rgb(128,177,211)",
           "rgb(128,177,211)",
           "rgb(128,177,211)",
           "rgb(128,177,211)",
           "rgb(128,177,211)",
           "rgb(128,177,211)",
           "rgb(128,177,211)",
           "rgb(128,177,211)",
           "rgb(128,177,211)",
           "rgb(253,180,98)",
           "rgb(253,180,98)",
           "rgb(253,180,98)",
           "rgb(253,180,98)",
           "rgb(253,180,98)",
           "rgb(253,180,98)",
           "rgb(253,180,98)",
           "rgb(253,180,98)",
           "rgb(253,180,98)",
           "rgb(253,180,98)",
           "rgb(253,180,98)",
           "rgb(179,222,105)",
           "rgb(179,222,105)",
           "rgb(179,222,105)",
           "rgb(179,222,105)",
           "rgb(179,222,105)",
           "rgb(179,222,105)",
           "rgb(179,222,105)",
           "rgb(179,222,105)",
           "rgb(179,222,105)",
           "rgb(179,222,105)",
           "rgb(179,222,105)",
           "rgb(252,205,229)",
           "rgb(252,205,229)",
           "rgb(252,205,229)",
           "rgb(252,205,229)",
           "rgb(252,205,229)",
           "rgb(252,205,229)",
           "rgb(252,205,229)",
           "rgb(252,205,229)",
           "rgb(252,205,229)",
           "rgb(252,205,229)",
           "rgb(252,205,229)",
           "rgb(217,217,217)",
           "rgb(217,217,217)",
           "rgb(217,217,217)",
           "rgb(217,217,217)",
           "rgb(217,217,217)",
           "rgb(217,217,217)",
           "rgb(217,217,217)",
           "rgb(217,217,217)",
           "rgb(217,217,217)",
           "rgb(217,217,217)",
           "rgb(217,217,217)",
           "rgb(188,128,189)",
           "rgb(188,128,189)",
           "rgb(188,128,189)",
           "rgb(188,128,189)",
           "rgb(188,128,189)",
           "rgb(188,128,189)",
           "rgb(188,128,189)",
           "rgb(188,128,189)",
           "rgb(188,128,189)",
           "rgb(188,128,189)",
           "rgb(188,128,189)",
           "rgb(204,235,197)",
           "rgb(204,235,197)",
           "rgb(204,235,197)",
           "rgb(204,235,197)",
           "rgb(204,235,197)",
           "rgb(204,235,197)",
           "rgb(204,235,197)",
           "rgb(204,235,197)",
           "rgb(204,235,197)",
           "rgb(204,235,197)",
           "rgb(204,235,197)",
           "rgb(255,237,111)",
           "rgb(255,237,111)",
           "rgb(255,237,111)",
           "rgb(255,237,111)",
           "rgb(255,237,111)",
           "rgb(255,237,111)",
           "rgb(255,237,111)",
           "rgb(255,237,111)",
           "rgb(255,237,111)",
           "rgb(255,237,111)",
           "rgb(255,237,111)",
           "rgb(141,211,199)",
           "rgb(141,211,199)",
           "rgb(141,211,199)",
           "rgb(141,211,199)",
           "rgb(141,211,199)",
           "rgb(141,211,199)",
           "rgb(141,211,199)",
           "rgb(141,211,199)",
           "rgb(141,211,199)",
           "rgb(141,211,199)",
           "rgb(141,211,199)",
           "rgb(255,255,179)",
           "rgb(255,255,179)",
           "rgb(255,255,179)",
           "rgb(255,255,179)",
           "rgb(255,255,179)",
           "rgb(255,255,179)",
           "rgb(255,255,179)",
           "rgb(255,255,179)",
           "rgb(255,255,179)",
           "rgb(255,255,179)",
           "rgb(255,255,179)",
           "rgb(190,186,218)",
           "rgb(190,186,218)",
           "rgb(190,186,218)",
           "rgb(190,186,218)",
           "rgb(190,186,218)",
           "rgb(190,186,218)",
           "rgb(190,186,218)",
           "rgb(190,186,218)",
           "rgb(190,186,218)",
           "rgb(190,186,218)",
           "rgb(190,186,218)",
           "rgb(251,128,114)",
           "rgb(251,128,114)",
           "rgb(251,128,114)",
           "rgb(251,128,114)",
           "rgb(251,128,114)",
           "rgb(251,128,114)",
           "rgb(251,128,114)",
           "rgb(251,128,114)",
           "rgb(251,128,114)",
           "rgb(251,128,114)",
           "rgb(251,128,114)",
           "rgb(128,177,211)",
           "rgb(128,177,211)",
           "rgb(128,177,211)",
           "rgb(128,177,211)",
           "rgb(128,177,211)",
           "rgb(128,177,211)",
           "rgb(128,177,211)",
           "rgb(128,177,211)",
           "rgb(128,177,211)",
           "rgb(128,177,211)",
           "rgb(128,177,211)",
           "rgb(253,180,98)",
           "rgb(253,180,98)",
           "rgb(253,180,98)",
           "rgb(253,180,98)",
           "rgb(253,180,98)",
           "rgb(253,180,98)",
           "rgb(253,180,98)",
           "rgb(253,180,98)",
           "rgb(253,180,98)",
           "rgb(253,180,98)",
           "rgb(253,180,98)",
           "rgb(179,222,105)",
           "rgb(179,222,105)",
           "rgb(179,222,105)",
           "rgb(179,222,105)",
           "rgb(179,222,105)",
           "rgb(179,222,105)",
           "rgb(179,222,105)",
           "rgb(179,222,105)",
           "rgb(179,222,105)",
           "rgb(179,222,105)",
           "rgb(179,222,105)",
           "rgb(252,205,229)",
           "rgb(252,205,229)",
           "rgb(252,205,229)",
           "rgb(252,205,229)",
           "rgb(252,205,229)",
           "rgb(252,205,229)",
           "rgb(252,205,229)",
           "rgb(252,205,229)",
           "rgb(252,205,229)",
           "rgb(252,205,229)",
           "rgb(252,205,229)",
           "rgb(217,217,217)",
           "rgb(217,217,217)",
           "rgb(217,217,217)",
           "rgb(217,217,217)",
           "rgb(217,217,217)",
           "rgb(217,217,217)",
           "rgb(217,217,217)",
           "rgb(217,217,217)",
           "rgb(217,217,217)",
           "rgb(217,217,217)",
           "rgb(217,217,217)",
           "rgb(188,128,189)",
           "rgb(188,128,189)",
           "rgb(188,128,189)",
           "rgb(188,128,189)",
           "rgb(188,128,189)",
           "rgb(188,128,189)",
           "rgb(188,128,189)",
           "rgb(188,128,189)",
           "rgb(188,128,189)",
           "rgb(188,128,189)",
           "rgb(188,128,189)",
           "rgb(204,235,197)",
           "rgb(204,235,197)",
           "rgb(204,235,197)",
           "rgb(204,235,197)",
           "rgb(204,235,197)",
           "rgb(204,235,197)",
           "rgb(204,235,197)",
           "rgb(204,235,197)",
           "rgb(204,235,197)",
           "rgb(204,235,197)",
           "rgb(204,235,197)",
           "rgb(255,237,111)",
           "rgb(255,237,111)",
           "rgb(255,237,111)",
           "rgb(255,237,111)",
           "rgb(255,237,111)",
           "rgb(255,237,111)",
           "rgb(255,237,111)",
           "rgb(255,237,111)",
           "rgb(255,237,111)",
           "rgb(255,237,111)",
           "rgb(255,237,111)",
           "rgb(141,211,199)",
           "rgb(141,211,199)",
           "rgb(141,211,199)",
           "rgb(141,211,199)",
           "rgb(141,211,199)",
           "rgb(141,211,199)",
           "rgb(141,211,199)",
           "rgb(141,211,199)",
           "rgb(141,211,199)",
           "rgb(141,211,199)",
           "rgb(141,211,199)",
           "rgb(255,255,179)",
           "rgb(255,255,179)",
           "rgb(255,255,179)",
           "rgb(255,255,179)",
           "rgb(255,255,179)",
           "rgb(255,255,179)",
           "rgb(255,255,179)",
           "rgb(255,255,179)",
           "rgb(255,255,179)",
           "rgb(255,255,179)",
           "rgb(255,255,179)",
           "rgb(190,186,218)",
           "rgb(190,186,218)",
           "rgb(190,186,218)",
           "rgb(190,186,218)",
           "rgb(190,186,218)",
           "rgb(190,186,218)",
           "rgb(190,186,218)",
           "rgb(190,186,218)",
           "rgb(190,186,218)",
           "rgb(190,186,218)",
           "rgb(190,186,218)"
          ]
         },
         "name": "",
         "parents": [
          "almanya",
          "almanya",
          "almanya",
          "almanya",
          "almanya",
          "",
          "almanya",
          "almanya",
          "almanya",
          "almanya",
          "almanya",
          "",
          "amerika birleşik devletleri",
          "amerika birleşik devletleri",
          "amerika birleşik devletleri",
          "amerika birleşik devletleri",
          "amerika birleşik devletleri",
          "amerika birleşik devletleri",
          "amerika birleşik devletleri",
          "amerika birleşik devletleri",
          "amerika birleşik devletleri",
          "amerika birleşik devletleri",
          "angola",
          "angola",
          "angola",
          "angola",
          "angola",
          "angola",
          "angola",
          "angola",
          "angola",
          "angola",
          "",
          "",
          "bosna-hersek",
          "bosna-hersek",
          "bosna-hersek",
          "bosna-hersek",
          "bosna-hersek",
          "bosna-hersek",
          "bosna-hersek",
          "bosna-hersek",
          "bosna-hersek",
          "bosna-hersek",
          "",
          "cezayir",
          "cezayir",
          "cezayir",
          "cezayir",
          "cezayir",
          "cezayir",
          "cezayir",
          "cezayir",
          "cezayir",
          "cezayir",
          "",
          "el salvador",
          "el salvador",
          "el salvador",
          "el salvador",
          "el salvador",
          "el salvador",
          "el salvador",
          "el salvador",
          "el salvador",
          "el salvador",
          "",
          "ermenistan",
          "ermenistan",
          "ermenistan",
          "ermenistan",
          "ermenistan",
          "ermenistan",
          "ermenistan",
          "ermenistan",
          "ermenistan",
          "ermenistan",
          "filistin",
          "filistin",
          "filistin",
          "filistin",
          "filistin",
          "filistin",
          "filistin",
          "filistin",
          "",
          "filistin",
          "filistin",
          "",
          "fransa",
          "fransa",
          "fransa",
          "fransa",
          "fransa",
          "fransa",
          "fransa",
          "fransa",
          "fransa",
          "fransa",
          "",
          "güney kore",
          "güney kore",
          "güney kore",
          "güney kore",
          "güney kore",
          "güney kore",
          "güney kore",
          "güney kore",
          "güney kore",
          "güney kore",
          "",
          "gürcistan",
          "gürcistan",
          "gürcistan",
          "gürcistan",
          "gürcistan",
          "gürcistan",
          "gürcistan",
          "gürcistan",
          "gürcistan",
          "gürcistan",
          "",
          "hindistan",
          "hindistan",
          "hindistan",
          "hindistan",
          "hindistan",
          "hindistan",
          "hindistan",
          "hindistan",
          "hindistan",
          "hindistan",
          "iran",
          "iran",
          "",
          "iran",
          "iran",
          "iran",
          "iran",
          "iran",
          "iran",
          "iran",
          "iran",
          "israil",
          "israil",
          "israil",
          "israil",
          "israil",
          "israil",
          "",
          "israil",
          "israil",
          "israil",
          "israil",
          "isviçre",
          "isviçre",
          "isviçre",
          "isviçre",
          "isviçre",
          "isviçre",
          "isviçre",
          "isviçre",
          "",
          "isviçre",
          "isviçre",
          "japonya",
          "",
          "japonya",
          "japonya",
          "japonya",
          "japonya",
          "japonya",
          "japonya",
          "japonya",
          "japonya",
          "japonya",
          "kanada",
          "kanada",
          "kanada",
          "kanada",
          "kanada",
          "kanada",
          "kanada",
          "",
          "kanada",
          "kanada",
          "kanada",
          "",
          "kazakistan",
          "kazakistan",
          "kazakistan",
          "kazakistan",
          "kazakistan",
          "kazakistan",
          "kazakistan",
          "kazakistan",
          "kazakistan",
          "kazakistan",
          "kuzey kore",
          "kuzey kore",
          "kuzey kore",
          "kuzey kore",
          "kuzey kore",
          "kuzey kore",
          "kuzey kore",
          "",
          "kuzey kore",
          "kuzey kore",
          "kuzey kore",
          "kürdistan",
          "kürdistan",
          "kürdistan",
          "",
          "kürdistan",
          "kürdistan",
          "kürdistan",
          "kürdistan",
          "kürdistan",
          "kürdistan",
          "kürdistan",
          "kıbrıs",
          "kıbrıs",
          "kıbrıs",
          "kıbrıs",
          "kıbrıs",
          "kıbrıs",
          "kıbrıs",
          "kıbrıs",
          "",
          "kıbrıs",
          "kıbrıs",
          "",
          "lihtenştayn",
          "lihtenştayn",
          "lihtenştayn",
          "lihtenştayn",
          "lihtenştayn",
          "lihtenştayn",
          "lihtenştayn",
          "lihtenştayn",
          "lihtenştayn",
          "lihtenştayn",
          "makedonya",
          "makedonya",
          "makedonya",
          "makedonya",
          "makedonya",
          "makedonya",
          "makedonya",
          "makedonya",
          "makedonya",
          "makedonya",
          "",
          "",
          "moğolistan",
          "moğolistan",
          "moğolistan",
          "moğolistan",
          "moğolistan",
          "moğolistan",
          "moğolistan",
          "moğolistan",
          "moğolistan",
          "moğolistan",
          "pakistan",
          "pakistan",
          "pakistan",
          "pakistan",
          "pakistan",
          "pakistan",
          "pakistan",
          "pakistan",
          "pakistan",
          "",
          "pakistan",
          "rusya",
          "rusya",
          "rusya",
          "rusya",
          "rusya",
          "rusya",
          "rusya",
          "",
          "rusya",
          "rusya",
          "rusya",
          "somali",
          "somali",
          "somali",
          "",
          "somali",
          "somali",
          "somali",
          "somali",
          "somali",
          "somali",
          "somali",
          "suriye",
          "suriye",
          "suriye",
          "suriye",
          "suriye",
          "suriye",
          "suriye",
          "suriye",
          "",
          "suriye",
          "suriye",
          "",
          "suudi arabistan",
          "suudi arabistan",
          "suudi arabistan",
          "suudi arabistan",
          "suudi arabistan",
          "suudi arabistan",
          "suudi arabistan",
          "suudi arabistan",
          "suudi arabistan",
          "suudi arabistan",
          "",
          "sırbistan",
          "sırbistan",
          "sırbistan",
          "sırbistan",
          "sırbistan",
          "sırbistan",
          "sırbistan",
          "sırbistan",
          "sırbistan",
          "sırbistan",
          "türkiye",
          "türkiye",
          "türkiye",
          "türkiye",
          "türkiye",
          "türkiye",
          "",
          "türkiye",
          "türkiye",
          "türkiye",
          "türkiye",
          "ukrayna",
          "ukrayna",
          "ukrayna",
          "",
          "ukrayna",
          "ukrayna",
          "ukrayna",
          "ukrayna",
          "ukrayna",
          "ukrayna",
          "ukrayna",
          "",
          "venezuela",
          "venezuela",
          "venezuela",
          "venezuela",
          "venezuela",
          "venezuela",
          "venezuela",
          "venezuela",
          "venezuela",
          "venezuela",
          "",
          "vietnam",
          "vietnam",
          "vietnam",
          "vietnam",
          "vietnam",
          "vietnam",
          "vietnam",
          "vietnam",
          "vietnam",
          "vietnam",
          "yeni zelanda",
          "yeni zelanda",
          "yeni zelanda",
          "yeni zelanda",
          "yeni zelanda",
          "yeni zelanda",
          "yeni zelanda",
          "yeni zelanda",
          "yeni zelanda",
          "yeni zelanda",
          "",
          "yunanistan",
          "yunanistan",
          "yunanistan",
          "yunanistan",
          "yunanistan",
          "yunanistan",
          "yunanistan",
          "yunanistan",
          "",
          "yunanistan",
          "yunanistan",
          "",
          "çin",
          "çin",
          "çin",
          "çin",
          "çin",
          "çin",
          "çin",
          "çin",
          "çin",
          "çin",
          "ırak",
          "ırak",
          "ırak",
          "ırak",
          "ırak",
          "ırak",
          "ırak",
          "ırak",
          "ırak",
          "",
          "ırak",
          "şili",
          "şili",
          "şili",
          "şili",
          "şili",
          "şili",
          "şili",
          "şili",
          "şili",
          "şili",
          ""
         ],
         "type": "treemap",
         "values": {
          "bdata": "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",
          "dtype": "f8"
         }
        }
       ],
       "layout": {
        "legend": {
         "tracegroupgap": 0
        },
        "margin": {
         "b": 25,
         "l": 25,
         "r": 25,
         "t": 50
        },
        "template": {
         "data": {
          "bar": [
           {
            "error_x": {
             "color": "#2a3f5f"
            },
            "error_y": {
             "color": "#2a3f5f"
            },
            "marker": {
             "line": {
              "color": "#E5ECF6",
              "width": 0.5
             },
             "pattern": {
              "fillmode": "overlay",
              "size": 10,
              "solidity": 0.2
             }
            },
            "type": "bar"
           }
          ],
          "barpolar": [
           {
            "marker": {
             "line": {
              "color": "#E5ECF6",
              "width": 0.5
             },
             "pattern": {
              "fillmode": "overlay",
              "size": 10,
              "solidity": 0.2
             }
            },
            "type": "barpolar"
           }
          ],
          "carpet": [
           {
            "aaxis": {
             "endlinecolor": "#2a3f5f",
             "gridcolor": "white",
             "linecolor": "white",
             "minorgridcolor": "white",
             "startlinecolor": "#2a3f5f"
            },
            "baxis": {
             "endlinecolor": "#2a3f5f",
             "gridcolor": "white",
             "linecolor": "white",
             "minorgridcolor": "white",
             "startlinecolor": "#2a3f5f"
            },
            "type": "carpet"
           }
          ],
          "choropleth": [
           {
            "colorbar": {
             "outlinewidth": 0,
             "ticks": ""
            },
            "type": "choropleth"
           }
          ],
          "contour": [
           {
            "colorbar": {
             "outlinewidth": 0,
             "ticks": ""
            },
            "colorscale": [
             [
              0,
              "#0d0887"
             ],
             [
              0.1111111111111111,
              "#46039f"
             ],
             [
              0.2222222222222222,
              "#7201a8"
             ],
             [
              0.3333333333333333,
              "#9c179e"
             ],
             [
              0.4444444444444444,
              "#bd3786"
             ],
             [
              0.5555555555555556,
              "#d8576b"
             ],
             [
              0.6666666666666666,
              "#ed7953"
             ],
             [
              0.7777777777777778,
              "#fb9f3a"
             ],
             [
              0.8888888888888888,
              "#fdca26"
             ],
             [
              1,
              "#f0f921"
             ]
            ],
            "type": "contour"
           }
          ],
          "contourcarpet": [
           {
            "colorbar": {
             "outlinewidth": 0,
             "ticks": ""
            },
            "type": "contourcarpet"
           }
          ],
          "heatmap": [
           {
            "colorbar": {
             "outlinewidth": 0,
             "ticks": ""
            },
            "colorscale": [
             [
              0,
              "#0d0887"
             ],
             [
              0.1111111111111111,
              "#46039f"
             ],
             [
              0.2222222222222222,
              "#7201a8"
             ],
             [
              0.3333333333333333,
              "#9c179e"
             ],
             [
              0.4444444444444444,
              "#bd3786"
             ],
             [
              0.5555555555555556,
              "#d8576b"
             ],
             [
              0.6666666666666666,
              "#ed7953"
             ],
             [
              0.7777777777777778,
              "#fb9f3a"
             ],
             [
              0.8888888888888888,
              "#fdca26"
             ],
             [
              1,
              "#f0f921"
             ]
            ],
            "type": "heatmap"
           }
          ],
          "histogram": [
           {
            "marker": {
             "pattern": {
              "fillmode": "overlay",
              "size": 10,
              "solidity": 0.2
             }
            },
            "type": "histogram"
           }
          ],
          "histogram2d": [
           {
            "colorbar": {
             "outlinewidth": 0,
             "ticks": ""
            },
            "colorscale": [
             [
              0,
              "#0d0887"
             ],
             [
              0.1111111111111111,
              "#46039f"
             ],
             [
              0.2222222222222222,
              "#7201a8"
             ],
             [
              0.3333333333333333,
              "#9c179e"
             ],
             [
              0.4444444444444444,
              "#bd3786"
             ],
             [
              0.5555555555555556,
              "#d8576b"
             ],
             [
              0.6666666666666666,
              "#ed7953"
             ],
             [
              0.7777777777777778,
              "#fb9f3a"
             ],
             [
              0.8888888888888888,
              "#fdca26"
             ],
             [
              1,
              "#f0f921"
             ]
            ],
            "type": "histogram2d"
           }
          ],
          "histogram2dcontour": [
           {
            "colorbar": {
             "outlinewidth": 0,
             "ticks": ""
            },
            "colorscale": [
             [
              0,
              "#0d0887"
             ],
             [
              0.1111111111111111,
              "#46039f"
             ],
             [
              0.2222222222222222,
              "#7201a8"
             ],
             [
              0.3333333333333333,
              "#9c179e"
             ],
             [
              0.4444444444444444,
              "#bd3786"
             ],
             [
              0.5555555555555556,
              "#d8576b"
             ],
             [
              0.6666666666666666,
              "#ed7953"
             ],
             [
              0.7777777777777778,
              "#fb9f3a"
             ],
             [
              0.8888888888888888,
              "#fdca26"
             ],
             [
              1,
              "#f0f921"
             ]
            ],
            "type": "histogram2dcontour"
           }
          ],
          "mesh3d": [
           {
            "colorbar": {
             "outlinewidth": 0,
             "ticks": ""
            },
            "type": "mesh3d"
           }
          ],
          "parcoords": [
           {
            "line": {
             "colorbar": {
              "outlinewidth": 0,
              "ticks": ""
             }
            },
            "type": "parcoords"
           }
          ],
          "pie": [
           {
            "automargin": true,
            "type": "pie"
           }
          ],
          "scatter": [
           {
            "fillpattern": {
             "fillmode": "overlay",
             "size": 10,
             "solidity": 0.2
            },
            "type": "scatter"
           }
          ],
          "scatter3d": [
           {
            "line": {
             "colorbar": {
              "outlinewidth": 0,
              "ticks": ""
             }
            },
            "marker": {
             "colorbar": {
              "outlinewidth": 0,
              "ticks": ""
             }
            },
            "type": "scatter3d"
           }
          ],
          "scattercarpet": [
           {
            "marker": {
             "colorbar": {
              "outlinewidth": 0,
              "ticks": ""
             }
            },
            "type": "scattercarpet"
           }
          ],
          "scattergeo": [
           {
            "marker": {
             "colorbar": {
              "outlinewidth": 0,
              "ticks": ""
             }
            },
            "type": "scattergeo"
           }
          ],
          "scattergl": [
           {
            "marker": {
             "colorbar": {
              "outlinewidth": 0,
              "ticks": ""
             }
            },
            "type": "scattergl"
           }
          ],
          "scattermap": [
           {
            "marker": {
             "colorbar": {
              "outlinewidth": 0,
              "ticks": ""
             }
            },
            "type": "scattermap"
           }
          ],
          "scattermapbox": [
           {
            "marker": {
             "colorbar": {
              "outlinewidth": 0,
              "ticks": ""
             }
            },
            "type": "scattermapbox"
           }
          ],
          "scatterpolar": [
           {
            "marker": {
             "colorbar": {
              "outlinewidth": 0,
              "ticks": ""
             }
            },
            "type": "scatterpolar"
           }
          ],
          "scatterpolargl": [
           {
            "marker": {
             "colorbar": {
              "outlinewidth": 0,
              "ticks": ""
             }
            },
            "type": "scatterpolargl"
           }
          ],
          "scatterternary": [
           {
            "marker": {
             "colorbar": {
              "outlinewidth": 0,
              "ticks": ""
             }
            },
            "type": "scatterternary"
           }
          ],
          "surface": [
           {
            "colorbar": {
             "outlinewidth": 0,
             "ticks": ""
            },
            "colorscale": [
             [
              0,
              "#0d0887"
             ],
             [
              0.1111111111111111,
              "#46039f"
             ],
             [
              0.2222222222222222,
              "#7201a8"
             ],
             [
              0.3333333333333333,
              "#9c179e"
             ],
             [
              0.4444444444444444,
              "#bd3786"
             ],
             [
              0.5555555555555556,
              "#d8576b"
             ],
             [
              0.6666666666666666,
              "#ed7953"
             ],
             [
              0.7777777777777778,
              "#fb9f3a"
             ],
             [
              0.8888888888888888,
              "#fdca26"
             ],
             [
              1,
              "#f0f921"
             ]
            ],
            "type": "surface"
           }
          ],
          "table": [
           {
            "cells": {
             "fill": {
              "color": "#EBF0F8"
             },
             "line": {
              "color": "white"
             }
            },
            "header": {
             "fill": {
              "color": "#C8D4E3"
             },
             "line": {
              "color": "white"
             }
            },
            "type": "table"
           }
          ]
         },
         "layout": {
          "annotationdefaults": {
           "arrowcolor": "#2a3f5f",
           "arrowhead": 0,
           "arrowwidth": 1
          },
          "autotypenumbers": "strict",
          "coloraxis": {
           "colorbar": {
            "outlinewidth": 0,
            "ticks": ""
           }
          },
          "colorscale": {
           "diverging": [
            [
             0,
             "#8e0152"
            ],
            [
             0.1,
             "#c51b7d"
            ],
            [
             0.2,
             "#de77ae"
            ],
            [
             0.3,
             "#f1b6da"
            ],
            [
             0.4,
             "#fde0ef"
            ],
            [
             0.5,
             "#f7f7f7"
            ],
            [
             0.6,
             "#e6f5d0"
            ],
            [
             0.7,
             "#b8e186"
            ],
            [
             0.8,
             "#7fbc41"
            ],
            [
             0.9,
             "#4d9221"
            ],
            [
             1,
             "#276419"
            ]
           ],
           "sequential": [
            [
             0,
             "#0d0887"
            ],
            [
             0.1111111111111111,
             "#46039f"
            ],
            [
             0.2222222222222222,
             "#7201a8"
            ],
            [
             0.3333333333333333,
             "#9c179e"
            ],
            [
             0.4444444444444444,
             "#bd3786"
            ],
            [
             0.5555555555555556,
             "#d8576b"
            ],
            [
             0.6666666666666666,
             "#ed7953"
            ],
            [
             0.7777777777777778,
             "#fb9f3a"
            ],
            [
             0.8888888888888888,
             "#fdca26"
            ],
            [
             1,
             "#f0f921"
            ]
           ],
           "sequentialminus": [
            [
             0,
             "#0d0887"
            ],
            [
             0.1111111111111111,
             "#46039f"
            ],
            [
             0.2222222222222222,
             "#7201a8"
            ],
            [
             0.3333333333333333,
             "#9c179e"
            ],
            [
             0.4444444444444444,
             "#bd3786"
            ],
            [
             0.5555555555555556,
             "#d8576b"
            ],
            [
             0.6666666666666666,
             "#ed7953"
            ],
            [
             0.7777777777777778,
             "#fb9f3a"
            ],
            [
             0.8888888888888888,
             "#fdca26"
            ],
            [
             1,
             "#f0f921"
            ]
           ]
          },
          "colorway": [
           "#636efa",
           "#EF553B",
           "#00cc96",
           "#ab63fa",
           "#FFA15A",
           "#19d3f3",
           "#FF6692",
           "#B6E880",
           "#FF97FF",
           "#FECB52"
          ],
          "font": {
           "color": "#2a3f5f"
          },
          "geo": {
           "bgcolor": "white",
           "lakecolor": "white",
           "landcolor": "#E5ECF6",
           "showlakes": true,
           "showland": true,
           "subunitcolor": "white"
          },
          "hoverlabel": {
           "align": "left"
          },
          "hovermode": "closest",
          "mapbox": {
           "style": "light"
          },
          "paper_bgcolor": "white",
          "plot_bgcolor": "#E5ECF6",
          "polar": {
           "angularaxis": {
            "gridcolor": "white",
            "linecolor": "white",
            "ticks": ""
           },
           "bgcolor": "#E5ECF6",
           "radialaxis": {
            "gridcolor": "white",
            "linecolor": "white",
            "ticks": ""
           }
          },
          "scene": {
           "xaxis": {
            "backgroundcolor": "#E5ECF6",
            "gridcolor": "white",
            "gridwidth": 2,
            "linecolor": "white",
            "showbackground": true,
            "ticks": "",
            "zerolinecolor": "white"
           },
           "yaxis": {
            "backgroundcolor": "#E5ECF6",
            "gridcolor": "white",
            "gridwidth": 2,
            "linecolor": "white",
            "showbackground": true,
            "ticks": "",
            "zerolinecolor": "white"
           },
           "zaxis": {
            "backgroundcolor": "#E5ECF6",
            "gridcolor": "white",
            "gridwidth": 2,
            "linecolor": "white",
            "showbackground": true,
            "ticks": "",
            "zerolinecolor": "white"
           }
          },
          "shapedefaults": {
           "line": {
            "color": "#2a3f5f"
           }
          },
          "ternary": {
           "aaxis": {
            "gridcolor": "white",
            "linecolor": "white",
            "ticks": ""
           },
           "baxis": {
            "gridcolor": "white",
            "linecolor": "white",
            "ticks": ""
           },
           "bgcolor": "#E5ECF6",
           "caxis": {
            "gridcolor": "white",
            "linecolor": "white",
            "ticks": ""
           }
          },
          "title": {
           "x": 0.05
          },
          "xaxis": {
           "automargin": true,
           "gridcolor": "white",
           "linecolor": "white",
           "ticks": "",
           "title": {
            "standoff": 15
           },
           "zerolinecolor": "white",
           "zerolinewidth": 2
          },
          "yaxis": {
           "automargin": true,
           "gridcolor": "white",
           "linecolor": "white",
           "ticks": "",
           "title": {
            "standoff": 15
           },
           "zerolinecolor": "white",
           "zerolinewidth": 2
          }
         }
        },
        "title": {
         "text": "Top Terms per Topic (Interactive Treemap)"
        },
        "treemapcolorway": [
         "rgb(141,211,199)",
         "rgb(255,255,179)",
         "rgb(190,186,218)",
         "rgb(251,128,114)",
         "rgb(128,177,211)",
         "rgb(253,180,98)",
         "rgb(179,222,105)",
         "rgb(252,205,229)",
         "rgb(217,217,217)",
         "rgb(188,128,189)",
         "rgb(204,235,197)",
         "rgb(255,237,111)"
        ]
       }
      }
     },
     "metadata": {},
     "output_type": "display_data"
    }
   ],
   "source": [
    "import plotly.express as px\n",
    "\n",
    "def plot_topic_terms_treemap(top_terms_df, n_terms=10, filter_terms=None):\n",
    "    \"\"\"Plot interactive treemap of top terms per topic.\"\"\"\n",
    "    if filter_terms:\n",
    "        data = top_terms_df[~top_terms_df['token'].isin(filter_terms)]\n",
    "    else:\n",
    "        data = top_terms_df\n",
    "        \n",
    "    data = data.groupby('topic').head(n_terms)\n",
    "    \n",
    "    fig = px.treemap(\n",
    "    data,\n",
    "    path=['topic', 'token'],\n",
    "    values='tfidf',\n",
    "    color='topic',\n",
    "    color_discrete_sequence=px.colors.qualitative.Set3,\n",
    "    title=\"Top Terms per Topic (Interactive Treemap)\"\n",
    ")\n",
    "    fig.update_layout(margin=dict(t=50, l=25, r=25, b=25))\n",
    "    fig.show()\n",
    "\n",
    "plot_topic_terms_treemap(top_terms, n_terms=10, filter_terms=FILTERED_TERMS)"
   ]
  },
  {
   "cell_type": "markdown",
   "metadata": {},
   "source": [
    "## 6. Analysis by Author (Optional)"
   ]
  },
  {
   "cell_type": "code",
   "execution_count": 8,
   "metadata": {},
   "outputs": [
    {
     "name": "stdout",
     "output_type": "stream",
     "text": [
      "Analyzing 649 authors with 20+ entries\n"
     ]
    },
    {
     "name": "stderr",
     "output_type": "stream",
     "text": [
      "/home/zk/miniconda3/envs/nlp.env/lib/python3.10/site-packages/sklearn/feature_extraction/text.py:517: UserWarning:\n",
      "\n",
      "The parameter 'token_pattern' will not be used since 'tokenizer' is not None'\n",
      "\n"
     ]
    },
    {
     "name": "stdout",
     "output_type": "stream",
     "text": [
      "TF-IDF processing time: 0.79 seconds\n",
      "Shape: 649 documents × 978 terms\n",
      "GPU acceleration: enabled\n",
      "\n",
      "Sample author-specific terms:\n",
      "  sanver: abd (0.176), analiz (0.138), siyasal (0.127), jeopolitik (0.125), ab (0.116)\n",
      "  bm778: abd (0.520), vs (0.240), ülkedir (0.233), çin (0.169), kendi (0.137)\n",
      "  osbirci31: amerika (0.257), filan (0.219), dolar (0.182), abd (0.178), sürekli (0.155)\n",
      "  buyuyup buyuk adam olacaktim: abd (0.599), trump (0.257), çin (0.229), avrupa (0.202), iyi (0.113)\n",
      "  sanfransiskolu mufettis: abd (0.404), çin (0.234), california (0.175), amerikan (0.170), dolar (0.146)\n"
     ]
    }
   ],
   "source": [
    "# Filter to top authors (with at least 20 entries)\n",
    "author_counts = df['author'].value_counts()\n",
    "top_authors = author_counts[author_counts >= 20].index\n",
    "\n",
    "df_top_authors = df[df['author'].isin(top_authors)].copy()\n",
    "df_top_authors['token_text'] = df_top_authors['tokens'].apply(lambda x: ' '.join(x))\n",
    "\n",
    "print(f\"Analyzing {len(top_authors)} authors with 20+ entries\")\n",
    "\n",
    "# Analyze by author\n",
    "analyzer_author = TfidfAnalyzer(min_df=2, max_features=1000, use_gpu=True)\n",
    "_, top_terms_by_author = analyze_by_group(\n",
    "    df=df_top_authors,\n",
    "    group_col='author',\n",
    "    text_col='token_text',\n",
    "    analyzer=analyzer_author,\n",
    "    top_n=10,\n",
    "    filter_terms=country_terms\n",
    ")\n",
    "\n",
    "# Show sample\n",
    "print(\"\\nSample author-specific terms:\")\n",
    "for author in top_authors[:5]:\n",
    "    terms = top_terms_by_author[top_terms_by_author['author'] == author].nlargest(5, 'tfidf')\n",
    "    terms_str = \", \".join([f\"{row['token']} ({row['tfidf']:.3f})\" for _, row in terms.iterrows()])\n",
    "    print(f\"  {author}: {terms_str}\")"
   ]
  },
  {
   "cell_type": "markdown",
   "metadata": {},
   "source": [
    "## 7. Export Results"
   ]
  },
  {
   "cell_type": "code",
   "execution_count": 9,
   "metadata": {},
   "outputs": [
    {
     "name": "stdout",
     "output_type": "stream",
     "text": [
      "Results exported to: top_tfidf_terms_by_topic_clean.csv\n",
      "Encoding: UTF-8 with BOM (Excel-compatible)\n"
     ]
    }
   ],
   "source": [
    "# Export top terms by topic with UTF-8 encoding\n",
    "output_file = \"top_tfidf_terms_by_topic_clean.csv\"\n",
    "top_terms.to_csv(output_file, index=False, encoding='utf-8-sig')\n",
    "print(f\"Results exported to: {output_file}\")\n",
    "print(f\"Encoding: UTF-8 with BOM (Excel-compatible)\")"
   ]
  },
  {
   "cell_type": "markdown",
   "metadata": {},
   "source": [
    "## 8. Extract Bigrams"
   ]
  },
  {
   "cell_type": "code",
   "execution_count": 10,
   "metadata": {},
   "outputs": [],
   "source": [
    "def extract_bigrams(tokens, min_freq=5):\n",
    "    bigram_list = list(bigrams(tokens))\n",
    "    \n",
    "    # Count bigrams\n",
    "    bigram_counts = Counter(bigram_list)\n",
    "    \n",
    "    # Filter by minimum frequency\n",
    "    filtered_bigrams = {b: c for b, c in bigram_counts.items() if c >= min_freq}\n",
    "    \n",
    "    # Convert to DataFrame\n",
    "    bigram_df = pd.DataFrame([\n",
    "        {\n",
    "            'bigram': ' '.join(bg), \n",
    "            'count': count, \n",
    "            'word1': bg[0], \n",
    "            'word2': bg[1]\n",
    "        }\n",
    "        for bg, count in filtered_bigrams.items()\n",
    "    ])\n",
    "    \n",
    "    return bigram_df.sort_values('count', ascending=False).reset_index(drop=True)\n"
   ]
  },
  {
   "cell_type": "markdown",
   "metadata": {},
   "source": [
    "## 9. Analyze Bigrams by Topic"
   ]
  },
  {
   "cell_type": "code",
   "execution_count": 11,
   "metadata": {},
   "outputs": [
    {
     "name": "stdout",
     "output_type": "stream",
     "text": [
      "Extracting bigrams for each topic...\n",
      "\n",
      "Bigram extraction complete!\n",
      "Topics analyzed: 39\n",
      "\n",
      "Bigrams per topic:\n",
      "  fransa: 1379 bigrams\n",
      "  rusya: 6659 bigrams\n",
      "  çin: 467 bigrams\n",
      "  kanada: 2601 bigrams\n",
      "  suudi arabistan: 944 bigrams\n",
      "  yunanistan: 4365 bigrams\n",
      "  şili: 111 bigrams\n",
      "  ermenistan: 1625 bigrams\n",
      "  iran: 5350 bigrams\n",
      "  israil: 11650 bigrams\n",
      "  somali: 173 bigrams\n",
      "  cezayir: 93 bigrams\n",
      "  kazakistan: 677 bigrams\n",
      "  moğolistan: 53 bigrams\n",
      "  lihtenştayn: 44 bigrams\n",
      "  yeni zelanda: 208 bigrams\n",
      "  angola: 19 bigrams\n",
      "  venezuela: 777 bigrams\n",
      "  el salvador: 42 bigrams\n",
      "  vietnam: 102 bigrams\n",
      "  japonya: 6421 bigrams\n",
      "  kuzey kore: 120 bigrams\n",
      "  güney kore: 752 bigrams\n",
      "  filistin: 1556 bigrams\n",
      "  ukrayna: 2940 bigrams\n",
      "  sırbistan: 215 bigrams\n",
      "  gürcistan: 558 bigrams\n",
      "  makedonya: 283 bigrams\n",
      "  bosna-hersek: 527 bigrams\n",
      "  isviçre: 938 bigrams\n",
      "  ırak: 269 bigrams\n",
      "  kürdistan: 683 bigrams\n",
      "  kıbrıs: 560 bigrams\n",
      "  suriye: 3294 bigrams\n",
      "  pakistan: 457 bigrams\n",
      "  hindistan: 972 bigrams\n",
      "  türkiye: 25846 bigrams\n",
      "  almanya: 18465 bigrams\n",
      "  amerika birleşik devletleri: 32514 bigrams\n"
     ]
    }
   ],
   "source": [
    "# Analyze bigrams by topic\n",
    "topic_bigrams = {}\n",
    "\n",
    "print(\"Extracting bigrams for each topic...\")\n",
    "for topic in df['topic'].unique():\n",
    "    # Get all tokens for this topic\n",
    "    topic_tokens = df[df['topic'] == topic]['tokens'].sum()\n",
    "    \n",
    "    # Extract bigrams (minimum frequency = 3)\n",
    "    bigram_df = extract_bigrams(topic_tokens, min_freq=3)\n",
    "    \n",
    "    # Store results\n",
    "    topic_bigrams[topic] = bigram_df\n",
    "\n",
    "# Show summary statistics\n",
    "print(f\"\\nBigram extraction complete!\")\n",
    "print(f\"Topics analyzed: {len(topic_bigrams)}\")\n",
    "print(f\"\\nBigrams per topic:\")\n",
    "for topic, bigrams in topic_bigrams.items():\n",
    "    print(f\"  {topic}: {len(bigrams)} bigrams\")\n"
   ]
  },
  {
   "cell_type": "code",
   "execution_count": 12,
   "metadata": {},
   "outputs": [
    {
     "name": "stdout",
     "output_type": "stream",
     "text": [
      "Bigram analysis functions loaded successfully\n",
      "Available functions:\n",
      "  - extract_bigrams(tokens, min_freq=5)\n",
      "  - plot_bigram_network(bigram_df, n_bigrams=50, title='...')\n"
     ]
    }
   ],
   "source": [
    "def plot_bigram_network(bigram_df, n_bigrams=50, title=\"Top Bigrams Network\"):\n",
    "    \"\"\"\n",
    "    Create interactive network visualization of top bigrams using NetworkX and Plotly.\n",
    "    \n",
    "    Parameters:\n",
    "    -----------\n",
    "    bigram_df : pd.DataFrame\n",
    "        DataFrame with columns: word1, word2, count\n",
    "    n_bigrams : int, default=50\n",
    "        Number of top bigrams to visualize\n",
    "    title : str\n",
    "        Plot title\n",
    "    \"\"\"\n",
    "    # Get top N bigrams\n",
    "    top_bigrams = bigram_df.head(n_bigrams)\n",
    "    \n",
    "    if len(top_bigrams) == 0:\n",
    "        print(\"No bigrams to visualize\")\n",
    "        return\n",
    "    \n",
    "    G = nx.DiGraph()\n",
    "    \n",
    "    for _, row in top_bigrams.iterrows():\n",
    "        G.add_edge(row['word1'], row['word2'], weight=row['count'])\n",
    "    \n",
    "    pos = nx.spring_layout(G, k=0.5, iterations=50, seed=42)\n",
    "    \n",
    "    edge_trace = []\n",
    "    for edge in G.edges(data=True):\n",
    "        x0, y0 = pos[edge[0]]\n",
    "        x1, y1 = pos[edge[1]]\n",
    "        weight = edge[2]['weight']\n",
    "        \n",
    "        edge_trace.append(\n",
    "            go.Scatter(\n",
    "                x=[x0, x1, None],\n",
    "                y=[y0, y1, None],\n",
    "                mode='lines',\n",
    "                line=dict(width=np.log1p(weight) * 0.5, color='#888'),\n",
    "                hoverinfo='text',\n",
    "                text=f\"{edge[0]} → {edge[1]}: {weight}\",\n",
    "                showlegend=False\n",
    "            )\n",
    "        )\n",
    "    \n",
    "    node_x = []\n",
    "    node_y = []\n",
    "    node_text = []\n",
    "    node_size = []\n",
    "\n",
    "    for node in G.nodes():\n",
    "        x, y = pos[node]\n",
    "        node_x.append(x)\n",
    "        node_y.append(y)\n",
    "\n",
    "        degree = G.degree(node)\n",
    "        node_size.append(10 + degree * 3)\n",
    "        node_text.append(f\"{node}<br>Connections: {degree}\")\n",
    "        \n",
    "    node_trace = go.Scatter(\n",
    "        x=node_x,\n",
    "        y=node_y,\n",
    "        mode='markers+text',\n",
    "        marker=dict(\n",
    "            size=node_size,\n",
    "            color='lightblue',\n",
    "            line=dict(width=2, color='darkblue')\n",
    "        ),\n",
    "        text=[pos_node for pos_node in G.nodes()],\n",
    "        textposition=\"top center\",\n",
    "        hoverinfo='text',\n",
    "        hovertext=node_text,\n",
    "        showlegend=False\n",
    "    )\n",
    "    \n",
    "    fig = go.Figure(data=edge_trace + [node_trace])\n",
    "    \n",
    "    fig.update_layout(\n",
    "        title=title,\n",
    "        showlegend=False,\n",
    "        hovermode='closest',\n",
    "        margin=dict(b=20, l=5, r=5, t=40),\n",
    "        xaxis=dict(showgrid=False, zeroline=False, showticklabels=False),\n",
    "        yaxis=dict(showgrid=False, zeroline=False, showticklabels=False),\n",
    "        height=600,\n",
    "        plot_bgcolor='white'\n",
    "    )\n",
    "    \n",
    "    fig.show()\n",
    "\n",
    "\n",
    "print(\"Bigram analysis functions loaded successfully\")\n",
    "print(\"Available functions:\")\n",
    "print(\"  - extract_bigrams(tokens, min_freq=5)\")\n",
    "print(\"  - plot_bigram_network(bigram_df, n_bigrams=50, title='...')\")\n"
   ]
  },
  {
   "cell_type": "code",
   "execution_count": 18,
   "metadata": {},
   "outputs": [
    {
     "data": {
      "application/vnd.plotly.v1+json": {
       "config": {
        "plotlyServerURL": "https://plot.ly"
       },
       "data": [
        {
         "hoverinfo": "text",
         "line": {
          "color": "#888",
          "width": 0.6931471805599453
         },
         "mode": "lines",
         "showlegend": false,
         "text": "aaa → aa: 3",
         "type": "scatter",
         "x": [
          0.06797536000311316,
          0.8716341477564382,
          null
         ],
         "y": [
          -0.1763462144533011,
          0.30439846628323813,
          null
         ]
        },
        {
         "hoverinfo": "text",
         "line": {
          "color": "#888",
          "width": 0.6931471805599453
         },
         "mode": "lines",
         "showlegend": false,
         "text": "aaa → bak: 3",
         "type": "scatter",
         "x": [
          0.06797536000311316,
          -0.707743195517558,
          null
         ],
         "y": [
          -0.1763462144533011,
          -0.6834082868859387,
          null
         ]
        },
        {
         "hoverinfo": "text",
         "line": {
          "color": "#888",
          "width": 0.8047189562170501
         },
         "mode": "lines",
         "showlegend": false,
         "text": "aachen → makine: 4",
         "type": "scatter",
         "x": [
          0.19477395563686856,
          0.38544172931098014,
          null
         ],
         "y": [
          0.20986491780811628,
          0.8278634095346494,
          null
         ]
        },
        {
         "hoverinfo": "text",
         "line": {
          "color": "#888",
          "width": 0.6931471805599453
         },
         "mode": "lines",
         "showlegend": false,
         "text": "aachen → rwth: 3",
         "type": "scatter",
         "x": [
          0.19477395563686856,
          -0.6525217565599939,
          null
         ],
         "y": [
          0.20986491780811628,
          0.822065324575238,
          null
         ]
        },
        {
         "hoverinfo": "text",
         "line": {
          "color": "#888",
          "width": 0.8047189562170501
         },
         "mode": "lines",
         "showlegend": false,
         "text": "aachen → teknik: 4",
         "type": "scatter",
         "x": [
          0.19477395563686856,
          0.71690121123872,
          null
         ],
         "y": [
          0.20986491780811628,
          -0.6657969416340392,
          null
         ]
        },
        {
         "hoverinfo": "text",
         "line": {
          "color": "#888",
          "width": 0.6931471805599453
         },
         "mode": "lines",
         "showlegend": false,
         "text": "aamir → khan: 3",
         "type": "scatter",
         "x": [
          -0.8406673195302161,
          -0.8832868836744184,
          null
         ],
         "y": [
          -0.3758676770443107,
          -0.04697219301748213,
          null
         ]
        },
        {
         "hoverinfo": "text",
         "line": {
          "color": "#888",
          "width": 2.4414009612931853
         },
         "mode": "lines",
         "showlegend": false,
         "text": "ab → abd: 131",
         "type": "scatter",
         "x": [
          0.05199412562000034,
          -0.03553879071287288,
          null
         ],
         "y": [
          -0.11102742429182781,
          0.13785512846571954,
          null
         ]
        },
        {
         "hoverinfo": "text",
         "line": {
          "color": "#888",
          "width": 0.8958797346140275
         },
         "mode": "lines",
         "showlegend": false,
         "text": "ab → aeb: 5",
         "type": "scatter",
         "x": [
          0.05199412562000034,
          -0.7611098066234241,
          null
         ],
         "y": [
          -0.11102742429182781,
          -0.48490008185836314,
          null
         ]
        },
        {
         "hoverinfo": "text",
         "line": {
          "color": "#888",
          "width": 1.2424533248940002
         },
         "mode": "lines",
         "showlegend": false,
         "text": "ab → almanya: 11",
         "type": "scatter",
         "x": [
          0.05199412562000034,
          -0.12693280136160875,
          null
         ],
         "y": [
          -0.11102742429182781,
          0.9217257062027147,
          null
         ]
        },
        {
         "hoverinfo": "text",
         "line": {
          "color": "#888",
          "width": 0.6931471805599453
         },
         "mode": "lines",
         "showlegend": false,
         "text": "ab → amerika: 3",
         "type": "scatter",
         "x": [
          0.05199412562000034,
          -0.9240167764068749,
          null
         ],
         "y": [
          -0.11102742429182781,
          0.016208621396689982,
          null
         ]
        },
        {
         "hoverinfo": "text",
         "line": {
          "color": "#888",
          "width": 1.0397207708399179
         },
         "mode": "lines",
         "showlegend": false,
         "text": "ab → arasında: 7",
         "type": "scatter",
         "x": [
          0.05199412562000034,
          0.14017350705824855,
          null
         ],
         "y": [
          -0.11102742429182781,
          -0.9703818757652627,
          null
         ]
        },
        {
         "hoverinfo": "text",
         "line": {
          "color": "#888",
          "width": 0.6931471805599453
         },
         "mode": "lines",
         "showlegend": false,
         "text": "ab → arasındaki: 3",
         "type": "scatter",
         "x": [
          0.05199412562000034,
          0.2189410374824677,
          null
         ],
         "y": [
          -0.11102742429182781,
          -0.9169410145557412,
          null
         ]
        },
        {
         "hoverinfo": "text",
         "line": {
          "color": "#888",
          "width": 0.6931471805599453
         },
         "mode": "lines",
         "showlegend": false,
         "text": "ab → bel: 3",
         "type": "scatter",
         "x": [
          0.05199412562000034,
          -0.5771699984442809,
          null
         ],
         "y": [
          -0.11102742429182781,
          0.8573403803680493,
          null
         ]
        },
        {
         "hoverinfo": "text",
         "line": {
          "color": "#888",
          "width": 0.6931471805599453
         },
         "mode": "lines",
         "showlegend": false,
         "text": "ab → benzeri: 3",
         "type": "scatter",
         "x": [
          0.05199412562000034,
          0.9110756887363739,
          null
         ],
         "y": [
          -0.11102742429182781,
          0.46333661193682957,
          null
         ]
        },
        {
         "hoverinfo": "text",
         "line": {
          "color": "#888",
          "width": 0.6931471805599453
         },
         "mode": "lines",
         "showlegend": false,
         "text": "ab → bize: 3",
         "type": "scatter",
         "x": [
          0.05199412562000034,
          -0.43291081202394094,
          null
         ],
         "y": [
          -0.11102742429182781,
          -0.8694442941036589,
          null
         ]
        },
        {
         "hoverinfo": "text",
         "line": {
          "color": "#888",
          "width": 1.0397207708399179
         },
         "mode": "lines",
         "showlegend": false,
         "text": "ab → büyük: 7",
         "type": "scatter",
         "x": [
          0.05199412562000034,
          0.8142412561077195,
          null
         ],
         "y": [
          -0.11102742429182781,
          -0.3829593730476117,
          null
         ]
        },
        {
         "hoverinfo": "text",
         "line": {
          "color": "#888",
          "width": 1.2824746787307684
         },
         "mode": "lines",
         "showlegend": false,
         "text": "ab → deki: 12",
         "type": "scatter",
         "x": [
          0.05199412562000034,
          -0.9467540490642234,
          null
         ],
         "y": [
          -0.11102742429182781,
          -0.06455639371165367,
          null
         ]
        },
        {
         "hoverinfo": "text",
         "line": {
          "color": "#888",
          "width": 1.7169936022425731
         },
         "mode": "lines",
         "showlegend": false,
         "text": "ab → den: 30",
         "type": "scatter",
         "x": [
          0.05199412562000034,
          -0.8744506191562292,
          null
         ],
         "y": [
          -0.11102742429182781,
          0.5394626181115785,
          null
         ]
        },
        {
         "hoverinfo": "text",
         "line": {
          "color": "#888",
          "width": 0.8047189562170501
         },
         "mode": "lines",
         "showlegend": false,
         "text": "ab → disindan: 4",
         "type": "scatter",
         "x": [
          0.05199412562000034,
          -0.6439768010848658,
          null
         ],
         "y": [
          -0.11102742429182781,
          0.6628292931094709,
          null
         ]
        },
        {
         "hoverinfo": "text",
         "line": {
          "color": "#888",
          "width": 0.6931471805599453
         },
         "mode": "lines",
         "showlegend": false,
         "text": "ab → doğu: 3",
         "type": "scatter",
         "x": [
          0.05199412562000034,
          -0.8540219312061137,
          null
         ],
         "y": [
          -0.11102742429182781,
          0.2256975841123995,
          null
         ]
        },
        {
         "hoverinfo": "text",
         "line": {
          "color": "#888",
          "width": 0.6931471805599453
         },
         "mode": "lines",
         "showlegend": false,
         "text": "ab → dışı: 3",
         "type": "scatter",
         "x": [
          0.05199412562000034,
          0.1520492035770841,
          null
         ],
         "y": [
          -0.11102742429182781,
          -0.9208332343794021,
          null
         ]
        },
        {
         "hoverinfo": "text",
         "line": {
          "color": "#888",
          "width": 1.0986122886681098
         },
         "mode": "lines",
         "showlegend": false,
         "text": "ab → dışından: 8",
         "type": "scatter",
         "x": [
          0.05199412562000034,
          0.9395194943568123,
          null
         ],
         "y": [
          -0.11102742429182781,
          0.38852539983523676,
          null
         ]
        },
        {
         "hoverinfo": "text",
         "line": {
          "color": "#888",
          "width": 0.6931471805599453
         },
         "mode": "lines",
         "showlegend": false,
         "text": "ab → ekonomik: 3",
         "type": "scatter",
         "x": [
          0.05199412562000034,
          0.7105576054165738,
          null
         ],
         "y": [
          -0.11102742429182781,
          0.7499402381851099,
          null
         ]
        },
        {
         "hoverinfo": "text",
         "line": {
          "color": "#888",
          "width": 0.6931471805599453
         },
         "mode": "lines",
         "showlegend": false,
         "text": "ab → entegrasyon: 3",
         "type": "scatter",
         "x": [
          0.05199412562000034,
          0.05110377771272334,
          null
         ],
         "y": [
          -0.11102742429182781,
          0.9749775509594237,
          null
         ]
        },
        {
         "hoverinfo": "text",
         "line": {
          "color": "#888",
          "width": 0.9729550745276566
         },
         "mode": "lines",
         "showlegend": false,
         "text": "ab → ermenistan: 6",
         "type": "scatter",
         "x": [
          0.05199412562000034,
          -0.8278772817834269,
          null
         ],
         "y": [
          -0.11102742429182781,
          -0.5449452749593898,
          null
         ]
        },
        {
         "hoverinfo": "text",
         "line": {
          "color": "#888",
          "width": 0.6931471805599453
         },
         "mode": "lines",
         "showlegend": false,
         "text": "ab → euro: 3",
         "type": "scatter",
         "x": [
          0.05199412562000034,
          -0.95759573568207,
          null
         ],
         "y": [
          -0.11102742429182781,
          -0.22171114639718806,
          null
         ]
        },
        {
         "hoverinfo": "text",
         "line": {
          "color": "#888",
          "width": 0.6931471805599453
         },
         "mode": "lines",
         "showlegend": false,
         "text": "ab → eurozone: 3",
         "type": "scatter",
         "x": [
          0.05199412562000034,
          -0.38245928343828484,
          null
         ],
         "y": [
          -0.11102742429182781,
          -0.8237600251933989,
          null
         ]
        },
        {
         "hoverinfo": "text",
         "line": {
          "color": "#888",
          "width": 0.8047189562170501
         },
         "mode": "lines",
         "showlegend": false,
         "text": "ab → fonlarını: 4",
         "type": "scatter",
         "x": [
          0.05199412562000034,
          0.8711893463508201,
          null
         ],
         "y": [
          -0.11102742429182781,
          -0.3894428995088097,
          null
         ]
        },
        {
         "hoverinfo": "text",
         "line": {
          "color": "#888",
          "width": 0.8958797346140275
         },
         "mode": "lines",
         "showlegend": false,
         "text": "ab → gelen: 5",
         "type": "scatter",
         "x": [
          0.05199412562000034,
          -0.8904141423117284,
          null
         ],
         "y": [
          -0.11102742429182781,
          0.127502078672896,
          null
         ]
        },
        {
         "hoverinfo": "text",
         "line": {
          "color": "#888",
          "width": 0.6931471805599453
         },
         "mode": "lines",
         "showlegend": false,
         "text": "ab → girmek: 3",
         "type": "scatter",
         "x": [
          0.05199412562000034,
          -0.630880353108984,
          null
         ],
         "y": [
          -0.11102742429182781,
          0.7537352316872746,
          null
         ]
        },
        {
         "hoverinfo": "text",
         "line": {
          "color": "#888",
          "width": 0.6931471805599453
         },
         "mode": "lines",
         "showlegend": false,
         "text": "ab → girmesi: 3",
         "type": "scatter",
         "x": [
          0.05199412562000034,
          -0.45862504144043964,
          null
         ],
         "y": [
          -0.11102742429182781,
          0.9299831695066276,
          null
         ]
        },
        {
         "hoverinfo": "text",
         "line": {
          "color": "#888",
          "width": 0.8047189562170501
         },
         "mode": "lines",
         "showlegend": false,
         "text": "ab → girmeye: 4",
         "type": "scatter",
         "x": [
          0.05199412562000034,
          0.5618153321080337,
          null
         ],
         "y": [
          -0.11102742429182781,
          -0.784150271514947,
          null
         ]
        },
        {
         "hoverinfo": "text",
         "line": {
          "color": "#888",
          "width": 0.6931471805599453
         },
         "mode": "lines",
         "showlegend": false,
         "text": "ab → gümrük: 3",
         "type": "scatter",
         "x": [
          0.05199412562000034,
          -0.9243380155339439,
          null
         ],
         "y": [
          -0.11102742429182781,
          0.4263508461286622,
          null
         ]
        },
        {
         "hoverinfo": "text",
         "line": {
          "color": "#888",
          "width": 0.6931471805599453
         },
         "mode": "lines",
         "showlegend": false,
         "text": "ab → gürcistan: 3",
         "type": "scatter",
         "x": [
          0.05199412562000034,
          0.4832857611692167,
          null
         ],
         "y": [
          -0.11102742429182781,
          0.8045654329977268,
          null
         ]
        },
        {
         "hoverinfo": "text",
         "line": {
          "color": "#888",
          "width": 0.8047189562170501
         },
         "mode": "lines",
         "showlegend": false,
         "text": "ab → güçlü: 4",
         "type": "scatter",
         "x": [
          0.05199412562000034,
          0.5183635122785475,
          null
         ],
         "y": [
          -0.11102742429182781,
          -0.852331310978069,
          null
         ]
        },
        {
         "hoverinfo": "text",
         "line": {
          "color": "#888",
          "width": 1.0397207708399179
         },
         "mode": "lines",
         "showlegend": false,
         "text": "ab → icinde: 7",
         "type": "scatter",
         "x": [
          0.05199412562000034,
          -0.1647653624172884,
          null
         ],
         "y": [
          -0.11102742429182781,
          -0.9439645830886544,
          null
         ]
        },
        {
         "hoverinfo": "text",
         "line": {
          "color": "#888",
          "width": 1.3195286648076294
         },
         "mode": "lines",
         "showlegend": false,
         "text": "ab → imf: 13",
         "type": "scatter",
         "x": [
          0.05199412562000034,
          0.9281992529282145,
          null
         ],
         "y": [
          -0.11102742429182781,
          0.2632390761808376,
          null
         ]
        },
        {
         "hoverinfo": "text",
         "line": {
          "color": "#888",
          "width": 0.8958797346140275
         },
         "mode": "lines",
         "showlegend": false,
         "text": "ab → iran: 5",
         "type": "scatter",
         "x": [
          0.05199412562000034,
          -0.21294814860351668,
          null
         ],
         "y": [
          -0.11102742429182781,
          -0.9547064816141405,
          null
         ]
        },
        {
         "hoverinfo": "text",
         "line": {
          "color": "#888",
          "width": 0.6931471805599453
         },
         "mode": "lines",
         "showlegend": false,
         "text": "ab → israil: 3",
         "type": "scatter",
         "x": [
          0.05199412562000034,
          -0.6478719109407296,
          null
         ],
         "y": [
          -0.11102742429182781,
          -0.6365548448708954,
          null
         ]
        },
        {
         "hoverinfo": "text",
         "line": {
          "color": "#888",
          "width": 0.8047189562170501
         },
         "mode": "lines",
         "showlegend": false,
         "text": "ab → içerisinde: 4",
         "type": "scatter",
         "x": [
          0.05199412562000034,
          0.715004983027365,
          null
         ],
         "y": [
          -0.11102742429182781,
          0.5902368364708387,
          null
         ]
        },
        {
         "hoverinfo": "text",
         "line": {
          "color": "#888",
          "width": 0.6931471805599453
         },
         "mode": "lines",
         "showlegend": false,
         "text": "ab → içerisindeki: 3",
         "type": "scatter",
         "x": [
          0.05199412562000034,
          0.9659085107704561,
          null
         ],
         "y": [
          -0.11102742429182781,
          -0.00030669518056290556,
          null
         ]
        },
        {
         "hoverinfo": "text",
         "line": {
          "color": "#888",
          "width": 0.8047189562170501
         },
         "mode": "lines",
         "showlegend": false,
         "text": "ab → karşıtı: 4",
         "type": "scatter",
         "x": [
          0.05199412562000034,
          -0.805341223505854,
          null
         ],
         "y": [
          -0.11102742429182781,
          0.5420647820230103,
          null
         ]
        },
        {
         "hoverinfo": "text",
         "line": {
          "color": "#888",
          "width": 0.6931471805599453
         },
         "mode": "lines",
         "showlegend": false,
         "text": "ab → kendi: 3",
         "type": "scatter",
         "x": [
          0.05199412562000034,
          0.9060262361941201,
          null
         ],
         "y": [
          -0.11102742429182781,
          0.19791647450088415,
          null
         ]
        },
        {
         "hoverinfo": "text",
         "line": {
          "color": "#888",
          "width": 0.6931471805599453
         },
         "mode": "lines",
         "showlegend": false,
         "text": "ab → kendilerine: 3",
         "type": "scatter",
         "x": [
          0.05199412562000034,
          0.9092614655457639,
          null
         ],
         "y": [
          -0.11102742429182781,
          -0.17139918564216072,
          null
         ]
        },
        {
         "hoverinfo": "text",
         "line": {
          "color": "#888",
          "width": 0.8047189562170501
         },
         "mode": "lines",
         "showlegend": false,
         "text": "ab → komisyonu: 4",
         "type": "scatter",
         "x": [
          0.05199412562000034,
          0.2188457244882831,
          null
         ],
         "y": [
          -0.11102742429182781,
          -0.824517520103577,
          null
         ]
        },
        {
         "hoverinfo": "text",
         "line": {
          "color": "#888",
          "width": 0.6931471805599453
         },
         "mode": "lines",
         "showlegend": false,
         "text": "ab → lider: 3",
         "type": "scatter",
         "x": [
          0.05199412562000034,
          -0.8026508031970334,
          null
         ],
         "y": [
          -0.11102742429182781,
          -0.638278821829888,
          null
         ]
        },
        {
         "hoverinfo": "text",
         "line": {
          "color": "#888",
          "width": 0.6931471805599453
         },
         "mode": "lines",
         "showlegend": false,
         "text": "ab → lokomotifi: 3",
         "type": "scatter",
         "x": [
          0.05199412562000034,
          -0.9534413554384804,
          null
         ],
         "y": [
          -0.11102742429182781,
          0.2546241076033453,
          null
         ]
        },
        {
         "hoverinfo": "text",
         "line": {
          "color": "#888",
          "width": 1.354025100551105
         },
         "mode": "lines",
         "showlegend": false,
         "text": "ab → merkez: 14",
         "type": "scatter",
         "x": [
          0.05199412562000034,
          -0.7736176243382522,
          null
         ],
         "y": [
          -0.11102742429182781,
          -0.38152600128711545,
          null
         ]
        },
        {
         "hoverinfo": "text",
         "line": {
          "color": "#888",
          "width": 0.8047189562170501
         },
         "mode": "lines",
         "showlegend": false,
         "text": "ab → müktesebatı: 4",
         "type": "scatter",
         "x": [
          0.05199412562000034,
          0.8416280359102883,
          null
         ],
         "y": [
          -0.11102742429182781,
          -0.5240716505825779,
          null
         ]
        },
        {
         "hoverinfo": "text",
         "line": {
          "color": "#888",
          "width": 0.8047189562170501
         },
         "mode": "lines",
         "showlegend": false,
         "text": "ab → müktesebatına: 4",
         "type": "scatter",
         "x": [
          0.05199412562000034,
          -0.18933539958212547,
          null
         ],
         "y": [
          -0.11102742429182781,
          0.9033396005527913,
          null
         ]
        },
        {
         "hoverinfo": "text",
         "line": {
          "color": "#888",
          "width": 1.9459101490553132
         },
         "mode": "lines",
         "showlegend": false,
         "text": "ab → nato: 48",
         "type": "scatter",
         "x": [
          0.05199412562000034,
          -0.49224271600294794,
          null
         ],
         "y": [
          -0.11102742429182781,
          -0.8585261722696823,
          null
         ]
        },
        {
         "hoverinfo": "text",
         "line": {
          "color": "#888",
          "width": 0.8047189562170501
         },
         "mode": "lines",
         "showlegend": false,
         "text": "ab → olmasa: 4",
         "type": "scatter",
         "x": [
          0.05199412562000034,
          -0.55203580076696,
          null
         ],
         "y": [
          -0.11102742429182781,
          -0.7791398853826362,
          null
         ]
        },
        {
         "hoverinfo": "text",
         "line": {
          "color": "#888",
          "width": 1.2824746787307684
         },
         "mode": "lines",
         "showlegend": false,
         "text": "ab → ortaklık: 12",
         "type": "scatter",
         "x": [
          0.05199412562000034,
          0.8129838212108105,
          null
         ],
         "y": [
          -0.11102742429182781,
          0.6050858140264495,
          null
         ]
        },
        {
         "hoverinfo": "text",
         "line": {
          "color": "#888",
          "width": 0.6931471805599453
         },
         "mode": "lines",
         "showlegend": false,
         "text": "ab → ortalamasının: 3",
         "type": "scatter",
         "x": [
          0.05199412562000034,
          0.20761156076052256,
          null
         ],
         "y": [
          -0.11102742429182781,
          0.9436968752113658,
          null
         ]
        },
        {
         "hoverinfo": "text",
         "line": {
          "color": "#888",
          "width": 0.6931471805599453
         },
         "mode": "lines",
         "showlegend": false,
         "text": "ab → pasaportu: 3",
         "type": "scatter",
         "x": [
          0.05199412562000034,
          0.6384127330403749,
          null
         ],
         "y": [
          -0.11102742429182781,
          -0.7385410897432658,
          null
         ]
        },
        {
         "hoverinfo": "text",
         "line": {
          "color": "#888",
          "width": 1.9459101490553132
         },
         "mode": "lines",
         "showlegend": false,
         "text": "ab → rusya: 48",
         "type": "scatter",
         "x": [
          0.05199412562000034,
          0.9673255662491682,
          null
         ],
         "y": [
          -0.11102742429182781,
          0.048377849779338684,
          null
         ]
        },
        {
         "hoverinfo": "text",
         "line": {
          "color": "#888",
          "width": 0.6931471805599453
         },
         "mode": "lines",
         "showlegend": false,
         "text": "ab → sayesinde: 3",
         "type": "scatter",
         "x": [
          0.05199412562000034,
          0.41391689052124064,
          null
         ],
         "y": [
          -0.11102742429182781,
          0.9082649419756128,
          null
         ]
        },
        {
         "hoverinfo": "text",
         "line": {
          "color": "#888",
          "width": 0.6931471805599453
         },
         "mode": "lines",
         "showlegend": false,
         "text": "ab → serbest: 3",
         "type": "scatter",
         "x": [
          0.05199412562000034,
          -0.3452631637251185,
          null
         ],
         "y": [
          -0.11102742429182781,
          -0.9024736821519262,
          null
         ]
        },
        {
         "hoverinfo": "text",
         "line": {
          "color": "#888",
          "width": 0.8047189562170501
         },
         "mode": "lines",
         "showlegend": false,
         "text": "ab → tüm: 4",
         "type": "scatter",
         "x": [
          0.05199412562000034,
          -0.8646820941165835,
          null
         ],
         "y": [
          -0.11102742429182781,
          -0.3007405789323416,
          null
         ]
        },
        {
         "hoverinfo": "text",
         "line": {
          "color": "#888",
          "width": 1.629048269010741
         },
         "mode": "lines",
         "showlegend": false,
         "text": "ab → türkiye: 25",
         "type": "scatter",
         "x": [
          0.05199412562000034,
          0.5927442577898384,
          null
         ],
         "y": [
          -0.11102742429182781,
          0.8014087389034754,
          null
         ]
        },
        {
         "hoverinfo": "text",
         "line": {
          "color": "#888",
          "width": 1.3862943611198906
         },
         "mode": "lines",
         "showlegend": false,
         "text": "ab → ukrayna: 15",
         "type": "scatter",
         "x": [
          0.05199412562000034,
          -0.9843550431923518,
          null
         ],
         "y": [
          -0.11102742429182781,
          -0.06203498917355938,
          null
         ]
        },
        {
         "hoverinfo": "text",
         "line": {
          "color": "#888",
          "width": 1.1989476363991853
         },
         "mode": "lines",
         "showlegend": false,
         "text": "ab → uyesi: 10",
         "type": "scatter",
         "x": [
          0.05199412562000034,
          -0.20431987040424637,
          null
         ],
         "y": [
          -0.11102742429182781,
          -0.8985606912252363,
          null
         ]
        },
        {
         "hoverinfo": "text",
         "line": {
          "color": "#888",
          "width": 1.6094379124341003
         },
         "mode": "lines",
         "showlegend": false,
         "text": "ab → uyum: 24",
         "type": "scatter",
         "x": [
          0.05199412562000034,
          -0.8840982659855093,
          null
         ],
         "y": [
          -0.11102742429182781,
          -0.3729717886903179,
          null
         ]
        },
        {
         "hoverinfo": "text",
         "line": {
          "color": "#888",
          "width": 1.1989476363991853
         },
         "mode": "lines",
         "showlegend": false,
         "text": "ab → vatandaşı: 10",
         "type": "scatter",
         "x": [
          0.05199412562000034,
          0.9484077011699051,
          null
         ],
         "y": [
          -0.11102742429182781,
          -0.29591541079716066,
          null
         ]
        },
        {
         "hoverinfo": "text",
         "line": {
          "color": "#888",
          "width": 0.6931471805599453
         },
         "mode": "lines",
         "showlegend": false,
         "text": "ab → vize: 3",
         "type": "scatter",
         "x": [
          0.05199412562000034,
          -0.055268626422567683,
          null
         ],
         "y": [
          -0.11102742429182781,
          0.898534668063349,
          null
         ]
        },
        {
         "hoverinfo": "text",
         "line": {
          "color": "#888",
          "width": 1.4451858789480823
         },
         "mode": "lines",
         "showlegend": false,
         "text": "ab → yanlısı: 17",
         "type": "scatter",
         "x": [
          0.05199412562000034,
          -0.18140390536720455,
          null
         ],
         "y": [
          -0.11102742429182781,
          0.9784827501706035,
          null
         ]
        },
        {
         "hoverinfo": "text",
         "line": {
          "color": "#888",
          "width": 0.6931471805599453
         },
         "mode": "lines",
         "showlegend": false,
         "text": "ab → yardım: 3",
         "type": "scatter",
         "x": [
          0.05199412562000034,
          0.8910376621667566,
          null
         ],
         "y": [
          -0.11102742429182781,
          -0.4717368206785045,
          null
         ]
        },
        {
         "hoverinfo": "text",
         "line": {
          "color": "#888",
          "width": 2.302585092994046
         },
         "mode": "lines",
         "showlegend": false,
         "text": "ab → ye: 99",
         "type": "scatter",
         "x": [
          0.05199412562000034,
          -0.034092066075542174,
          null
         ],
         "y": [
          -0.11102742429182781,
          -0.8915089699119383,
          null
         ]
        },
        {
         "hoverinfo": "text",
         "line": {
          "color": "#888",
          "width": 0.6931471805599453
         },
         "mode": "lines",
         "showlegend": false,
         "text": "ab → yeni: 3",
         "type": "scatter",
         "x": [
          0.05199412562000034,
          -0.3947811147566148,
          null
         ],
         "y": [
          -0.11102742429182781,
          -0.9110832317346083,
          null
         ]
        },
        {
         "hoverinfo": "text",
         "line": {
          "color": "#888",
          "width": 1.151292546497023
         },
         "mode": "lines",
         "showlegend": false,
         "text": "ab → yi: 9",
         "type": "scatter",
         "x": [
          0.05199412562000034,
          0.8409391206336034,
          null
         ],
         "y": [
          -0.11102742429182781,
          -0.23131489592047155,
          null
         ]
        },
        {
         "hoverinfo": "text",
         "line": {
          "color": "#888",
          "width": 1.151292546497023
         },
         "mode": "lines",
         "showlegend": false,
         "text": "ab → yunanistan: 9",
         "type": "scatter",
         "x": [
          0.05199412562000034,
          -0.9240423303600767,
          null
         ],
         "y": [
          -0.11102742429182781,
          -0.3458311998162332,
          null
         ]
        },
        {
         "hoverinfo": "text",
         "line": {
          "color": "#888",
          "width": 0.6931471805599453
         },
         "mode": "lines",
         "showlegend": false,
         "text": "ab → yüksek: 3",
         "type": "scatter",
         "x": [
          0.05199412562000034,
          0.7954958563821365,
          null
         ],
         "y": [
          -0.11102742429182781,
          -0.5942825565723838,
          null
         ]
        },
        {
         "hoverinfo": "text",
         "line": {
          "color": "#888",
          "width": 0.6931471805599453
         },
         "mode": "lines",
         "showlegend": false,
         "text": "ab → çatısı: 3",
         "type": "scatter",
         "x": [
          0.05199412562000034,
          -0.9318672603179072,
          null
         ],
         "y": [
          -0.11102742429182781,
          -0.11994629741528894,
          null
         ]
        },
        {
         "hoverinfo": "text",
         "line": {
          "color": "#888",
          "width": 1.0986122886681098
         },
         "mode": "lines",
         "showlegend": false,
         "text": "ab → çin: 8",
         "type": "scatter",
         "x": [
          0.05199412562000034,
          0.9342583245935814,
          null
         ],
         "y": [
          -0.11102742429182781,
          -0.40005096544726415,
          null
         ]
        },
        {
         "hoverinfo": "text",
         "line": {
          "color": "#888",
          "width": 2.2213256282451583
         },
         "mode": "lines",
         "showlegend": false,
         "text": "ab → ülkeleri: 84",
         "type": "scatter",
         "x": [
          0.05199412562000034,
          0.2612571642113985,
          null
         ],
         "y": [
          -0.11102742429182781,
          0.8973842477370136,
          null
         ]
        },
        {
         "hoverinfo": "text",
         "line": {
          "color": "#888",
          "width": 1.3195286648076294
         },
         "mode": "lines",
         "showlegend": false,
         "text": "ab → ülkelerinde: 13",
         "type": "scatter",
         "x": [
          0.05199412562000034,
          -0.5458305343815005,
          null
         ],
         "y": [
          -0.11102742429182781,
          0.7691531629825671,
          null
         ]
        },
        {
         "hoverinfo": "text",
         "line": {
          "color": "#888",
          "width": 0.6931471805599453
         },
         "mode": "lines",
         "showlegend": false,
         "text": "ab → ülkelerinden: 3",
         "type": "scatter",
         "x": [
          0.05199412562000034,
          -0.5554694195343051,
          null
         ],
         "y": [
          -0.11102742429182781,
          0.6968409486324306,
          null
         ]
        },
        {
         "hoverinfo": "text",
         "line": {
          "color": "#888",
          "width": 1.3195286648076294
         },
         "mode": "lines",
         "showlegend": false,
         "text": "ab → ülkelerine: 13",
         "type": "scatter",
         "x": [
          0.05199412562000034,
          0.8796836868901013,
          null
         ],
         "y": [
          -0.11102742429182781,
          0.04886914913634682,
          null
         ]
        },
        {
         "hoverinfo": "text",
         "line": {
          "color": "#888",
          "width": 1.0397207708399179
         },
         "mode": "lines",
         "showlegend": false,
         "text": "ab → ülkelerini: 7",
         "type": "scatter",
         "x": [
          0.05199412562000034,
          -0.79269958470234,
          null
         ],
         "y": [
          -0.11102742429182781,
          0.6150216971923588,
          null
         ]
        },
        {
         "hoverinfo": "text",
         "line": {
          "color": "#888",
          "width": 1.629048269010741
         },
         "mode": "lines",
         "showlegend": false,
         "text": "ab → ülkelerinin: 25",
         "type": "scatter",
         "x": [
          0.05199412562000034,
          -0.4856880140299513,
          null
         ],
         "y": [
          -0.11102742429182781,
          -0.8090168117925034,
          null
         ]
        },
        {
         "hoverinfo": "text",
         "line": {
          "color": "#888",
          "width": 1.416606672028108
         },
         "mode": "lines",
         "showlegend": false,
         "text": "ab → ülkesi: 16",
         "type": "scatter",
         "x": [
          0.05199412562000034,
          -0.9610413096140078,
          null
         ],
         "y": [
          -0.11102742429182781,
          0.19216793555882833,
          null
         ]
        },
        {
         "hoverinfo": "text",
         "line": {
          "color": "#888",
          "width": 1.1989476363991853
         },
         "mode": "lines",
         "showlegend": false,
         "text": "ab → üye: 10",
         "type": "scatter",
         "x": [
          0.05199412562000034,
          0.3916986521289163,
          null
         ],
         "y": [
          -0.11102742429182781,
          -0.9196682553695115,
          null
         ]
        },
        {
         "hoverinfo": "text",
         "line": {
          "color": "#888",
          "width": 1.1989476363991853
         },
         "mode": "lines",
         "showlegend": false,
         "text": "ab → üyelik: 10",
         "type": "scatter",
         "x": [
          0.05199412562000034,
          0.055848831959316884,
          null
         ],
         "y": [
          -0.11102742429182781,
          -0.9158544863047473,
          null
         ]
        },
        {
         "hoverinfo": "text",
         "line": {
          "color": "#888",
          "width": 1.7005986908310777
         },
         "mode": "lines",
         "showlegend": false,
         "text": "ab → üyeliği: 29",
         "type": "scatter",
         "x": [
          0.05199412562000034,
          0.31970682243310683,
          null
         ],
         "y": [
          -0.11102742429182781,
          -0.890516293350474,
          null
         ]
        },
        {
         "hoverinfo": "text",
         "line": {
          "color": "#888",
          "width": 0.8958797346140275
         },
         "mode": "lines",
         "showlegend": false,
         "text": "ab → üyeliğine: 5",
         "type": "scatter",
         "x": [
          0.05199412562000034,
          0.7609771687253681,
          null
         ],
         "y": [
          -0.11102742429182781,
          -0.4960067062793268,
          null
         ]
        },
        {
         "hoverinfo": "text",
         "line": {
          "color": "#888",
          "width": 2.359249435647547
         },
         "mode": "lines",
         "showlegend": false,
         "text": "ab → üyesi: 111",
         "type": "scatter",
         "x": [
          0.05199412562000034,
          0.759013274255672,
          null
         ],
         "y": [
          -0.11102742429182781,
          -0.6816710581603597,
          null
         ]
        },
        {
         "hoverinfo": "text",
         "line": {
          "color": "#888",
          "width": 0.8047189562170501
         },
         "mode": "lines",
         "showlegend": false,
         "text": "ab → şımarık: 4",
         "type": "scatter",
         "x": [
          0.05199412562000034,
          -0.27311356634240286,
          null
         ],
         "y": [
          -0.11102742429182781,
          -0.9230718656591255,
          null
         ]
        },
        {
         "hoverinfo": "text",
         "line": {
          "color": "#888",
          "width": 2.5499332139120994
         },
         "mode": "lines",
         "showlegend": false,
         "text": "abd → ab: 163",
         "type": "scatter",
         "x": [
          -0.03553879071287288,
          0.05199412562000034,
          null
         ],
         "y": [
          0.13785512846571954,
          -0.11102742429182781,
          null
         ]
        },
        {
         "hoverinfo": "text",
         "line": {
          "color": "#888",
          "width": 2.1653666701431655
         },
         "mode": "lines",
         "showlegend": false,
         "text": "abd → abd: 75",
         "type": "scatter",
         "x": [
          -0.03553879071287288,
          -0.03553879071287288,
          null
         ],
         "y": [
          0.13785512846571954,
          0.13785512846571954,
          null
         ]
        },
        {
         "hoverinfo": "text",
         "line": {
          "color": "#888",
          "width": 0.6931471805599453
         },
         "mode": "lines",
         "showlegend": false,
         "text": "abd → abrams: 3",
         "type": "scatter",
         "x": [
          -0.03553879071287288,
          0.5102362148705342,
          null
         ],
         "y": [
          0.13785512846571954,
          -0.7836281885749817,
          null
         ]
        },
        {
         "hoverinfo": "text",
         "line": {
          "color": "#888",
          "width": 0.8047189562170501
         },
         "mode": "lines",
         "showlegend": false,
         "text": "abd → acik: 4",
         "type": "scatter",
         "x": [
          -0.03553879071287288,
          0.590070136427201,
          null
         ],
         "y": [
          0.13785512846571954,
          -0.7365656613049334,
          null
         ]
        },
        {
         "hoverinfo": "text",
         "line": {
          "color": "#888",
          "width": 0.6931471805599453
         },
         "mode": "lines",
         "showlegend": false,
         "text": "abd → adalet: 3",
         "type": "scatter",
         "x": [
          -0.03553879071287288,
          -0.47448637071949035,
          null
         ],
         "y": [
          0.13785512846571954,
          0.8021125376059209,
          null
         ]
        },
        {
         "hoverinfo": "text",
         "line": {
          "color": "#888",
          "width": 0.6931471805599453
         },
         "mode": "lines",
         "showlegend": false,
         "text": "abd → adamlar: 3",
         "type": "scatter",
         "x": [
          -0.03553879071287288,
          0.30781090011593926,
          null
         ],
         "y": [
          0.13785512846571954,
          0.9121209365552403,
          null
         ]
        },
        {
         "hoverinfo": "text",
         "line": {
          "color": "#888",
          "width": 0.8047189562170501
         },
         "mode": "lines",
         "showlegend": false,
         "text": "abd → adı: 4",
         "type": "scatter",
         "x": [
          -0.03553879071287288,
          0.7488409604844353,
          null
         ],
         "y": [
          0.13785512846571954,
          0.4914066638132967,
          null
         ]
        },
        {
         "hoverinfo": "text",
         "line": {
          "color": "#888",
          "width": 1.666102255087602
         },
         "mode": "lines",
         "showlegend": false,
         "text": "abd → afganistan: 27",
         "type": "scatter",
         "x": [
          -0.03553879071287288,
          -0.9495123603113033,
          null
         ],
         "y": [
          0.13785512846571954,
          -0.16583235700230747,
          null
         ]
        },
        {
         "hoverinfo": "text",
         "line": {
          "color": "#888",
          "width": 0.9729550745276566
         },
         "mode": "lines",
         "showlegend": false,
         "text": "abd → agresif: 6",
         "type": "scatter",
         "x": [
          -0.03553879071287288,
          -0.7193485532970763,
          null
         ],
         "y": [
          0.13785512846571954,
          -0.5999422306248028,
          null
         ]
        },
        {
         "hoverinfo": "text",
         "line": {
          "color": "#888",
          "width": 1.0986122886681098
         },
         "mode": "lines",
         "showlegend": false,
         "text": "abd → ait: 8",
         "type": "scatter",
         "x": [
          -0.03553879071287288,
          0.9806724152259049,
          null
         ],
         "y": [
          0.13785512846571954,
          -0.18003205212428872,
          null
         ]
        },
        {
         "hoverinfo": "text",
         "line": {
          "color": "#888",
          "width": 0.6931471805599453
         },
         "mode": "lines",
         "showlegend": false,
         "text": "abd → ajanı: 3",
         "type": "scatter",
         "x": [
          -0.03553879071287288,
          0.958085527337725,
          null
         ],
         "y": [
          0.13785512846571954,
          0.1652520227878489,
          null
         ]
        },
        {
         "hoverinfo": "text",
         "line": {
          "color": "#888",
          "width": 1.0397207708399179
         },
         "mode": "lines",
         "showlegend": false,
         "text": "abd → akp: 7",
         "type": "scatter",
         "x": [
          -0.03553879071287288,
          0.9338960123166301,
          null
         ],
         "y": [
          0.13785512846571954,
          -0.05504237858171864,
          null
         ]
        },
        {
         "hoverinfo": "text",
         "line": {
          "color": "#888",
          "width": 0.8047189562170501
         },
         "mode": "lines",
         "showlegend": false,
         "text": "abd → akıllı: 4",
         "type": "scatter",
         "x": [
          -0.03553879071287288,
          0.5740795251455385,
          null
         ],
         "y": [
          0.13785512846571954,
          -0.629891457289388,
          null
         ]
        },
        {
         "hoverinfo": "text",
         "line": {
          "color": "#888",
          "width": 0.6931471805599453
         },
         "mode": "lines",
         "showlegend": false,
         "text": "abd → alanda: 3",
         "type": "scatter",
         "x": [
          -0.03553879071287288,
          -0.71574522047585,
          null
         ],
         "y": [
          0.13785512846571954,
          0.6300196101056882,
          null
         ]
        },
        {
         "hoverinfo": "text",
         "line": {
          "color": "#888",
          "width": 1.0397207708399179
         },
         "mode": "lines",
         "showlegend": false,
         "text": "abd → aldığı: 7",
         "type": "scatter",
         "x": [
          -0.03553879071287288,
          -0.2894609298297748,
          null
         ],
         "y": [
          0.13785512846571954,
          -0.9529529508478243,
          null
         ]
        },
        {
         "hoverinfo": "text",
         "line": {
          "color": "#888",
          "width": 1.0397207708399179
         },
         "mode": "lines",
         "showlegend": false,
         "text": "abd → aleyhine: 7",
         "type": "scatter",
         "x": [
          -0.03553879071287288,
          0.3772601762718823,
          null
         ],
         "y": [
          0.13785512846571954,
          -0.8654325275697272,
          null
         ]
        },
        {
         "hoverinfo": "text",
         "line": {
          "color": "#888",
          "width": 0.6931471805599453
         },
         "mode": "lines",
         "showlegend": false,
         "text": "abd → alim: 3",
         "type": "scatter",
         "x": [
          -0.03553879071287288,
          0.6344727651623314,
          null
         ],
         "y": [
          0.13785512846571954,
          0.8308436921175575,
          null
         ]
        },
        {
         "hoverinfo": "text",
         "line": {
          "color": "#888",
          "width": 2.2033596236321267
         },
         "mode": "lines",
         "showlegend": false,
         "text": "abd → almanya: 81",
         "type": "scatter",
         "x": [
          -0.03553879071287288,
          -0.12693280136160875,
          null
         ],
         "y": [
          0.13785512846571954,
          0.9217257062027147,
          null
         ]
        },
        {
         "hoverinfo": "text",
         "line": {
          "color": "#888",
          "width": 0.8958797346140275
         },
         "mode": "lines",
         "showlegend": false,
         "text": "abd → alternatif: 5",
         "type": "scatter",
         "x": [
          -0.03553879071287288,
          0.9530029994016093,
          null
         ],
         "y": [
          0.13785512846571954,
          -0.22980695735945988,
          null
         ]
        },
        {
         "hoverinfo": "text",
         "line": {
          "color": "#888",
          "width": 0.6931471805599453
         },
         "mode": "lines",
         "showlegend": false,
         "text": "abd → alternatifi: 3",
         "type": "scatter",
         "x": [
          -0.03553879071287288,
          -0.8166997600960847,
          null
         ],
         "y": [
          0.13785512846571954,
          0.6454012681377639,
          null
         ]
        },
        {
         "hoverinfo": "text",
         "line": {
          "color": "#888",
          "width": 0.6931471805599453
         },
         "mode": "lines",
         "showlegend": false,
         "text": "abd → ambargosu: 3",
         "type": "scatter",
         "x": [
          -0.03553879071287288,
          -0.08119376685576749,
          null
         ],
         "y": [
          0.13785512846571954,
          0.9873564742179103,
          null
         ]
        },
        {
         "hoverinfo": "text",
         "line": {
          "color": "#888",
          "width": 0.9729550745276566
         },
         "mode": "lines",
         "showlegend": false,
         "text": "abd → amerika: 6",
         "type": "scatter",
         "x": [
          -0.03553879071287288,
          -0.9240167764068749,
          null
         ],
         "y": [
          0.13785512846571954,
          0.016208621396689982,
          null
         ]
        },
        {
         "hoverinfo": "text",
         "line": {
          "color": "#888",
          "width": 1.0986122886681098
         },
         "mode": "lines",
         "showlegend": false,
         "text": "abd → amerikan: 8",
         "type": "scatter",
         "x": [
          -0.03553879071287288,
          0.8676401881187317,
          null
         ],
         "y": [
          0.13785512846571954,
          0.5561610011901628,
          null
         ]
        },
        {
         "hoverinfo": "text",
         "line": {
          "color": "#888",
          "width": 1.5677471079645748
         },
         "mode": "lines",
         "showlegend": false,
         "text": "abd → an: 22",
         "type": "scatter",
         "x": [
          -0.03553879071287288,
          -0.8800878173021585,
          null
         ],
         "y": [
          0.13785512846571954,
          -0.1734537238715661,
          null
         ]
        },
        {
         "hoverinfo": "text",
         "line": {
          "color": "#888",
          "width": 0.8047189562170501
         },
         "mode": "lines",
         "showlegend": false,
         "text": "abd → ana: 4",
         "type": "scatter",
         "x": [
          -0.03553879071287288,
          0.8490512251318841,
          null
         ],
         "y": [
          0.13785512846571954,
          -0.46134657518553807,
          null
         ]
        },
        {
         "hoverinfo": "text",
         "line": {
          "color": "#888",
          "width": 0.8958797346140275
         },
         "mode": "lines",
         "showlegend": false,
         "text": "abd → anayasa: 5",
         "type": "scatter",
         "x": [
          -0.03553879071287288,
          -0.892952339727839,
          null
         ],
         "y": [
          0.13785512846571954,
          0.2819008726206846,
          null
         ]
        },
        {
         "hoverinfo": "text",
         "line": {
          "color": "#888",
          "width": 1.151292546497023
         },
         "mode": "lines",
         "showlegend": false,
         "text": "abd → anayasası: 9",
         "type": "scatter",
         "x": [
          -0.03553879071287288,
          0.9681059452023495,
          null
         ],
         "y": [
          0.13785512846571954,
          0.2219971724861903,
          null
         ]
        },
        {
         "hoverinfo": "text",
         "line": {
          "color": "#888",
          "width": 0.8047189562170501
         },
         "mode": "lines",
         "showlegend": false,
         "text": "abd → anayasasına: 4",
         "type": "scatter",
         "x": [
          -0.03553879071287288,
          0.09046848205949001,
          null
         ],
         "y": [
          0.13785512846571954,
          -0.9577186770521664,
          null
         ]
        },
        {
         "hoverinfo": "text",
         "line": {
          "color": "#888",
          "width": 0.8958797346140275
         },
         "mode": "lines",
         "showlegend": false,
         "text": "abd → anayasasında: 5",
         "type": "scatter",
         "x": [
          -0.03553879071287288,
          0.15862190018374958,
          null
         ],
         "y": [
          0.13785512846571954,
          0.9896576385021659,
          null
         ]
        },
        {
         "hoverinfo": "text",
         "line": {
          "color": "#888",
          "width": 0.9729550745276566
         },
         "mode": "lines",
         "showlegend": false,
         "text": "abd → anayasasının: 6",
         "type": "scatter",
         "x": [
          -0.03553879071287288,
          -0.9398946580477774,
          null
         ],
         "y": [
          0.13785512846571954,
          0.07620376947753334,
          null
         ]
        },
        {
         "hoverinfo": "text",
         "line": {
          "color": "#888",
          "width": 1.3195286648076294
         },
         "mode": "lines",
         "showlegend": false,
         "text": "abd → anda: 13",
         "type": "scatter",
         "x": [
          -0.03553879071287288,
          0.8567910524975062,
          null
         ],
         "y": [
          0.13785512846571954,
          0.49014364695111917,
          null
         ]
        },
        {
         "hoverinfo": "text",
         "line": {
          "color": "#888",
          "width": 0.6931471805599453
         },
         "mode": "lines",
         "showlegend": false,
         "text": "abd → anki: 3",
         "type": "scatter",
         "x": [
          -0.03553879071287288,
          0.610776272410187,
          null
         ],
         "y": [
          0.13785512846571954,
          0.7049785656234372,
          null
         ]
        },
        {
         "hoverinfo": "text",
         "line": {
          "color": "#888",
          "width": 0.6931471805599453
         },
         "mode": "lines",
         "showlegend": false,
         "text": "abd → anlamak: 3",
         "type": "scatter",
         "x": [
          -0.03553879071287288,
          -0.5584907907562499,
          null
         ],
         "y": [
          0.13785512846571954,
          -0.7129887560288316,
          null
         ]
        },
        {
         "hoverinfo": "text",
         "line": {
          "color": "#888",
          "width": 0.8958797346140275
         },
         "mode": "lines",
         "showlegend": false,
         "text": "abd → araba: 5",
         "type": "scatter",
         "x": [
          -0.03553879071287288,
          0.6498163199760169,
          null
         ],
         "y": [
          0.13785512846571954,
          0.7383129668083557,
          null
         ]
        },
        {
         "hoverinfo": "text",
         "line": {
          "color": "#888",
          "width": 0.8047189562170501
         },
         "mode": "lines",
         "showlegend": false,
         "text": "abd → arap: 4",
         "type": "scatter",
         "x": [
          -0.03553879071287288,
          0.5075273330592089,
          null
         ],
         "y": [
          0.13785512846571954,
          0.8799740284453934,
          null
         ]
        },
        {
         "hoverinfo": "text",
         "line": {
          "color": "#888",
          "width": 1.4722194895832201
         },
         "mode": "lines",
         "showlegend": false,
         "text": "abd → arasında: 18",
         "type": "scatter",
         "x": [
          -0.03553879071287288,
          0.14017350705824855,
          null
         ],
         "y": [
          0.13785512846571954,
          -0.9703818757652627,
          null
         ]
        },
        {
         "hoverinfo": "text",
         "line": {
          "color": "#888",
          "width": 1.151292546497023
         },
         "mode": "lines",
         "showlegend": false,
         "text": "abd → arasındaki: 9",
         "type": "scatter",
         "x": [
          -0.03553879071287288,
          0.2189410374824677,
          null
         ],
         "y": [
          0.13785512846571954,
          -0.9169410145557412,
          null
         ]
        },
        {
         "hoverinfo": "text",
         "line": {
          "color": "#888",
          "width": 0.8047189562170501
         },
         "mode": "lines",
         "showlegend": false,
         "text": "abd → araya: 4",
         "type": "scatter",
         "x": [
          -0.03553879071287288,
          0.7641475530348686,
          null
         ],
         "y": [
          0.13785512846571954,
          0.3528191600785249,
          null
         ]
        },
        {
         "hoverinfo": "text",
         "line": {
          "color": "#888",
          "width": 0.8047189562170501
         },
         "mode": "lines",
         "showlegend": false,
         "text": "abd → arazi: 4",
         "type": "scatter",
         "x": [
          -0.03553879071287288,
          0.8506336734187049,
          null
         ],
         "y": [
          0.13785512846571954,
          0.4215472896645129,
          null
         ]
        },
        {
         "hoverinfo": "text",
         "line": {
          "color": "#888",
          "width": 0.6931471805599453
         },
         "mode": "lines",
         "showlegend": false,
         "text": "abd → araştırma: 3",
         "type": "scatter",
         "x": [
          -0.03553879071287288,
          0.3563415721643425,
          null
         ],
         "y": [
          0.13785512846571954,
          0.8830054098979061,
          null
         ]
        },
        {
         "hoverinfo": "text",
         "line": {
          "color": "#888",
          "width": 0.8958797346140275
         },
         "mode": "lines",
         "showlegend": false,
         "text": "abd → arka: 5",
         "type": "scatter",
         "x": [
          -0.03553879071287288,
          0.9132196500452502,
          null
         ],
         "y": [
          0.13785512846571954,
          -0.3435358934774964,
          null
         ]
        },
        {
         "hoverinfo": "text",
         "line": {
          "color": "#888",
          "width": 0.6931471805599453
         },
         "mode": "lines",
         "showlegend": false,
         "text": "abd → arkasına: 3",
         "type": "scatter",
         "x": [
          -0.03553879071287288,
          -0.12218274927795834,
          null
         ],
         "y": [
          0.13785512846571954,
          -0.9560785397418494,
          null
         ]
        },
        {
         "hoverinfo": "text",
         "line": {
          "color": "#888",
          "width": 0.8047189562170501
         },
         "mode": "lines",
         "showlegend": false,
         "text": "abd → arkasındaki: 4",
         "type": "scatter",
         "x": [
          -0.03553879071287288,
          0.040394309015714634,
          null
         ],
         "y": [
          0.13785512846571954,
          -0.9796831304568104,
          null
         ]
        },
        {
         "hoverinfo": "text",
         "line": {
          "color": "#888",
          "width": 0.6931471805599453
         },
         "mode": "lines",
         "showlegend": false,
         "text": "abd → artik: 3",
         "type": "scatter",
         "x": [
          -0.03553879071287288,
          -0.32449717906406683,
          null
         ],
         "y": [
          0.13785512846571954,
          0.7051431503697477,
          null
         ]
        },
        {
         "hoverinfo": "text",
         "line": {
          "color": "#888",
          "width": 1.151292546497023
         },
         "mode": "lines",
         "showlegend": false,
         "text": "abd → asgari: 9",
         "type": "scatter",
         "x": [
          -0.03553879071287288,
          -0.8091047289458391,
          null
         ],
         "y": [
          0.13785512846571954,
          0.3991866004333328,
          null
         ]
        },
        {
         "hoverinfo": "text",
         "line": {
          "color": "#888",
          "width": 2.2213256282451583
         },
         "mode": "lines",
         "showlegend": false,
         "text": "abd → askeri: 84",
         "type": "scatter",
         "x": [
          -0.03553879071287288,
          -0.7564707677824019,
          null
         ],
         "y": [
          0.13785512846571954,
          -0.7139597805708544,
          null
         ]
        },
        {
         "hoverinfo": "text",
         "line": {
          "color": "#888",
          "width": 0.8047189562170501
         },
         "mode": "lines",
         "showlegend": false,
         "text": "abd → askerini: 4",
         "type": "scatter",
         "x": [
          -0.03553879071287288,
          0.9101599821646519,
          null
         ],
         "y": [
          0.13785512846571954,
          -0.2754098707404245,
          null
         ]
        },
        {
         "hoverinfo": "text",
         "line": {
          "color": "#888",
          "width": 1.151292546497023
         },
         "mode": "lines",
         "showlegend": false,
         "text": "abd → askerinin: 9",
         "type": "scatter",
         "x": [
          -0.03553879071287288,
          -0.9343683959040356,
          null
         ],
         "y": [
          0.13785512846571954,
          0.16334806777319813,
          null
         ]
        },
        {
         "hoverinfo": "text",
         "line": {
          "color": "#888",
          "width": 1.2824746787307684
         },
         "mode": "lines",
         "showlegend": false,
         "text": "abd → askerleri: 12",
         "type": "scatter",
         "x": [
          -0.03553879071287288,
          0.6648645994221479,
          null
         ],
         "y": [
          0.13785512846571954,
          -0.6959819208633172,
          null
         ]
        },
        {
         "hoverinfo": "text",
         "line": {
          "color": "#888",
          "width": 1.1989476363991853
         },
         "mode": "lines",
         "showlegend": false,
         "text": "abd → askerlerini: 10",
         "type": "scatter",
         "x": [
          -0.03553879071287288,
          0.26420732436079036,
          null
         ],
         "y": [
          0.13785512846571954,
          -0.9351347032455346,
          null
         ]
        },
        {
         "hoverinfo": "text",
         "line": {
          "color": "#888",
          "width": 1.2824746787307684
         },
         "mode": "lines",
         "showlegend": false,
         "text": "abd → askerlerinin: 12",
         "type": "scatter",
         "x": [
          -0.03553879071287288,
          -0.9728238158473762,
          null
         ],
         "y": [
          0.13785512846571954,
          0.01594995695629887,
          null
         ]
        },
        {
         "hoverinfo": "text",
         "line": {
          "color": "#888",
          "width": 1.0397207708399179
         },
         "mode": "lines",
         "showlegend": false,
         "text": "abd → aslinda: 7",
         "type": "scatter",
         "x": [
          -0.03553879071287288,
          0.05409354278911692,
          null
         ],
         "y": [
          0.13785512846571954,
          0.8806159320856676,
          null
         ]
        },
        {
         "hoverinfo": "text",
         "line": {
          "color": "#888",
          "width": 0.6931471805599453
         },
         "mode": "lines",
         "showlegend": false,
         "text": "abd → asya: 3",
         "type": "scatter",
         "x": [
          -0.03553879071287288,
          0.31258967634097523,
          null
         ],
         "y": [
          0.13785512846571954,
          0.960010487439606,
          null
         ]
        },
        {
         "hoverinfo": "text",
         "line": {
          "color": "#888",
          "width": 1.0397207708399179
         },
         "mode": "lines",
         "showlegend": false,
         "text": "abd → asıl: 7",
         "type": "scatter",
         "x": [
          -0.03553879071287288,
          0.4014641220122068,
          null
         ],
         "y": [
          0.13785512846571954,
          -0.7834409992583568,
          null
         ]
        },
        {
         "hoverinfo": "text",
         "line": {
          "color": "#888",
          "width": 0.6931471805599453
         },
         "mode": "lines",
         "showlegend": false,
         "text": "abd → atan: 3",
         "type": "scatter",
         "x": [
          -0.03553879071287288,
          0.7451318452726637,
          null
         ],
         "y": [
          0.13785512846571954,
          -0.6011341477388653,
          null
         ]
        },
        {
         "hoverinfo": "text",
         "line": {
          "color": "#888",
          "width": 0.8047189562170501
         },
         "mode": "lines",
         "showlegend": false,
         "text": "abd → atom: 4",
         "type": "scatter",
         "x": [
          -0.03553879071287288,
          -0.05349024309022947,
          null
         ],
         "y": [
          0.13785512846571954,
          -0.9654574925762185,
          null
         ]
        },
        {
         "hoverinfo": "text",
         "line": {
          "color": "#888",
          "width": 2.746530721670274
         },
         "mode": "lines",
         "showlegend": false,
         "text": "abd → avrupa: 242",
         "type": "scatter",
         "x": [
          -0.03553879071287288,
          -0.7588230139859354,
          null
         ],
         "y": [
          0.13785512846571954,
          0.7217387447831501,
          null
         ]
        },
        {
         "hoverinfo": "text",
         "line": {
          "color": "#888",
          "width": 0.6931471805599453
         },
         "mode": "lines",
         "showlegend": false,
         "text": "abd → avrupadaki: 3",
         "type": "scatter",
         "x": [
          -0.03553879071287288,
          0.8007723726043986,
          null
         ],
         "y": [
          0.13785512846571954,
          0.5435980437911128,
          null
         ]
        },
        {
         "hoverinfo": "text",
         "line": {
          "color": "#888",
          "width": 1.0986122886681098
         },
         "mode": "lines",
         "showlegend": false,
         "text": "abd → avrupalı: 8",
         "type": "scatter",
         "x": [
          -0.03553879071287288,
          -0.0897184000210211,
          null
         ],
         "y": [
          0.13785512846571954,
          -0.9324282968168989,
          null
         ]
        },
        {
         "hoverinfo": "text",
         "line": {
          "color": "#888",
          "width": 0.6931471805599453
         },
         "mode": "lines",
         "showlegend": false,
         "text": "abd → avrupaya: 3",
         "type": "scatter",
         "x": [
          -0.03553879071287288,
          -0.8591131432224753,
          null
         ],
         "y": [
          0.13785512846571954,
          -0.4229087839749986,
          null
         ]
        },
        {
         "hoverinfo": "text",
         "line": {
          "color": "#888",
          "width": 0.6931471805599453
         },
         "mode": "lines",
         "showlegend": false,
         "text": "abd → avrupayı: 3",
         "type": "scatter",
         "x": [
          -0.03553879071287288,
          0.13462660295683945,
          null
         ],
         "y": [
          0.13785512846571954,
          0.89839749630981,
          null
         ]
        },
        {
         "hoverinfo": "text",
         "line": {
          "color": "#888",
          "width": 1.2824746787307684
         },
         "mode": "lines",
         "showlegend": false,
         "text": "abd → avustralya: 12",
         "type": "scatter",
         "x": [
          -0.03553879071287288,
          0.6781410381563348,
          null
         ],
         "y": [
          0.13785512846571954,
          -0.6242575036724134,
          null
         ]
        },
        {
         "hoverinfo": "text",
         "line": {
          "color": "#888",
          "width": 1.0397207708399179
         },
         "mode": "lines",
         "showlegend": false,
         "text": "abd → ay: 7",
         "type": "scatter",
         "x": [
          -0.03553879071287288,
          0.9571862613971391,
          null
         ],
         "y": [
          0.13785512846571954,
          0.3082399396995429,
          null
         ]
        },
        {
         "hoverinfo": "text",
         "line": {
          "color": "#888",
          "width": 0.8958797346140275
         },
         "mode": "lines",
         "showlegend": false,
         "text": "abd → ayak: 5",
         "type": "scatter",
         "x": [
          -0.03553879071287288,
          0.5174378988766858,
          null
         ],
         "y": [
          0.13785512846571954,
          0.7080609119208965,
          null
         ]
        },
        {
         "hoverinfo": "text",
         "line": {
          "color": "#888",
          "width": 0.8958797346140275
         },
         "mode": "lines",
         "showlegend": false,
         "text": "abd → ayni: 5",
         "type": "scatter",
         "x": [
          -0.03553879071287288,
          -0.2938899721611287,
          null
         ],
         "y": [
          0.13785512846571954,
          -0.8632385009517616,
          null
         ]
        },
        {
         "hoverinfo": "text",
         "line": {
          "color": "#888",
          "width": 1.8317808230648231
         },
         "mode": "lines",
         "showlegend": false,
         "text": "abd → aynı: 38",
         "type": "scatter",
         "x": [
          -0.03553879071287288,
          -0.3640726521026354,
          null
         ],
         "y": [
          0.13785512846571954,
          0.8560518672493087,
          null
         ]
        },
        {
         "hoverinfo": "text",
         "line": {
          "color": "#888",
          "width": 0.8958797346140275
         },
         "mode": "lines",
         "showlegend": false,
         "text": "abd → azından: 5",
         "type": "scatter",
         "x": [
          -0.03553879071287288,
          -0.8590940464464423,
          null
         ],
         "y": [
          0.13785512846571954,
          -0.5600459196963176,
          null
         ]
        },
        {
         "hoverinfo": "text",
         "line": {
          "color": "#888",
          "width": 0.8047189562170501
         },
         "mode": "lines",
         "showlegend": false,
         "text": "abd → açık: 4",
         "type": "scatter",
         "x": [
          -0.03553879071287288,
          -0.6781488633085078,
          null
         ],
         "y": [
          0.13785512846571954,
          -0.7825375730791577,
          null
         ]
        },
        {
         "hoverinfo": "text",
         "line": {
          "color": "#888",
          "width": 1.416606672028108
         },
         "mode": "lines",
         "showlegend": false,
         "text": "abd → açısından: 16",
         "type": "scatter",
         "x": [
          -0.03553879071287288,
          0.9022594350432588,
          null
         ],
         "y": [
          0.13785512846571954,
          0.3650116858366415,
          null
         ]
        },
        {
         "hoverinfo": "text",
         "line": {
          "color": "#888",
          "width": 0.8047189562170501
         },
         "mode": "lines",
         "showlegend": false,
         "text": "abd → aşırı: 4",
         "type": "scatter",
         "x": [
          -0.03553879071287288,
          -0.004568332331480101,
          null
         ],
         "y": [
          0.13785512846571954,
          -0.9600407775708512,
          null
         ]
        },
        {
         "hoverinfo": "text",
         "line": {
          "color": "#888",
          "width": 0.8047189562170501
         },
         "mode": "lines",
         "showlegend": false,
         "text": "abd → bakış: 4",
         "type": "scatter",
         "x": [
          -0.03553879071287288,
          -0.41537407539363236,
          null
         ],
         "y": [
          0.13785512846571954,
          -0.7112904396638831,
          null
         ]
        },
        {
         "hoverinfo": "text",
         "line": {
          "color": "#888",
          "width": 0.6931471805599453
         },
         "mode": "lines",
         "showlegend": false,
         "text": "abd → bankacılık: 3",
         "type": "scatter",
         "x": [
          -0.03553879071287288,
          -0.9027673665736158,
          null
         ],
         "y": [
          0.13785512846571954,
          -0.2391924350880663,
          null
         ]
        },
        {
         "hoverinfo": "text",
         "line": {
          "color": "#888",
          "width": 1.0986122886681098
         },
         "mode": "lines",
         "showlegend": false,
         "text": "abd → baskani: 8",
         "type": "scatter",
         "x": [
          -0.03553879071287288,
          -0.2006170046940988,
          null
         ],
         "y": [
          0.13785512846571954,
          0.8392017140990553,
          null
         ]
        },
        {
         "hoverinfo": "text",
         "line": {
          "color": "#888",
          "width": 0.6931471805599453
         },
         "mode": "lines",
         "showlegend": false,
         "text": "abd → basligina: 3",
         "type": "scatter",
         "x": [
          -0.03553879071287288,
          0.3183792569221987,
          null
         ],
         "y": [
          0.13785512846571954,
          -0.9330982695621719,
          null
         ]
        },
        {
         "hoverinfo": "text",
         "line": {
          "color": "#888",
          "width": 0.8047189562170501
         },
         "mode": "lines",
         "showlegend": false,
         "text": "abd → basliginda: 4",
         "type": "scatter",
         "x": [
          -0.03553879071287288,
          -0.6861062035459553,
          null
         ],
         "y": [
          0.13785512846571954,
          0.5545090648252742,
          null
         ]
        },
        {
         "hoverinfo": "text",
         "line": {
          "color": "#888",
          "width": 1.354025100551105
         },
         "mode": "lines",
         "showlegend": false,
         "text": "abd → batacak: 14",
         "type": "scatter",
         "x": [
          -0.03553879071287288,
          -0.04860520291778316,
          null
         ],
         "y": [
          0.13785512846571954,
          0.9517992133935552,
          null
         ]
        },
        {
         "hoverinfo": "text",
         "line": {
          "color": "#888",
          "width": 0.6931471805599453
         },
         "mode": "lines",
         "showlegend": false,
         "text": "abd → batacağı: 3",
         "type": "scatter",
         "x": [
          -0.03553879071287288,
          0.46846086314565577,
          null
         ],
         "y": [
          0.13785512846571954,
          -0.830176644219831,
          null
         ]
        },
        {
         "hoverinfo": "text",
         "line": {
          "color": "#888",
          "width": 0.6931471805599453
         },
         "mode": "lines",
         "showlegend": false,
         "text": "abd → batar: 3",
         "type": "scatter",
         "x": [
          -0.03553879071287288,
          -0.9199774701720529,
          null
         ],
         "y": [
          0.13785512846571954,
          0.3241916555071052,
          null
         ]
        },
        {
         "hoverinfo": "text",
         "line": {
          "color": "#888",
          "width": 1.0986122886681098
         },
         "mode": "lines",
         "showlegend": false,
         "text": "abd → bati: 8",
         "type": "scatter",
         "x": [
          -0.03553879071287288,
          -0.9778640993005694,
          null
         ],
         "y": [
          0.13785512846571954,
          0.10194619846949754,
          null
         ]
        },
        {
         "hoverinfo": "text",
         "line": {
          "color": "#888",
          "width": 0.8047189562170501
         },
         "mode": "lines",
         "showlegend": false,
         "text": "abd → batiyor: 4",
         "type": "scatter",
         "x": [
          -0.03553879071287288,
          0.9800650473155296,
          null
         ],
         "y": [
          0.13785512846571954,
          0.10435136814730454,
          null
         ]
        },
        {
         "hoverinfo": "text",
         "line": {
          "color": "#888",
          "width": 1.0397207708399179
         },
         "mode": "lines",
         "showlegend": false,
         "text": "abd → batmaz: 7",
         "type": "scatter",
         "x": [
          -0.03553879071287288,
          -0.400367908942484,
          null
         ],
         "y": [
          0.13785512846571954,
          0.7940317132798805,
          null
         ]
        },
        {
         "hoverinfo": "text",
         "line": {
          "color": "#888",
          "width": 0.6931471805599453
         },
         "mode": "lines",
         "showlegend": false,
         "text": "abd → batmiyor: 3",
         "type": "scatter",
         "x": [
          -0.03553879071287288,
          -0.7720901170549102,
          null
         ],
         "y": [
          0.13785512846571954,
          0.3227017141212941,
          null
         ]
        },
        {
         "hoverinfo": "text",
         "line": {
          "color": "#888",
          "width": 0.8958797346140275
         },
         "mode": "lines",
         "showlegend": false,
         "text": "abd → battı: 5",
         "type": "scatter",
         "x": [
          -0.03553879071287288,
          0.9817311803614182,
          null
         ],
         "y": [
          0.13785512846571954,
          -0.09578959564613775,
          null
         ]
        },
        {
         "hoverinfo": "text",
         "line": {
          "color": "#888",
          "width": 2.0794415416798357
         },
         "mode": "lines",
         "showlegend": false,
         "text": "abd → batı: 63",
         "type": "scatter",
         "x": [
          -0.03553879071287288,
          0.7832388809252342,
          null
         ],
         "y": [
          0.13785512846571954,
          0.686539523175961,
          null
         ]
        },
        {
         "hoverinfo": "text",
         "line": {
          "color": "#888",
          "width": 0.8047189562170501
         },
         "mode": "lines",
         "showlegend": false,
         "text": "abd → batılı: 4",
         "type": "scatter",
         "x": [
          -0.03553879071287288,
          -0.6080765975123817,
          null
         ],
         "y": [
          0.13785512846571954,
          -0.790733431912153,
          null
         ]
        },
        {
         "hoverinfo": "text",
         "line": {
          "color": "#888",
          "width": 0.6931471805599453
         },
         "mode": "lines",
         "showlegend": false,
         "text": "abd → batının: 3",
         "type": "scatter",
         "x": [
          -0.03553879071287288,
          -0.5609408211264703,
          null
         ],
         "y": [
          0.13785512846571954,
          -0.861907511640039,
          null
         ]
        },
        {
         "hoverinfo": "text",
         "line": {
          "color": "#888",
          "width": 1.416606672028108
         },
         "mode": "lines",
         "showlegend": false,
         "text": "abd → batıyor: 16",
         "type": "scatter",
         "x": [
          -0.03553879071287288,
          -0.8953089910115469,
          null
         ],
         "y": [
          0.13785512846571954,
          0.38077590227566954,
          null
         ]
        },
        {
         "hoverinfo": "text",
         "line": {
          "color": "#888",
          "width": 0.6931471805599453
         },
         "mode": "lines",
         "showlegend": false,
         "text": "abd → bayraklı: 3",
         "type": "scatter",
         "x": [
          -0.03553879071287288,
          -0.9332245642983586,
          null
         ],
         "y": [
          0.13785512846571954,
          -0.2870943400292153,
          null
         ]
        },
        {
         "hoverinfo": "text",
         "line": {
          "color": "#888",
          "width": 0.8047189562170501
         },
         "mode": "lines",
         "showlegend": false,
         "text": "abd → bayrağı: 4",
         "type": "scatter",
         "x": [
          -0.03553879071287288,
          0.6138257508534997,
          null
         ],
         "y": [
          0.13785512846571954,
          -0.821688420902162,
          null
         ]
        },
        {
         "hoverinfo": "text",
         "line": {
          "color": "#888",
          "width": 0.9729550745276566
         },
         "mode": "lines",
         "showlegend": false,
         "text": "abd → bazi: 6",
         "type": "scatter",
         "x": [
          -0.03553879071287288,
          0.7944080345726015,
          null
         ],
         "y": [
          0.13785512846571954,
          -0.5409293889102784,
          null
         ]
        },
        {
         "hoverinfo": "text",
         "line": {
          "color": "#888",
          "width": 0.6931471805599453
         },
         "mode": "lines",
         "showlegend": false,
         "text": "abd → bağımsız: 3",
         "type": "scatter",
         "x": [
          -0.03553879071287288,
          -0.854203483253462,
          null
         ],
         "y": [
          0.13785512846571954,
          0.4580862184434731,
          null
         ]
        },
        {
         "hoverinfo": "text",
         "line": {
          "color": "#888",
          "width": 0.6931471805599453
         },
         "mode": "lines",
         "showlegend": false,
         "text": "abd → bağımsızlık: 3",
         "type": "scatter",
         "x": [
          -0.03553879071287288,
          0.11126096699642905,
          null
         ],
         "y": [
          0.13785512846571954,
          0.9578778689350547,
          null
         ]
        },
        {
         "hoverinfo": "text",
         "line": {
          "color": "#888",
          "width": 0.6931471805599453
         },
         "mode": "lines",
         "showlegend": false,
         "text": "abd → bağımsızlığını: 3",
         "type": "scatter",
         "x": [
          -0.03553879071287288,
          0.4437899379818169,
          null
         ],
         "y": [
          0.13785512846571954,
          0.8524887418303337,
          null
         ]
        },
        {
         "hoverinfo": "text",
         "line": {
          "color": "#888",
          "width": 1.0986122886681098
         },
         "mode": "lines",
         "showlegend": false,
         "text": "abd → başarılı: 8",
         "type": "scatter",
         "x": [
          -0.03553879071287288,
          -0.6336598492144212,
          null
         ],
         "y": [
          0.13785512846571954,
          -0.7071048216247183,
          null
         ]
        },
        {
         "hoverinfo": "text",
         "line": {
          "color": "#888",
          "width": 1.3195286648076294
         },
         "mode": "lines",
         "showlegend": false,
         "text": "abd → başka: 13",
         "type": "scatter",
         "x": [
          -0.03553879071287288,
          0.540247116807798,
          null
         ],
         "y": [
          0.13785512846571954,
          0.8042130355929238,
          null
         ]
        },
        {
         "hoverinfo": "text",
         "line": {
          "color": "#888",
          "width": 1.354025100551105
         },
         "mode": "lines",
         "showlegend": false,
         "text": "abd → başkan: 14",
         "type": "scatter",
         "x": [
          -0.03553879071287288,
          0.9999999999999999,
          null
         ],
         "y": [
          0.13785512846571954,
          -0.03304369304383231,
          null
         ]
        },
        {
         "hoverinfo": "text",
         "line": {
          "color": "#888",
          "width": 0.8047189562170501
         },
         "mode": "lines",
         "showlegend": false,
         "text": "abd → başkanlarının: 4",
         "type": "scatter",
         "x": [
          -0.03553879071287288,
          -0.2748080227831025,
          null
         ],
         "y": [
          0.13785512846571954,
          0.8926151632357937,
          null
         ]
        },
        {
         "hoverinfo": "text",
         "line": {
          "color": "#888",
          "width": 1.416606672028108
         },
         "mode": "lines",
         "showlegend": false,
         "text": "abd → başkanlık: 16",
         "type": "scatter",
         "x": [
          -0.03553879071287288,
          -0.25573172533919236,
          null
         ],
         "y": [
          0.13785512846571954,
          0.950700971649459,
          null
         ]
        },
        {
         "hoverinfo": "text",
         "line": {
          "color": "#888",
          "width": 2.4986061368820573
         },
         "mode": "lines",
         "showlegend": false,
         "text": "abd → başkanı: 147",
         "type": "scatter",
         "x": [
          -0.03553879071287288,
          0.9496100262217392,
          null
         ],
         "y": [
          0.13785512846571954,
          -0.12989746271980354,
          null
         ]
        },
        {
         "hoverinfo": "text",
         "line": {
          "color": "#888",
          "width": 0.6931471805599453
         },
         "mode": "lines",
         "showlegend": false,
         "text": "abd → başkanın: 3",
         "type": "scatter",
         "x": [
          -0.03553879071287288,
          0.6864170632438403,
          null
         ],
         "y": [
          0.13785512846571954,
          0.667523306598219,
          null
         ]
        },
        {
         "hoverinfo": "text",
         "line": {
          "color": "#888",
          "width": 0.9729550745276566
         },
         "mode": "lines",
         "showlegend": false,
         "text": "abd → başkanına: 6",
         "type": "scatter",
         "x": [
          -0.03553879071287288,
          -0.507282275804413,
          null
         ],
         "y": [
          0.13785512846571954,
          0.8736996084567029,
          null
         ]
        },
        {
         "hoverinfo": "text",
         "line": {
          "color": "#888",
          "width": 0.8047189562170501
         },
         "mode": "lines",
         "showlegend": false,
         "text": "abd → başkanını: 4",
         "type": "scatter",
         "x": [
          -0.03553879071287288,
          0.01240884554390713,
          null
         ],
         "y": [
          0.13785512846571954,
          0.9442308816777796,
          null
         ]
        },
        {
         "hoverinfo": "text",
         "line": {
          "color": "#888",
          "width": 1.151292546497023
         },
         "mode": "lines",
         "showlegend": false,
         "text": "abd → başkanının: 9",
         "type": "scatter",
         "x": [
          -0.03553879071287288,
          -0.32851386007290795,
          null
         ],
         "y": [
          0.13785512846571954,
          0.9186216422305232,
          null
         ]
        },
        {
         "hoverinfo": "text",
         "line": {
          "color": "#888",
          "width": 1.0397207708399179
         },
         "mode": "lines",
         "showlegend": false,
         "text": "aba → altından: 7",
         "type": "scatter",
         "x": [
          -0.3904223109889722,
          -0.7815650041336748,
          null
         ],
         "y": [
          0.403610719306747,
          0.49361828218632314,
          null
         ]
        },
        {
         "hoverinfo": "text",
         "line": {
          "color": "#888",
          "width": 0.6931471805599453
         },
         "mode": "lines",
         "showlegend": false,
         "text": "abartı → abartı: 3",
         "type": "scatter",
         "x": [
          0.9380798171114846,
          0.9380798171114846,
          null
         ],
         "y": [
          0.11062395570015209,
          0.11062395570015209,
          null
         ]
        },
        {
         "hoverinfo": "text",
         "line": {
          "color": "#888",
          "width": 0.6931471805599453
         },
         "mode": "lines",
         "showlegend": false,
         "text": "abartısız → söylüyorum: 3",
         "type": "scatter",
         "x": [
          -0.4175300019373409,
          -0.6932284865087033,
          null
         ],
         "y": [
          0.34290471022586394,
          0.7432582217300118,
          null
         ]
        },
        {
         "hoverinfo": "text",
         "line": {
          "color": "#888",
          "width": 0.8958797346140275
         },
         "mode": "lines",
         "showlegend": false,
         "text": "abat → olanın: 5",
         "type": "scatter",
         "x": [
          -0.20488176518190013,
          -0.714233737906712,
          null
         ],
         "y": [
          -0.24676392901018335,
          -0.5412010457666986,
          null
         ]
        },
        {
         "hoverinfo": "text",
         "line": {
          "color": "#888",
          "width": 1.0397207708399179
         },
         "mode": "lines",
         "showlegend": false,
         "text": "abbas → hasgül: 7",
         "type": "scatter",
         "x": [
          0.31177262630644775,
          0.7539420713400187,
          null
         ],
         "y": [
          0.0626761570853512,
          0.6515763328257007,
          null
         ]
        },
        {
         "hoverinfo": "text",
         "line": {
          "color": "#888",
          "width": 0.6931471805599453
         },
         "mode": "lines",
         "showlegend": false,
         "text": "abbas → kiyarüstemi: 3",
         "type": "scatter",
         "x": [
          0.31177262630644775,
          0.4360512193935427,
          null
         ],
         "y": [
          0.0626761570853512,
          -0.8710946732893692,
          null
         ]
        },
        {
         "hoverinfo": "text",
         "line": {
          "color": "#888",
          "width": 0.6931471805599453
         },
         "mode": "lines",
         "showlegend": false,
         "text": "abbas → rum: 3",
         "type": "scatter",
         "x": [
          0.31177262630644775,
          -0.39817552447393756,
          null
         ],
         "y": [
          0.0626761570853512,
          0.9141087551319317,
          null
         ]
        },
        {
         "hoverinfo": "text",
         "line": {
          "color": "#888",
          "width": 0.6931471805599453
         },
         "mode": "lines",
         "showlegend": false,
         "text": "abbas → tır: 3",
         "type": "scatter",
         "x": [
          0.31177262630644775,
          0.2049643638899074,
          null
         ],
         "y": [
          0.0626761570853512,
          -0.9727191008270152,
          null
         ]
        },
        {
         "hoverinfo": "text",
         "line": {
          "color": "#888",
          "width": 0.6931471805599453
         },
         "mode": "lines",
         "showlegend": false,
         "text": "abc → mart: 3",
         "type": "scatter",
         "x": [
          -0.3132711816516354,
          -0.9161150478400131,
          null
         ],
         "y": [
          0.2628243781345017,
          -0.444090388398001,
          null
         ]
        },
        {
         "hoverinfo": "text",
         "line": {
          "color": "#888",
          "width": 0.8047189562170501
         },
         "mode": "lines",
         "showlegend": false,
         "text": "abc → news: 4",
         "type": "scatter",
         "x": [
          -0.3132711816516354,
          0.20795924401700405,
          null
         ],
         "y": [
          0.2628243781345017,
          0.8784780437959802,
          null
         ]
        },
        {
         "hoverinfo": "text",
         "hovertext": [
          "aaa<br>Connections: 2",
          "aa<br>Connections: 1",
          "bak<br>Connections: 1",
          "aachen<br>Connections: 3",
          "makine<br>Connections: 1",
          "rwth<br>Connections: 1",
          "teknik<br>Connections: 1",
          "aamir<br>Connections: 1",
          "khan<br>Connections: 1",
          "ab<br>Connections: 82",
          "abd<br>Connections: 105",
          "aeb<br>Connections: 1",
          "almanya<br>Connections: 2",
          "amerika<br>Connections: 2",
          "arasında<br>Connections: 2",
          "arasındaki<br>Connections: 2",
          "bel<br>Connections: 1",
          "benzeri<br>Connections: 1",
          "bize<br>Connections: 1",
          "büyük<br>Connections: 1",
          "deki<br>Connections: 1",
          "den<br>Connections: 1",
          "disindan<br>Connections: 1",
          "doğu<br>Connections: 1",
          "dışı<br>Connections: 1",
          "dışından<br>Connections: 1",
          "ekonomik<br>Connections: 1",
          "entegrasyon<br>Connections: 1",
          "ermenistan<br>Connections: 1",
          "euro<br>Connections: 1",
          "eurozone<br>Connections: 1",
          "fonlarını<br>Connections: 1",
          "gelen<br>Connections: 1",
          "girmek<br>Connections: 1",
          "girmesi<br>Connections: 1",
          "girmeye<br>Connections: 1",
          "gümrük<br>Connections: 1",
          "gürcistan<br>Connections: 1",
          "güçlü<br>Connections: 1",
          "icinde<br>Connections: 1",
          "imf<br>Connections: 1",
          "iran<br>Connections: 1",
          "israil<br>Connections: 1",
          "içerisinde<br>Connections: 1",
          "içerisindeki<br>Connections: 1",
          "karşıtı<br>Connections: 1",
          "kendi<br>Connections: 1",
          "kendilerine<br>Connections: 1",
          "komisyonu<br>Connections: 1",
          "lider<br>Connections: 1",
          "lokomotifi<br>Connections: 1",
          "merkez<br>Connections: 1",
          "müktesebatı<br>Connections: 1",
          "müktesebatına<br>Connections: 1",
          "nato<br>Connections: 1",
          "olmasa<br>Connections: 1",
          "ortaklık<br>Connections: 1",
          "ortalamasının<br>Connections: 1",
          "pasaportu<br>Connections: 1",
          "rusya<br>Connections: 1",
          "sayesinde<br>Connections: 1",
          "serbest<br>Connections: 1",
          "tüm<br>Connections: 1",
          "türkiye<br>Connections: 1",
          "ukrayna<br>Connections: 1",
          "uyesi<br>Connections: 1",
          "uyum<br>Connections: 1",
          "vatandaşı<br>Connections: 1",
          "vize<br>Connections: 1",
          "yanlısı<br>Connections: 1",
          "yardım<br>Connections: 1",
          "ye<br>Connections: 1",
          "yeni<br>Connections: 1",
          "yi<br>Connections: 1",
          "yunanistan<br>Connections: 1",
          "yüksek<br>Connections: 1",
          "çatısı<br>Connections: 1",
          "çin<br>Connections: 1",
          "ülkeleri<br>Connections: 1",
          "ülkelerinde<br>Connections: 1",
          "ülkelerinden<br>Connections: 1",
          "ülkelerine<br>Connections: 1",
          "ülkelerini<br>Connections: 1",
          "ülkelerinin<br>Connections: 1",
          "ülkesi<br>Connections: 1",
          "üye<br>Connections: 1",
          "üyelik<br>Connections: 1",
          "üyeliği<br>Connections: 1",
          "üyeliğine<br>Connections: 1",
          "üyesi<br>Connections: 1",
          "şımarık<br>Connections: 1",
          "aba<br>Connections: 1",
          "altından<br>Connections: 1",
          "abartı<br>Connections: 2",
          "abartısız<br>Connections: 1",
          "söylüyorum<br>Connections: 1",
          "abat<br>Connections: 1",
          "olanın<br>Connections: 1",
          "abbas<br>Connections: 4",
          "hasgül<br>Connections: 1",
          "kiyarüstemi<br>Connections: 1",
          "rum<br>Connections: 1",
          "tır<br>Connections: 1",
          "abc<br>Connections: 2",
          "mart<br>Connections: 1",
          "news<br>Connections: 1",
          "abrams<br>Connections: 1",
          "acik<br>Connections: 1",
          "adalet<br>Connections: 1",
          "adamlar<br>Connections: 1",
          "adı<br>Connections: 1",
          "afganistan<br>Connections: 1",
          "agresif<br>Connections: 1",
          "ait<br>Connections: 1",
          "ajanı<br>Connections: 1",
          "akp<br>Connections: 1",
          "akıllı<br>Connections: 1",
          "alanda<br>Connections: 1",
          "aldığı<br>Connections: 1",
          "aleyhine<br>Connections: 1",
          "alim<br>Connections: 1",
          "alternatif<br>Connections: 1",
          "alternatifi<br>Connections: 1",
          "ambargosu<br>Connections: 1",
          "amerikan<br>Connections: 1",
          "an<br>Connections: 1",
          "ana<br>Connections: 1",
          "anayasa<br>Connections: 1",
          "anayasası<br>Connections: 1",
          "anayasasına<br>Connections: 1",
          "anayasasında<br>Connections: 1",
          "anayasasının<br>Connections: 1",
          "anda<br>Connections: 1",
          "anki<br>Connections: 1",
          "anlamak<br>Connections: 1",
          "araba<br>Connections: 1",
          "arap<br>Connections: 1",
          "araya<br>Connections: 1",
          "arazi<br>Connections: 1",
          "araştırma<br>Connections: 1",
          "arka<br>Connections: 1",
          "arkasına<br>Connections: 1",
          "arkasındaki<br>Connections: 1",
          "artik<br>Connections: 1",
          "asgari<br>Connections: 1",
          "askeri<br>Connections: 1",
          "askerini<br>Connections: 1",
          "askerinin<br>Connections: 1",
          "askerleri<br>Connections: 1",
          "askerlerini<br>Connections: 1",
          "askerlerinin<br>Connections: 1",
          "aslinda<br>Connections: 1",
          "asya<br>Connections: 1",
          "asıl<br>Connections: 1",
          "atan<br>Connections: 1",
          "atom<br>Connections: 1",
          "avrupa<br>Connections: 1",
          "avrupadaki<br>Connections: 1",
          "avrupalı<br>Connections: 1",
          "avrupaya<br>Connections: 1",
          "avrupayı<br>Connections: 1",
          "avustralya<br>Connections: 1",
          "ay<br>Connections: 1",
          "ayak<br>Connections: 1",
          "ayni<br>Connections: 1",
          "aynı<br>Connections: 1",
          "azından<br>Connections: 1",
          "açık<br>Connections: 1",
          "açısından<br>Connections: 1",
          "aşırı<br>Connections: 1",
          "bakış<br>Connections: 1",
          "bankacılık<br>Connections: 1",
          "baskani<br>Connections: 1",
          "basligina<br>Connections: 1",
          "basliginda<br>Connections: 1",
          "batacak<br>Connections: 1",
          "batacağı<br>Connections: 1",
          "batar<br>Connections: 1",
          "bati<br>Connections: 1",
          "batiyor<br>Connections: 1",
          "batmaz<br>Connections: 1",
          "batmiyor<br>Connections: 1",
          "battı<br>Connections: 1",
          "batı<br>Connections: 1",
          "batılı<br>Connections: 1",
          "batının<br>Connections: 1",
          "batıyor<br>Connections: 1",
          "bayraklı<br>Connections: 1",
          "bayrağı<br>Connections: 1",
          "bazi<br>Connections: 1",
          "bağımsız<br>Connections: 1",
          "bağımsızlık<br>Connections: 1",
          "bağımsızlığını<br>Connections: 1",
          "başarılı<br>Connections: 1",
          "başka<br>Connections: 1",
          "başkan<br>Connections: 1",
          "başkanlarının<br>Connections: 1",
          "başkanlık<br>Connections: 1",
          "başkanı<br>Connections: 1",
          "başkanın<br>Connections: 1",
          "başkanına<br>Connections: 1",
          "başkanını<br>Connections: 1",
          "başkanının<br>Connections: 1"
         ],
         "marker": {
          "color": "lightblue",
          "line": {
           "color": "darkblue",
           "width": 2
          },
          "size": [
           16,
           13,
           13,
           19,
           13,
           13,
           13,
           13,
           13,
           256,
           325,
           13,
           16,
           16,
           16,
           16,
           13,
           13,
           13,
           13,
           13,
           13,
           13,
           13,
           13,
           13,
           13,
           13,
           13,
           13,
           13,
           13,
           13,
           13,
           13,
           13,
           13,
           13,
           13,
           13,
           13,
           13,
           13,
           13,
           13,
           13,
           13,
           13,
           13,
           13,
           13,
           13,
           13,
           13,
           13,
           13,
           13,
           13,
           13,
           13,
           13,
           13,
           13,
           13,
           13,
           13,
           13,
           13,
           13,
           13,
           13,
           13,
           13,
           13,
           13,
           13,
           13,
           13,
           13,
           13,
           13,
           13,
           13,
           13,
           13,
           13,
           13,
           13,
           13,
           13,
           13,
           13,
           13,
           16,
           13,
           13,
           13,
           13,
           22,
           13,
           13,
           13,
           13,
           16,
           13,
           13,
           13,
           13,
           13,
           13,
           13,
           13,
           13,
           13,
           13,
           13,
           13,
           13,
           13,
           13,
           13,
           13,
           13,
           13,
           13,
           13,
           13,
           13,
           13,
           13,
           13,
           13,
           13,
           13,
           13,
           13,
           13,
           13,
           13,
           13,
           13,
           13,
           13,
           13,
           13,
           13,
           13,
           13,
           13,
           13,
           13,
           13,
           13,
           13,
           13,
           13,
           13,
           13,
           13,
           13,
           13,
           13,
           13,
           13,
           13,
           13,
           13,
           13,
           13,
           13,
           13,
           13,
           13,
           13,
           13,
           13,
           13,
           13,
           13,
           13,
           13,
           13,
           13,
           13,
           13,
           13,
           13,
           13,
           13,
           13,
           13,
           13,
           13,
           13,
           13,
           13,
           13,
           13,
           13,
           13,
           13,
           13,
           13
          ]
         },
         "mode": "markers+text",
         "showlegend": false,
         "text": [
          "aaa",
          "aa",
          "bak",
          "aachen",
          "makine",
          "rwth",
          "teknik",
          "aamir",
          "khan",
          "ab",
          "abd",
          "aeb",
          "almanya",
          "amerika",
          "arasında",
          "arasındaki",
          "bel",
          "benzeri",
          "bize",
          "büyük",
          "deki",
          "den",
          "disindan",
          "doğu",
          "dışı",
          "dışından",
          "ekonomik",
          "entegrasyon",
          "ermenistan",
          "euro",
          "eurozone",
          "fonlarını",
          "gelen",
          "girmek",
          "girmesi",
          "girmeye",
          "gümrük",
          "gürcistan",
          "güçlü",
          "icinde",
          "imf",
          "iran",
          "israil",
          "içerisinde",
          "içerisindeki",
          "karşıtı",
          "kendi",
          "kendilerine",
          "komisyonu",
          "lider",
          "lokomotifi",
          "merkez",
          "müktesebatı",
          "müktesebatına",
          "nato",
          "olmasa",
          "ortaklık",
          "ortalamasının",
          "pasaportu",
          "rusya",
          "sayesinde",
          "serbest",
          "tüm",
          "türkiye",
          "ukrayna",
          "uyesi",
          "uyum",
          "vatandaşı",
          "vize",
          "yanlısı",
          "yardım",
          "ye",
          "yeni",
          "yi",
          "yunanistan",
          "yüksek",
          "çatısı",
          "çin",
          "ülkeleri",
          "ülkelerinde",
          "ülkelerinden",
          "ülkelerine",
          "ülkelerini",
          "ülkelerinin",
          "ülkesi",
          "üye",
          "üyelik",
          "üyeliği",
          "üyeliğine",
          "üyesi",
          "şımarık",
          "aba",
          "altından",
          "abartı",
          "abartısız",
          "söylüyorum",
          "abat",
          "olanın",
          "abbas",
          "hasgül",
          "kiyarüstemi",
          "rum",
          "tır",
          "abc",
          "mart",
          "news",
          "abrams",
          "acik",
          "adalet",
          "adamlar",
          "adı",
          "afganistan",
          "agresif",
          "ait",
          "ajanı",
          "akp",
          "akıllı",
          "alanda",
          "aldığı",
          "aleyhine",
          "alim",
          "alternatif",
          "alternatifi",
          "ambargosu",
          "amerikan",
          "an",
          "ana",
          "anayasa",
          "anayasası",
          "anayasasına",
          "anayasasında",
          "anayasasının",
          "anda",
          "anki",
          "anlamak",
          "araba",
          "arap",
          "araya",
          "arazi",
          "araştırma",
          "arka",
          "arkasına",
          "arkasındaki",
          "artik",
          "asgari",
          "askeri",
          "askerini",
          "askerinin",
          "askerleri",
          "askerlerini",
          "askerlerinin",
          "aslinda",
          "asya",
          "asıl",
          "atan",
          "atom",
          "avrupa",
          "avrupadaki",
          "avrupalı",
          "avrupaya",
          "avrupayı",
          "avustralya",
          "ay",
          "ayak",
          "ayni",
          "aynı",
          "azından",
          "açık",
          "açısından",
          "aşırı",
          "bakış",
          "bankacılık",
          "baskani",
          "basligina",
          "basliginda",
          "batacak",
          "batacağı",
          "batar",
          "bati",
          "batiyor",
          "batmaz",
          "batmiyor",
          "battı",
          "batı",
          "batılı",
          "batının",
          "batıyor",
          "bayraklı",
          "bayrağı",
          "bazi",
          "bağımsız",
          "bağımsızlık",
          "bağımsızlığını",
          "başarılı",
          "başka",
          "başkan",
          "başkanlarının",
          "başkanlık",
          "başkanı",
          "başkanın",
          "başkanına",
          "başkanını",
          "başkanının"
         ],
         "textposition": "top center",
         "type": "scatter",
         "x": [
          0.06797536000311316,
          0.8716341477564382,
          -0.707743195517558,
          0.19477395563686856,
          0.38544172931098014,
          -0.6525217565599939,
          0.71690121123872,
          -0.8406673195302161,
          -0.8832868836744184,
          0.05199412562000034,
          -0.03553879071287288,
          -0.7611098066234241,
          -0.12693280136160875,
          -0.9240167764068749,
          0.14017350705824855,
          0.2189410374824677,
          -0.5771699984442809,
          0.9110756887363739,
          -0.43291081202394094,
          0.8142412561077195,
          -0.9467540490642234,
          -0.8744506191562292,
          -0.6439768010848658,
          -0.8540219312061137,
          0.1520492035770841,
          0.9395194943568123,
          0.7105576054165738,
          0.05110377771272334,
          -0.8278772817834269,
          -0.95759573568207,
          -0.38245928343828484,
          0.8711893463508201,
          -0.8904141423117284,
          -0.630880353108984,
          -0.45862504144043964,
          0.5618153321080337,
          -0.9243380155339439,
          0.4832857611692167,
          0.5183635122785475,
          -0.1647653624172884,
          0.9281992529282145,
          -0.21294814860351668,
          -0.6478719109407296,
          0.715004983027365,
          0.9659085107704561,
          -0.805341223505854,
          0.9060262361941201,
          0.9092614655457639,
          0.2188457244882831,
          -0.8026508031970334,
          -0.9534413554384804,
          -0.7736176243382522,
          0.8416280359102883,
          -0.18933539958212547,
          -0.49224271600294794,
          -0.55203580076696,
          0.8129838212108105,
          0.20761156076052256,
          0.6384127330403749,
          0.9673255662491682,
          0.41391689052124064,
          -0.3452631637251185,
          -0.8646820941165835,
          0.5927442577898384,
          -0.9843550431923518,
          -0.20431987040424637,
          -0.8840982659855093,
          0.9484077011699051,
          -0.055268626422567683,
          -0.18140390536720455,
          0.8910376621667566,
          -0.034092066075542174,
          -0.3947811147566148,
          0.8409391206336034,
          -0.9240423303600767,
          0.7954958563821365,
          -0.9318672603179072,
          0.9342583245935814,
          0.2612571642113985,
          -0.5458305343815005,
          -0.5554694195343051,
          0.8796836868901013,
          -0.79269958470234,
          -0.4856880140299513,
          -0.9610413096140078,
          0.3916986521289163,
          0.055848831959316884,
          0.31970682243310683,
          0.7609771687253681,
          0.759013274255672,
          -0.27311356634240286,
          -0.3904223109889722,
          -0.7815650041336748,
          0.9380798171114846,
          -0.4175300019373409,
          -0.6932284865087033,
          -0.20488176518190013,
          -0.714233737906712,
          0.31177262630644775,
          0.7539420713400187,
          0.4360512193935427,
          -0.39817552447393756,
          0.2049643638899074,
          -0.3132711816516354,
          -0.9161150478400131,
          0.20795924401700405,
          0.5102362148705342,
          0.590070136427201,
          -0.47448637071949035,
          0.30781090011593926,
          0.7488409604844353,
          -0.9495123603113033,
          -0.7193485532970763,
          0.9806724152259049,
          0.958085527337725,
          0.9338960123166301,
          0.5740795251455385,
          -0.71574522047585,
          -0.2894609298297748,
          0.3772601762718823,
          0.6344727651623314,
          0.9530029994016093,
          -0.8166997600960847,
          -0.08119376685576749,
          0.8676401881187317,
          -0.8800878173021585,
          0.8490512251318841,
          -0.892952339727839,
          0.9681059452023495,
          0.09046848205949001,
          0.15862190018374958,
          -0.9398946580477774,
          0.8567910524975062,
          0.610776272410187,
          -0.5584907907562499,
          0.6498163199760169,
          0.5075273330592089,
          0.7641475530348686,
          0.8506336734187049,
          0.3563415721643425,
          0.9132196500452502,
          -0.12218274927795834,
          0.040394309015714634,
          -0.32449717906406683,
          -0.8091047289458391,
          -0.7564707677824019,
          0.9101599821646519,
          -0.9343683959040356,
          0.6648645994221479,
          0.26420732436079036,
          -0.9728238158473762,
          0.05409354278911692,
          0.31258967634097523,
          0.4014641220122068,
          0.7451318452726637,
          -0.05349024309022947,
          -0.7588230139859354,
          0.8007723726043986,
          -0.0897184000210211,
          -0.8591131432224753,
          0.13462660295683945,
          0.6781410381563348,
          0.9571862613971391,
          0.5174378988766858,
          -0.2938899721611287,
          -0.3640726521026354,
          -0.8590940464464423,
          -0.6781488633085078,
          0.9022594350432588,
          -0.004568332331480101,
          -0.41537407539363236,
          -0.9027673665736158,
          -0.2006170046940988,
          0.3183792569221987,
          -0.6861062035459553,
          -0.04860520291778316,
          0.46846086314565577,
          -0.9199774701720529,
          -0.9778640993005694,
          0.9800650473155296,
          -0.400367908942484,
          -0.7720901170549102,
          0.9817311803614182,
          0.7832388809252342,
          -0.6080765975123817,
          -0.5609408211264703,
          -0.8953089910115469,
          -0.9332245642983586,
          0.6138257508534997,
          0.7944080345726015,
          -0.854203483253462,
          0.11126096699642905,
          0.4437899379818169,
          -0.6336598492144212,
          0.540247116807798,
          0.9999999999999999,
          -0.2748080227831025,
          -0.25573172533919236,
          0.9496100262217392,
          0.6864170632438403,
          -0.507282275804413,
          0.01240884554390713,
          -0.32851386007290795
         ],
         "y": [
          -0.1763462144533011,
          0.30439846628323813,
          -0.6834082868859387,
          0.20986491780811628,
          0.8278634095346494,
          0.822065324575238,
          -0.6657969416340392,
          -0.3758676770443107,
          -0.04697219301748213,
          -0.11102742429182781,
          0.13785512846571954,
          -0.48490008185836314,
          0.9217257062027147,
          0.016208621396689982,
          -0.9703818757652627,
          -0.9169410145557412,
          0.8573403803680493,
          0.46333661193682957,
          -0.8694442941036589,
          -0.3829593730476117,
          -0.06455639371165367,
          0.5394626181115785,
          0.6628292931094709,
          0.2256975841123995,
          -0.9208332343794021,
          0.38852539983523676,
          0.7499402381851099,
          0.9749775509594237,
          -0.5449452749593898,
          -0.22171114639718806,
          -0.8237600251933989,
          -0.3894428995088097,
          0.127502078672896,
          0.7537352316872746,
          0.9299831695066276,
          -0.784150271514947,
          0.4263508461286622,
          0.8045654329977268,
          -0.852331310978069,
          -0.9439645830886544,
          0.2632390761808376,
          -0.9547064816141405,
          -0.6365548448708954,
          0.5902368364708387,
          -0.00030669518056290556,
          0.5420647820230103,
          0.19791647450088415,
          -0.17139918564216072,
          -0.824517520103577,
          -0.638278821829888,
          0.2546241076033453,
          -0.38152600128711545,
          -0.5240716505825779,
          0.9033396005527913,
          -0.8585261722696823,
          -0.7791398853826362,
          0.6050858140264495,
          0.9436968752113658,
          -0.7385410897432658,
          0.048377849779338684,
          0.9082649419756128,
          -0.9024736821519262,
          -0.3007405789323416,
          0.8014087389034754,
          -0.06203498917355938,
          -0.8985606912252363,
          -0.3729717886903179,
          -0.29591541079716066,
          0.898534668063349,
          0.9784827501706035,
          -0.4717368206785045,
          -0.8915089699119383,
          -0.9110832317346083,
          -0.23131489592047155,
          -0.3458311998162332,
          -0.5942825565723838,
          -0.11994629741528894,
          -0.40005096544726415,
          0.8973842477370136,
          0.7691531629825671,
          0.6968409486324306,
          0.04886914913634682,
          0.6150216971923588,
          -0.8090168117925034,
          0.19216793555882833,
          -0.9196682553695115,
          -0.9158544863047473,
          -0.890516293350474,
          -0.4960067062793268,
          -0.6816710581603597,
          -0.9230718656591255,
          0.403610719306747,
          0.49361828218632314,
          0.11062395570015209,
          0.34290471022586394,
          0.7432582217300118,
          -0.24676392901018335,
          -0.5412010457666986,
          0.0626761570853512,
          0.6515763328257007,
          -0.8710946732893692,
          0.9141087551319317,
          -0.9727191008270152,
          0.2628243781345017,
          -0.444090388398001,
          0.8784780437959802,
          -0.7836281885749817,
          -0.7365656613049334,
          0.8021125376059209,
          0.9121209365552403,
          0.4914066638132967,
          -0.16583235700230747,
          -0.5999422306248028,
          -0.18003205212428872,
          0.1652520227878489,
          -0.05504237858171864,
          -0.629891457289388,
          0.6300196101056882,
          -0.9529529508478243,
          -0.8654325275697272,
          0.8308436921175575,
          -0.22980695735945988,
          0.6454012681377639,
          0.9873564742179103,
          0.5561610011901628,
          -0.1734537238715661,
          -0.46134657518553807,
          0.2819008726206846,
          0.2219971724861903,
          -0.9577186770521664,
          0.9896576385021659,
          0.07620376947753334,
          0.49014364695111917,
          0.7049785656234372,
          -0.7129887560288316,
          0.7383129668083557,
          0.8799740284453934,
          0.3528191600785249,
          0.4215472896645129,
          0.8830054098979061,
          -0.3435358934774964,
          -0.9560785397418494,
          -0.9796831304568104,
          0.7051431503697477,
          0.3991866004333328,
          -0.7139597805708544,
          -0.2754098707404245,
          0.16334806777319813,
          -0.6959819208633172,
          -0.9351347032455346,
          0.01594995695629887,
          0.8806159320856676,
          0.960010487439606,
          -0.7834409992583568,
          -0.6011341477388653,
          -0.9654574925762185,
          0.7217387447831501,
          0.5435980437911128,
          -0.9324282968168989,
          -0.4229087839749986,
          0.89839749630981,
          -0.6242575036724134,
          0.3082399396995429,
          0.7080609119208965,
          -0.8632385009517616,
          0.8560518672493087,
          -0.5600459196963176,
          -0.7825375730791577,
          0.3650116858366415,
          -0.9600407775708512,
          -0.7112904396638831,
          -0.2391924350880663,
          0.8392017140990553,
          -0.9330982695621719,
          0.5545090648252742,
          0.9517992133935552,
          -0.830176644219831,
          0.3241916555071052,
          0.10194619846949754,
          0.10435136814730454,
          0.7940317132798805,
          0.3227017141212941,
          -0.09578959564613775,
          0.686539523175961,
          -0.790733431912153,
          -0.861907511640039,
          0.38077590227566954,
          -0.2870943400292153,
          -0.821688420902162,
          -0.5409293889102784,
          0.4580862184434731,
          0.9578778689350547,
          0.8524887418303337,
          -0.7071048216247183,
          0.8042130355929238,
          -0.03304369304383231,
          0.8926151632357937,
          0.950700971649459,
          -0.12989746271980354,
          0.667523306598219,
          0.8736996084567029,
          0.9442308816777796,
          0.9186216422305232
         ]
        }
       ],
       "layout": {
        "height": 600,
        "hovermode": "closest",
        "margin": {
         "b": 20,
         "l": 5,
         "r": 5,
         "t": 40
        },
        "plot_bgcolor": "white",
        "showlegend": false,
        "template": {
         "data": {
          "bar": [
           {
            "error_x": {
             "color": "#2a3f5f"
            },
            "error_y": {
             "color": "#2a3f5f"
            },
            "marker": {
             "line": {
              "color": "#E5ECF6",
              "width": 0.5
             },
             "pattern": {
              "fillmode": "overlay",
              "size": 10,
              "solidity": 0.2
             }
            },
            "type": "bar"
           }
          ],
          "barpolar": [
           {
            "marker": {
             "line": {
              "color": "#E5ECF6",
              "width": 0.5
             },
             "pattern": {
              "fillmode": "overlay",
              "size": 10,
              "solidity": 0.2
             }
            },
            "type": "barpolar"
           }
          ],
          "carpet": [
           {
            "aaxis": {
             "endlinecolor": "#2a3f5f",
             "gridcolor": "white",
             "linecolor": "white",
             "minorgridcolor": "white",
             "startlinecolor": "#2a3f5f"
            },
            "baxis": {
             "endlinecolor": "#2a3f5f",
             "gridcolor": "white",
             "linecolor": "white",
             "minorgridcolor": "white",
             "startlinecolor": "#2a3f5f"
            },
            "type": "carpet"
           }
          ],
          "choropleth": [
           {
            "colorbar": {
             "outlinewidth": 0,
             "ticks": ""
            },
            "type": "choropleth"
           }
          ],
          "contour": [
           {
            "colorbar": {
             "outlinewidth": 0,
             "ticks": ""
            },
            "colorscale": [
             [
              0,
              "#0d0887"
             ],
             [
              0.1111111111111111,
              "#46039f"
             ],
             [
              0.2222222222222222,
              "#7201a8"
             ],
             [
              0.3333333333333333,
              "#9c179e"
             ],
             [
              0.4444444444444444,
              "#bd3786"
             ],
             [
              0.5555555555555556,
              "#d8576b"
             ],
             [
              0.6666666666666666,
              "#ed7953"
             ],
             [
              0.7777777777777778,
              "#fb9f3a"
             ],
             [
              0.8888888888888888,
              "#fdca26"
             ],
             [
              1,
              "#f0f921"
             ]
            ],
            "type": "contour"
           }
          ],
          "contourcarpet": [
           {
            "colorbar": {
             "outlinewidth": 0,
             "ticks": ""
            },
            "type": "contourcarpet"
           }
          ],
          "heatmap": [
           {
            "colorbar": {
             "outlinewidth": 0,
             "ticks": ""
            },
            "colorscale": [
             [
              0,
              "#0d0887"
             ],
             [
              0.1111111111111111,
              "#46039f"
             ],
             [
              0.2222222222222222,
              "#7201a8"
             ],
             [
              0.3333333333333333,
              "#9c179e"
             ],
             [
              0.4444444444444444,
              "#bd3786"
             ],
             [
              0.5555555555555556,
              "#d8576b"
             ],
             [
              0.6666666666666666,
              "#ed7953"
             ],
             [
              0.7777777777777778,
              "#fb9f3a"
             ],
             [
              0.8888888888888888,
              "#fdca26"
             ],
             [
              1,
              "#f0f921"
             ]
            ],
            "type": "heatmap"
           }
          ],
          "histogram": [
           {
            "marker": {
             "pattern": {
              "fillmode": "overlay",
              "size": 10,
              "solidity": 0.2
             }
            },
            "type": "histogram"
           }
          ],
          "histogram2d": [
           {
            "colorbar": {
             "outlinewidth": 0,
             "ticks": ""
            },
            "colorscale": [
             [
              0,
              "#0d0887"
             ],
             [
              0.1111111111111111,
              "#46039f"
             ],
             [
              0.2222222222222222,
              "#7201a8"
             ],
             [
              0.3333333333333333,
              "#9c179e"
             ],
             [
              0.4444444444444444,
              "#bd3786"
             ],
             [
              0.5555555555555556,
              "#d8576b"
             ],
             [
              0.6666666666666666,
              "#ed7953"
             ],
             [
              0.7777777777777778,
              "#fb9f3a"
             ],
             [
              0.8888888888888888,
              "#fdca26"
             ],
             [
              1,
              "#f0f921"
             ]
            ],
            "type": "histogram2d"
           }
          ],
          "histogram2dcontour": [
           {
            "colorbar": {
             "outlinewidth": 0,
             "ticks": ""
            },
            "colorscale": [
             [
              0,
              "#0d0887"
             ],
             [
              0.1111111111111111,
              "#46039f"
             ],
             [
              0.2222222222222222,
              "#7201a8"
             ],
             [
              0.3333333333333333,
              "#9c179e"
             ],
             [
              0.4444444444444444,
              "#bd3786"
             ],
             [
              0.5555555555555556,
              "#d8576b"
             ],
             [
              0.6666666666666666,
              "#ed7953"
             ],
             [
              0.7777777777777778,
              "#fb9f3a"
             ],
             [
              0.8888888888888888,
              "#fdca26"
             ],
             [
              1,
              "#f0f921"
             ]
            ],
            "type": "histogram2dcontour"
           }
          ],
          "mesh3d": [
           {
            "colorbar": {
             "outlinewidth": 0,
             "ticks": ""
            },
            "type": "mesh3d"
           }
          ],
          "parcoords": [
           {
            "line": {
             "colorbar": {
              "outlinewidth": 0,
              "ticks": ""
             }
            },
            "type": "parcoords"
           }
          ],
          "pie": [
           {
            "automargin": true,
            "type": "pie"
           }
          ],
          "scatter": [
           {
            "fillpattern": {
             "fillmode": "overlay",
             "size": 10,
             "solidity": 0.2
            },
            "type": "scatter"
           }
          ],
          "scatter3d": [
           {
            "line": {
             "colorbar": {
              "outlinewidth": 0,
              "ticks": ""
             }
            },
            "marker": {
             "colorbar": {
              "outlinewidth": 0,
              "ticks": ""
             }
            },
            "type": "scatter3d"
           }
          ],
          "scattercarpet": [
           {
            "marker": {
             "colorbar": {
              "outlinewidth": 0,
              "ticks": ""
             }
            },
            "type": "scattercarpet"
           }
          ],
          "scattergeo": [
           {
            "marker": {
             "colorbar": {
              "outlinewidth": 0,
              "ticks": ""
             }
            },
            "type": "scattergeo"
           }
          ],
          "scattergl": [
           {
            "marker": {
             "colorbar": {
              "outlinewidth": 0,
              "ticks": ""
             }
            },
            "type": "scattergl"
           }
          ],
          "scattermap": [
           {
            "marker": {
             "colorbar": {
              "outlinewidth": 0,
              "ticks": ""
             }
            },
            "type": "scattermap"
           }
          ],
          "scattermapbox": [
           {
            "marker": {
             "colorbar": {
              "outlinewidth": 0,
              "ticks": ""
             }
            },
            "type": "scattermapbox"
           }
          ],
          "scatterpolar": [
           {
            "marker": {
             "colorbar": {
              "outlinewidth": 0,
              "ticks": ""
             }
            },
            "type": "scatterpolar"
           }
          ],
          "scatterpolargl": [
           {
            "marker": {
             "colorbar": {
              "outlinewidth": 0,
              "ticks": ""
             }
            },
            "type": "scatterpolargl"
           }
          ],
          "scatterternary": [
           {
            "marker": {
             "colorbar": {
              "outlinewidth": 0,
              "ticks": ""
             }
            },
            "type": "scatterternary"
           }
          ],
          "surface": [
           {
            "colorbar": {
             "outlinewidth": 0,
             "ticks": ""
            },
            "colorscale": [
             [
              0,
              "#0d0887"
             ],
             [
              0.1111111111111111,
              "#46039f"
             ],
             [
              0.2222222222222222,
              "#7201a8"
             ],
             [
              0.3333333333333333,
              "#9c179e"
             ],
             [
              0.4444444444444444,
              "#bd3786"
             ],
             [
              0.5555555555555556,
              "#d8576b"
             ],
             [
              0.6666666666666666,
              "#ed7953"
             ],
             [
              0.7777777777777778,
              "#fb9f3a"
             ],
             [
              0.8888888888888888,
              "#fdca26"
             ],
             [
              1,
              "#f0f921"
             ]
            ],
            "type": "surface"
           }
          ],
          "table": [
           {
            "cells": {
             "fill": {
              "color": "#EBF0F8"
             },
             "line": {
              "color": "white"
             }
            },
            "header": {
             "fill": {
              "color": "#C8D4E3"
             },
             "line": {
              "color": "white"
             }
            },
            "type": "table"
           }
          ]
         },
         "layout": {
          "annotationdefaults": {
           "arrowcolor": "#2a3f5f",
           "arrowhead": 0,
           "arrowwidth": 1
          },
          "autotypenumbers": "strict",
          "coloraxis": {
           "colorbar": {
            "outlinewidth": 0,
            "ticks": ""
           }
          },
          "colorscale": {
           "diverging": [
            [
             0,
             "#8e0152"
            ],
            [
             0.1,
             "#c51b7d"
            ],
            [
             0.2,
             "#de77ae"
            ],
            [
             0.3,
             "#f1b6da"
            ],
            [
             0.4,
             "#fde0ef"
            ],
            [
             0.5,
             "#f7f7f7"
            ],
            [
             0.6,
             "#e6f5d0"
            ],
            [
             0.7,
             "#b8e186"
            ],
            [
             0.8,
             "#7fbc41"
            ],
            [
             0.9,
             "#4d9221"
            ],
            [
             1,
             "#276419"
            ]
           ],
           "sequential": [
            [
             0,
             "#0d0887"
            ],
            [
             0.1111111111111111,
             "#46039f"
            ],
            [
             0.2222222222222222,
             "#7201a8"
            ],
            [
             0.3333333333333333,
             "#9c179e"
            ],
            [
             0.4444444444444444,
             "#bd3786"
            ],
            [
             0.5555555555555556,
             "#d8576b"
            ],
            [
             0.6666666666666666,
             "#ed7953"
            ],
            [
             0.7777777777777778,
             "#fb9f3a"
            ],
            [
             0.8888888888888888,
             "#fdca26"
            ],
            [
             1,
             "#f0f921"
            ]
           ],
           "sequentialminus": [
            [
             0,
             "#0d0887"
            ],
            [
             0.1111111111111111,
             "#46039f"
            ],
            [
             0.2222222222222222,
             "#7201a8"
            ],
            [
             0.3333333333333333,
             "#9c179e"
            ],
            [
             0.4444444444444444,
             "#bd3786"
            ],
            [
             0.5555555555555556,
             "#d8576b"
            ],
            [
             0.6666666666666666,
             "#ed7953"
            ],
            [
             0.7777777777777778,
             "#fb9f3a"
            ],
            [
             0.8888888888888888,
             "#fdca26"
            ],
            [
             1,
             "#f0f921"
            ]
           ]
          },
          "colorway": [
           "#636efa",
           "#EF553B",
           "#00cc96",
           "#ab63fa",
           "#FFA15A",
           "#19d3f3",
           "#FF6692",
           "#B6E880",
           "#FF97FF",
           "#FECB52"
          ],
          "font": {
           "color": "#2a3f5f"
          },
          "geo": {
           "bgcolor": "white",
           "lakecolor": "white",
           "landcolor": "#E5ECF6",
           "showlakes": true,
           "showland": true,
           "subunitcolor": "white"
          },
          "hoverlabel": {
           "align": "left"
          },
          "hovermode": "closest",
          "mapbox": {
           "style": "light"
          },
          "paper_bgcolor": "white",
          "plot_bgcolor": "#E5ECF6",
          "polar": {
           "angularaxis": {
            "gridcolor": "white",
            "linecolor": "white",
            "ticks": ""
           },
           "bgcolor": "#E5ECF6",
           "radialaxis": {
            "gridcolor": "white",
            "linecolor": "white",
            "ticks": ""
           }
          },
          "scene": {
           "xaxis": {
            "backgroundcolor": "#E5ECF6",
            "gridcolor": "white",
            "gridwidth": 2,
            "linecolor": "white",
            "showbackground": true,
            "ticks": "",
            "zerolinecolor": "white"
           },
           "yaxis": {
            "backgroundcolor": "#E5ECF6",
            "gridcolor": "white",
            "gridwidth": 2,
            "linecolor": "white",
            "showbackground": true,
            "ticks": "",
            "zerolinecolor": "white"
           },
           "zaxis": {
            "backgroundcolor": "#E5ECF6",
            "gridcolor": "white",
            "gridwidth": 2,
            "linecolor": "white",
            "showbackground": true,
            "ticks": "",
            "zerolinecolor": "white"
           }
          },
          "shapedefaults": {
           "line": {
            "color": "#2a3f5f"
           }
          },
          "ternary": {
           "aaxis": {
            "gridcolor": "white",
            "linecolor": "white",
            "ticks": ""
           },
           "baxis": {
            "gridcolor": "white",
            "linecolor": "white",
            "ticks": ""
           },
           "bgcolor": "#E5ECF6",
           "caxis": {
            "gridcolor": "white",
            "linecolor": "white",
            "ticks": ""
           }
          },
          "title": {
           "x": 0.05
          },
          "xaxis": {
           "automargin": true,
           "gridcolor": "white",
           "linecolor": "white",
           "ticks": "",
           "title": {
            "standoff": 15
           },
           "zerolinecolor": "white",
           "zerolinewidth": 2
          },
          "yaxis": {
           "automargin": true,
           "gridcolor": "white",
           "linecolor": "white",
           "ticks": "",
           "title": {
            "standoff": 15
           },
           "zerolinecolor": "white",
           "zerolinewidth": 2
          }
         }
        },
        "title": {
         "text": "Combined Bigram Network Across All Countries"
        },
        "xaxis": {
         "showgrid": false,
         "showticklabels": false,
         "zeroline": false
        },
        "yaxis": {
         "showgrid": false,
         "showticklabels": false,
         "zeroline": false
        }
       }
      }
     },
     "metadata": {},
     "output_type": "display_data"
    }
   ],
   "source": [
    "all_bigrams = []\n",
    "for topic, bigram_df in topic_bigrams.items():\n",
    "    topic_bigrams_with_source = bigram_df.copy()\n",
    "    topic_bigrams_with_source['topic'] = topic\n",
    "    all_bigrams.append(topic_bigrams_with_source)\n",
    "\n",
    "# Combine all bigrams\n",
    "combined_df = pd.concat(all_bigrams, ignore_index=True)\n",
    "\n",
    "# Aggregate counts across topics\n",
    "aggregated_df = (combined_df\n",
    "    .groupby(['word1', 'word2'])\n",
    "    .agg({\n",
    "        'count': 'sum',\n",
    "        'topic': lambda x: ' | '.join(sorted(set(x)))  # Keep track of source topics\n",
    "    })\n",
    "    .reset_index())\n",
    "\n",
    "plot_bigram_network(\n",
    "    bigram_df=aggregated_df,\n",
    "    n_bigrams=200,\n",
    "    title=\"Combined Bigram Network Across All Countries\"\n",
    ")\n"
   ]
  },
  {
   "cell_type": "code",
   "execution_count": 15,
   "metadata": {},
   "outputs": [
    {
     "data": {
      "application/vnd.plotly.v1+json": {
       "config": {
        "plotlyServerURL": "https://plot.ly"
       },
       "data": [
        {
         "hoverinfo": "text",
         "line": {
          "color": "#888",
          "width": 2.8919125911648687
         },
         "mode": "lines",
         "showlegend": false,
         "text": "güzel → ülkem: 324",
         "type": "scatter",
         "x": [
          0.5987740159034729,
          0.8111803531646729,
          null
         ],
         "y": [
          0.36732205748558044,
          0.4322383403778076,
          null
         ]
        },
        {
         "hoverinfo": "text",
         "line": {
          "color": "#888",
          "width": 1.9143206982445475
         },
         "mode": "lines",
         "showlegend": false,
         "text": "güzel → günler: 45",
         "type": "scatter",
         "x": [
          0.5987740159034729,
          0.8868983387947083,
          null
         ],
         "y": [
          0.36732205748558044,
          0.2628214359283447,
          null
         ]
        },
        {
         "hoverinfo": "text",
         "line": {
          "color": "#888",
          "width": 1.7328679513998633
         },
         "mode": "lines",
         "showlegend": false,
         "text": "güzel → ülkemiz: 31",
         "type": "scatter",
         "x": [
          0.5987740159034729,
          0.767512321472168,
          null
         ],
         "y": [
          0.36732205748558044,
          0.6954917907714844,
          null
         ]
        },
        {
         "hoverinfo": "text",
         "line": {
          "color": "#888",
          "width": 1.7005986908310777
         },
         "mode": "lines",
         "showlegend": false,
         "text": "güzel → ülkesi: 29",
         "type": "scatter",
         "x": [
          0.5987740159034729,
          -0.07695940881967545,
          null
         ],
         "y": [
          0.36732205748558044,
          0.9831793308258057,
          null
         ]
        },
        {
         "hoverinfo": "text",
         "line": {
          "color": "#888",
          "width": 1.666102255087602
         },
         "mode": "lines",
         "showlegend": false,
         "text": "güzel → insanlar: 27",
         "type": "scatter",
         "x": [
          0.5987740159034729,
          0.6019275188446045,
          null
         ],
         "y": [
          0.36732205748558044,
          -0.7430306673049927,
          null
         ]
        },
        {
         "hoverinfo": "text",
         "line": {
          "color": "#888",
          "width": 1.629048269010741
         },
         "mode": "lines",
         "showlegend": false,
         "text": "güzel → olacak: 25",
         "type": "scatter",
         "x": [
          0.5987740159034729,
          0.3065909147262573,
          null
         ],
         "y": [
          0.36732205748558044,
          0.8044912219047546,
          null
         ]
        },
        {
         "hoverinfo": "text",
         "line": {
          "color": "#888",
          "width": 1.6094379124341003
         },
         "mode": "lines",
         "showlegend": false,
         "text": "güzel → yurdum: 24",
         "type": "scatter",
         "x": [
          0.5987740159034729,
          0.6250095367431641,
          null
         ],
         "y": [
          0.36732205748558044,
          0.7825543284416199,
          null
         ]
        },
        {
         "hoverinfo": "text",
         "line": {
          "color": "#888",
          "width": 2.84517972716203
         },
         "mode": "lines",
         "showlegend": false,
         "text": "türkiye → cumhuriyeti: 295",
         "type": "scatter",
         "x": [
          -0.19381746649742126,
          -0.8134280443191528,
          null
         ],
         "y": [
          0.3322831392288208,
          0.5932604670524597,
          null
         ]
        },
        {
         "hoverinfo": "text",
         "line": {
          "color": "#888",
          "width": 2.5407021824922316
         },
         "mode": "lines",
         "showlegend": false,
         "text": "türkiye → deki: 160",
         "type": "scatter",
         "x": [
          -0.19381746649742126,
          -0.7683178782463074,
          null
         ],
         "y": [
          0.3322831392288208,
          0.6756305694580078,
          null
         ]
        },
        {
         "hoverinfo": "text",
         "line": {
          "color": "#888",
          "width": 2.11705325229863
         },
         "mode": "lines",
         "showlegend": false,
         "text": "türkiye → ye: 68",
         "type": "scatter",
         "x": [
          -0.19381746649742126,
          0.874866247177124,
          null
         ],
         "y": [
          0.3322831392288208,
          0.5407548546791077,
          null
         ]
        },
        {
         "hoverinfo": "text",
         "line": {
          "color": "#888",
          "width": 2.0715673631957663
         },
         "mode": "lines",
         "showlegend": false,
         "text": "türkiye → büyük: 62",
         "type": "scatter",
         "x": [
          -0.19381746649742126,
          0.29181185364723206,
          null
         ],
         "y": [
          0.3322831392288208,
          -0.04070991277694702,
          null
         ]
        },
        {
         "hoverinfo": "text",
         "line": {
          "color": "#888",
          "width": 2.012675845367575
         },
         "mode": "lines",
         "showlegend": false,
         "text": "türkiye → türkiye: 55",
         "type": "scatter",
         "x": [
          -0.19381746649742126,
          -0.19381746649742126,
          null
         ],
         "y": [
          0.3322831392288208,
          0.3322831392288208,
          null
         ]
        },
        {
         "hoverinfo": "text",
         "line": {
          "color": "#888",
          "width": 2.012675845367575
         },
         "mode": "lines",
         "showlegend": false,
         "text": "türkiye → istatistik: 55",
         "type": "scatter",
         "x": [
          -0.19381746649742126,
          -0.15497757494449615,
          null
         ],
         "y": [
          0.3322831392288208,
          0.2968931794166565,
          null
         ]
        },
        {
         "hoverinfo": "text",
         "line": {
          "color": "#888",
          "width": 1.9356005054539454
         },
         "mode": "lines",
         "showlegend": false,
         "text": "türkiye → son: 47",
         "type": "scatter",
         "x": [
          -0.19381746649742126,
          0.15418051183223724,
          null
         ],
         "y": [
          0.3322831392288208,
          -0.059341106563806534,
          null
         ]
        },
        {
         "hoverinfo": "text",
         "line": {
          "color": "#888",
          "width": 1.9143206982445475
         },
         "mode": "lines",
         "showlegend": false,
         "text": "türkiye → yi: 45",
         "type": "scatter",
         "x": [
          -0.19381746649742126,
          -0.9204415678977966,
          null
         ],
         "y": [
          0.3322831392288208,
          0.24346818029880524,
          null
         ]
        },
        {
         "hoverinfo": "text",
         "line": {
          "color": "#888",
          "width": 1.8806000578467812
         },
         "mode": "lines",
         "showlegend": false,
         "text": "türkiye → avrupa: 42",
         "type": "scatter",
         "x": [
          -0.19381746649742126,
          -0.42112934589385986,
          null
         ],
         "y": [
          0.3322831392288208,
          0.17259937524795532,
          null
         ]
        },
        {
         "hoverinfo": "text",
         "line": {
          "color": "#888",
          "width": 1.8688348091416842
         },
         "mode": "lines",
         "showlegend": false,
         "text": "türkiye → genelinde: 41",
         "type": "scatter",
         "x": [
          -0.19381746649742126,
          0.9013486504554749,
          null
         ],
         "y": [
          0.3322831392288208,
          0.49313315749168396,
          null
         ]
        },
        {
         "hoverinfo": "text",
         "line": {
          "color": "#888",
          "width": 1.856786033352154
         },
         "mode": "lines",
         "showlegend": false,
         "text": "türkiye → rusya: 40",
         "type": "scatter",
         "x": [
          -0.19381746649742126,
          -0.061343688517808914,
          null
         ],
         "y": [
          0.3322831392288208,
          -0.7195103764533997,
          null
         ]
        },
        {
         "hoverinfo": "text",
         "line": {
          "color": "#888",
          "width": 1.856786033352154
         },
         "mode": "lines",
         "showlegend": false,
         "text": "türkiye → ab: 40",
         "type": "scatter",
         "x": [
          -0.19381746649742126,
          0.5047954320907593,
          null
         ],
         "y": [
          0.3322831392288208,
          -0.4385986030101776,
          null
         ]
        },
        {
         "hoverinfo": "text",
         "line": {
          "color": "#888",
          "width": 1.7631802623080808
         },
         "mode": "lines",
         "showlegend": false,
         "text": "türkiye → iran: 33",
         "type": "scatter",
         "x": [
          -0.19381746649742126,
          -0.513909637928009,
          null
         ],
         "y": [
          0.3322831392288208,
          0.7543476223945618,
          null
         ]
        },
        {
         "hoverinfo": "text",
         "line": {
          "color": "#888",
          "width": 1.7005986908310777
         },
         "mode": "lines",
         "showlegend": false,
         "text": "türkiye → siktir: 29",
         "type": "scatter",
         "x": [
          -0.19381746649742126,
          0.7929267883300781,
          null
         ],
         "y": [
          0.3322831392288208,
          0.24948173761367798,
          null
         ]
        },
        {
         "hoverinfo": "text",
         "line": {
          "color": "#888",
          "width": 1.666102255087602
         },
         "mode": "lines",
         "showlegend": false,
         "text": "türkiye → den: 27",
         "type": "scatter",
         "x": [
          -0.19381746649742126,
          -0.4388519525527954,
          null
         ],
         "y": [
          0.3322831392288208,
          -0.411928653717041,
          null
         ]
        },
        {
         "hoverinfo": "text",
         "line": {
          "color": "#888",
          "width": 1.629048269010741
         },
         "mode": "lines",
         "showlegend": false,
         "text": "türkiye → kendi: 25",
         "type": "scatter",
         "x": [
          -0.19381746649742126,
          -0.266279011964798,
          null
         ],
         "y": [
          0.3322831392288208,
          0.24176137149333954,
          null
         ]
        },
        {
         "hoverinfo": "text",
         "line": {
          "color": "#888",
          "width": 1.629048269010741
         },
         "mode": "lines",
         "showlegend": false,
         "text": "türkiye → geri: 25",
         "type": "scatter",
         "x": [
          -0.19381746649742126,
          0.07869815081357956,
          null
         ],
         "y": [
          0.3322831392288208,
          0.13010607659816742,
          null
         ]
        },
        {
         "hoverinfo": "text",
         "line": {
          "color": "#888",
          "width": 1.629048269010741
         },
         "mode": "lines",
         "showlegend": false,
         "text": "türkiye → suriye: 25",
         "type": "scatter",
         "x": [
          -0.19381746649742126,
          -0.165602445602417,
          null
         ],
         "y": [
          0.3322831392288208,
          0.845562219619751,
          null
         ]
        },
        {
         "hoverinfo": "text",
         "line": {
          "color": "#888",
          "width": 2.7647145437557117
         },
         "mode": "lines",
         "showlegend": false,
         "text": "atatürk → ün: 251",
         "type": "scatter",
         "x": [
          -0.5656076669692993,
          -0.6992175579071045,
          null
         ],
         "y": [
          0.6290233731269836,
          0.7699806094169617,
          null
         ]
        },
        {
         "hoverinfo": "text",
         "line": {
          "color": "#888",
          "width": 2.7423984667453274
         },
         "mode": "lines",
         "showlegend": false,
         "text": "aynı → zamanda: 240",
         "type": "scatter",
         "x": [
          -0.37530064582824707,
          -0.672446072101593,
          null
         ],
         "y": [
          -0.11503373831510544,
          -0.693753719329834,
          null
         ]
        },
        {
         "hoverinfo": "text",
         "line": {
          "color": "#888",
          "width": 2.336414417230953
         },
         "mode": "lines",
         "showlegend": false,
         "text": "aynı → şekilde: 106",
         "type": "scatter",
         "x": [
          -0.37530064582824707,
          -0.09263414144515991,
          null
         ],
         "y": [
          -0.11503373831510544,
          0.9090508222579956,
          null
         ]
        },
        {
         "hoverinfo": "text",
         "line": {
          "color": "#888",
          "width": 2.2154083994216567
         },
         "mode": "lines",
         "showlegend": false,
         "text": "aynı → anda: 83",
         "type": "scatter",
         "x": [
          -0.37530064582824707,
          -0.2580379545688629,
          null
         ],
         "y": [
          -0.11503373831510544,
          -0.9047446846961975,
          null
         ]
        },
        {
         "hoverinfo": "text",
         "line": {
          "color": "#888",
          "width": 2.0948273710132126
         },
         "mode": "lines",
         "showlegend": false,
         "text": "aynı → ayına: 65",
         "type": "scatter",
         "x": [
          -0.37530064582824707,
          0.13095083832740784,
          null
         ],
         "y": [
          -0.11503373831510544,
          0.20880664885044098,
          null
         ]
        },
        {
         "hoverinfo": "text",
         "line": {
          "color": "#888",
          "width": 1.7328679513998633
         },
         "mode": "lines",
         "showlegend": false,
         "text": "aynı → dönemine: 31",
         "type": "scatter",
         "x": [
          -0.37530064582824707,
          -0.8943601250648499,
          null
         ],
         "y": [
          -0.11503373831510544,
          0.478356271982193,
          null
         ]
        },
        {
         "hoverinfo": "text",
         "line": {
          "color": "#888",
          "width": 2.7423984667453274
         },
         "mode": "lines",
         "showlegend": false,
         "text": "olursa → olsun: 240",
         "type": "scatter",
         "x": [
          -0.13117602467536926,
          -0.14415571093559265,
          null
         ],
         "y": [
          -0.7996610403060913,
          -0.8822418451309204,
          null
         ]
        },
        {
         "hoverinfo": "text",
         "line": {
          "color": "#888",
          "width": 2.7146728144772205
         },
         "mode": "lines",
         "showlegend": false,
         "text": "canım → ülkem: 227",
         "type": "scatter",
         "x": [
          0.6836415529251099,
          0.8111803531646729,
          null
         ],
         "y": [
          0.3430110216140747,
          0.4322383403778076,
          null
         ]
        },
        {
         "hoverinfo": "text",
         "line": {
          "color": "#888",
          "width": 2.6968137731761805
         },
         "mode": "lines",
         "showlegend": false,
         "text": "mustafa → kemal: 219",
         "type": "scatter",
         "x": [
          0.08475061506032944,
          0.06353196501731873,
          null
         ],
         "y": [
          0.5740659236907959,
          0.5126522779464722,
          null
         ]
        },
        {
         "hoverinfo": "text",
         "line": {
          "color": "#888",
          "width": 2.488366871210287
         },
         "mode": "lines",
         "showlegend": false,
         "text": "kemal → atatürk: 144",
         "type": "scatter",
         "x": [
          0.06353196501731873,
          -0.5656076669692993,
          null
         ],
         "y": [
          0.5126522779464722,
          0.6290233731269836,
          null
         ]
        },
        {
         "hoverinfo": "text",
         "line": {
          "color": "#888",
          "width": 2.1847239262335107
         },
         "mode": "lines",
         "showlegend": false,
         "text": "kemal → kılıçdaroğlu: 78",
         "type": "scatter",
         "x": [
          0.06353196501731873,
          0.9148269891738892,
          null
         ],
         "y": [
          0.5126522779464722,
          0.34609490633010864,
          null
         ]
        },
        {
         "hoverinfo": "text",
         "line": {
          "color": "#888",
          "width": 2.6945358649082505
         },
         "mode": "lines",
         "showlegend": false,
         "text": "orta → doğu: 218",
         "type": "scatter",
         "x": [
          -0.10825619101524353,
          0.0669407919049263,
          null
         ],
         "y": [
          0.1778889149427414,
          -0.02840241976082325,
          null
         ]
        },
        {
         "hoverinfo": "text",
         "line": {
          "color": "#888",
          "width": 2.1313399385206577
         },
         "mode": "lines",
         "showlegend": false,
         "text": "orta → asya: 70",
         "type": "scatter",
         "x": [
          -0.10825619101524353,
          -0.3904929757118225,
          null
         ],
         "y": [
          0.1778889149427414,
          0.054883524775505066,
          null
         ]
        },
        {
         "hoverinfo": "text",
         "line": {
          "color": "#888",
          "width": 1.7328679513998633
         },
         "mode": "lines",
         "showlegend": false,
         "text": "orta → sınıf: 31",
         "type": "scatter",
         "x": [
          -0.10825619101524353,
          -0.921778678894043,
          null
         ],
         "y": [
          0.1778889149427414,
          0.15470606088638306,
          null
         ]
        },
        {
         "hoverinfo": "text",
         "line": {
          "color": "#888",
          "width": 1.6094379124341003
         },
         "mode": "lines",
         "showlegend": false,
         "text": "orta → çağ: 24",
         "type": "scatter",
         "x": [
          -0.10825619101524353,
          0.5964155197143555,
          null
         ],
         "y": [
          0.1778889149427414,
          0.8403626084327698,
          null
         ]
        },
        {
         "hoverinfo": "text",
         "line": {
          "color": "#888",
          "width": 2.021525633917275
         },
         "mode": "lines",
         "showlegend": false,
         "text": "doğu → batı: 56",
         "type": "scatter",
         "x": [
          0.0669407919049263,
          0.2824179530143738,
          null
         ],
         "y": [
          -0.02840241976082325,
          -0.9457547068595886,
          null
         ]
        },
        {
         "hoverinfo": "text",
         "line": {
          "color": "#888",
          "width": 1.9250738008550292
         },
         "mode": "lines",
         "showlegend": false,
         "text": "doğu → ülkesi: 46",
         "type": "scatter",
         "x": [
          0.0669407919049263,
          -0.07695940881967545,
          null
         ],
         "y": [
          -0.02840241976082325,
          0.9831793308258057,
          null
         ]
        },
        {
         "hoverinfo": "text",
         "line": {
          "color": "#888",
          "width": 1.8806000578467812
         },
         "mode": "lines",
         "showlegend": false,
         "text": "doğu → akdeniz: 42",
         "type": "scatter",
         "x": [
          0.0669407919049263,
          0.8036237955093384,
          null
         ],
         "y": [
          -0.02840241976082325,
          0.610908031463623,
          null
         ]
        },
        {
         "hoverinfo": "text",
         "line": {
          "color": "#888",
          "width": 1.8444397270569681
         },
         "mode": "lines",
         "showlegend": false,
         "text": "doğu → anadolu: 39",
         "type": "scatter",
         "x": [
          0.0669407919049263,
          -0.6459575891494751,
          null
         ],
         "y": [
          -0.02840241976082325,
          -0.743965208530426,
          null
         ]
        },
        {
         "hoverinfo": "text",
         "line": {
          "color": "#888",
          "width": 1.666102255087602
         },
         "mode": "lines",
         "showlegend": false,
         "text": "doğu → avrupa: 27",
         "type": "scatter",
         "x": [
          0.0669407919049263,
          -0.42112934589385986,
          null
         ],
         "y": [
          -0.02840241976082325,
          0.17259937524795532,
          null
         ]
        },
        {
         "hoverinfo": "text",
         "line": {
          "color": "#888",
          "width": 2.68994867677023
         },
         "mode": "lines",
         "showlegend": false,
         "text": "geçen → gün: 216",
         "type": "scatter",
         "x": [
          0.34031954407691956,
          0.4502981901168823,
          null
         ],
         "y": [
          0.27236407995224,
          0.6372872591018677,
          null
         ]
        },
        {
         "hoverinfo": "text",
         "line": {
          "color": "#888",
          "width": 2.021525633917275
         },
         "mode": "lines",
         "showlegend": false,
         "text": "geçen → yıl: 56",
         "type": "scatter",
         "x": [
          0.34031954407691956,
          0.12153756618499756,
          null
         ],
         "y": [
          0.27236407995224,
          -0.45215079188346863,
          null
         ]
        },
        {
         "hoverinfo": "text",
         "line": {
          "color": "#888",
          "width": 1.683647914993237
         },
         "mode": "lines",
         "showlegend": false,
         "text": "geçen → sene: 28",
         "type": "scatter",
         "x": [
          0.34031954407691956,
          0.3480840027332306,
          null
         ],
         "y": [
          0.27236407995224,
          0.3926302492618561,
          null
         ]
        },
        {
         "hoverinfo": "text",
         "line": {
          "color": "#888",
          "width": 2.0871936349478184
         },
         "mode": "lines",
         "showlegend": false,
         "text": "gün → geçtikçe: 64",
         "type": "scatter",
         "x": [
          0.4502981901168823,
          0.5835842490196228,
          null
         ],
         "y": [
          0.6372872591018677,
          0.723490834236145,
          null
         ]
        },
        {
         "hoverinfo": "text",
         "line": {
          "color": "#888",
          "width": 2.5795276496072646
         },
         "mode": "lines",
         "showlegend": false,
         "text": "devam → ediyor: 173",
         "type": "scatter",
         "x": [
          -0.08236609399318695,
          -0.2773623466491699,
          null
         ],
         "y": [
          -0.14926636219024658,
          -0.9286184310913086,
          null
         ]
        },
        {
         "hoverinfo": "text",
         "line": {
          "color": "#888",
          "width": 2.282174095733918
         },
         "mode": "lines",
         "showlegend": false,
         "text": "devam → edecek: 95",
         "type": "scatter",
         "x": [
          -0.08236609399318695,
          -0.8917462825775146,
          null
         ],
         "y": [
          -0.14926636219024658,
          -0.33657771348953247,
          null
         ]
        },
        {
         "hoverinfo": "text",
         "line": {
          "color": "#888",
          "width": 2.2154083994216567
         },
         "mode": "lines",
         "showlegend": false,
         "text": "devam → eden: 83",
         "type": "scatter",
         "x": [
          -0.08236609399318695,
          -0.8222485184669495,
          null
         ],
         "y": [
          -0.14926636219024658,
          0.5546495914459229,
          null
         ]
        },
        {
         "hoverinfo": "text",
         "line": {
          "color": "#888",
          "width": 2.102346309695483
         },
         "mode": "lines",
         "showlegend": false,
         "text": "devam → eder: 66",
         "type": "scatter",
         "x": [
          -0.08236609399318695,
          0.9499658942222595,
          null
         ],
         "y": [
          -0.14926636219024658,
          0.29719987511634827,
          null
         ]
        },
        {
         "hoverinfo": "text",
         "line": {
          "color": "#888",
          "width": 1.8920948169591305
         },
         "mode": "lines",
         "showlegend": false,
         "text": "devam → etti: 43",
         "type": "scatter",
         "x": [
          -0.08236609399318695,
          0.7141814827919006,
          null
         ],
         "y": [
          -0.14926636219024658,
          0.780453622341156,
          null
         ]
        },
        {
         "hoverinfo": "text",
         "line": {
          "color": "#888",
          "width": 1.683647914993237
         },
         "mode": "lines",
         "showlegend": false,
         "text": "devam → edeceğiz: 28",
         "type": "scatter",
         "x": [
          -0.08236609399318695,
          0.5009271502494812,
          null
         ],
         "y": [
          -0.14926636219024658,
          -0.8008086681365967,
          null
         ]
        },
        {
         "hoverinfo": "text",
         "line": {
          "color": "#888",
          "width": 1.6479184330021646
         },
         "mode": "lines",
         "showlegend": false,
         "text": "devam → ediyorlar: 26",
         "type": "scatter",
         "x": [
          -0.08236609399318695,
          -0.596367359161377,
          null
         ],
         "y": [
          -0.14926636219024658,
          -0.8143559694290161,
          null
         ]
        },
        {
         "hoverinfo": "text",
         "line": {
          "color": "#888",
          "width": 1.6479184330021646
         },
         "mode": "lines",
         "showlegend": false,
         "text": "devam → ediyoruz: 26",
         "type": "scatter",
         "x": [
          -0.08236609399318695,
          0.8818355202674866,
          null
         ],
         "y": [
          -0.14926636219024658,
          0.43331754207611084,
          null
         ]
        },
        {
         "hoverinfo": "text",
         "line": {
          "color": "#888",
          "width": 1.6479184330021646
         },
         "mode": "lines",
         "showlegend": false,
         "text": "devam → ettiği: 26",
         "type": "scatter",
         "x": [
          -0.08236609399318695,
          -0.956629753112793,
          null
         ],
         "y": [
          -0.14926636219024658,
          0.03716474026441574,
          null
         ]
        },
        {
         "hoverinfo": "text",
         "line": {
          "color": "#888",
          "width": 1.6094379124341003
         },
         "mode": "lines",
         "showlegend": false,
         "text": "devam → ederken: 24",
         "type": "scatter",
         "x": [
          -0.08236609399318695,
          0.8823921084403992,
          null
         ],
         "y": [
          -0.14926636219024658,
          -0.5352770090103149,
          null
         ]
        },
        {
         "hoverinfo": "text",
         "line": {
          "color": "#888",
          "width": 2.5619819897016294
         },
         "mode": "lines",
         "showlegend": false,
         "text": "avrupa → birliği: 167",
         "type": "scatter",
         "x": [
          -0.42112934589385986,
          -0.9352884888648987,
          null
         ],
         "y": [
          0.17259937524795532,
          -0.08950752019882202,
          null
         ]
        },
        {
         "hoverinfo": "text",
         "line": {
          "color": "#888",
          "width": 1.856786033352154
         },
         "mode": "lines",
         "showlegend": false,
         "text": "avrupa → ülkesi: 40",
         "type": "scatter",
         "x": [
          -0.42112934589385986,
          -0.07695940881967545,
          null
         ],
         "y": [
          0.17259937524795532,
          0.9831793308258057,
          null
         ]
        },
        {
         "hoverinfo": "text",
         "line": {
          "color": "#888",
          "width": 1.7169936022425731
         },
         "mode": "lines",
         "showlegend": false,
         "text": "avrupa → amerika: 30",
         "type": "scatter",
         "x": [
          -0.42112934589385986,
          -0.39424213767051697,
          null
         ],
         "y": [
          0.17259937524795532,
          -0.5752014517784119,
          null
         ]
        },
        {
         "hoverinfo": "text",
         "line": {
          "color": "#888",
          "width": 1.666102255087602
         },
         "mode": "lines",
         "showlegend": false,
         "text": "avrupa → asya: 27",
         "type": "scatter",
         "x": [
          -0.42112934589385986,
          -0.3904929757118225,
          null
         ],
         "y": [
          0.17259937524795532,
          0.054883524775505066,
          null
         ]
        },
        {
         "hoverinfo": "text",
         "line": {
          "color": "#888",
          "width": 1.6479184330021646
         },
         "mode": "lines",
         "showlegend": false,
         "text": "avrupa → daki: 26",
         "type": "scatter",
         "x": [
          -0.42112934589385986,
          0.7364510297775269,
          null
         ],
         "y": [
          0.17259937524795532,
          0.6061339378356934,
          null
         ]
        },
        {
         "hoverinfo": "text",
         "line": {
          "color": "#888",
          "width": 2.5344521011101158
         },
         "mode": "lines",
         "showlegend": false,
         "text": "olmak → üzere: 158",
         "type": "scatter",
         "x": [
          -0.8680338263511658,
          -0.8776980638504028,
          null
         ],
         "y": [
          0.1992875188589096,
          -0.0296239722520113,
          null
         ]
        },
        {
         "hoverinfo": "text",
         "line": {
          "color": "#888",
          "width": 1.8806000578467812
         },
         "mode": "lines",
         "showlegend": false,
         "text": "olmak → zorunda: 42",
         "type": "scatter",
         "x": [
          -0.8680338263511658,
          -0.7971958518028259,
          null
         ],
         "y": [
          0.1992875188589096,
          0.6304923295974731,
          null
         ]
        },
        {
         "hoverinfo": "text",
         "line": {
          "color": "#888",
          "width": 2.5184763012068148
         },
         "mode": "lines",
         "showlegend": false,
         "text": "son → yılda: 153",
         "type": "scatter",
         "x": [
          0.15418051183223724,
          0.9180112481117249,
          null
         ],
         "y": [
          -0.059341106563806534,
          0.4362010955810547,
          null
         ]
        },
        {
         "hoverinfo": "text",
         "line": {
          "color": "#888",
          "width": 2.4020105223666284
         },
         "mode": "lines",
         "showlegend": false,
         "text": "son → derece: 121",
         "type": "scatter",
         "x": [
          0.15418051183223724,
          0.9567868709564209,
          null
         ],
         "y": [
          -0.059341106563806534,
          -0.13084110617637634,
          null
         ]
        },
        {
         "hoverinfo": "text",
         "line": {
          "color": "#888",
          "width": 2.34106561356211
         },
         "mode": "lines",
         "showlegend": false,
         "text": "son → yıllarda: 107",
         "type": "scatter",
         "x": [
          0.15418051183223724,
          0.8722475171089172,
          null
         ],
         "y": [
          -0.059341106563806534,
          -0.4797625243663788,
          null
         ]
        },
        {
         "hoverinfo": "text",
         "line": {
          "color": "#888",
          "width": 2.302585092994046
         },
         "mode": "lines",
         "showlegend": false,
         "text": "son → zamanlarda: 99",
         "type": "scatter",
         "x": [
          0.15418051183223724,
          -0.8493870496749878,
          null
         ],
         "y": [
          -0.059341106563806534,
          -0.31181836128234863,
          null
         ]
        },
        {
         "hoverinfo": "text",
         "line": {
          "color": "#888",
          "width": 2.2608942885245202
         },
         "mode": "lines",
         "showlegend": false,
         "text": "son → yıldır: 91",
         "type": "scatter",
         "x": [
          0.15418051183223724,
          -0.19322679936885834,
          null
         ],
         "y": [
          -0.059341106563806534,
          -0.9692258834838867,
          null
         ]
        },
        {
         "hoverinfo": "text",
         "line": {
          "color": "#888",
          "width": 1.7631802623080808
         },
         "mode": "lines",
         "showlegend": false,
         "text": "son → dönemde: 33",
         "type": "scatter",
         "x": [
          0.15418051183223724,
          -0.8727342486381531,
          null
         ],
         "y": [
          -0.059341106563806534,
          0.1664087176322937,
          null
         ]
        },
        {
         "hoverinfo": "text",
         "line": {
          "color": "#888",
          "width": 1.7328679513998633
         },
         "mode": "lines",
         "showlegend": false,
         "text": "son → günlerde: 31",
         "type": "scatter",
         "x": [
          0.15418051183223724,
          -0.01675235666334629,
          null
         ],
         "y": [
          -0.059341106563806534,
          0.905615508556366,
          null
         ]
        },
        {
         "hoverinfo": "text",
         "line": {
          "color": "#888",
          "width": 1.7005986908310777
         },
         "mode": "lines",
         "showlegend": false,
         "text": "son → senede: 29",
         "type": "scatter",
         "x": [
          0.15418051183223724,
          -0.9524574875831604,
          null
         ],
         "y": [
          -0.059341106563806534,
          -0.1721389889717102,
          null
         ]
        },
        {
         "hoverinfo": "text",
         "line": {
          "color": "#888",
          "width": 1.683647914993237
         },
         "mode": "lines",
         "showlegend": false,
         "text": "son → senedir: 28",
         "type": "scatter",
         "x": [
          0.15418051183223724,
          -0.009163547307252884,
          null
         ],
         "y": [
          -0.059341106563806534,
          0.9584907293319702,
          null
         ]
        },
        {
         "hoverinfo": "text",
         "line": {
          "color": "#888",
          "width": 1.666102255087602
         },
         "mode": "lines",
         "showlegend": false,
         "text": "son → yılın: 27",
         "type": "scatter",
         "x": [
          0.15418051183223724,
          -0.4118562638759613,
          null
         ],
         "y": [
          -0.059341106563806534,
          -0.17427533864974976,
          null
         ]
        },
        {
         "hoverinfo": "text",
         "line": {
          "color": "#888",
          "width": 1.6094379124341003
         },
         "mode": "lines",
         "showlegend": false,
         "text": "son → model: 24",
         "type": "scatter",
         "x": [
          0.15418051183223724,
          -0.7171306610107422,
          null
         ],
         "y": [
          -0.059341106563806534,
          0.6995149850845337,
          null
         ]
        },
        {
         "hoverinfo": "text",
         "line": {
          "color": "#888",
          "width": 2.488366871210287
         },
         "mode": "lines",
         "showlegend": false,
         "text": "söz → konusu: 144",
         "type": "scatter",
         "x": [
          -0.10508449375629425,
          0.1995304822921753,
          null
         ],
         "y": [
          0.602954089641571,
          0.9531565308570862,
          null
         ]
        },
        {
         "hoverinfo": "text",
         "line": {
          "color": "#888",
          "width": 1.985145956776061
         },
         "mode": "lines",
         "showlegend": false,
         "text": "söz → sahibi: 52",
         "type": "scatter",
         "x": [
          -0.10508449375629425,
          -0.6090236306190491,
          null
         ],
         "y": [
          0.602954089641571,
          0.0053492081351578236,
          null
         ]
        },
        {
         "hoverinfo": "text",
         "line": {
          "color": "#888",
          "width": 2.4814223151299535
         },
         "mode": "lines",
         "showlegend": false,
         "text": "olmasına → rağmen: 142",
         "type": "scatter",
         "x": [
          -0.311861515045166,
          -0.23387093842029572,
          null
         ],
         "y": [
          -0.6803086400032043,
          -0.7109636664390564,
          null
         ]
        },
        {
         "hoverinfo": "text",
         "line": {
          "color": "#888",
          "width": 1.7482537807332401
         },
         "mode": "lines",
         "showlegend": false,
         "text": "rağmen → hala: 32",
         "type": "scatter",
         "x": [
          -0.23387093842029572,
          -0.1218823492527008,
          null
         ],
         "y": [
          -0.7109636664390564,
          -0.8551861047744751,
          null
         ]
        },
        {
         "hoverinfo": "text",
         "line": {
          "color": "#888",
          "width": 2.4779135288006304
         },
         "mode": "lines",
         "showlegend": false,
         "text": "tayyip → erdoğan: 141",
         "type": "scatter",
         "x": [
          0.7438772916793823,
          0.867988646030426,
          null
         ],
         "y": [
          -0.34960195422172546,
          -0.4021548330783844,
          null
         ]
        },
        {
         "hoverinfo": "text",
         "line": {
          "color": "#888",
          "width": 2.470821211304652
         },
         "mode": "lines",
         "showlegend": false,
         "text": "saçma → sapan: 139",
         "type": "scatter",
         "x": [
          -0.6047040224075317,
          -0.6355873942375183,
          null
         ],
         "y": [
          0.6298580765724182,
          0.7359357476234436,
          null
         ]
        },
        {
         "hoverinfo": "text",
         "line": {
          "color": "#888",
          "width": 2.456327442868026
         },
         "mode": "lines",
         "showlegend": false,
         "text": "yavaş → yavaş: 135",
         "type": "scatter",
         "x": [
          -0.4991118609905243,
          -0.4991118609905243,
          null
         ],
         "y": [
          0.8974511027336121,
          0.8974511027336121,
          null
         ]
        },
        {
         "hoverinfo": "text",
         "line": {
          "color": "#888",
          "width": 2.4375986616005756
         },
         "mode": "lines",
         "showlegend": false,
         "text": "türk → milleti: 130",
         "type": "scatter",
         "x": [
          -0.17883606255054474,
          -0.924105167388916,
          null
         ],
         "y": [
          0.08138802647590637,
          0.40107056498527527,
          null
         ]
        },
        {
         "hoverinfo": "text",
         "line": {
          "color": "#888",
          "width": 2.2154083994216567
         },
         "mode": "lines",
         "showlegend": false,
         "text": "türk → milletinin: 83",
         "type": "scatter",
         "x": [
          -0.17883606255054474,
          0.3543272614479065,
          null
         ],
         "y": [
          0.08138802647590637,
          -0.9362018704414368,
          null
         ]
        },
        {
         "hoverinfo": "text",
         "line": {
          "color": "#888",
          "width": 2.158744056768155
         },
         "mode": "lines",
         "showlegend": false,
         "text": "türk → halkı: 74",
         "type": "scatter",
         "x": [
          -0.17883606255054474,
          -0.9172688722610474,
          null
         ],
         "y": [
          0.08138802647590637,
          0.27984434366226196,
          null
         ]
        },
        {
         "hoverinfo": "text",
         "line": {
          "color": "#888",
          "width": 1.9459101490553132
         },
         "mode": "lines",
         "showlegend": false,
         "text": "türk → vatandaşı: 48",
         "type": "scatter",
         "x": [
          -0.17883606255054474,
          0.5257895588874817,
          null
         ],
         "y": [
          0.08138802647590637,
          0.8031151294708252,
          null
         ]
        },
        {
         "hoverinfo": "text",
         "line": {
          "color": "#888",
          "width": 1.8920948169591305
         },
         "mode": "lines",
         "showlegend": false,
         "text": "türk → kürt: 43",
         "type": "scatter",
         "x": [
          -0.17883606255054474,
          0.0004792813560925424,
          null
         ],
         "y": [
          0.08138802647590637,
          -0.8743046522140503,
          null
         ]
        },
        {
         "hoverinfo": "text",
         "line": {
          "color": "#888",
          "width": 1.856786033352154
         },
         "mode": "lines",
         "showlegend": false,
         "text": "türk → lirası: 40",
         "type": "scatter",
         "x": [
          -0.17883606255054474,
          0.1677294224500656,
          null
         ],
         "y": [
          0.08138802647590637,
          0.9315599799156189,
          null
         ]
        },
        {
         "hoverinfo": "text",
         "line": {
          "color": "#888",
          "width": 1.856786033352154
         },
         "mode": "lines",
         "showlegend": false,
         "text": "türk → halkının: 40",
         "type": "scatter",
         "x": [
          -0.17883606255054474,
          0.8499131202697754,
          null
         ],
         "y": [
          0.08138802647590637,
          0.38022658228874207,
          null
         ]
        },
        {
         "hoverinfo": "text",
         "line": {
          "color": "#888",
          "width": 1.8444397270569681
         },
         "mode": "lines",
         "showlegend": false,
         "text": "türk → insanı: 39",
         "type": "scatter",
         "x": [
          -0.17883606255054474,
          -0.6518498063087463,
          null
         ],
         "y": [
          0.08138802647590637,
          -0.5596188306808472,
          null
         ]
        },
        {
         "hoverinfo": "text",
         "line": {
          "color": "#888",
          "width": 1.791759469228055
         },
         "mode": "lines",
         "showlegend": false,
         "text": "türk → toplumu: 35",
         "type": "scatter",
         "x": [
          -0.17883606255054474,
          -0.947844922542572,
          null
         ],
         "y": [
          0.08138802647590637,
          -0.046907056123018265,
          null
         ]
        },
        {
         "hoverinfo": "text",
         "line": {
          "color": "#888",
          "width": 1.7169936022425731
         },
         "mode": "lines",
         "showlegend": false,
         "text": "türk → ün: 30",
         "type": "scatter",
         "x": [
          -0.17883606255054474,
          -0.6992175579071045,
          null
         ],
         "y": [
          0.08138802647590637,
          0.7699806094169617,
          null
         ]
        },
        {
         "hoverinfo": "text",
         "line": {
          "color": "#888",
          "width": 1.6479184330021646
         },
         "mode": "lines",
         "showlegend": false,
         "text": "türk → devleti: 26",
         "type": "scatter",
         "x": [
          -0.17883606255054474,
          0.5642960667610168,
          null
         ],
         "y": [
          0.08138802647590637,
          0.7949053049087524,
          null
         ]
        },
        {
         "hoverinfo": "text",
         "line": {
          "color": "#888",
          "width": 2.429906202180836
         },
         "mode": "lines",
         "showlegend": false,
         "text": "suudi → arabistan: 128",
         "type": "scatter",
         "x": [
          0.3872441351413727,
          0.48168691992759705,
          null
         ],
         "y": [
          -0.6738560795783997,
          -0.8750473260879517,
          null
         ]
        },
        {
         "hoverinfo": "text",
         "line": {
          "color": "#888",
          "width": 2.4220935432292956
         },
         "mode": "lines",
         "showlegend": false,
         "text": "haber → içeriği: 126",
         "type": "scatter",
         "x": [
          0.4646279811859131,
          0.42041507363319397,
          null
         ],
         "y": [
          0.45777463912963867,
          0.4314350485801697,
          null
         ]
        },
        {
         "hoverinfo": "text",
         "line": {
          "color": "#888",
          "width": 2.03876872195286
         },
         "mode": "lines",
         "showlegend": false,
         "text": "içeriği → kaynak: 58",
         "type": "scatter",
         "x": [
          0.42041507363319397,
          0.8418775796890259,
          null
         ],
         "y": [
          0.4314350485801697,
          0.4753747880458832,
          null
         ]
        },
        {
         "hoverinfo": "text",
         "line": {
          "color": "#888",
          "width": 1.683647914993237
         },
         "mode": "lines",
         "showlegend": false,
         "text": "içeriği → türkiye: 28",
         "type": "scatter",
         "x": [
          0.42041507363319397,
          -0.19381746649742126,
          null
         ],
         "y": [
          0.4314350485801697,
          0.3322831392288208,
          null
         ]
        },
        {
         "hoverinfo": "text",
         "line": {
          "color": "#888",
          "width": 2.4060921776862085
         },
         "mode": "lines",
         "showlegend": false,
         "text": "birleşik → devletleri: 122",
         "type": "scatter",
         "x": [
          -0.5891454815864563,
          -0.5849413871765137,
          null
         ],
         "y": [
          -0.7312055230140686,
          -0.6886435151100159,
          null
         ]
        },
        {
         "hoverinfo": "text",
         "line": {
          "color": "#888",
          "width": 1.7005986908310777
         },
         "mode": "lines",
         "showlegend": false,
         "text": "birleşik → krallık: 29",
         "type": "scatter",
         "x": [
          -0.5891454815864563,
          -0.7056729793548584,
          null
         ],
         "y": [
          -0.7312055230140686,
          -0.6695851683616638,
          null
         ]
        },
        {
         "hoverinfo": "text",
         "line": {
          "color": "#888",
          "width": 2.4060921776862085
         },
         "mode": "lines",
         "showlegend": false,
         "text": "amerika → birleşik: 122",
         "type": "scatter",
         "x": [
          -0.39424213767051697,
          -0.5891454815864563,
          null
         ],
         "y": [
          -0.5752014517784119,
          -0.7312055230140686,
          null
         ]
        },
        {
         "hoverinfo": "text",
         "line": {
          "color": "#888",
          "width": 2.393745871391023
         },
         "mode": "lines",
         "showlegend": false,
         "text": "insanların → yaşadığı: 119",
         "type": "scatter",
         "x": [
          -0.1806456744670868,
          -0.2766476273536682,
          null
         ],
         "y": [
          0.5511398315429688,
          0.17091968655586243,
          null
         ]
        },
        {
         "hoverinfo": "text",
         "line": {
          "color": "#888",
          "width": 2.271647391135002
         },
         "mode": "lines",
         "showlegend": false,
         "text": "insanların → ülkesi: 93",
         "type": "scatter",
         "x": [
          -0.1806456744670868,
          -0.07695940881967545,
          null
         ],
         "y": [
          0.5511398315429688,
          0.9831793308258057,
          null
         ]
        },
        {
         "hoverinfo": "text",
         "line": {
          "color": "#888",
          "width": 1.666102255087602
         },
         "mode": "lines",
         "showlegend": false,
         "text": "yaşadığı → ülkedir: 27",
         "type": "scatter",
         "x": [
          -0.2766476273536682,
          -0.25073155760765076,
          null
         ],
         "y": [
          0.17091968655586243,
          0.37556007504463196,
          null
         ]
        },
        {
         "hoverinfo": "text",
         "line": {
          "color": "#888",
          "width": 2.354765100656167
         },
         "mode": "lines",
         "showlegend": false,
         "text": "tek → başına: 110",
         "type": "scatter",
         "x": [
          0.06521209329366684,
          -0.03756548836827278,
          null
         ],
         "y": [
          0.03545209765434265,
          -0.16432452201843262,
          null
         ]
        },
        {
         "hoverinfo": "text",
         "line": {
          "color": "#888",
          "width": 2.209420303898299
         },
         "mode": "lines",
         "showlegend": false,
         "text": "tek → tek: 82",
         "type": "scatter",
         "x": [
          0.06521209329366684,
          0.06521209329366684,
          null
         ],
         "y": [
          0.03545209765434265,
          0.03545209765434265,
          null
         ]
        },
        {
         "hoverinfo": "text",
         "line": {
          "color": "#888",
          "width": 1.956011502714073
         },
         "mode": "lines",
         "showlegend": false,
         "text": "tek → adam: 49",
         "type": "scatter",
         "x": [
          0.06521209329366684,
          0.9787623882293701,
          null
         ],
         "y": [
          0.03545209765434265,
          0.14840617775917053,
          null
         ]
        },
        {
         "hoverinfo": "text",
         "line": {
          "color": "#888",
          "width": 1.8054589563221122
         },
         "mode": "lines",
         "showlegend": false,
         "text": "tek → parti: 36",
         "type": "scatter",
         "x": [
          0.06521209329366684,
          -0.9609361886978149,
          null
         ],
         "y": [
          0.03545209765434265,
          -0.06806067377328873,
          null
         ]
        },
        {
         "hoverinfo": "text",
         "line": {
          "color": "#888",
          "width": 1.7482537807332401
         },
         "mode": "lines",
         "showlegend": false,
         "text": "tek → yolu: 32",
         "type": "scatter",
         "x": [
          0.06521209329366684,
          0.2805916965007782,
          null
         ],
         "y": [
          0.03545209765434265,
          0.9050803780555725,
          null
         ]
        },
        {
         "hoverinfo": "text",
         "line": {
          "color": "#888",
          "width": 1.6094379124341003
         },
         "mode": "lines",
         "showlegend": false,
         "text": "tek → kelime: 24",
         "type": "scatter",
         "x": [
          0.06521209329366684,
          -0.22826972603797913,
          null
         ],
         "y": [
          0.03545209765434265,
          -0.8836529850959778,
          null
         ]
        },
        {
         "hoverinfo": "text",
         "line": {
          "color": "#888",
          "width": 2.0948273710132126
         },
         "mode": "lines",
         "showlegend": false,
         "text": "başına → düşen: 65",
         "type": "scatter",
         "x": [
          -0.03756548836827278,
          -0.5409420728683472,
          null
         ],
         "y": [
          -0.16432452201843262,
          0.12870126962661743,
          null
         ]
        },
        {
         "hoverinfo": "text",
         "line": {
          "color": "#888",
          "width": 1.6094379124341003
         },
         "mode": "lines",
         "showlegend": false,
         "text": "başına → gelen: 24",
         "type": "scatter",
         "x": [
          -0.03756548836827278,
          0.7883198857307434,
          null
         ],
         "y": [
          -0.16432452201843262,
          -0.6379832029342651,
          null
         ]
        },
        {
         "hoverinfo": "text",
         "line": {
          "color": "#888",
          "width": 2.3456739411145717
         },
         "mode": "lines",
         "showlegend": false,
         "text": "ülkedir → türkiye: 108",
         "type": "scatter",
         "x": [
          -0.25073155760765076,
          -0.19381746649742126,
          null
         ],
         "y": [
          0.37556007504463196,
          0.3322831392288208,
          null
         ]
        },
        {
         "hoverinfo": "text",
         "line": {
          "color": "#888",
          "width": 2.3456739411145717
         },
         "mode": "lines",
         "showlegend": false,
         "text": "siyasal → islam: 108",
         "type": "scatter",
         "x": [
          -0.880774736404419,
          -0.8353387713432312,
          null
         ],
         "y": [
          -0.2102111130952835,
          -0.22718055546283722,
          null
         ]
        },
        {
         "hoverinfo": "text",
         "line": {
          "color": "#888",
          "width": 2.3317195470560335
         },
         "mode": "lines",
         "showlegend": false,
         "text": "vatan → haini: 105",
         "type": "scatter",
         "x": [
          -0.34493494033813477,
          -0.3190118372440338,
          null
         ],
         "y": [
          -0.9225537776947021,
          -0.8972619771957397,
          null
         ]
        },
        {
         "hoverinfo": "text",
         "line": {
          "color": "#888",
          "width": 2.3269801750787615
         },
         "mode": "lines",
         "showlegend": false,
         "text": "sosyal → medya: 104",
         "type": "scatter",
         "x": [
          0.5059007406234741,
          0.32058975100517273,
          null
         ],
         "y": [
          0.21606376767158508,
          0.9079998135566711,
          null
         ]
        },
        {
         "hoverinfo": "text",
         "line": {
          "color": "#888",
          "width": 2.2033596236321267
         },
         "mode": "lines",
         "showlegend": false,
         "text": "sosyal → medyada: 81",
         "type": "scatter",
         "x": [
          0.5059007406234741,
          0.7055573463439941,
          null
         ],
         "y": [
          0.21606376767158508,
          -0.5741273164749146,
          null
         ]
        },
        {
         "hoverinfo": "text",
         "line": {
          "color": "#888",
          "width": 2.317364494114818
         },
         "mode": "lines",
         "showlegend": false,
         "text": "önceki → yılın: 102",
         "type": "scatter",
         "x": [
          0.14357785880565643,
          -0.4118562638759613,
          null
         ],
         "y": [
          -0.319405734539032,
          -0.17427533864974976,
          null
         ]
        },
        {
         "hoverinfo": "text",
         "line": {
          "color": "#888",
          "width": 2.102346309695483
         },
         "mode": "lines",
         "showlegend": false,
         "text": "önceki → aya: 66",
         "type": "scatter",
         "x": [
          0.14357785880565643,
          0.8341747522354126,
          null
         ],
         "y": [
          -0.319405734539032,
          -0.49192383885383606,
          null
         ]
        },
        {
         "hoverinfo": "text",
         "line": {
          "color": "#888",
          "width": 2.302585092994046
         },
         "mode": "lines",
         "showlegend": false,
         "text": "yılın → aynı: 99",
         "type": "scatter",
         "x": [
          -0.4118562638759613,
          -0.37530064582824707,
          null
         ],
         "y": [
          -0.17427533864974976,
          -0.11503373831510544,
          null
         ]
        },
        {
         "hoverinfo": "text",
         "line": {
          "color": "#888",
          "width": 2.30756025842063
         },
         "mode": "lines",
         "showlegend": false,
         "text": "asgari → ücret: 100",
         "type": "scatter",
         "x": [
          -0.06751114875078201,
          -0.22335927188396454,
          null
         ],
         "y": [
          -0.34568631649017334,
          -0.9376835227012634,
          null
         ]
        },
        {
         "hoverinfo": "text",
         "line": {
          "color": "#888",
          "width": 1.7328679513998633
         },
         "mode": "lines",
         "showlegend": false,
         "text": "asgari → ücretle: 31",
         "type": "scatter",
         "x": [
          -0.06751114875078201,
          -0.7111348509788513,
          null
         ],
         "y": [
          -0.34568631649017334,
          -0.5746008157730103,
          null
         ]
        },
        {
         "hoverinfo": "text",
         "line": {
          "color": "#888",
          "width": 1.7328679513998633
         },
         "mode": "lines",
         "showlegend": false,
         "text": "asgari → ücretin: 31",
         "type": "scatter",
         "x": [
          -0.06751114875078201,
          0.3643433451652527,
          null
         ],
         "y": [
          -0.34568631649017334,
          0.9144446849822998,
          null
         ]
        },
        {
         "hoverinfo": "text",
         "line": {
          "color": "#888",
          "width": 1.6479184330021646
         },
         "mode": "lines",
         "showlegend": false,
         "text": "asgari → ücrete: 26",
         "type": "scatter",
         "x": [
          -0.06751114875078201,
          0.23697501420974731,
          null
         ],
         "y": [
          -0.34568631649017334,
          -0.9523460268974304,
          null
         ]
        },
        {
         "hoverinfo": "text",
         "line": {
          "color": "#888",
          "width": 2.2873554892516914
         },
         "mode": "lines",
         "showlegend": false,
         "text": "recep → tayyip: 96",
         "type": "scatter",
         "x": [
          0.6900906562805176,
          0.7438772916793823,
          null
         ],
         "y": [
          -0.3644130825996399,
          -0.34960195422172546,
          null
         ]
        },
        {
         "hoverinfo": "text",
         "line": {
          "color": "#888",
          "width": 2.2873554892516914
         },
         "mode": "lines",
         "showlegend": false,
         "text": "yer → alan: 96",
         "type": "scatter",
         "x": [
          0.0668497160077095,
          -0.04028201103210449,
          null
         ],
         "y": [
          -0.05190369486808777,
          -0.919590413570404,
          null
         ]
        },
        {
         "hoverinfo": "text",
         "line": {
          "color": "#888",
          "width": 2.0302215052732095
         },
         "mode": "lines",
         "showlegend": false,
         "text": "yer → aldı: 57",
         "type": "scatter",
         "x": [
          0.0668497160077095,
          -0.3792921304702759,
          null
         ],
         "y": [
          -0.05190369486808777,
          0.8319516181945801,
          null
         ]
        },
        {
         "hoverinfo": "text",
         "line": {
          "color": "#888",
          "width": 1.8054589563221122
         },
         "mode": "lines",
         "showlegend": false,
         "text": "yer → yer: 36",
         "type": "scatter",
         "x": [
          0.0668497160077095,
          0.0668497160077095,
          null
         ],
         "y": [
          -0.05190369486808777,
          -0.05190369486808777,
          null
         ]
        },
        {
         "hoverinfo": "text",
         "line": {
          "color": "#888",
          "width": 1.7482537807332401
         },
         "mode": "lines",
         "showlegend": false,
         "text": "yer → alıyor: 32",
         "type": "scatter",
         "x": [
          0.0668497160077095,
          0.7899952530860901,
          null
         ],
         "y": [
          -0.05190369486808777,
          0.38396042585372925,
          null
         ]
        },
        {
         "hoverinfo": "text",
         "line": {
          "color": "#888",
          "width": 1.6094379124341003
         },
         "mode": "lines",
         "showlegend": false,
         "text": "yer → aldığı: 24",
         "type": "scatter",
         "x": [
          0.0668497160077095,
          0.7595285773277283,
          null
         ],
         "y": [
          -0.05190369486808777,
          0.4818758964538574,
          null
         ]
        },
        {
         "hoverinfo": "text",
         "line": {
          "color": "#888",
          "width": 2.2769384458002704
         },
         "mode": "lines",
         "showlegend": false,
         "text": "merak → ediyorum: 94",
         "type": "scatter",
         "x": [
          0.5519158244132996,
          0.2791956961154938,
          null
         ],
         "y": [
          0.5383343696594238,
          0.85170578956604,
          null
         ]
        },
        {
         "hoverinfo": "text",
         "line": {
          "color": "#888",
          "width": 1.7776740307447068
         },
         "mode": "lines",
         "showlegend": false,
         "text": "merak → ettiğim: 34",
         "type": "scatter",
         "x": [
          0.5519158244132996,
          0.9805129766464233,
          null
         ],
         "y": [
          0.5383343696594238,
          -0.003951886668801308,
          null
         ]
        },
        {
         "hoverinfo": "text",
         "line": {
          "color": "#888",
          "width": 2.2608942885245202
         },
         "mode": "lines",
         "showlegend": false,
         "text": "iç → savaş: 91",
         "type": "scatter",
         "x": [
          -0.06780628859996796,
          0.18623439967632294,
          null
         ],
         "y": [
          -0.1867263913154602,
          -0.874442458152771,
          null
         ]
        },
        {
         "hoverinfo": "text",
         "line": {
          "color": "#888",
          "width": 1.8054589563221122
         },
         "mode": "lines",
         "showlegend": false,
         "text": "iç → savaşa: 36",
         "type": "scatter",
         "x": [
          -0.06780628859996796,
          0.045916344970464706,
          null
         ],
         "y": [
          -0.1867263913154602,
          0.9098498225212097,
          null
         ]
        },
        {
         "hoverinfo": "text",
         "line": {
          "color": "#888",
          "width": 1.7482537807332401
         },
         "mode": "lines",
         "showlegend": false,
         "text": "iç → anadolu: 32",
         "type": "scatter",
         "x": [
          -0.06780628859996796,
          -0.6459575891494751,
          null
         ],
         "y": [
          -0.1867263913154602,
          -0.743965208530426,
          null
         ]
        },
        {
         "hoverinfo": "text",
         "line": {
          "color": "#888",
          "width": 1.7328679513998633
         },
         "mode": "lines",
         "showlegend": false,
         "text": "iç → dış: 31",
         "type": "scatter",
         "x": [
          -0.06780628859996796,
          0.4307171702384949,
          null
         ],
         "y": [
          -0.1867263913154602,
          0.11953813582658768,
          null
         ]
        },
        {
         "hoverinfo": "text",
         "line": {
          "color": "#888",
          "width": 1.683647914993237
         },
         "mode": "lines",
         "showlegend": false,
         "text": "iç → içe: 28",
         "type": "scatter",
         "x": [
          -0.06780628859996796,
          -0.5790159106254578,
          null
         ],
         "y": [
          -0.1867263913154602,
          0.7252933382987976,
          null
         ]
        },
        {
         "hoverinfo": "text",
         "line": {
          "color": "#888",
          "width": 1.6479184330021646
         },
         "mode": "lines",
         "showlegend": false,
         "text": "iç → savaşı: 26",
         "type": "scatter",
         "x": [
          -0.06780628859996796,
          -0.08537464588880539,
          null
         ],
         "y": [
          -0.1867263913154602,
          -0.9525659084320068,
          null
         ]
        },
        {
         "hoverinfo": "text",
         "line": {
          "color": "#888",
          "width": 2.2608942885245202
         },
         "mode": "lines",
         "showlegend": false,
         "text": "dünyanın → güzel: 91",
         "type": "scatter",
         "x": [
          -0.028586341068148613,
          0.5987740159034729,
          null
         ],
         "y": [
          0.1365433633327484,
          0.36732205748558044,
          null
         ]
        },
        {
         "hoverinfo": "text",
         "line": {
          "color": "#888",
          "width": 2.1097538525880535
         },
         "mode": "lines",
         "showlegend": false,
         "text": "dünyanın → büyük: 67",
         "type": "scatter",
         "x": [
          -0.028586341068148613,
          0.29181185364723206,
          null
         ],
         "y": [
          0.1365433633327484,
          -0.04070991277694702,
          null
         ]
        },
        {
         "hoverinfo": "text",
         "line": {
          "color": "#888",
          "width": 1.7169936022425731
         },
         "mode": "lines",
         "showlegend": false,
         "text": "dünyanın → güçlü: 30",
         "type": "scatter",
         "x": [
          -0.028586341068148613,
          -0.8706504106521606,
          null
         ],
         "y": [
          0.1365433633327484,
          0.4552198350429535,
          null
         ]
        },
        {
         "hoverinfo": "text",
         "line": {
          "color": "#888",
          "width": 1.683647914993237
         },
         "mode": "lines",
         "showlegend": false,
         "text": "dünyanın → pahalı: 28",
         "type": "scatter",
         "x": [
          -0.028586341068148613,
          -0.8358615636825562,
          null
         ],
         "y": [
          0.1365433633327484,
          -0.4998631775379181,
          null
         ]
        },
        {
         "hoverinfo": "text",
         "line": {
          "color": "#888",
          "width": 2.255429753258425
         },
         "mode": "lines",
         "showlegend": false,
         "text": "terör → örgütü: 90",
         "type": "scatter",
         "x": [
          0.5597859025001526,
          0.8120995759963989,
          null
         ],
         "y": [
          -0.42778828740119934,
          -0.5771908760070801,
          null
         ]
        },
        {
         "hoverinfo": "text",
         "line": {
          "color": "#888",
          "width": 2.2499048351651325
         },
         "mode": "lines",
         "showlegend": false,
         "text": "milyon → bin: 89",
         "type": "scatter",
         "x": [
          0.5425376296043396,
          0.5529413819313049,
          null
         ],
         "y": [
          -0.1985252946615219,
          -0.185560405254364,
          null
         ]
        },
        {
         "hoverinfo": "text",
         "line": {
          "color": "#888",
          "width": 1.791759469228055
         },
         "mode": "lines",
         "showlegend": false,
         "text": "milyon → kişi: 35",
         "type": "scatter",
         "x": [
          0.5425376296043396,
          0.15260706841945648,
          null
         ],
         "y": [
          -0.1985252946615219,
          -0.5334652066230774,
          null
         ]
        },
        {
         "hoverinfo": "text",
         "line": {
          "color": "#888",
          "width": 1.7631802623080808
         },
         "mode": "lines",
         "showlegend": false,
         "text": "milyon → lira: 33",
         "type": "scatter",
         "x": [
          0.5425376296043396,
          0.9228454828262329,
          null
         ],
         "y": [
          -0.1985252946615219,
          0.1660752147436142,
          null
         ]
        },
        {
         "hoverinfo": "text",
         "line": {
          "color": "#888",
          "width": 1.629048269010741
         },
         "mode": "lines",
         "showlegend": false,
         "text": "milyon → milyon: 25",
         "type": "scatter",
         "x": [
          0.5425376296043396,
          0.5425376296043396,
          null
         ],
         "y": [
          -0.1985252946615219,
          -0.1985252946615219,
          null
         ]
        },
        {
         "hoverinfo": "text",
         "line": {
          "color": "#888",
          "width": 2.1972245773362196
         },
         "mode": "lines",
         "showlegend": false,
         "text": "bin → kişi: 80",
         "type": "scatter",
         "x": [
          0.5529413819313049,
          0.15260706841945648,
          null
         ],
         "y": [
          -0.185560405254364,
          -0.5334652066230774,
          null
         ]
        },
        {
         "hoverinfo": "text",
         "line": {
          "color": "#888",
          "width": 2.1972245773362196
         },
         "mode": "lines",
         "showlegend": false,
         "text": "bin → lira: 80",
         "type": "scatter",
         "x": [
          0.5529413819313049,
          0.9228454828262329,
          null
         ],
         "y": [
          -0.185560405254364,
          0.1660752147436142,
          null
         ]
        },
        {
         "hoverinfo": "text",
         "line": {
          "color": "#888",
          "width": 1.7328679513998633
         },
         "mode": "lines",
         "showlegend": false,
         "text": "bin → dolar: 31",
         "type": "scatter",
         "x": [
          0.5529413819313049,
          0.6445372700691223,
          null
         ],
         "y": [
          -0.185560405254364,
          -0.6939284205436707,
          null
         ]
        },
        {
         "hoverinfo": "text",
         "line": {
          "color": "#888",
          "width": 1.666102255087602
         },
         "mode": "lines",
         "showlegend": false,
         "text": "bin → konut: 27",
         "type": "scatter",
         "x": [
          0.5529413819313049,
          0.5388368368148804,
          null
         ],
         "y": [
          -0.185560405254364,
          0.37273821234703064,
          null
         ]
        },
        {
         "hoverinfo": "text",
         "line": {
          "color": "#888",
          "width": 2.2386684072391034
         },
         "mode": "lines",
         "showlegend": false,
         "text": "olması → gereken: 87",
         "type": "scatter",
         "x": [
          0.11680855602025986,
          -0.37731343507766724,
          null
         ],
         "y": [
          0.04495890438556671,
          0.49593785405158997,
          null
         ]
        },
        {
         "hoverinfo": "text",
         "line": {
          "color": "#888",
          "width": 1.8688348091416842
         },
         "mode": "lines",
         "showlegend": false,
         "text": "olması → lazım: 41",
         "type": "scatter",
         "x": [
          0.11680855602025986,
          0.8311991691589355,
          null
         ],
         "y": [
          0.04495890438556671,
          -0.6145873665809631,
          null
         ]
        },
        {
         "hoverinfo": "text",
         "line": {
          "color": "#888",
          "width": 1.7328679513998633
         },
         "mode": "lines",
         "showlegend": false,
         "text": "gereken → ülkedir: 31",
         "type": "scatter",
         "x": [
          -0.37731343507766724,
          -0.25073155760765076,
          null
         ],
         "y": [
          0.49593785405158997,
          0.37556007504463196,
          null
         ]
        },
        {
         "hoverinfo": "text",
         "line": {
          "color": "#888",
          "width": 2.2271736481267537
         },
         "mode": "lines",
         "showlegend": false,
         "text": "tarafı → denizlerle: 85",
         "type": "scatter",
         "x": [
          0.25696951150894165,
          0.2525828778743744,
          null
         ],
         "y": [
          -0.49245941638946533,
          -0.7093441486358643,
          null
         ]
        },
        {
         "hoverinfo": "text",
         "line": {
          "color": "#888",
          "width": 2.0715673631957663
         },
         "mode": "lines",
         "showlegend": false,
         "text": "denizlerle → çevrili: 62",
         "type": "scatter",
         "x": [
          0.2525828778743744,
          0.22506092488765717,
          null
         ],
         "y": [
          -0.7093441486358643,
          -0.7793774008750916,
          null
         ]
        },
        {
         "hoverinfo": "text",
         "line": {
          "color": "#888",
          "width": 2.2154083994216567
         },
         "mode": "lines",
         "showlegend": false,
         "text": "ortadoğu → ülkesi: 83",
         "type": "scatter",
         "x": [
          -0.09895264357328415,
          -0.07695940881967545,
          null
         ],
         "y": [
          0.7920451760292053,
          0.9831793308258057,
          null
         ]
        },
        {
         "hoverinfo": "text",
         "line": {
          "color": "#888",
          "width": 2.209420303898299
         },
         "mode": "lines",
         "showlegend": false,
         "text": "kişi → başı: 82",
         "type": "scatter",
         "x": [
          0.15260706841945648,
          0.335615336894989,
          null
         ],
         "y": [
          -0.5334652066230774,
          -0.8865699172019958,
          null
         ]
        },
        {
         "hoverinfo": "text",
         "line": {
          "color": "#888",
          "width": 2.1910133173369406
         },
         "mode": "lines",
         "showlegend": false,
         "text": "kişi → başına: 79",
         "type": "scatter",
         "x": [
          0.15260706841945648,
          -0.03756548836827278,
          null
         ],
         "y": [
          -0.5334652066230774,
          -0.16432452201843262,
          null
         ]
        },
        {
         "hoverinfo": "text",
         "line": {
          "color": "#888",
          "width": 2.1972245773362196
         },
         "mode": "lines",
         "showlegend": false,
         "text": "uzun → süre: 80",
         "type": "scatter",
         "x": [
          0.12192656844854355,
          -0.13043558597564697,
          null
         ],
         "y": [
          0.10457908362150192,
          -0.9499034881591797,
          null
         ]
        },
        {
         "hoverinfo": "text",
         "line": {
          "color": "#888",
          "width": 2.1242476210246797
         },
         "mode": "lines",
         "showlegend": false,
         "text": "uzun → zamandır: 69",
         "type": "scatter",
         "x": [
          0.12192656844854355,
          0.736003577709198,
          null
         ],
         "y": [
          0.10457908362150192,
          0.7393870949745178,
          null
         ]
        },
        {
         "hoverinfo": "text",
         "line": {
          "color": "#888",
          "width": 2.0871936349478184
         },
         "mode": "lines",
         "showlegend": false,
         "text": "uzun → vadede: 64",
         "type": "scatter",
         "x": [
          0.12192656844854355,
          0.5426046252250671,
          null
         ],
         "y": [
          0.10457908362150192,
          0.8548178672790527,
          null
         ]
        },
        {
         "hoverinfo": "text",
         "line": {
          "color": "#888",
          "width": 1.8920948169591305
         },
         "mode": "lines",
         "showlegend": false,
         "text": "uzun → süredir: 43",
         "type": "scatter",
         "x": [
          0.12192656844854355,
          -0.9120025634765625,
          null
         ],
         "y": [
          0.10457908362150192,
          -0.3649056851863861,
          null
         ]
        },
        {
         "hoverinfo": "text",
         "line": {
          "color": "#888",
          "width": 1.8688348091416842
         },
         "mode": "lines",
         "showlegend": false,
         "text": "uzun → yıllar: 41",
         "type": "scatter",
         "x": [
          0.12192656844854355,
          0.7902361154556274,
          null
         ],
         "y": [
          0.10457908362150192,
          0.6475732326507568,
          null
         ]
        },
        {
         "hoverinfo": "text",
         "line": {
          "color": "#888",
          "width": 1.8688348091416842
         },
         "mode": "lines",
         "showlegend": false,
         "text": "uzun → uzun: 41",
         "type": "scatter",
         "x": [
          0.12192656844854355,
          0.12192656844854355,
          null
         ],
         "y": [
          0.10457908362150192,
          0.10457908362150192,
          null
         ]
        },
        {
         "hoverinfo": "text",
         "line": {
          "color": "#888",
          "width": 1.8444397270569681
         },
         "mode": "lines",
         "showlegend": false,
         "text": "uzun → vadeli: 39",
         "type": "scatter",
         "x": [
          0.12192656844854355,
          -0.592186450958252,
          null
         ],
         "y": [
          0.10457908362150192,
          0.6353007555007935,
          null
         ]
        },
        {
         "hoverinfo": "text",
         "line": {
          "color": "#888",
          "width": 1.7631802623080808
         },
         "mode": "lines",
         "showlegend": false,
         "text": "uzun → zaman: 33",
         "type": "scatter",
         "x": [
          0.12192656844854355,
          -0.23115754127502441,
          null
         ],
         "y": [
          0.10457908362150192,
          0.507307231426239,
          null
         ]
        },
        {
         "hoverinfo": "text",
         "line": {
          "color": "#888",
          "width": 1.7169936022425731
         },
         "mode": "lines",
         "showlegend": false,
         "text": "uzun → yıllardır: 30",
         "type": "scatter",
         "x": [
          0.12192656844854355,
          0.8672075271606445,
          null
         ],
         "y": [
          0.10457908362150192,
          -0.3017663359642029,
          null
         ]
        },
        {
         "hoverinfo": "text",
         "line": {
          "color": "#888",
          "width": 2.1972245773362196
         },
         "mode": "lines",
         "showlegend": false,
         "text": "eğitim → sistemi: 80",
         "type": "scatter",
         "x": [
          -0.5630401968955994,
          -0.7619493007659912,
          null
         ],
         "y": [
          0.44859829545021057,
          0.5036308765411377,
          null
         ]
        },
        {
         "hoverinfo": "text",
         "line": {
          "color": "#888",
          "width": 1.629048269010741
         },
         "mode": "lines",
         "showlegend": false,
         "text": "eğitim → sağlık: 25",
         "type": "scatter",
         "x": [
          -0.5630401968955994,
          -0.7065749764442444,
          null
         ],
         "y": [
          0.44859829545021057,
          0.6181504726409912,
          null
         ]
        },
        {
         "hoverinfo": "text",
         "line": {
          "color": "#888",
          "width": 2.1910133173369406
         },
         "mode": "lines",
         "showlegend": false,
         "text": "ekonomik → kriz: 79",
         "type": "scatter",
         "x": [
          -0.5040432810783386,
          -0.6869683265686035,
          null
         ],
         "y": [
          0.49996477365493774,
          0.7359828352928162,
          null
         ]
        },
        {
         "hoverinfo": "text",
         "line": {
          "color": "#888",
          "width": 2.178354413344796
         },
         "mode": "lines",
         "showlegend": false,
         "text": "yurt → dışına: 77",
         "type": "scatter",
         "x": [
          -0.1703880876302719,
          0.48497703671455383,
          null
         ],
         "y": [
          0.5711459517478943,
          0.8565030097961426,
          null
         ]
        },
        {
         "hoverinfo": "text",
         "line": {
          "color": "#888",
          "width": 2.012675845367575
         },
         "mode": "lines",
         "showlegend": false,
         "text": "yurt → dışında: 55",
         "type": "scatter",
         "x": [
          -0.1703880876302719,
          -0.9420804977416992,
          null
         ],
         "y": [
          0.5711459517478943,
          0.21122623980045319,
          null
         ]
        },
        {
         "hoverinfo": "text",
         "line": {
          "color": "#888",
          "width": 2.1653666701431655
         },
         "mode": "lines",
         "showlegend": false,
         "text": "hale → geldi: 75",
         "type": "scatter",
         "x": [
          0.45409849286079407,
          0.37282508611679077,
          null
         ],
         "y": [
          -0.08555926382541656,
          -0.9027599692344666,
          null
         ]
        },
        {
         "hoverinfo": "text",
         "line": {
          "color": "#888",
          "width": 1.9944920232821373
         },
         "mode": "lines",
         "showlegend": false,
         "text": "hale → gelmiş: 53",
         "type": "scatter",
         "x": [
          0.45409849286079407,
          0.23634591698646545,
          null
         ],
         "y": [
          -0.08555926382541656,
          0.9329344630241394,
          null
         ]
        },
        {
         "hoverinfo": "text",
         "line": {
          "color": "#888",
          "width": 1.7631802623080808
         },
         "mode": "lines",
         "showlegend": false,
         "text": "hale → gelen: 33",
         "type": "scatter",
         "x": [
          0.45409849286079407,
          0.7883198857307434,
          null
         ],
         "y": [
          -0.08555926382541656,
          -0.6379832029342651,
          null
         ]
        },
        {
         "hoverinfo": "text",
         "line": {
          "color": "#888",
          "width": 1.7482537807332401
         },
         "mode": "lines",
         "showlegend": false,
         "text": "hale → geldik: 32",
         "type": "scatter",
         "x": [
          0.45409849286079407,
          0.9517205357551575,
          null
         ],
         "y": [
          -0.08555926382541656,
          0.22731147706508636,
          null
         ]
        },
        {
         "hoverinfo": "text",
         "line": {
          "color": "#888",
          "width": 2.1653666701431655
         },
         "mode": "lines",
         "showlegend": false,
         "text": "hemen → hemen: 75",
         "type": "scatter",
         "x": [
          -0.47842708230018616,
          -0.47842708230018616,
          null
         ],
         "y": [
          0.8627509474754333,
          0.8627509474754333,
          null
         ]
        },
        {
         "hoverinfo": "text",
         "line": {
          "color": "#888",
          "width": 2.158744056768155
         },
         "mode": "lines",
         "showlegend": false,
         "text": "vs → vs: 74",
         "type": "scatter",
         "x": [
          0.20330080389976501,
          0.20330080389976501,
          null
         ],
         "y": [
          -0.9742692708969116,
          -0.9742692708969116,
          null
         ]
        },
        {
         "hoverinfo": "text",
         "line": {
          "color": "#888",
          "width": 2.158744056768155
         },
         "mode": "lines",
         "showlegend": false,
         "text": "su → an: 74",
         "type": "scatter",
         "x": [
          0.3238052427768707,
          0.7572160363197327,
          null
         ],
         "y": [
          -0.4475710391998291,
          -0.2400210201740265,
          null
         ]
        },
        {
         "hoverinfo": "text",
         "line": {
          "color": "#888",
          "width": 1.7328679513998633
         },
         "mode": "lines",
         "showlegend": false,
         "text": "su → anda: 31",
         "type": "scatter",
         "x": [
          0.3238052427768707,
          -0.2580379545688629,
          null
         ],
         "y": [
          -0.4475710391998291,
          -0.9047446846961975,
          null
         ]
        },
        {
         "hoverinfo": "text",
         "line": {
          "color": "#888",
          "width": 2.1242476210246797
         },
         "mode": "lines",
         "showlegend": false,
         "text": "an → itibariyle: 69",
         "type": "scatter",
         "x": [
          0.7572160363197327,
          0.9163867235183716,
          null
         ],
         "y": [
          -0.2400210201740265,
          -0.3504013121128082,
          null
         ]
        },
        {
         "hoverinfo": "text",
         "line": {
          "color": "#888",
          "width": 2.1520325466020847
         },
         "mode": "lines",
         "showlegend": false,
         "text": "milyar → dolar: 73",
         "type": "scatter",
         "x": [
          0.6266430020332336,
          0.6445372700691223,
          null
         ],
         "y": [
          -0.4961160123348236,
          -0.6939284205436707,
          null
         ]
        },
        {
         "hoverinfo": "text",
         "line": {
          "color": "#888",
          "width": 1.8444397270569681
         },
         "mode": "lines",
         "showlegend": false,
         "text": "milyar → milyon: 39",
         "type": "scatter",
         "x": [
          0.6266430020332336,
          0.5425376296043396,
          null
         ],
         "y": [
          -0.4961160123348236,
          -0.1985252946615219,
          null
         ]
        },
        {
         "hoverinfo": "text",
         "line": {
          "color": "#888",
          "width": 2.1520325466020847
         },
         "mode": "lines",
         "showlegend": false,
         "text": "konut → satışları: 73",
         "type": "scatter",
         "x": [
          0.5388368368148804,
          0.3771902322769165,
          null
         ],
         "y": [
          0.37273821234703064,
          0.8799423575401306,
          null
         ]
        },
        {
         "hoverinfo": "text",
         "line": {
          "color": "#888",
          "width": 1.6094379124341003
         },
         "mode": "lines",
         "showlegend": false,
         "text": "konut → satışı: 24",
         "type": "scatter",
         "x": [
          0.5388368368148804,
          0.7954176664352417,
          null
         ],
         "y": [
          0.37273821234703064,
          -0.5276821851730347,
          null
         ]
        },
        {
         "hoverinfo": "text",
         "line": {
          "color": "#888",
          "width": 2.1452297205741955
         },
         "mode": "lines",
         "showlegend": false,
         "text": "güney → kore: 72",
         "type": "scatter",
         "x": [
          -0.6779274344444275,
          -0.9146296977996826,
          null
         ],
         "y": [
          -0.19617430865764618,
          -0.28343692421913147,
          null
         ]
        },
        {
         "hoverinfo": "text",
         "line": {
          "color": "#888",
          "width": 2.1452297205741955
         },
         "mode": "lines",
         "showlegend": false,
         "text": "ev → sahipliği: 72",
         "type": "scatter",
         "x": [
          0.29604804515838623,
          0.9810906052589417,
          null
         ],
         "y": [
          -0.09203772991895676,
          -0.18717141449451447,
          null
         ]
        },
        {
         "hoverinfo": "text",
         "line": {
          "color": "#888",
          "width": 2.04717228111105
         },
         "mode": "lines",
         "showlegend": false,
         "text": "ev → sahibi: 59",
         "type": "scatter",
         "x": [
          0.29604804515838623,
          -0.6090236306190491,
          null
         ],
         "y": [
          -0.09203772991895676,
          0.0053492081351578236,
          null
         ]
        },
        {
         "hoverinfo": "text",
         "line": {
          "color": "#888",
          "width": 1.791759469228055
         },
         "mode": "lines",
         "showlegend": false,
         "text": "ev → araba: 35",
         "type": "scatter",
         "x": [
          0.29604804515838623,
          0.9301260113716125,
          null
         ],
         "y": [
          -0.09203772991895676,
          -0.09609104692935944,
          null
         ]
        },
        {
         "hoverinfo": "text",
         "line": {
          "color": "#888",
          "width": 2.1452297205741955
         },
         "mode": "lines",
         "showlegend": false,
         "text": "iyi → kötü: 72",
         "type": "scatter",
         "x": [
          -0.036087024956941605,
          0.9354307055473328,
          null
         ],
         "y": [
          0.3088294565677643,
          -0.01631862297654152,
          null
         ]
        },
        {
         "hoverinfo": "text",
         "line": {
          "color": "#888",
          "width": 1.8187930798631928
         },
         "mode": "lines",
         "showlegend": false,
         "text": "iyi → ihtimalle: 37",
         "type": "scatter",
         "x": [
          -0.036087024956941605,
          0.11025314778089523,
          null
         ],
         "y": [
          0.3088294565677643,
          0.9857863783836365,
          null
         ]
        },
        {
         "hoverinfo": "text",
         "line": {
          "color": "#888",
          "width": 1.7631802623080808
         },
         "mode": "lines",
         "showlegend": false,
         "text": "iyi → niyetli: 33",
         "type": "scatter",
         "x": [
          -0.036087024956941605,
          -0.930330216884613,
          null
         ],
         "y": [
          0.3088294565677643,
          0.18843378126621246,
          null
         ]
        },
        {
         "hoverinfo": "text",
         "line": {
          "color": "#888",
          "width": 1.7631802623080808
         },
         "mode": "lines",
         "showlegend": false,
         "text": "iyi → eğitim: 33",
         "type": "scatter",
         "x": [
          -0.036087024956941605,
          -0.5630401968955994,
          null
         ],
         "y": [
          0.3088294565677643,
          0.44859829545021057,
          null
         ]
        },
        {
         "hoverinfo": "text",
         "line": {
          "color": "#888",
          "width": 1.7005986908310777
         },
         "mode": "lines",
         "showlegend": false,
         "text": "iyi → durumda: 29",
         "type": "scatter",
         "x": [
          -0.036087024956941605,
          -0.7488613724708557,
          null
         ],
         "y": [
          0.3088294565677643,
          0.41248807311058044,
          null
         ]
        },
        {
         "hoverinfo": "text",
         "line": {
          "color": "#888",
          "width": 1.666102255087602
         },
         "mode": "lines",
         "showlegend": false,
         "text": "iyi → şekilde: 27",
         "type": "scatter",
         "x": [
          -0.036087024956941605,
          -0.09263414144515991,
          null
         ],
         "y": [
          0.3088294565677643,
          0.9090508222579956,
          null
         ]
        },
        {
         "hoverinfo": "text",
         "line": {
          "color": "#888",
          "width": 1.629048269010741
         },
         "mode": "lines",
         "showlegend": false,
         "text": "iyi → eğitimli: 25",
         "type": "scatter",
         "x": [
          -0.036087024956941605,
          -0.9635301232337952,
          null
         ],
         "y": [
          0.3088294565677643,
          0.11841347813606262,
          null
         ]
        },
        {
         "hoverinfo": "text",
         "line": {
          "color": "#888",
          "width": 1.6094379124341003
         },
         "mode": "lines",
         "showlegend": false,
         "text": "iyi → olur: 24",
         "type": "scatter",
         "x": [
          -0.036087024956941605,
          -0.31686723232269287,
          null
         ],
         "y": [
          0.3088294565677643,
          0.2699432075023651,
          null
         ]
        },
        {
         "hoverinfo": "text",
         "line": {
          "color": "#888",
          "width": 2.1383330595080277
         },
         "mode": "lines",
         "showlegend": false,
         "text": "ilk → kez: 71",
         "type": "scatter",
         "x": [
          -0.4335179626941681,
          -0.7326481342315674,
          null
         ],
         "y": [
          0.3625600337982178,
          0.5951319336891174,
          null
         ]
        },
        {
         "hoverinfo": "text",
         "line": {
          "color": "#888",
          "width": 1.7169936022425731
         },
         "mode": "lines",
         "showlegend": false,
         "text": "ilk → sırada: 30",
         "type": "scatter",
         "x": [
          -0.4335179626941681,
          0.09117958694696426,
          null
         ],
         "y": [
          0.3625600337982178,
          -0.1197873055934906,
          null
         ]
        },
        {
         "hoverinfo": "text",
         "line": {
          "color": "#888",
          "width": 1.666102255087602
         },
         "mode": "lines",
         "showlegend": false,
         "text": "ilk → fırsatta: 27",
         "type": "scatter",
         "x": [
          -0.4335179626941681,
          -0.5745856761932373,
          null
         ],
         "y": [
          0.3625600337982178,
          0.8139355778694153,
          null
         ]
        },
        {
         "hoverinfo": "text",
         "line": {
          "color": "#888",
          "width": 1.6094379124341003
         },
         "mode": "lines",
         "showlegend": false,
         "text": "ilk → başta: 24",
         "type": "scatter",
         "x": [
          -0.4335179626941681,
          -0.5532602071762085,
          null
         ],
         "y": [
          0.3625600337982178,
          0.0794120728969574,
          null
         ]
        },
        {
         "hoverinfo": "text",
         "line": {
          "color": "#888",
          "width": 2.1313399385206577
         },
         "mode": "lines",
         "showlegend": false,
         "text": "yakın → zamanda: 70",
         "type": "scatter",
         "x": [
          -0.4074176847934723,
          -0.672446072101593,
          null
         ],
         "y": [
          -0.002993496833369136,
          -0.693753719329834,
          null
         ]
        },
        {
         "hoverinfo": "text",
         "line": {
          "color": "#888",
          "width": 1.7776740307447068
         },
         "mode": "lines",
         "showlegend": false,
         "text": "yakın → gelecekte: 34",
         "type": "scatter",
         "x": [
          -0.4074176847934723,
          -0.014123257249593735,
          null
         ],
         "y": [
          -0.002993496833369136,
          0.9877545237541199,
          null
         ]
        },
        {
         "hoverinfo": "text",
         "line": {
          "color": "#888",
          "width": 1.683647914993237
         },
         "mode": "lines",
         "showlegend": false,
         "text": "asya → avrupa: 28",
         "type": "scatter",
         "x": [
          -0.3904929757118225,
          -0.42112934589385986,
          null
         ],
         "y": [
          0.054883524775505066,
          0.17259937524795532,
          null
         ]
        },
        {
         "hoverinfo": "text",
         "line": {
          "color": "#888",
          "width": 2.1242476210246797
         },
         "mode": "lines",
         "showlegend": false,
         "text": "zaman → zaman: 69",
         "type": "scatter",
         "x": [
          -0.23115754127502441,
          -0.23115754127502441,
          null
         ],
         "y": [
          0.507307231426239,
          0.507307231426239,
          null
         ]
        },
        {
         "hoverinfo": "text",
         "line": {
          "color": "#888",
          "width": 1.7482537807332401
         },
         "mode": "lines",
         "showlegend": false,
         "text": "zaman → türkiye: 32",
         "type": "scatter",
         "x": [
          -0.23115754127502441,
          -0.19381746649742126,
          null
         ],
         "y": [
          0.507307231426239,
          0.3322831392288208,
          null
         ]
        },
        {
         "hoverinfo": "text",
         "line": {
          "color": "#888",
          "width": 2.11705325229863
         },
         "mode": "lines",
         "showlegend": false,
         "text": "haline → geldi: 68",
         "type": "scatter",
         "x": [
          0.0931764766573906,
          0.37282508611679077,
          null
         ],
         "y": [
          -0.18331730365753174,
          -0.9027599692344666,
          null
         ]
        },
        {
         "hoverinfo": "text",
         "line": {
          "color": "#888",
          "width": 1.9250738008550292
         },
         "mode": "lines",
         "showlegend": false,
         "text": "haline → gelmiş: 46",
         "type": "scatter",
         "x": [
          0.0931764766573906,
          0.23634591698646545,
          null
         ],
         "y": [
          -0.18331730365753174,
          0.9329344630241394,
          null
         ]
        },
        {
         "hoverinfo": "text",
         "line": {
          "color": "#888",
          "width": 1.9250738008550292
         },
         "mode": "lines",
         "showlegend": false,
         "text": "haline → gelmiştir: 46",
         "type": "scatter",
         "x": [
          0.0931764766573906,
          -0.5072922706604004,
          null
         ],
         "y": [
          -0.18331730365753174,
          -0.7188493609428406,
          null
         ]
        },
        {
         "hoverinfo": "text",
         "line": {
          "color": "#888",
          "width": 1.956011502714073
         },
         "mode": "lines",
         "showlegend": false,
         "text": "büyük → çoğunluğu: 49",
         "type": "scatter",
         "x": [
          0.29181185364723206,
          0.704201340675354,
          null
         ],
         "y": [
          -0.04070991277694702,
          -0.7440494894981384,
          null
         ]
        },
        {
         "hoverinfo": "text",
         "line": {
          "color": "#888",
          "width": 1.9143206982445475
         },
         "mode": "lines",
         "showlegend": false,
         "text": "büyük → kısmı: 45",
         "type": "scatter",
         "x": [
          0.29181185364723206,
          0.9537320733070374,
          null
         ],
         "y": [
          -0.04070991277694702,
          -0.28683987259864807,
          null
         ]
        },
        {
         "hoverinfo": "text",
         "line": {
          "color": "#888",
          "width": 1.9033312448851598
         },
         "mode": "lines",
         "showlegend": false,
         "text": "büyük → ihtimalle: 44",
         "type": "scatter",
         "x": [
          0.29181185364723206,
          0.11025314778089523,
          null
         ],
         "y": [
          -0.04070991277694702,
          0.9857863783836365,
          null
         ]
        },
        {
         "hoverinfo": "text",
         "line": {
          "color": "#888",
          "width": 1.7776740307447068
         },
         "mode": "lines",
         "showlegend": false,
         "text": "büyük → ölçüde: 34",
         "type": "scatter",
         "x": [
          0.29181185364723206,
          0.7571311593055725,
          null
         ],
         "y": [
          -0.04070991277694702,
          -0.6038480401039124,
          null
         ]
        },
        {
         "hoverinfo": "text",
         "line": {
          "color": "#888",
          "width": 1.7776740307447068
         },
         "mode": "lines",
         "showlegend": false,
         "text": "büyük → sorunu: 34",
         "type": "scatter",
         "x": [
          0.29181185364723206,
          -0.8423379063606262,
          null
         ],
         "y": [
          -0.04070991277694702,
          0.4116002023220062,
          null
         ]
        },
        {
         "hoverinfo": "text",
         "line": {
          "color": "#888",
          "width": 1.629048269010741
         },
         "mode": "lines",
         "showlegend": false,
         "text": "büyük → oranda: 25",
         "type": "scatter",
         "x": [
          0.29181185364723206,
          0.5735846757888794,
          null
         ],
         "y": [
          -0.04070991277694702,
          -0.8179096579551697,
          null
         ]
        },
        {
         "hoverinfo": "text",
         "line": {
          "color": "#888",
          "width": 2.102346309695483
         },
         "mode": "lines",
         "showlegend": false,
         "text": "ayında → önceki: 66",
         "type": "scatter",
         "x": [
          0.20301814377307892,
          0.14357785880565643,
          null
         ],
         "y": [
          -0.39385274052619934,
          -0.319405734539032,
          null
         ]
        },
        {
         "hoverinfo": "text",
         "line": {
          "color": "#888",
          "width": 1.8054589563221122
         },
         "mode": "lines",
         "showlegend": false,
         "text": "ayına → yüzde: 36",
         "type": "scatter",
         "x": [
          0.13095083832740784,
          0.0072871847078204155,
          null
         ],
         "y": [
          0.20880664885044098,
          0.18397632241249084,
          null
         ]
        },
        {
         "hoverinfo": "text",
         "line": {
          "color": "#888",
          "width": 1.7482537807332401
         },
         "mode": "lines",
         "showlegend": false,
         "text": "düşen → milli: 32",
         "type": "scatter",
         "x": [
          -0.5409420728683472,
          -0.7504805326461792,
          null
         ],
         "y": [
          0.12870126962661743,
          -0.009913243353366852,
          null
         ]
        },
        {
         "hoverinfo": "text",
         "line": {
          "color": "#888",
          "width": 2.0871936349478184
         },
         "mode": "lines",
         "showlegend": false,
         "text": "failed → state: 64",
         "type": "scatter",
         "x": [
          0.5578564405441284,
          0.8380560278892517,
          null
         ],
         "y": [
          0.3721882700920105,
          0.5188561081886292,
          null
         ]
        },
        {
         "hoverinfo": "text",
         "line": {
          "color": "#888",
          "width": 2.0871936349478184
         },
         "mode": "lines",
         "showlegend": false,
         "text": "hukuk → devleti: 64",
         "type": "scatter",
         "x": [
          -0.05485802888870239,
          0.5642960667610168,
          null
         ],
         "y": [
          0.4069433808326721,
          0.7949053049087524,
          null
         ]
        },
        {
         "hoverinfo": "text",
         "line": {
          "color": "#888",
          "width": 1.7631802623080808
         },
         "mode": "lines",
         "showlegend": false,
         "text": "hukuk → adalet: 33",
         "type": "scatter",
         "x": [
          -0.05485802888870239,
          -0.9177685976028442,
          null
         ],
         "y": [
          0.4069433808326721,
          -0.147941455245018,
          null
         ]
        },
        {
         "hoverinfo": "text",
         "line": {
          "color": "#888",
          "width": 2.0871936349478184
         },
         "mode": "lines",
         "showlegend": false,
         "text": "geri → kalan: 64",
         "type": "scatter",
         "x": [
          0.07869815081357956,
          0.8902576565742493,
          null
         ],
         "y": [
          0.13010607659816742,
          0.3274172842502594,
          null
         ]
        },
        {
         "hoverinfo": "text",
         "line": {
          "color": "#888",
          "width": 2.012675845367575
         },
         "mode": "lines",
         "showlegend": false,
         "text": "geri → kalmış: 55",
         "type": "scatter",
         "x": [
          0.07869815081357956,
          -0.9712229371070862,
          null
         ],
         "y": [
          0.13010607659816742,
          0.07565826922655106,
          null
         ]
        },
        {
         "hoverinfo": "text",
         "line": {
          "color": "#888",
          "width": 1.6094379124341003
         },
         "mode": "lines",
         "showlegend": false,
         "text": "geri → dönüş: 24",
         "type": "scatter",
         "x": [
          0.07869815081357956,
          0.8798435926437378,
          null
         ],
         "y": [
          0.13010607659816742,
          -0.23254729807376862,
          null
         ]
        },
        {
         "hoverinfo": "text",
         "line": {
          "color": "#888",
          "width": 2.0794415416798357
         },
         "mode": "lines",
         "showlegend": false,
         "text": "olma → yolunda: 63",
         "type": "scatter",
         "x": [
          0.7284536361694336,
          0.8741985559463501,
          null
         ],
         "y": [
          -0.2995976209640503,
          -0.43459826707839966,
          null
         ]
        },
        {
         "hoverinfo": "text",
         "line": {
          "color": "#888",
          "width": 2.0794415416798357
         },
         "mode": "lines",
         "showlegend": false,
         "text": "günden → güne: 63",
         "type": "scatter",
         "x": [
          0.06665994226932526,
          0.14365330338478088,
          null
         ],
         "y": [
          -0.9526693820953369,
          -0.9734919667243958,
          null
         ]
        },
        {
         "hoverinfo": "text",
         "line": {
          "color": "#888",
          "width": 2.0715673631957663
         },
         "mode": "lines",
         "showlegend": false,
         "text": "geçmiş → olsun: 62",
         "type": "scatter",
         "x": [
          -0.1434904783964157,
          -0.14415571093559265,
          null
         ],
         "y": [
          -0.7020032405853271,
          -0.8822418451309204,
          null
         ]
        },
        {
         "hoverinfo": "text",
         "line": {
          "color": "#888",
          "width": 2.0715673631957663
         },
         "mode": "lines",
         "showlegend": false,
         "text": "istanbul → un: 62",
         "type": "scatter",
         "x": [
          0.37314602732658386,
          0.882378101348877,
          null
         ],
         "y": [
          -0.5981303453445435,
          -0.3627406358718872,
          null
         ]
        },
        {
         "hoverinfo": "text",
         "line": {
          "color": "#888",
          "width": 1.683647914993237
         },
         "mode": "lines",
         "showlegend": false,
         "text": "istanbul → ankara: 28",
         "type": "scatter",
         "x": [
          0.37314602732658386,
          -0.39950236678123474,
          null
         ],
         "y": [
          -0.5981303453445435,
          -0.9209179282188416,
          null
         ]
        },
        {
         "hoverinfo": "text",
         "line": {
          "color": "#888",
          "width": 2.0715673631957663
         },
         "mode": "lines",
         "showlegend": false,
         "text": "oranı → yüzde: 62",
         "type": "scatter",
         "x": [
          0.07862471789121628,
          0.0072871847078204155,
          null
         ],
         "y": [
          0.26632556319236755,
          0.18397632241249084,
          null
         ]
        },
        {
         "hoverinfo": "text",
         "line": {
          "color": "#888",
          "width": 1.8187930798631928
         },
         "mode": "lines",
         "showlegend": false,
         "text": "yüzde → si: 37",
         "type": "scatter",
         "x": [
          0.0072871847078204155,
          -0.8189868330955505,
          null
         ],
         "y": [
          0.18397632241249084,
          -0.47528767585754395,
          null
         ]
        },
        {
         "hoverinfo": "text",
         "line": {
          "color": "#888",
          "width": 1.7005986908310777
         },
         "mode": "lines",
         "showlegend": false,
         "text": "yüzde → oranında: 29",
         "type": "scatter",
         "x": [
          0.0072871847078204155,
          0.6333733201026917,
          null
         ],
         "y": [
          0.18397632241249084,
          0.6727550029754639,
          null
         ]
        },
        {
         "hoverinfo": "text",
         "line": {
          "color": "#888",
          "width": 1.666102255087602
         },
         "mode": "lines",
         "showlegend": false,
         "text": "yüzde → pay: 27",
         "type": "scatter",
         "x": [
          0.0072871847078204155,
          0.9558603763580322,
          null
         ],
         "y": [
          0.18397632241249084,
          0.08073270320892334,
          null
         ]
        },
        {
         "hoverinfo": "text",
         "line": {
          "color": "#888",
          "width": 1.6479184330021646
         },
         "mode": "lines",
         "showlegend": false,
         "text": "yüzde → ini: 26",
         "type": "scatter",
         "x": [
          0.0072871847078204155,
          -0.3060186803340912,
          null
         ],
         "y": [
          0.18397632241249084,
          0.9570304155349731,
          null
         ]
        },
        {
         "hoverinfo": "text",
         "line": {
          "color": "#888",
          "width": 2.063567192522546
         },
         "mode": "lines",
         "showlegend": false,
         "text": "siyasi → parti: 61",
         "type": "scatter",
         "x": [
          -0.5454433560371399,
          -0.9609361886978149,
          null
         ],
         "y": [
          -0.46334728598594666,
          -0.06806067377328873,
          null
         ]
        },
        {
         "hoverinfo": "text",
         "line": {
          "color": "#888",
          "width": 1.7631802623080808
         },
         "mode": "lines",
         "showlegend": false,
         "text": "siyasi → partilerin: 33",
         "type": "scatter",
         "x": [
          -0.5454433560371399,
          0.04740959778428078,
          null
         ],
         "y": [
          -0.46334728598594666,
          -0.9746867418289185,
          null
         ]
        },
        {
         "hoverinfo": "text",
         "line": {
          "color": "#888",
          "width": 2.063567192522546
         },
         "mode": "lines",
         "showlegend": false,
         "text": "sırada → yer: 61",
         "type": "scatter",
         "x": [
          0.09117958694696426,
          0.0668497160077095,
          null
         ],
         "y": [
          -0.1197873055934906,
          -0.05190369486808777,
          null
         ]
        },
        {
         "hoverinfo": "text",
         "line": {
          "color": "#888",
          "width": 2.0554369320866557
         },
         "mode": "lines",
         "showlegend": false,
         "text": "yeni → türkiye: 60",
         "type": "scatter",
         "x": [
          -0.4776047170162201,
          -0.19381746649742126,
          null
         ],
         "y": [
          -0.019500020891427994,
          0.3322831392288208,
          null
         ]
        },
        {
         "hoverinfo": "text",
         "line": {
          "color": "#888",
          "width": 1.7005986908310777
         },
         "mode": "lines",
         "showlegend": false,
         "text": "yeni → nesil: 29",
         "type": "scatter",
         "x": [
          -0.4776047170162201,
          -0.8597253561019897,
          null
         ],
         "y": [
          -0.019500020891427994,
          -0.5290083885192871,
          null
         ]
        },
        {
         "hoverinfo": "text",
         "line": {
          "color": "#888",
          "width": 1.683647914993237
         },
         "mode": "lines",
         "showlegend": false,
         "text": "yeni → yeni: 28",
         "type": "scatter",
         "x": [
          -0.4776047170162201,
          -0.4776047170162201,
          null
         ],
         "y": [
          -0.019500020891427994,
          -0.019500020891427994,
          null
         ]
        },
        {
         "hoverinfo": "text",
         "line": {
          "color": "#888",
          "width": 2.04717228111105
         },
         "mode": "lines",
         "showlegend": false,
         "text": "öte → yandan: 59",
         "type": "scatter",
         "x": [
          0.6176992654800415,
          0.7194585204124451,
          null
         ],
         "y": [
          -0.616456925868988,
          -0.6355280876159668,
          null
         ]
        },
        {
         "hoverinfo": "text",
         "line": {
          "color": "#888",
          "width": 1.629048269010741
         },
         "mode": "lines",
         "showlegend": false,
         "text": "sahibi → olmak: 25",
         "type": "scatter",
         "x": [
          -0.6090236306190491,
          -0.8680338263511658,
          null
         ],
         "y": [
          0.0053492081351578236,
          0.1992875188589096,
          null
         ]
        },
        {
         "hoverinfo": "text",
         "line": {
          "color": "#888",
          "width": 2.04717228111105
         },
         "mode": "lines",
         "showlegend": false,
         "text": "ciddi → ciddi: 59",
         "type": "scatter",
         "x": [
          0.5654045939445496,
          0.5654045939445496,
          null
         ],
         "y": [
          0.324632465839386,
          0.324632465839386,
          null
         ]
        },
        {
         "hoverinfo": "text",
         "line": {
          "color": "#888",
          "width": 1.9250738008550292
         },
         "mode": "lines",
         "showlegend": false,
         "text": "ciddi → anlamda: 46",
         "type": "scatter",
         "x": [
          0.5654045939445496,
          0.94089275598526,
          null
         ],
         "y": [
          0.324632465839386,
          0.3839889466762543,
          null
         ]
        },
        {
         "hoverinfo": "text",
         "line": {
          "color": "#888",
          "width": 2.03876872195286
         },
         "mode": "lines",
         "showlegend": false,
         "text": "nefret → ediyorum: 58",
         "type": "scatter",
         "x": [
          -0.18792451918125153,
          0.2791956961154938,
          null
         ],
         "y": [
          0.15289512276649475,
          0.85170578956604,
          null
         ]
        },
        {
         "hoverinfo": "text",
         "line": {
          "color": "#888",
          "width": 1.8444397270569681
         },
         "mode": "lines",
         "showlegend": false,
         "text": "nefret → eden: 39",
         "type": "scatter",
         "x": [
          -0.18792451918125153,
          -0.8222485184669495,
          null
         ],
         "y": [
          0.15289512276649475,
          0.5546495914459229,
          null
         ]
        },
        {
         "hoverinfo": "text",
         "line": {
          "color": "#888",
          "width": 1.8444397270569681
         },
         "mode": "lines",
         "showlegend": false,
         "text": "nefret → ediyor: 39",
         "type": "scatter",
         "x": [
          -0.18792451918125153,
          -0.2773623466491699,
          null
         ],
         "y": [
          0.15289512276649475,
          -0.9286184310913086,
          null
         ]
        },
        {
         "hoverinfo": "text",
         "line": {
          "color": "#888",
          "width": 2.03876872195286
         },
         "mode": "lines",
         "showlegend": false,
         "text": "çin → abd: 58",
         "type": "scatter",
         "x": [
          0.037140022963285446,
          -0.006758902221918106,
          null
         ],
         "y": [
          0.27655574679374695,
          0.17603462934494019,
          null
         ]
        },
        {
         "hoverinfo": "text",
         "line": {
          "color": "#888",
          "width": 1.7328679513998633
         },
         "mode": "lines",
         "showlegend": false,
         "text": "abd → ingiltere: 31",
         "type": "scatter",
         "x": [
          -0.006758902221918106,
          0.04703270271420479,
          null
         ],
         "y": [
          0.17603462934494019,
          0.9744078516960144,
          null
         ]
        },
        {
         "hoverinfo": "text",
         "line": {
          "color": "#888",
          "width": 1.629048269010741
         },
         "mode": "lines",
         "showlegend": false,
         "text": "abd → rusya: 25",
         "type": "scatter",
         "x": [
          -0.006758902221918106,
          -0.061343688517808914,
          null
         ],
         "y": [
          0.17603462934494019,
          -0.7195103764533997,
          null
         ]
        },
        {
         "hoverinfo": "text",
         "line": {
          "color": "#888",
          "width": 2.0302215052732095
         },
         "mode": "lines",
         "showlegend": false,
         "text": "siktir → gitmek: 57",
         "type": "scatter",
         "x": [
          0.7929267883300781,
          0.9450874924659729,
          null
         ],
         "y": [
          0.24948173761367798,
          0.33925268054008484,
          null
         ]
        },
        {
         "hoverinfo": "text",
         "line": {
          "color": "#888",
          "width": 2.0302215052732095
         },
         "mode": "lines",
         "showlegend": false,
         "text": "rusya → ukrayna: 57",
         "type": "scatter",
         "x": [
          -0.061343688517808914,
          -0.08663606643676758,
          null
         ],
         "y": [
          -0.7195103764533997,
          -0.9082993865013123,
          null
         ]
        },
        {
         "hoverinfo": "text",
         "line": {
          "color": "#888",
          "width": 2.0302215052732095
         },
         "mode": "lines",
         "showlegend": false,
         "text": "muharrem → ince: 57",
         "type": "scatter",
         "x": [
          -0.7479870915412903,
          -0.6758520603179932,
          null
         ],
         "y": [
          -0.6766570806503296,
          -0.7784121632575989,
          null
         ]
        },
        {
         "hoverinfo": "text",
         "line": {
          "color": "#888",
          "width": 2.0302215052732095
         },
         "mode": "lines",
         "showlegend": false,
         "text": "ortaya → çıktı: 57",
         "type": "scatter",
         "x": [
          -0.04888547956943512,
          0.08500736951828003,
          null
         ],
         "y": [
          -0.03354302793741226,
          -0.9559049606323242,
          null
         ]
        },
        {
         "hoverinfo": "text",
         "line": {
          "color": "#888",
          "width": 1.956011502714073
         },
         "mode": "lines",
         "showlegend": false,
         "text": "ortaya → çıkan: 49",
         "type": "scatter",
         "x": [
          -0.04888547956943512,
          -0.19088545441627502,
          null
         ],
         "y": [
          -0.03354302793741226,
          0.9637556076049805,
          null
         ]
        },
        {
         "hoverinfo": "text",
         "line": {
          "color": "#888",
          "width": 2.0302215052732095
         },
         "mode": "lines",
         "showlegend": false,
         "text": "şeye → rağmen: 57",
         "type": "scatter",
         "x": [
          -0.3593685030937195,
          -0.23387093842029572,
          null
         ],
         "y": [
          -0.5724204182624817,
          -0.7109636664390564,
          null
         ]
        },
        {
         "hoverinfo": "text",
         "line": {
          "color": "#888",
          "width": 2.021525633917275
         },
         "mode": "lines",
         "showlegend": false,
         "text": "ak → parti: 56",
         "type": "scatter",
         "x": [
          -0.9128805994987488,
          -0.9609361886978149,
          null
         ],
         "y": [
          -0.15953151881694794,
          -0.06806067377328873,
          null
         ]
        },
        {
         "hoverinfo": "text",
         "line": {
          "color": "#888",
          "width": 2.021525633917275
         },
         "mode": "lines",
         "showlegend": false,
         "text": "yaşayan → insanların: 56",
         "type": "scatter",
         "x": [
          0.14483724534511566,
          -0.1806456744670868,
          null
         ],
         "y": [
          0.02857513725757599,
          0.5511398315429688,
          null
         ]
        },
        {
         "hoverinfo": "text",
         "line": {
          "color": "#888",
          "width": 1.6479184330021646
         },
         "mode": "lines",
         "showlegend": false,
         "text": "yaşayan → insanlar: 26",
         "type": "scatter",
         "x": [
          0.14483724534511566,
          0.6019275188446045,
          null
         ],
         "y": [
          0.02857513725757599,
          -0.7430306673049927,
          null
         ]
        },
        {
         "hoverinfo": "text",
         "line": {
          "color": "#888",
          "width": 1.683647914993237
         },
         "mode": "lines",
         "showlegend": false,
         "text": "yıl → öncesine: 28",
         "type": "scatter",
         "x": [
          0.12153756618499756,
          0.9070639610290527,
          null
         ],
         "y": [
          -0.45215079188346863,
          -0.29209306836128235,
          null
         ]
        },
        {
         "hoverinfo": "text",
         "line": {
          "color": "#888",
          "width": 1.629048269010741
         },
         "mode": "lines",
         "showlegend": false,
         "text": "yıl → içerisinde: 25",
         "type": "scatter",
         "x": [
          0.12153756618499756,
          -0.7159672975540161,
          null
         ],
         "y": [
          -0.45215079188346863,
          -0.6143384575843811,
          null
         ]
        },
        {
         "hoverinfo": "text",
         "line": {
          "color": "#888",
          "width": 1.629048269010741
         },
         "mode": "lines",
         "showlegend": false,
         "text": "yıl → önceki: 25",
         "type": "scatter",
         "x": [
          0.12153756618499756,
          0.14357785880565643,
          null
         ],
         "y": [
          -0.45215079188346863,
          -0.319405734539032,
          null
         ]
        },
        {
         "hoverinfo": "text",
         "line": {
          "color": "#888",
          "width": 2.012675845367575
         },
         "mode": "lines",
         "showlegend": false,
         "text": "istatistik → kurumu: 55",
         "type": "scatter",
         "x": [
          -0.15497757494449615,
          -0.22319646179676056,
          null
         ],
         "y": [
          0.2968931794166565,
          0.4349968433380127,
          null
         ]
        },
        {
         "hoverinfo": "text",
         "line": {
          "color": "#888",
          "width": 1.7169936022425731
         },
         "mode": "lines",
         "showlegend": false,
         "text": "kurumu → tüik: 30",
         "type": "scatter",
         "x": [
          -0.22319646179676056,
          -0.3905442953109741,
          null
         ],
         "y": [
          0.4349968433380127,
          0.9006129503250122,
          null
         ]
        },
        {
         "hoverinfo": "text",
         "line": {
          "color": "#888",
          "width": 2.012675845367575
         },
         "mode": "lines",
         "showlegend": false,
         "text": "kendi → kendine: 55",
         "type": "scatter",
         "x": [
          -0.266279011964798,
          -0.36197179555892944,
          null
         ],
         "y": [
          0.24176137149333954,
          0.8047019839286804,
          null
         ]
        },
        {
         "hoverinfo": "text",
         "line": {
          "color": "#888",
          "width": 1.7631802623080808
         },
         "mode": "lines",
         "showlegend": false,
         "text": "kendi → halinde: 33",
         "type": "scatter",
         "x": [
          -0.266279011964798,
          -0.9128811955451965,
          null
         ],
         "y": [
          0.24176137149333954,
          0.3533439040184021,
          null
         ]
        },
        {
         "hoverinfo": "text",
         "line": {
          "color": "#888",
          "width": 1.7482537807332401
         },
         "mode": "lines",
         "showlegend": false,
         "text": "kendi → kendini: 32",
         "type": "scatter",
         "x": [
          -0.266279011964798,
          -0.673262894153595,
          null
         ],
         "y": [
          0.24176137149333954,
          0.6467067003250122,
          null
         ]
        },
        {
         "hoverinfo": "text",
         "line": {
          "color": "#888",
          "width": 1.7005986908310777
         },
         "mode": "lines",
         "showlegend": false,
         "text": "kendi → kendime: 29",
         "type": "scatter",
         "x": [
          -0.266279011964798,
          -0.6357421875,
          null
         ],
         "y": [
          0.24176137149333954,
          -0.7143850326538086,
          null
         ]
        },
        {
         "hoverinfo": "text",
         "line": {
          "color": "#888",
          "width": 1.6094379124341003
         },
         "mode": "lines",
         "showlegend": false,
         "text": "kendi → ülkesinde: 24",
         "type": "scatter",
         "x": [
          -0.266279011964798,
          0.9580173492431641,
          null
         ],
         "y": [
          0.24176137149333954,
          0.2608206868171692,
          null
         ]
        },
        {
         "hoverinfo": "text",
         "line": {
          "color": "#888",
          "width": 2.0036665926162356
         },
         "mode": "lines",
         "showlegend": false,
         "text": "biliyor → musunuz: 54",
         "type": "scatter",
         "x": [
          0.7432976365089417,
          0.9626932740211487,
          null
         ],
         "y": [
          -0.17282767593860626,
          -0.22711814939975739,
          null
         ]
        },
        {
         "hoverinfo": "text",
         "line": {
          "color": "#888",
          "width": 2.0036665926162356
         },
         "mode": "lines",
         "showlegend": false,
         "text": "kısa → sürede: 54",
         "type": "scatter",
         "x": [
          -0.26624831557273865,
          -0.5271503925323486,
          null
         ],
         "y": [
          -0.5629677772521973,
          -0.8433498740196228,
          null
         ]
        },
        {
         "hoverinfo": "text",
         "line": {
          "color": "#888",
          "width": 1.8688348091416842
         },
         "mode": "lines",
         "showlegend": false,
         "text": "kısa → süre: 41",
         "type": "scatter",
         "x": [
          -0.26624831557273865,
          -0.13043558597564697,
          null
         ],
         "y": [
          -0.5629677772521973,
          -0.9499034881591797,
          null
         ]
        },
        {
         "hoverinfo": "text",
         "line": {
          "color": "#888",
          "width": 1.6479184330021646
         },
         "mode": "lines",
         "showlegend": false,
         "text": "kısa → zamanda: 26",
         "type": "scatter",
         "x": [
          -0.26624831557273865,
          -0.672446072101593,
          null
         ],
         "y": [
          -0.5629677772521973,
          -0.693753719329834,
          null
         ]
        },
        {
         "hoverinfo": "text",
         "line": {
          "color": "#888",
          "width": 1.9944920232821373
         },
         "mode": "lines",
         "showlegend": false,
         "text": "akp → li: 53",
         "type": "scatter",
         "x": [
          0.005505160894244909,
          -0.9096481204032898,
          null
         ],
         "y": [
          0.22505834698677063,
          0.3176184594631195,
          null
         ]
        },
        {
         "hoverinfo": "text",
         "line": {
          "color": "#888",
          "width": 1.9659128163621629
         },
         "mode": "lines",
         "showlegend": false,
         "text": "akp → mhp: 50",
         "type": "scatter",
         "x": [
          0.005505160894244909,
          -0.18602193892002106,
          null
         ],
         "y": [
          0.22505834698677063,
          0.9043254852294922,
          null
         ]
        },
        {
         "hoverinfo": "text",
         "line": {
          "color": "#888",
          "width": 1.8054589563221122
         },
         "mode": "lines",
         "showlegend": false,
         "text": "akp → oy: 36",
         "type": "scatter",
         "x": [
          0.005505160894244909,
          0.6341591477394104,
          null
         ],
         "y": [
          0.22505834698677063,
          -0.31378403306007385,
          null
         ]
        },
        {
         "hoverinfo": "text",
         "line": {
          "color": "#888",
          "width": 1.683647914993237
         },
         "mode": "lines",
         "showlegend": false,
         "text": "akp → chp: 28",
         "type": "scatter",
         "x": [
          0.005505160894244909,
          0.6486803293228149,
          null
         ],
         "y": [
          0.22505834698677063,
          -0.6049903035163879,
          null
         ]
        },
        {
         "hoverinfo": "text",
         "line": {
          "color": "#888",
          "width": 1.6094379124341003
         },
         "mode": "lines",
         "showlegend": false,
         "text": "akp → iktidarı: 24",
         "type": "scatter",
         "x": [
          0.005505160894244909,
          0.6643149852752686,
          null
         ],
         "y": [
          0.22505834698677063,
          0.7793015241622925,
          null
         ]
        },
        {
         "hoverinfo": "text",
         "line": {
          "color": "#888",
          "width": 1.9944920232821373
         },
         "mode": "lines",
         "showlegend": false,
         "text": "olduğunu → düşünüyorum: 53",
         "type": "scatter",
         "x": [
          -0.04990391060709953,
          0.5537233948707581,
          null
         ],
         "y": [
          -0.46935489773750305,
          -0.8641636967658997,
          null
         ]
        },
        {
         "hoverinfo": "text",
         "line": {
          "color": "#888",
          "width": 1.9143206982445475
         },
         "mode": "lines",
         "showlegend": false,
         "text": "olduğunu → iddia: 45",
         "type": "scatter",
         "x": [
          -0.04990391060709953,
          -0.14307458698749542,
          null
         ],
         "y": [
          -0.46935489773750305,
          -0.1068125069141388,
          null
         ]
        },
        {
         "hoverinfo": "text",
         "line": {
          "color": "#888",
          "width": 1.683647914993237
         },
         "mode": "lines",
         "showlegend": false,
         "text": "olduğunu → düşündüğüm: 28",
         "type": "scatter",
         "x": [
          -0.04990391060709953,
          -0.884099543094635,
          null
         ],
         "y": [
          -0.46935489773750305,
          -0.1058981716632843,
          null
         ]
        },
        {
         "hoverinfo": "text",
         "line": {
          "color": "#888",
          "width": 1.9944920232821373
         },
         "mode": "lines",
         "showlegend": false,
         "text": "osmanlı → imparatorluğu: 53",
         "type": "scatter",
         "x": [
          -0.23244638741016388,
          -0.8351303935050964,
          null
         ],
         "y": [
          0.5634691715240479,
          0.47088342905044556,
          null
         ]
        },
        {
         "hoverinfo": "text",
         "line": {
          "color": "#888",
          "width": 1.683647914993237
         },
         "mode": "lines",
         "showlegend": false,
         "text": "osmanlı → devleti: 28",
         "type": "scatter",
         "x": [
          -0.23244638741016388,
          0.5642960667610168,
          null
         ],
         "y": [
          0.5634691715240479,
          0.7949053049087524,
          null
         ]
        },
        {
         "hoverinfo": "text",
         "line": {
          "color": "#888",
          "width": 1.9756218592907138
         },
         "mode": "lines",
         "showlegend": false,
         "text": "ekşi → sözlük: 51",
         "type": "scatter",
         "x": [
          -0.21514174342155457,
          -0.37153300642967224,
          null
         ],
         "y": [
          -0.536526620388031,
          -0.8736796975135803,
          null
         ]
        },
        {
         "hoverinfo": "text",
         "line": {
          "color": "#888",
          "width": 1.9756218592907138
         },
         "mode": "lines",
         "showlegend": false,
         "text": "aklı → başında: 51",
         "type": "scatter",
         "x": [
          0.8564241528511047,
          0.9939920902252197,
          null
         ],
         "y": [
          -0.05580440163612366,
          -0.13580746948719025,
          null
         ]
        },
        {
         "hoverinfo": "text",
         "line": {
          "color": "#888",
          "width": 1.9659128163621629
         },
         "mode": "lines",
         "showlegend": false,
         "text": "dış → politika: 50",
         "type": "scatter",
         "x": [
          0.4307171702384949,
          0.9424205422401428,
          null
         ],
         "y": [
          0.11953813582658768,
          -0.17651166021823883,
          null
         ]
        },
        {
         "hoverinfo": "text",
         "line": {
          "color": "#888",
          "width": 1.8054589563221122
         },
         "mode": "lines",
         "showlegend": false,
         "text": "dış → güçler: 36",
         "type": "scatter",
         "x": [
          0.4307171702384949,
          0.5942659378051758,
          null
         ],
         "y": [
          0.11953813582658768,
          -0.6661210656166077,
          null
         ]
        },
        {
         "hoverinfo": "text",
         "line": {
          "color": "#888",
          "width": 1.791759469228055
         },
         "mode": "lines",
         "showlegend": false,
         "text": "dış → politikada: 35",
         "type": "scatter",
         "x": [
          0.4307171702384949,
          -0.13366061449050903,
          null
         ],
         "y": [
          0.11953813582658768,
          0.9831889867782593,
          null
         ]
        },
        {
         "hoverinfo": "text",
         "line": {
          "color": "#888",
          "width": 1.956011502714073
         },
         "mode": "lines",
         "showlegend": false,
         "text": "belli → olmayan: 49",
         "type": "scatter",
         "x": [
          -0.444250226020813,
          -0.6331291794776917,
          null
         ],
         "y": [
          0.6455569863319397,
          0.7807559370994568,
          null
         ]
        },
        {
         "hoverinfo": "text",
         "line": {
          "color": "#888",
          "width": 1.956011502714073
         },
         "mode": "lines",
         "showlegend": false,
         "text": "ülkede → yaşamak: 49",
         "type": "scatter",
         "x": [
          -0.2230401337146759,
          -0.5782604813575745,
          null
         ],
         "y": [
          0.3902184069156647,
          0.7297720313072205,
          null
         ]
        },
        {
         "hoverinfo": "text",
         "line": {
          "color": "#888",
          "width": 1.9250738008550292
         },
         "mode": "lines",
         "showlegend": false,
         "text": "ülkede → yaşayan: 46",
         "type": "scatter",
         "x": [
          -0.2230401337146759,
          0.14483724534511566,
          null
         ],
         "y": [
          0.3902184069156647,
          0.02857513725757599,
          null
         ]
        },
        {
         "hoverinfo": "text",
         "line": {
          "color": "#888",
          "width": 1.7776740307447068
         },
         "mode": "lines",
         "showlegend": false,
         "text": "yaşamak → zorunda: 34",
         "type": "scatter",
         "x": [
          -0.5782604813575745,
          -0.7971958518028259,
          null
         ],
         "y": [
          0.7297720313072205,
          0.6304923295974731,
          null
         ]
        },
        {
         "hoverinfo": "text",
         "line": {
          "color": "#888",
          "width": 1.956011502714073
         },
         "mode": "lines",
         "showlegend": false,
         "text": "kuzey → kore: 49",
         "type": "scatter",
         "x": [
          -0.6245033144950867,
          -0.9146296977996826,
          null
         ],
         "y": [
          0.21319957077503204,
          -0.28343692421913147,
          null
         ]
        },
        {
         "hoverinfo": "text",
         "line": {
          "color": "#888",
          "width": 1.666102255087602
         },
         "mode": "lines",
         "showlegend": false,
         "text": "kuzey → ırak: 27",
         "type": "scatter",
         "x": [
          -0.6245033144950867,
          -0.28086090087890625,
          null
         ],
         "y": [
          0.21319957077503204,
          0.9111136198043823,
          null
         ]
        },
        {
         "hoverinfo": "text",
         "line": {
          "color": "#888",
          "width": 1.9459101490553132
         },
         "mode": "lines",
         "showlegend": false,
         "text": "bol → bol: 48",
         "type": "scatter",
         "x": [
          0.818004310131073,
          0.818004310131073,
          null
         ],
         "y": [
          -0.32273003458976746,
          -0.32273003458976746,
          null
         ]
        },
        {
         "hoverinfo": "text",
         "line": {
          "color": "#888",
          "width": 1.9459101490553132
         },
         "mode": "lines",
         "showlegend": false,
         "text": "bununla → birlikte: 48",
         "type": "scatter",
         "x": [
          0.3350416421890259,
          0.48460063338279724,
          null
         ],
         "y": [
          0.5298080444335938,
          0.800917387008667,
          null
         ]
        },
        {
         "hoverinfo": "text",
         "line": {
          "color": "#888",
          "width": 1.666102255087602
         },
         "mode": "lines",
         "showlegend": false,
         "text": "vatandaşı → olmasan: 27",
         "type": "scatter",
         "x": [
          0.5257895588874817,
          0.423786461353302,
          null
         ],
         "y": [
          0.8031151294708252,
          0.8524451851844788,
          null
         ]
        },
        {
         "hoverinfo": "text",
         "line": {
          "color": "#888",
          "width": 1.9459101490553132
         },
         "mode": "lines",
         "showlegend": false,
         "text": "imam → hatip: 48",
         "type": "scatter",
         "x": [
          -0.9437322616577148,
          -0.9618474245071411,
          null
         ],
         "y": [
          -0.11542533338069916,
          -0.01742018200457096,
          null
         ]
        },
        {
         "hoverinfo": "text",
         "line": {
          "color": "#888",
          "width": 1.9459101490553132
         },
         "mode": "lines",
         "showlegend": false,
         "text": "kurtuluş → savaşı: 48",
         "type": "scatter",
         "x": [
          -0.05932791903614998,
          -0.08537464588880539,
          null
         ],
         "y": [
          -0.5687240958213806,
          -0.9525659084320068,
          null
         ]
        },
        {
         "hoverinfo": "text",
         "line": {
          "color": "#888",
          "width": 1.9356005054539454
         },
         "mode": "lines",
         "showlegend": false,
         "text": "açık → açık: 47",
         "type": "scatter",
         "x": [
          0.4601946175098419,
          0.4601946175098419,
          null
         ],
         "y": [
          0.5526686310768127,
          0.5526686310768127,
          null
         ]
        },
        {
         "hoverinfo": "text",
         "line": {
          "color": "#888",
          "width": 1.8054589563221122
         },
         "mode": "lines",
         "showlegend": false,
         "text": "açık → hava: 36",
         "type": "scatter",
         "x": [
          0.4601946175098419,
          0.697950541973114,
          null
         ],
         "y": [
          0.5526686310768127,
          0.6668649911880493,
          null
         ]
        },
        {
         "hoverinfo": "text",
         "line": {
          "color": "#888",
          "width": 1.9356005054539454
         },
         "mode": "lines",
         "showlegend": false,
         "text": "çoğu → zaman: 47",
         "type": "scatter",
         "x": [
          -0.33736085891723633,
          -0.23115754127502441,
          null
         ],
         "y": [
          0.46288061141967773,
          0.507307231426239,
          null
         ]
        },
        {
         "hoverinfo": "text",
         "line": {
          "color": "#888",
          "width": 1.9356005054539454
         },
         "mode": "lines",
         "showlegend": false,
         "text": "sık → sık: 47",
         "type": "scatter",
         "x": [
          -0.8682976365089417,
          -0.8682976365089417,
          null
         ],
         "y": [
          0.42955899238586426,
          0.42955899238586426,
          null
         ]
        },
        {
         "hoverinfo": "text",
         "line": {
          "color": "#888",
          "width": 1.9250738008550292
         },
         "mode": "lines",
         "showlegend": false,
         "text": "başka → ülkede: 46",
         "type": "scatter",
         "x": [
          0.19380591809749603,
          -0.2230401337146759,
          null
         ],
         "y": [
          -0.0787731185555458,
          0.3902184069156647,
          null
         ]
        },
        {
         "hoverinfo": "text",
         "line": {
          "color": "#888",
          "width": 1.8920948169591305
         },
         "mode": "lines",
         "showlegend": false,
         "text": "başka → yerde: 43",
         "type": "scatter",
         "x": [
          0.19380591809749603,
          0.17661961913108826,
          null
         ],
         "y": [
          -0.0787731185555458,
          -0.9552854299545288,
          null
         ]
        },
        {
         "hoverinfo": "text",
         "line": {
          "color": "#888",
          "width": 1.6479184330021646
         },
         "mode": "lines",
         "showlegend": false,
         "text": "başka → türlü: 26",
         "type": "scatter",
         "x": [
          0.19380591809749603,
          0.6944891810417175,
          null
         ],
         "y": [
          -0.0787731185555458,
          0.7196769118309021,
          null
         ]
        },
        {
         "hoverinfo": "text",
         "line": {
          "color": "#888",
          "width": 1.9250738008550292
         },
         "mode": "lines",
         "showlegend": false,
         "text": "aşağı → yukarı: 46",
         "type": "scatter",
         "x": [
          -0.26653459668159485,
          -0.4517727494239807,
          null
         ],
         "y": [
          0.480209618806839,
          0.9199963808059692,
          null
         ]
        },
        {
         "hoverinfo": "text",
         "line": {
          "color": "#888",
          "width": 1.9250738008550292
         },
         "mode": "lines",
         "showlegend": false,
         "text": "hak → hukuk: 46",
         "type": "scatter",
         "x": [
          -0.46003320813179016,
          -0.05485802888870239,
          null
         ],
         "y": [
          0.40245044231414795,
          0.4069433808326721,
          null
         ]
        },
        {
         "hoverinfo": "text",
         "line": {
          "color": "#888",
          "width": 1.9033312448851598
         },
         "mode": "lines",
         "showlegend": false,
         "text": "hak → ettiği: 44",
         "type": "scatter",
         "x": [
          -0.46003320813179016,
          -0.956629753112793,
          null
         ],
         "y": [
          0.40245044231414795,
          0.03716474026441574,
          null
         ]
        },
        {
         "hoverinfo": "text",
         "line": {
          "color": "#888",
          "width": 1.629048269010741
         },
         "mode": "lines",
         "showlegend": false,
         "text": "hak → etmiyor: 25",
         "type": "scatter",
         "x": [
          -0.46003320813179016,
          -0.07086265832185745,
          null
         ],
         "y": [
          0.40245044231414795,
          0.9513604044914246,
          null
         ]
        },
        {
         "hoverinfo": "text",
         "line": {
          "color": "#888",
          "width": 1.9250738008550292
         },
         "mode": "lines",
         "showlegend": false,
         "text": "sağ → sol: 46",
         "type": "scatter",
         "x": [
          0.6365013718605042,
          0.9041773080825806,
          null
         ],
         "y": [
          0.07179635763168335,
          0.21282747387886047,
          null
         ]
        },
        {
         "hoverinfo": "text",
         "line": {
          "color": "#888",
          "width": 1.9143206982445475
         },
         "mode": "lines",
         "showlegend": false,
         "text": "yemin → ediyorum: 45",
         "type": "scatter",
         "x": [
          0.09348880499601364,
          0.2791956961154938,
          null
         ],
         "y": [
          0.9553757309913635,
          0.85170578956604,
          null
         ]
        },
        {
         "hoverinfo": "text",
         "line": {
          "color": "#888",
          "width": 1.7482537807332401
         },
         "mode": "lines",
         "showlegend": false,
         "text": "yemin → ederim: 32",
         "type": "scatter",
         "x": [
          0.09348880499601364,
          -0.14328192174434662,
          null
         ],
         "y": [
          0.9553757309913635,
          0.9463241100311279,
          null
         ]
        },
        {
         "hoverinfo": "text",
         "line": {
          "color": "#888",
          "width": 1.856786033352154
         },
         "mode": "lines",
         "showlegend": false,
         "text": "iddia → edilen: 40",
         "type": "scatter",
         "x": [
          -0.14307458698749542,
          0.5066928267478943,
          null
         ],
         "y": [
          -0.1068125069141388,
          -0.7348789572715759,
          null
         ]
        },
        {
         "hoverinfo": "text",
         "line": {
          "color": "#888",
          "width": 1.8054589563221122
         },
         "mode": "lines",
         "showlegend": false,
         "text": "iddia → eden: 36",
         "type": "scatter",
         "x": [
          -0.14307458698749542,
          -0.8222485184669495,
          null
         ],
         "y": [
          -0.1068125069141388,
          0.5546495914459229,
          null
         ]
        },
        {
         "hoverinfo": "text",
         "line": {
          "color": "#888",
          "width": 1.9143206982445475
         },
         "mode": "lines",
         "showlegend": false,
         "text": "falan → filan: 45",
         "type": "scatter",
         "x": [
          -0.7184202075004578,
          -0.7158414125442505,
          null
         ],
         "y": [
          -0.5547085404396057,
          -0.7139050960540771,
          null
         ]
        },
        {
         "hoverinfo": "text",
         "line": {
          "color": "#888",
          "width": 1.9033312448851598
         },
         "mode": "lines",
         "showlegend": false,
         "text": "süper → güç: 44",
         "type": "scatter",
         "x": [
          -0.2615763545036316,
          -0.2273489385843277,
          null
         ],
         "y": [
          0.9149718880653381,
          0.9674692749977112,
          null
         ]
        },
        {
         "hoverinfo": "text",
         "line": {
          "color": "#888",
          "width": 1.9033312448851598
         },
         "mode": "lines",
         "showlegend": false,
         "text": "etmek → zorunda: 44",
         "type": "scatter",
         "x": [
          -0.772513210773468,
          -0.7971958518028259,
          null
         ],
         "y": [
          0.6985272765159607,
          0.6304923295974731,
          null
         ]
        },
        {
         "hoverinfo": "text",
         "line": {
          "color": "#888",
          "width": 1.9033312448851598
         },
         "mode": "lines",
         "showlegend": false,
         "text": "adım → adım: 44",
         "type": "scatter",
         "x": [
          0.9920386672019958,
          0.9920386672019958,
          null
         ],
         "y": [
          -0.046949584037065506,
          -0.046949584037065506,
          null
         ]
        },
        {
         "hoverinfo": "text",
         "line": {
          "color": "#888",
          "width": 1.8920948169591305
         },
         "mode": "lines",
         "showlegend": false,
         "text": "gezi → parkı: 43",
         "type": "scatter",
         "x": [
          -0.06283415853977203,
          -0.18249917030334473,
          null
         ],
         "y": [
          0.8152357935905457,
          0.8370935320854187,
          null
         ]
        },
        {
         "hoverinfo": "text",
         "line": {
          "color": "#888",
          "width": 1.8920948169591305
         },
         "mode": "lines",
         "showlegend": false,
         "text": "ülkenin → büyük: 43",
         "type": "scatter",
         "x": [
          -0.1577533781528473,
          0.29181185364723206,
          null
         ],
         "y": [
          -0.1297227442264557,
          -0.04070991277694702,
          null
         ]
        },
        {
         "hoverinfo": "text",
         "line": {
          "color": "#888",
          "width": 1.7169936022425731
         },
         "mode": "lines",
         "showlegend": false,
         "text": "ülkenin → geleceği: 30",
         "type": "scatter",
         "x": [
          -0.1577533781528473,
          -0.35533609986305237,
          null
         ],
         "y": [
          -0.1297227442264557,
          -0.8155748248100281,
          null
         ]
        },
        {
         "hoverinfo": "text",
         "line": {
          "color": "#888",
          "width": 1.7005986908310777
         },
         "mode": "lines",
         "showlegend": false,
         "text": "ülkenin → insanları: 29",
         "type": "scatter",
         "x": [
          -0.1577533781528473,
          -0.8846912980079651,
          null
         ],
         "y": [
          -0.1297227442264557,
          -0.46104496717453003,
          null
         ]
        },
        {
         "hoverinfo": "text",
         "line": {
          "color": "#888",
          "width": 1.6479184330021646
         },
         "mode": "lines",
         "showlegend": false,
         "text": "ülkenin → vatandaşı: 26",
         "type": "scatter",
         "x": [
          -0.1577533781528473,
          0.5257895588874817,
          null
         ],
         "y": [
          -0.1297227442264557,
          0.8031151294708252,
          null
         ]
        },
        {
         "hoverinfo": "text",
         "line": {
          "color": "#888",
          "width": 1.6479184330021646
         },
         "mode": "lines",
         "showlegend": false,
         "text": "ülkenin → başına: 26",
         "type": "scatter",
         "x": [
          -0.1577533781528473,
          -0.03756548836827278,
          null
         ],
         "y": [
          -0.1297227442264557,
          -0.16432452201843262,
          null
         ]
        },
        {
         "hoverinfo": "text",
         "line": {
          "color": "#888",
          "width": 1.629048269010741
         },
         "mode": "lines",
         "showlegend": false,
         "text": "ülkenin → insanı: 25",
         "type": "scatter",
         "x": [
          -0.1577533781528473,
          -0.6518498063087463,
          null
         ],
         "y": [
          -0.1297227442264557,
          -0.5596188306808472,
          null
         ]
        },
        {
         "hoverinfo": "text",
         "line": {
          "color": "#888",
          "width": 1.8920948169591305
         },
         "mode": "lines",
         "showlegend": false,
         "text": "ertesi → gün: 43",
         "type": "scatter",
         "x": [
          0.4455280303955078,
          0.4502981901168823,
          null
         ],
         "y": [
          0.7987597584724426,
          0.6372872591018677,
          null
         ]
        },
        {
         "hoverinfo": "text",
         "line": {
          "color": "#888",
          "width": 1.8920948169591305
         },
         "mode": "lines",
         "showlegend": false,
         "text": "toprak → parçası: 43",
         "type": "scatter",
         "x": [
          -0.4063098132610321,
          -0.45708104968070984,
          null
         ],
         "y": [
          -0.6189972758293152,
          -0.8278061747550964,
          null
         ]
        },
        {
         "hoverinfo": "text",
         "line": {
          "color": "#888",
          "width": 1.8920948169591305
         },
         "mode": "lines",
         "showlegend": false,
         "text": "içten → içe: 43",
         "type": "scatter",
         "x": [
          -0.31578361988067627,
          -0.5790159106254578,
          null
         ],
         "y": [
          0.6077761054039001,
          0.7252933382987976,
          null
         ]
        },
        {
         "hoverinfo": "text",
         "line": {
          "color": "#888",
          "width": 1.8806000578467812
         },
         "mode": "lines",
         "showlegend": false,
         "text": "başta → olmak: 42",
         "type": "scatter",
         "x": [
          -0.5532602071762085,
          -0.8680338263511658,
          null
         ],
         "y": [
          0.0794120728969574,
          0.1992875188589096,
          null
         ]
        },
        {
         "hoverinfo": "text",
         "line": {
          "color": "#888",
          "width": 1.8806000578467812
         },
         "mode": "lines",
         "showlegend": false,
         "text": "yan → yana: 42",
         "type": "scatter",
         "x": [
          0.8200095295906067,
          0.759535014629364,
          null
         ],
         "y": [
          -0.31465381383895874,
          -0.45043864846229553,
          null
         ]
        },
        {
         "hoverinfo": "text",
         "line": {
          "color": "#888",
          "width": 1.8688348091416842
         },
         "mode": "lines",
         "showlegend": false,
         "text": "bilmem → kaç: 41",
         "type": "scatter",
         "x": [
          0.36573246121406555,
          0.45062386989593506,
          null
         ],
         "y": [
          0.023286478593945503,
          -0.029435794800519943,
          null
         ]
        },
        {
         "hoverinfo": "text",
         "line": {
          "color": "#888",
          "width": 1.7482537807332401
         },
         "mode": "lines",
         "showlegend": false,
         "text": "kaç → kişi: 32",
         "type": "scatter",
         "x": [
          0.45062386989593506,
          0.15260706841945648,
          null
         ],
         "y": [
          -0.029435794800519943,
          -0.5334652066230774,
          null
         ]
        },
        {
         "hoverinfo": "text",
         "line": {
          "color": "#888",
          "width": 1.6094379124341003
         },
         "mode": "lines",
         "showlegend": false,
         "text": "kaç → tane: 24",
         "type": "scatter",
         "x": [
          0.45062386989593506,
          0.7624974846839905,
          null
         ],
         "y": [
          -0.029435794800519943,
          0.5576505661010742,
          null
         ]
        },
        {
         "hoverinfo": "text",
         "line": {
          "color": "#888",
          "width": 1.8688348091416842
         },
         "mode": "lines",
         "showlegend": false,
         "text": "lanet → olsun: 41",
         "type": "scatter",
         "x": [
          -0.0399601012468338,
          -0.14415571093559265,
          null
         ],
         "y": [
          -0.8242139220237732,
          -0.8822418451309204,
          null
         ]
        },
        {
         "hoverinfo": "text",
         "line": {
          "color": "#888",
          "width": 1.8688348091416842
         },
         "mode": "lines",
         "showlegend": false,
         "text": "kimi → zaman: 41",
         "type": "scatter",
         "x": [
          -0.30997541546821594,
          -0.23115754127502441,
          null
         ],
         "y": [
          0.5775746703147888,
          0.507307231426239,
          null
         ]
        },
        {
         "hoverinfo": "text",
         "line": {
          "color": "#888",
          "width": 1.856786033352154
         },
         "mode": "lines",
         "showlegend": false,
         "text": "alım → gücü: 40",
         "type": "scatter",
         "x": [
          -0.6640323996543884,
          -0.8624261617660522,
          null
         ],
         "y": [
          0.3283981382846832,
          0.5136305689811707,
          null
         ]
        },
        {
         "hoverinfo": "text",
         "line": {
          "color": "#888",
          "width": 1.856786033352154
         },
         "mode": "lines",
         "showlegend": false,
         "text": "insanlarla → dolu: 40",
         "type": "scatter",
         "x": [
          0.8398967385292053,
          1,
          null
         ],
         "y": [
          0.1735735386610031,
          0.08805333077907562,
          null
         ]
        },
        {
         "hoverinfo": "text",
         "line": {
          "color": "#888",
          "width": 1.856786033352154
         },
         "mode": "lines",
         "showlegend": false,
         "text": "oy → veren: 40",
         "type": "scatter",
         "x": [
          0.6341591477394104,
          0.8127243518829346,
          null
         ],
         "y": [
          -0.31378403306007385,
          -0.546807050704956,
          null
         ]
        },
        {
         "hoverinfo": "text",
         "line": {
          "color": "#888",
          "width": 1.856786033352154
         },
         "mode": "lines",
         "showlegend": false,
         "text": "elini → kolunu: 40",
         "type": "scatter",
         "x": [
          0.7047618627548218,
          0.9738028049468994,
          null
         ],
         "y": [
          0.07154504954814911,
          0.19143949449062347,
          null
         ]
        },
        {
         "hoverinfo": "text",
         "line": {
          "color": "#888",
          "width": 1.856786033352154
         },
         "mode": "lines",
         "showlegend": false,
         "text": "dahil → olmak: 40",
         "type": "scatter",
         "x": [
          -0.8701577186584473,
          -0.8680338263511658,
          null
         ],
         "y": [
          0.28939080238342285,
          0.1992875188589096,
          null
         ]
        },
        {
         "hoverinfo": "text",
         "line": {
          "color": "#888",
          "width": 1.856786033352154
         },
         "mode": "lines",
         "showlegend": false,
         "text": "maddi → manevi: 40",
         "type": "scatter",
         "x": [
          0.10681363195180893,
          0.2149643898010254,
          null
         ],
         "y": [
          0.7377462983131409,
          0.8944433927536011,
          null
         ]
        },
        {
         "hoverinfo": "text",
         "line": {
          "color": "#888",
          "width": 1.856786033352154
         },
         "mode": "lines",
         "showlegend": false,
         "text": "beyin → göçü: 40",
         "type": "scatter",
         "x": [
          0.8315553069114685,
          0.9346731901168823,
          null
         ],
         "y": [
          -0.15978460013866425,
          -0.2476113736629486,
          null
         ]
        },
        {
         "hoverinfo": "text",
         "line": {
          "color": "#888",
          "width": 1.6094379124341003
         },
         "mode": "lines",
         "showlegend": false,
         "text": "ab → uyum: 24",
         "type": "scatter",
         "x": [
          0.5047954320907593,
          0.9205488562583923,
          null
         ],
         "y": [
          -0.4385986030101776,
          -0.4429808557033539,
          null
         ]
        },
        {
         "hoverinfo": "text",
         "line": {
          "color": "#888",
          "width": 1.8444397270569681
         },
         "mode": "lines",
         "showlegend": false,
         "text": "okuma → yazma: 39",
         "type": "scatter",
         "x": [
          -0.3348451852798462,
          -0.521844208240509,
          null
         ],
         "y": [
          -0.7316505312919617,
          -0.875745952129364,
          null
         ]
        },
        {
         "hoverinfo": "text",
         "line": {
          "color": "#888",
          "width": 1.8444397270569681
         },
         "mode": "lines",
         "showlegend": false,
         "text": "kadın → erkek: 39",
         "type": "scatter",
         "x": [
          0.19392377138137817,
          0.11245463043451309,
          null
         ],
         "y": [
          0.6481826901435852,
          0.9166290163993835,
          null
         ]
        },
        {
         "hoverinfo": "text",
         "line": {
          "color": "#888",
          "width": 1.6479184330021646
         },
         "mode": "lines",
         "showlegend": false,
         "text": "kadın → cinayetleri: 26",
         "type": "scatter",
         "x": [
          0.19392377138137817,
          0.35823479294776917,
          null
         ],
         "y": [
          0.6481826901435852,
          0.781933069229126,
          null
         ]
        },
        {
         "hoverinfo": "text",
         "line": {
          "color": "#888",
          "width": 1.8444397270569681
         },
         "mode": "lines",
         "showlegend": false,
         "text": "geleceğe → dair: 39",
         "type": "scatter",
         "x": [
          0.38168787956237793,
          0.49038058519363403,
          null
         ],
         "y": [
          0.7464513182640076,
          0.893304705619812,
          null
         ]
        },
        {
         "hoverinfo": "text",
         "line": {
          "color": "#888",
          "width": 1.8444397270569681
         },
         "mode": "lines",
         "showlegend": false,
         "text": "yanı → sıra: 39",
         "type": "scatter",
         "x": [
          -0.060101695358753204,
          0.01920883171260357,
          null
         ],
         "y": [
          -0.49043330550193787,
          -0.8998875617980957,
          null
         ]
        },
        {
         "hoverinfo": "text",
         "line": {
          "color": "#888",
          "width": 1.8444397270569681
         },
         "mode": "lines",
         "showlegend": false,
         "text": "akıl → almaz: 39",
         "type": "scatter",
         "x": [
          0.08280183374881744,
          0.1212356761097908,
          null
         ],
         "y": [
          -0.4245944917201996,
          -0.8774023652076721,
          null
         ]
        },
        {
         "hoverinfo": "text",
         "line": {
          "color": "#888",
          "width": 1.8444397270569681
         },
         "mode": "lines",
         "showlegend": false,
         "text": "cennet → vatan: 39",
         "type": "scatter",
         "x": [
          -0.20603197813034058,
          -0.34493494033813477,
          null
         ],
         "y": [
          -0.8370651006698608,
          -0.9225537776947021,
          null
         ]
        },
        {
         "hoverinfo": "text",
         "line": {
          "color": "#888",
          "width": 1.8444397270569681
         },
         "mode": "lines",
         "showlegend": false,
         "text": "işsizlik → oranı: 39",
         "type": "scatter",
         "x": [
          -0.0625513419508934,
          0.07862471789121628,
          null
         ],
         "y": [
          0.10100383311510086,
          0.26632556319236755,
          null
         ]
        },
        {
         "hoverinfo": "text",
         "line": {
          "color": "#888",
          "width": 1.8317808230648231
         },
         "mode": "lines",
         "showlegend": false,
         "text": "milli → gelir: 38",
         "type": "scatter",
         "x": [
          -0.7504805326461792,
          -0.851492166519165,
          null
         ],
         "y": [
          -0.009913243353366852,
          -0.3840007483959198,
          null
         ]
        },
        {
         "hoverinfo": "text",
         "line": {
          "color": "#888",
          "width": 1.629048269010741
         },
         "mode": "lines",
         "showlegend": false,
         "text": "milli → eğitim: 25",
         "type": "scatter",
         "x": [
          -0.7504805326461792,
          -0.5630401968955994,
          null
         ],
         "y": [
          -0.009913243353366852,
          0.44859829545021057,
          null
         ]
        },
        {
         "hoverinfo": "text",
         "line": {
          "color": "#888",
          "width": 1.8317808230648231
         },
         "mode": "lines",
         "showlegend": false,
         "text": "iyiden → iyiye: 38",
         "type": "scatter",
         "x": [
          0.3983929753303528,
          0.41686227917671204,
          null
         ],
         "y": [
          -0.6757366061210632,
          -0.8576280474662781,
          null
         ]
        },
        {
         "hoverinfo": "text",
         "line": {
          "color": "#888",
          "width": 1.8317808230648231
         },
         "mode": "lines",
         "showlegend": false,
         "text": "tekrar → tekrar: 38",
         "type": "scatter",
         "x": [
          -0.46362653374671936,
          -0.46362653374671936,
          null
         ],
         "y": [
          -0.8892637491226196,
          -0.8892637491226196,
          null
         ]
        },
        {
         "hoverinfo": "text",
         "line": {
          "color": "#888",
          "width": 1.8187930798631928
         },
         "mode": "lines",
         "showlegend": false,
         "text": "fark → ettim: 37",
         "type": "scatter",
         "x": [
          -0.8445882201194763,
          -0.9139554500579834,
          null
         ],
         "y": [
          -0.3253569006919861,
          -0.22086726129055023,
          null
         ]
        },
        {
         "hoverinfo": "text",
         "line": {
          "color": "#888",
          "width": 1.8187930798631928
         },
         "mode": "lines",
         "showlegend": false,
         "text": "ekrem → imamoğlu: 37",
         "type": "scatter",
         "x": [
          0.010988549329340458,
          0.1272590011358261,
          null
         ],
         "y": [
          0.6000373959541321,
          0.8828079104423523,
          null
         ]
        },
        {
         "hoverinfo": "text",
         "line": {
          "color": "#888",
          "width": 1.8187930798631928
         },
         "mode": "lines",
         "showlegend": false,
         "text": "hayatını → kaybetti: 37",
         "type": "scatter",
         "x": [
          0.08855737745761871,
          0.312118798494339,
          null
         ],
         "y": [
          -0.5354685187339783,
          -0.9241580367088318,
          null
         ]
        },
        {
         "hoverinfo": "text",
         "line": {
          "color": "#888",
          "width": 1.8054589563221122
         },
         "mode": "lines",
         "showlegend": false,
         "text": "partiye → oy: 36",
         "type": "scatter",
         "x": [
          0.5842174887657166,
          0.6341591477394104,
          null
         ],
         "y": [
          -0.03344622626900673,
          -0.31378403306007385,
          null
         ]
        },
        {
         "hoverinfo": "text",
         "line": {
          "color": "#888",
          "width": 1.8054589563221122
         },
         "mode": "lines",
         "showlegend": false,
         "text": "gerçek → anlamda: 36",
         "type": "scatter",
         "x": [
          0.5032218098640442,
          0.94089275598526,
          null
         ],
         "y": [
          0.2031490057706833,
          0.3839889466762543,
          null
         ]
        },
        {
         "hoverinfo": "text",
         "line": {
          "color": "#888",
          "width": 1.8054589563221122
         },
         "mode": "lines",
         "showlegend": false,
         "text": "soğuk → savaş: 36",
         "type": "scatter",
         "x": [
          0.0771733820438385,
          0.18623439967632294,
          null
         ],
         "y": [
          -0.8075894117355347,
          -0.874442458152771,
          null
         ]
        },
        {
         "hoverinfo": "text",
         "line": {
          "color": "#888",
          "width": 1.8054589563221122
         },
         "mode": "lines",
         "showlegend": false,
         "text": "olmaya → devam: 36",
         "type": "scatter",
         "x": [
          -0.14935952425003052,
          -0.08236609399318695,
          null
         ],
         "y": [
          -0.2551459074020386,
          -0.14926636219024658,
          null
         ]
        },
        {
         "hoverinfo": "text",
         "line": {
          "color": "#888",
          "width": 1.8054589563221122
         },
         "mode": "lines",
         "showlegend": false,
         "text": "burası → türkiye: 36",
         "type": "scatter",
         "x": [
          -0.2983001172542572,
          -0.19381746649742126,
          null
         ],
         "y": [
          0.4318903386592865,
          0.3322831392288208,
          null
         ]
        },
        {
         "hoverinfo": "text",
         "line": {
          "color": "#888",
          "width": 1.8054589563221122
         },
         "mode": "lines",
         "showlegend": false,
         "text": "sağa → sola: 36",
         "type": "scatter",
         "x": [
          0.6812971234321594,
          0.6716116666793823,
          null
         ],
         "y": [
          0.6383320093154907,
          0.5189851522445679,
          null
         ]
        },
        {
         "hoverinfo": "text",
         "line": {
          "color": "#888",
          "width": 1.8054589563221122
         },
         "mode": "lines",
         "showlegend": false,
         "text": "git → gide: 36",
         "type": "scatter",
         "x": [
          0.0850764811038971,
          0.24680402874946594,
          null
         ],
         "y": [
          -0.672123372554779,
          -0.8807192444801331,
          null
         ]
        },
        {
         "hoverinfo": "text",
         "line": {
          "color": "#888",
          "width": 1.8054589563221122
         },
         "mode": "lines",
         "showlegend": false,
         "text": "emin → olun: 36",
         "type": "scatter",
         "x": [
          -0.43937909603118896,
          -0.9498306512832642,
          null
         ],
         "y": [
          0.3293856382369995,
          -0.25731903314590454,
          null
         ]
        },
        {
         "hoverinfo": "text",
         "line": {
          "color": "#888",
          "width": 1.7169936022425731
         },
         "mode": "lines",
         "showlegend": false,
         "text": "emin → değilim: 30",
         "type": "scatter",
         "x": [
          -0.43937909603118896,
          0.14086899161338806,
          null
         ],
         "y": [
          0.3293856382369995,
          0.9591884613037109,
          null
         ]
        },
        {
         "hoverinfo": "text",
         "line": {
          "color": "#888",
          "width": 1.791759469228055
         },
         "mode": "lines",
         "showlegend": false,
         "text": "kolay → kolay: 35",
         "type": "scatter",
         "x": [
          -0.7574753761291504,
          -0.7574753761291504,
          null
         ],
         "y": [
          -0.5388116240501404,
          -0.5388116240501404,
          null
         ]
        },
        {
         "hoverinfo": "text",
         "line": {
          "color": "#888",
          "width": 1.791759469228055
         },
         "mode": "lines",
         "showlegend": false,
         "text": "ırak → suriye: 35",
         "type": "scatter",
         "x": [
          -0.28086090087890625,
          -0.165602445602417,
          null
         ],
         "y": [
          0.9111136198043823,
          0.845562219619751,
          null
         ]
        },
        {
         "hoverinfo": "text",
         "line": {
          "color": "#888",
          "width": 1.7482537807332401
         },
         "mode": "lines",
         "showlegend": false,
         "text": "suriye → ırak: 32",
         "type": "scatter",
         "x": [
          -0.165602445602417,
          -0.28086090087890625,
          null
         ],
         "y": [
          0.845562219619751,
          0.9111136198043823,
          null
         ]
        },
        {
         "hoverinfo": "text",
         "line": {
          "color": "#888",
          "width": 1.791759469228055
         },
         "mode": "lines",
         "showlegend": false,
         "text": "ülkeyi → terk: 35",
         "type": "scatter",
         "x": [
          0.028589611873030663,
          -0.02220875583589077,
          null
         ],
         "y": [
          -0.5888566970825195,
          -0.9500261545181274,
          null
         ]
        },
        {
         "hoverinfo": "text",
         "line": {
          "color": "#888",
          "width": 1.791759469228055
         },
         "mode": "lines",
         "showlegend": false,
         "text": "ikinci → el: 35",
         "type": "scatter",
         "x": [
          -0.22608499228954315,
          -0.12792754173278809,
          null
         ],
         "y": [
          -0.24346081912517548,
          -0.13954266905784607,
          null
         ]
        },
        {
         "hoverinfo": "text",
         "line": {
          "color": "#888",
          "width": 1.7005986908310777
         },
         "mode": "lines",
         "showlegend": false,
         "text": "el → konut: 29",
         "type": "scatter",
         "x": [
          -0.12792754173278809,
          0.5388368368148804,
          null
         ],
         "y": [
          -0.13954266905784607,
          0.37273821234703064,
          null
         ]
        },
        {
         "hoverinfo": "text",
         "line": {
          "color": "#888",
          "width": 1.7005986908310777
         },
         "mode": "lines",
         "showlegend": false,
         "text": "el → ele: 29",
         "type": "scatter",
         "x": [
          -0.12792754173278809,
          -0.7913511395454407,
          null
         ],
         "y": [
          -0.13954266905784607,
          -0.6427503228187561,
          null
         ]
        },
        {
         "hoverinfo": "text",
         "line": {
          "color": "#888",
          "width": 1.7776740307447068
         },
         "mode": "lines",
         "showlegend": false,
         "text": "edit → imla: 34",
         "type": "scatter",
         "x": [
          -0.5256506204605103,
          -0.7549366354942322,
          null
         ],
         "y": [
          -0.5830883383750916,
          -0.643742561340332,
          null
         ]
        },
        {
         "hoverinfo": "text",
         "line": {
          "color": "#888",
          "width": 1.7776740307447068
         },
         "mode": "lines",
         "showlegend": false,
         "text": "sınırları → içerisinde: 34",
         "type": "scatter",
         "x": [
          -0.6317644119262695,
          -0.7159672975540161,
          null
         ],
         "y": [
          -0.6989069581031799,
          -0.6143384575843811,
          null
         ]
        },
        {
         "hoverinfo": "text",
         "line": {
          "color": "#888",
          "width": 1.7776740307447068
         },
         "mode": "lines",
         "showlegend": false,
         "text": "eninde → sonunda: 34",
         "type": "scatter",
         "x": [
          -0.7973544597625732,
          -0.9477617144584656,
          null
         ],
         "y": [
          0.016529811546206474,
          -0.10100209712982178,
          null
         ]
        },
        {
         "hoverinfo": "text",
         "line": {
          "color": "#888",
          "width": 1.7776740307447068
         },
         "mode": "lines",
         "showlegend": false,
         "text": "yerin → dibine: 34",
         "type": "scatter",
         "x": [
          0.43283015489578247,
          0.8444475531578064,
          null
         ],
         "y": [
          0.3614621162414551,
          0.5947327613830566,
          null
         ]
        },
        {
         "hoverinfo": "text",
         "line": {
          "color": "#888",
          "width": 1.7776740307447068
         },
         "mode": "lines",
         "showlegend": false,
         "text": "ana → muhalefet: 34",
         "type": "scatter",
         "x": [
          -0.12225335836410522,
          0.5761251449584961,
          null
         ],
         "y": [
          -0.2872072160243988,
          -0.7801483273506165,
          null
         ]
        },
        {
         "hoverinfo": "text",
         "line": {
          "color": "#888",
          "width": 1.683647914993237
         },
         "mode": "lines",
         "showlegend": false,
         "text": "ana → grup: 28",
         "type": "scatter",
         "x": [
          -0.12225335836410522,
          -0.8831479549407959,
          null
         ],
         "y": [
          -0.2872072160243988,
          0.27559176087379456,
          null
         ]
        },
        {
         "hoverinfo": "text",
         "line": {
          "color": "#888",
          "width": 1.7631802623080808
         },
         "mode": "lines",
         "showlegend": false,
         "text": "aralık → ayında: 33",
         "type": "scatter",
         "x": [
          0.18565306067466736,
          0.20301814377307892,
          null
         ],
         "y": [
          -0.4622746407985687,
          -0.39385274052619934,
          null
         ]
        },
        {
         "hoverinfo": "text",
         "line": {
          "color": "#888",
          "width": 1.7631802623080808
         },
         "mode": "lines",
         "showlegend": false,
         "text": "günün → sonunda: 33",
         "type": "scatter",
         "x": [
          -0.7211790680885315,
          -0.9477617144584656,
          null
         ],
         "y": [
          -0.17052917182445526,
          -0.10100209712982178,
          null
         ]
        },
        {
         "hoverinfo": "text",
         "line": {
          "color": "#888",
          "width": 1.7631802623080808
         },
         "mode": "lines",
         "showlegend": false,
         "text": "teker → teker: 33",
         "type": "scatter",
         "x": [
          -0.17252235114574432,
          -0.17252235114574432,
          null
         ],
         "y": [
          -0.9379072785377502,
          -0.9379072785377502,
          null
         ]
        },
        {
         "hoverinfo": "text",
         "line": {
          "color": "#888",
          "width": 1.7631802623080808
         },
         "mode": "lines",
         "showlegend": false,
         "text": "yapay → zeka: 33",
         "type": "scatter",
         "x": [
          -0.5120155215263367,
          -0.37560853362083435,
          null
         ],
         "y": [
          0.8902456164360046,
          0.8610250949859619,
          null
         ]
        },
        {
         "hoverinfo": "text",
         "line": {
          "color": "#888",
          "width": 1.7631802623080808
         },
         "mode": "lines",
         "showlegend": false,
         "text": "özel → sektör: 33",
         "type": "scatter",
         "x": [
          -0.0952136442065239,
          -0.27699121832847595,
          null
         ],
         "y": [
          -0.5362177491188049,
          -0.8061988949775696,
          null
         ]
        },
        {
         "hoverinfo": "text",
         "line": {
          "color": "#888",
          "width": 1.7631802623080808
         },
         "mode": "lines",
         "showlegend": false,
         "text": "bugün → türkiye: 33",
         "type": "scatter",
         "x": [
          -0.17118994891643524,
          -0.19381746649742126,
          null
         ],
         "y": [
          0.4914482533931732,
          0.3322831392288208,
          null
         ]
        },
        {
         "hoverinfo": "text",
         "line": {
          "color": "#888",
          "width": 1.7631802623080808
         },
         "mode": "lines",
         "showlegend": false,
         "text": "aklım → almıyor: 33",
         "type": "scatter",
         "x": [
          -0.5136924982070923,
          -0.8140308260917664,
          null
         ],
         "y": [
          0.48674649000167847,
          0.5158263444900513,
          null
         ]
        },
        {
         "hoverinfo": "text",
         "line": {
          "color": "#888",
          "width": 1.7482537807332401
         },
         "mode": "lines",
         "showlegend": false,
         "text": "net → şekilde: 32",
         "type": "scatter",
         "x": [
          -0.2443062961101532,
          -0.09263414144515991,
          null
         ],
         "y": [
          0.8576741218566895,
          0.9090508222579956,
          null
         ]
        },
        {
         "hoverinfo": "text",
         "line": {
          "color": "#888",
          "width": 1.7482537807332401
         },
         "mode": "lines",
         "showlegend": false,
         "text": "cok → cok: 32",
         "type": "scatter",
         "x": [
          -0.12595899403095245,
          -0.12595899403095245,
          null
         ],
         "y": [
          0.25489524006843567,
          0.25489524006843567,
          null
         ]
        },
        {
         "hoverinfo": "text",
         "line": {
          "color": "#888",
          "width": 1.6479184330021646
         },
         "mode": "lines",
         "showlegend": false,
         "text": "cok → iyi: 26",
         "type": "scatter",
         "x": [
          -0.12595899403095245,
          -0.036087024956941605,
          null
         ],
         "y": [
          0.25489524006843567,
          0.3088294565677643,
          null
         ]
        },
        {
         "hoverinfo": "text",
         "line": {
          "color": "#888",
          "width": 1.7482537807332401
         },
         "mode": "lines",
         "showlegend": false,
         "text": "orospu → çocuğu: 32",
         "type": "scatter",
         "x": [
          0.18835221230983734,
          0.8905680179595947,
          null
         ],
         "y": [
          0.4062565565109253,
          -0.04942438006401062,
          null
         ]
        },
        {
         "hoverinfo": "text",
         "line": {
          "color": "#888",
          "width": 1.7328679513998633
         },
         "mode": "lines",
         "showlegend": false,
         "text": "orospu → çocukları: 31",
         "type": "scatter",
         "x": [
          0.18835221230983734,
          -0.5383207201957703,
          null
         ],
         "y": [
          0.4062565565109253,
          0.8481665849685669,
          null
         ]
        },
        {
         "hoverinfo": "text",
         "line": {
          "color": "#888",
          "width": 1.7482537807332401
         },
         "mode": "lines",
         "showlegend": false,
         "text": "kabul → etmek: 32",
         "type": "scatter",
         "x": [
          -0.5461785197257996,
          -0.772513210773468,
          null
         ],
         "y": [
          0.6880514621734619,
          0.6985272765159607,
          null
         ]
        },
        {
         "hoverinfo": "text",
         "line": {
          "color": "#888",
          "width": 1.7482537807332401
         },
         "mode": "lines",
         "showlegend": false,
         "text": "üst → düzey: 32",
         "type": "scatter",
         "x": [
          0.6868571639060974,
          0.9013098478317261,
          null
         ],
         "y": [
          -0.09487296640872955,
          -0.07261838763952255,
          null
         ]
        },
        {
         "hoverinfo": "text",
         "line": {
          "color": "#888",
          "width": 1.7482537807332401
         },
         "mode": "lines",
         "showlegend": false,
         "text": "taşın → altına: 32",
         "type": "scatter",
         "x": [
          -0.7624160647392273,
          -0.8495702743530273,
          null
         ],
         "y": [
          0.21689091622829437,
          0.08435329794883728,
          null
         ]
        },
        {
         "hoverinfo": "text",
         "line": {
          "color": "#888",
          "width": 1.7482537807332401
         },
         "mode": "lines",
         "showlegend": false,
         "text": "yaşamaya → devam: 32",
         "type": "scatter",
         "x": [
          -0.19438108801841736,
          -0.08236609399318695,
          null
         ],
         "y": [
          -0.20944096148014069,
          -0.14926636219024658,
          null
         ]
        },
        {
         "hoverinfo": "text",
         "line": {
          "color": "#888",
          "width": 1.7482537807332401
         },
         "mode": "lines",
         "showlegend": false,
         "text": "sokak → ortasında: 32",
         "type": "scatter",
         "x": [
          -0.5169689059257507,
          -0.7771593928337097,
          null
         ],
         "y": [
          0.32672929763793945,
          0.5832533240318298,
          null
         ]
        },
        {
         "hoverinfo": "text",
         "line": {
          "color": "#888",
          "width": 1.7482537807332401
         },
         "mode": "lines",
         "showlegend": false,
         "text": "allah → aşkına: 32",
         "type": "scatter",
         "x": [
          -0.42943257093429565,
          -0.8346656560897827,
          null
         ],
         "y": [
          -0.20806650817394257,
          -0.43268248438835144,
          null
         ]
        },
        {
         "hoverinfo": "text",
         "line": {
          "color": "#888",
          "width": 1.7482537807332401
         },
         "mode": "lines",
         "showlegend": false,
         "text": "içi → boş: 32",
         "type": "scatter",
         "x": [
          -0.8193145990371704,
          -0.9704455733299255,
          null
         ],
         "y": [
          0.10426165163516998,
          0.012972937896847725,
          null
         ]
        },
        {
         "hoverinfo": "text",
         "line": {
          "color": "#888",
          "width": 1.7482537807332401
         },
         "mode": "lines",
         "showlegend": false,
         "text": "özellikle → son: 32",
         "type": "scatter",
         "x": [
          0.29518064856529236,
          0.15418051183223724,
          null
         ],
         "y": [
          -0.07025717198848724,
          -0.059341106563806534,
          null
         ]
        },
        {
         "hoverinfo": "text",
         "line": {
          "color": "#888",
          "width": 1.7482537807332401
         },
         "mode": "lines",
         "showlegend": false,
         "text": "içler → acısı: 32",
         "type": "scatter",
         "x": [
          -0.5955651998519897,
          -0.7511178851127625,
          null
         ],
         "y": [
          0.6716042757034302,
          0.6467884182929993,
          null
         ]
        },
        {
         "hoverinfo": "text",
         "line": {
          "color": "#888",
          "width": 1.7482537807332401
         },
         "mode": "lines",
         "showlegend": false,
         "text": "göz → önüne: 32",
         "type": "scatter",
         "x": [
          0.5634399056434631,
          0.6327718496322632,
          null
         ],
         "y": [
          -0.29873764514923096,
          -0.7568419575691223,
          null
         ]
        },
        {
         "hoverinfo": "text",
         "line": {
          "color": "#888",
          "width": 1.629048269010741
         },
         "mode": "lines",
         "showlegend": false,
         "text": "göz → ardı: 25",
         "type": "scatter",
         "x": [
          0.5634399056434631,
          0.9604123830795288,
          null
         ],
         "y": [
          -0.29873764514923096,
          0.042587656527757645,
          null
         ]
        },
        {
         "hoverinfo": "text",
         "line": {
          "color": "#888",
          "width": 1.7482537807332401
         },
         "mode": "lines",
         "showlegend": false,
         "text": "para → kazanmak: 32",
         "type": "scatter",
         "x": [
          0.8408697843551636,
          0.8906103372573853,
          null
         ],
         "y": [
          0.26351845264434814,
          0.14683938026428223,
          null
         ]
        },
        {
         "hoverinfo": "text",
         "line": {
          "color": "#888",
          "width": 1.7328679513998633
         },
         "mode": "lines",
         "showlegend": false,
         "text": "sağlık → sistemi: 31",
         "type": "scatter",
         "x": [
          -0.7065749764442444,
          -0.7619493007659912,
          null
         ],
         "y": [
          0.6181504726409912,
          0.5036308765411377,
          null
         ]
        },
        {
         "hoverinfo": "text",
         "line": {
          "color": "#888",
          "width": 1.7328679513998633
         },
         "mode": "lines",
         "showlegend": false,
         "text": "kara → parçası: 31",
         "type": "scatter",
         "x": [
          -0.32750022411346436,
          -0.45708104968070984,
          null
         ],
         "y": [
          -0.7550374269485474,
          -0.8278061747550964,
          null
         ]
        },
        {
         "hoverinfo": "text",
         "line": {
          "color": "#888",
          "width": 1.7328679513998633
         },
         "mode": "lines",
         "showlegend": false,
         "text": "sahip → olmak: 31",
         "type": "scatter",
         "x": [
          -0.34752774238586426,
          -0.8680338263511658,
          null
         ],
         "y": [
          -0.1884394735097885,
          0.1992875188589096,
          null
         ]
        },
        {
         "hoverinfo": "text",
         "line": {
          "color": "#888",
          "width": 1.666102255087602
         },
         "mode": "lines",
         "showlegend": false,
         "text": "sahip → olanlar: 27",
         "type": "scatter",
         "x": [
          -0.34752774238586426,
          -0.3134717047214508,
          null
         ],
         "y": [
          -0.1884394735097885,
          -0.9559975862503052,
          null
         ]
        },
        {
         "hoverinfo": "text",
         "line": {
          "color": "#888",
          "width": 1.6479184330021646
         },
         "mode": "lines",
         "showlegend": false,
         "text": "sahip → ülkedir: 26",
         "type": "scatter",
         "x": [
          -0.34752774238586426,
          -0.25073155760765076,
          null
         ],
         "y": [
          -0.1884394735097885,
          0.37556007504463196,
          null
         ]
        },
        {
         "hoverinfo": "text",
         "line": {
          "color": "#888",
          "width": 1.629048269010741
         },
         "mode": "lines",
         "showlegend": false,
         "text": "sahip → olduğunu: 25",
         "type": "scatter",
         "x": [
          -0.34752774238586426,
          -0.04990391060709953,
          null
         ],
         "y": [
          -0.1884394735097885,
          -0.46935489773750305,
          null
         ]
        },
        {
         "hoverinfo": "text",
         "line": {
          "color": "#888",
          "width": 1.6094379124341003
         },
         "mode": "lines",
         "showlegend": false,
         "text": "sahip → olması: 24",
         "type": "scatter",
         "x": [
          -0.34752774238586426,
          0.11680855602025986,
          null
         ],
         "y": [
          -0.1884394735097885,
          0.04495890438556671,
          null
         ]
        },
        {
         "hoverinfo": "text",
         "line": {
          "color": "#888",
          "width": 1.7328679513998633
         },
         "mode": "lines",
         "showlegend": false,
         "text": "ayrı → ayrı: 31",
         "type": "scatter",
         "x": [
          0.977074384689331,
          0.977074384689331,
          null
         ],
         "y": [
          0.09964459389448166,
          0.09964459389448166,
          null
         ]
        },
        {
         "hoverinfo": "text",
         "line": {
          "color": "#888",
          "width": 1.7328679513998633
         },
         "mode": "lines",
         "showlegend": false,
         "text": "işin → kötüsü: 31",
         "type": "scatter",
         "x": [
          0.4429776668548584,
          0.5238178372383118,
          null
         ],
         "y": [
          0.39091262221336365,
          0.7072604894638062,
          null
         ]
        },
        {
         "hoverinfo": "text",
         "line": {
          "color": "#888",
          "width": 1.7328679513998633
         },
         "mode": "lines",
         "showlegend": false,
         "text": "muasır → medeniyetler: 31",
         "type": "scatter",
         "x": [
          0.7080824971199036,
          0.6206252574920654,
          null
         ],
         "y": [
          -0.3342340886592865,
          -0.43316197395324707,
          null
         ]
        },
        {
         "hoverinfo": "text",
         "line": {
          "color": "#888",
          "width": 1.683647914993237
         },
         "mode": "lines",
         "showlegend": false,
         "text": "medeniyetler → seviyesine: 28",
         "type": "scatter",
         "x": [
          0.6206252574920654,
          0.6717489361763,
          null
         ],
         "y": [
          -0.43316197395324707,
          -0.7142311930656433,
          null
         ]
        },
        {
         "hoverinfo": "text",
         "line": {
          "color": "#888",
          "width": 1.7328679513998633
         },
         "mode": "lines",
         "showlegend": false,
         "text": "ülkeler → arasında: 31",
         "type": "scatter",
         "x": [
          0.24461789429187775,
          0.14957131445407867,
          null
         ],
         "y": [
          -0.24943192303180695,
          -0.14647914469242096,
          null
         ]
        },
        {
         "hoverinfo": "text",
         "line": {
          "color": "#888",
          "width": 1.7005986908310777
         },
         "mode": "lines",
         "showlegend": false,
         "text": "arasında → yer: 29",
         "type": "scatter",
         "x": [
          0.14957131445407867,
          0.0668497160077095,
          null
         ],
         "y": [
          -0.14647914469242096,
          -0.05190369486808777,
          null
         ]
        },
        {
         "hoverinfo": "text",
         "line": {
          "color": "#888",
          "width": 1.7328679513998633
         },
         "mode": "lines",
         "showlegend": false,
         "text": "idüğü → belirsiz: 31",
         "type": "scatter",
         "x": [
          0.23087069392204285,
          0.4650906026363373,
          null
         ],
         "y": [
          -0.6536407470703125,
          -0.9104816913604736,
          null
         ]
        },
        {
         "hoverinfo": "text",
         "line": {
          "color": "#888",
          "width": 1.7169936022425731
         },
         "mode": "lines",
         "showlegend": false,
         "text": "yapması → gereken: 30",
         "type": "scatter",
         "x": [
          -0.549024760723114,
          -0.37731343507766724,
          null
         ],
         "y": [
          0.29092612862586975,
          0.49593785405158997,
          null
         ]
        },
        {
         "hoverinfo": "text",
         "line": {
          "color": "#888",
          "width": 1.7169936022425731
         },
         "mode": "lines",
         "showlegend": false,
         "text": "mümkün → değildir: 30",
         "type": "scatter",
         "x": [
          -0.7652696967124939,
          -0.7871894836425781,
          null
         ],
         "y": [
          -0.4413723051548004,
          -0.5761595368385315,
          null
         ]
        },
        {
         "hoverinfo": "text",
         "line": {
          "color": "#888",
          "width": 1.7169936022425731
         },
         "mode": "lines",
         "showlegend": false,
         "text": "yüz → yıl: 30",
         "type": "scatter",
         "x": [
          0.1631758213043213,
          0.12153756618499756,
          null
         ],
         "y": [
          -0.6234593391418457,
          -0.45215079188346863,
          null
         ]
        },
        {
         "hoverinfo": "text",
         "line": {
          "color": "#888",
          "width": 1.7169936022425731
         },
         "mode": "lines",
         "showlegend": false,
         "text": "birbirinden → nefret: 30",
         "type": "scatter",
         "x": [
          -0.1775413155555725,
          -0.18792451918125153,
          null
         ],
         "y": [
          0.17745542526245117,
          0.15289512276649475,
          null
         ]
        },
        {
         "hoverinfo": "text",
         "line": {
          "color": "#888",
          "width": 1.7169936022425731
         },
         "mode": "lines",
         "showlegend": false,
         "text": "sedat → peker: 30",
         "type": "scatter",
         "x": [
          -0.683506429195404,
          -0.9537633061408997,
          null
         ],
         "y": [
          0.26051992177963257,
          0.24953767657279968,
          null
         ]
        },
        {
         "hoverinfo": "text",
         "line": {
          "color": "#888",
          "width": 1.7169936022425731
         },
         "mode": "lines",
         "showlegend": false,
         "text": "bundan → sene: 30",
         "type": "scatter",
         "x": [
          0.25007864832878113,
          0.3480840027332306,
          null
         ],
         "y": [
          -0.024895602837204933,
          0.3926302492618561,
          null
         ]
        },
        {
         "hoverinfo": "text",
         "line": {
          "color": "#888",
          "width": 1.7005986908310777
         },
         "mode": "lines",
         "showlegend": false,
         "text": "bundan → yıl: 29",
         "type": "scatter",
         "x": [
          0.25007864832878113,
          0.12153756618499756,
          null
         ],
         "y": [
          -0.024895602837204933,
          -0.45215079188346863,
          null
         ]
        },
        {
         "hoverinfo": "text",
         "line": {
          "color": "#888",
          "width": 1.6094379124341003
         },
         "mode": "lines",
         "showlegend": false,
         "text": "sene → once: 24",
         "type": "scatter",
         "x": [
          0.3480840027332306,
          0.746071457862854,
          null
         ],
         "y": [
          0.3926302492618561,
          0.6568855047225952,
          null
         ]
        },
        {
         "hoverinfo": "text",
         "line": {
          "color": "#888",
          "width": 1.7169936022425731
         },
         "mode": "lines",
         "showlegend": false,
         "text": "ifade → özgürlüğü: 30",
         "type": "scatter",
         "x": [
          0.2868303060531616,
          0.4364446997642517,
          null
         ],
         "y": [
          0.7634965777397156,
          0.7422594428062439,
          null
         ]
        },
        {
         "hoverinfo": "text",
         "line": {
          "color": "#888",
          "width": 1.7005986908310777
         },
         "mode": "lines",
         "showlegend": false,
         "text": "rahat → rahat: 29",
         "type": "scatter",
         "x": [
          0.11221801489591599,
          0.11221801489591599,
          null
         ],
         "y": [
          -0.9668260812759399,
          -0.9668260812759399,
          null
         ]
        },
        {
         "hoverinfo": "text",
         "line": {
          "color": "#888",
          "width": 1.7005986908310777
         },
         "mode": "lines",
         "showlegend": false,
         "text": "üniversite → mezunu: 29",
         "type": "scatter",
         "x": [
          0.4530889391899109,
          0.3544381558895111,
          null
         ],
         "y": [
          -0.6812200546264648,
          -0.7685375809669495,
          null
         ]
        },
        {
         "hoverinfo": "text",
         "line": {
          "color": "#888",
          "width": 1.7005986908310777
         },
         "mode": "lines",
         "showlegend": false,
         "text": "takip → eden: 29",
         "type": "scatter",
         "x": [
          -0.479523241519928,
          -0.8222485184669495,
          null
         ],
         "y": [
          0.5228281021118164,
          0.5546495914459229,
          null
         ]
        },
        {
         "hoverinfo": "text",
         "line": {
          "color": "#888",
          "width": 1.7005986908310777
         },
         "mode": "lines",
         "showlegend": false,
         "text": "cirit → attığı: 29",
         "type": "scatter",
         "x": [
          0.5189631581306458,
          0.7120879888534546,
          null
         ],
         "y": [
          -0.5344304442405701,
          -0.5361432433128357,
          null
         ]
        },
        {
         "hoverinfo": "text",
         "line": {
          "color": "#888",
          "width": 1.7005986908310777
         },
         "mode": "lines",
         "showlegend": false,
         "text": "sayısı → bin: 29",
         "type": "scatter",
         "x": [
          0.5876269936561584,
          0.5529413819313049,
          null
         ],
         "y": [
          -0.07543188333511353,
          -0.185560405254364,
          null
         ]
        },
        {
         "hoverinfo": "text",
         "line": {
          "color": "#888",
          "width": 1.683647914993237
         },
         "mode": "lines",
         "showlegend": false,
         "text": "halka → sahip: 28",
         "type": "scatter",
         "x": [
          -0.3886977732181549,
          -0.34752774238586426,
          null
         ],
         "y": [
          -0.3145085871219635,
          -0.1884394735097885,
          null
         ]
        },
        {
         "hoverinfo": "text",
         "line": {
          "color": "#888",
          "width": 1.683647914993237
         },
         "mode": "lines",
         "showlegend": false,
         "text": "yazıklar → olsun: 28",
         "type": "scatter",
         "x": [
          -0.009065909311175346,
          -0.14415571093559265,
          null
         ],
         "y": [
          -0.4779750406742096,
          -0.8822418451309204,
          null
         ]
        },
        {
         "hoverinfo": "text",
         "line": {
          "color": "#888",
          "width": 1.683647914993237
         },
         "mode": "lines",
         "showlegend": false,
         "text": "guzel → ulkem: 28",
         "type": "scatter",
         "x": [
          -0.5602229237556458,
          -0.7646653652191162,
          null
         ],
         "y": [
          -0.3519993722438812,
          -0.6880900859832764,
          null
         ]
        },
        {
         "hoverinfo": "text",
         "line": {
          "color": "#888",
          "width": 1.683647914993237
         },
         "mode": "lines",
         "showlegend": false,
         "text": "den → fazla: 28",
         "type": "scatter",
         "x": [
          -0.4388519525527954,
          -0.7389399409294128,
          null
         ],
         "y": [
          -0.411928653717041,
          -0.5126063823699951,
          null
         ]
        },
        {
         "hoverinfo": "text",
         "line": {
          "color": "#888",
          "width": 1.683647914993237
         },
         "mode": "lines",
         "showlegend": false,
         "text": "azalarak → bin: 28",
         "type": "scatter",
         "x": [
          0.6864872574806213,
          0.5529413819313049,
          null
         ],
         "y": [
          -0.2681257426738739,
          -0.185560405254364,
          null
         ]
        },
        {
         "hoverinfo": "text",
         "line": {
          "color": "#888",
          "width": 1.683647914993237
         },
         "mode": "lines",
         "showlegend": false,
         "text": "birden → fazla: 28",
         "type": "scatter",
         "x": [
          -0.5273351669311523,
          -0.7389399409294128,
          null
         ],
         "y": [
          -0.4392203688621521,
          -0.5126063823699951,
          null
         ]
        },
        {
         "hoverinfo": "text",
         "line": {
          "color": "#888",
          "width": 1.683647914993237
         },
         "mode": "lines",
         "showlegend": false,
         "text": "hayatta → kalmak: 28",
         "type": "scatter",
         "x": [
          0.3862054944038391,
          0.5244702100753784,
          null
         ],
         "y": [
          -0.3953121304512024,
          -0.8279011845588684,
          null
         ]
        },
        {
         "hoverinfo": "text",
         "line": {
          "color": "#888",
          "width": 1.6094379124341003
         },
         "mode": "lines",
         "showlegend": false,
         "text": "hayatta → kalma: 24",
         "type": "scatter",
         "x": [
          0.3862054944038391,
          0.7030115723609924,
          null
         ],
         "y": [
          -0.3953121304512024,
          -0.6740721464157104,
          null
         ]
        },
        {
         "hoverinfo": "text",
         "line": {
          "color": "#888",
          "width": 1.683647914993237
         },
         "mode": "lines",
         "showlegend": false,
         "text": "uzar → gider: 28",
         "type": "scatter",
         "x": [
          0.8067212700843811,
          0.8258988857269287,
          null
         ],
         "y": [
          0.37825122475624084,
          0.5649023056030273,
          null
         ]
        },
        {
         "hoverinfo": "text",
         "line": {
          "color": "#888",
          "width": 1.683647914993237
         },
         "mode": "lines",
         "showlegend": false,
         "text": "eski → türkiye: 28",
         "type": "scatter",
         "x": [
          -0.22651542723178864,
          -0.19381746649742126,
          null
         ],
         "y": [
          0.21352890133857727,
          0.3322831392288208,
          null
         ]
        },
        {
         "hoverinfo": "text",
         "line": {
          "color": "#888",
          "width": 1.683647914993237
         },
         "mode": "lines",
         "showlegend": false,
         "text": "yaklaşık → milyon: 28",
         "type": "scatter",
         "x": [
          0.66078782081604,
          0.5425376296043396,
          null
         ],
         "y": [
          -0.28250816464424133,
          -0.1985252946615219,
          null
         ]
        },
        {
         "hoverinfo": "text",
         "line": {
          "color": "#888",
          "width": 1.683647914993237
         },
         "mode": "lines",
         "showlegend": false,
         "text": "çocuk → işçi: 28",
         "type": "scatter",
         "x": [
          0.5810405611991882,
          0.9984371066093445,
          null
         ],
         "y": [
          0.10656484216451645,
          0.016621138900518417,
          null
         ]
        },
        {
         "hoverinfo": "text",
         "line": {
          "color": "#888",
          "width": 1.666102255087602
         },
         "mode": "lines",
         "showlegend": false,
         "text": "kendisinden → başka: 27",
         "type": "scatter",
         "x": [
          0.21205361187458038,
          0.19380591809749603,
          null
         ],
         "y": [
          -0.2014908790588379,
          -0.0787731185555458,
          null
         ]
        },
        {
         "hoverinfo": "text",
         "line": {
          "color": "#888",
          "width": 1.666102255087602
         },
         "mode": "lines",
         "showlegend": false,
         "text": "hareket → eden: 27",
         "type": "scatter",
         "x": [
          -0.857401967048645,
          -0.8222485184669495,
          null
         ],
         "y": [
          0.5601227879524231,
          0.5546495914459229,
          null
         ]
        },
        {
         "hoverinfo": "text",
         "line": {
          "color": "#888",
          "width": 1.666102255087602
         },
         "mode": "lines",
         "showlegend": false,
         "text": "elinden → geleni: 27",
         "type": "scatter",
         "x": [
          -0.9417283535003662,
          -0.8879112601280212,
          null
         ],
         "y": [
          0.06816083937883377,
          0.059092406183481216,
          null
         ]
        },
        {
         "hoverinfo": "text",
         "line": {
          "color": "#888",
          "width": 1.666102255087602
         },
         "mode": "lines",
         "showlegend": false,
         "text": "basın → özgürlüğü: 27",
         "type": "scatter",
         "x": [
          0.49097663164138794,
          0.4364446997642517,
          null
         ],
         "y": [
          0.7522081136703491,
          0.7422594428062439,
          null
         ]
        },
        {
         "hoverinfo": "text",
         "line": {
          "color": "#888",
          "width": 1.666102255087602
         },
         "mode": "lines",
         "showlegend": false,
         "text": "erken → seçim: 27",
         "type": "scatter",
         "x": [
          -0.36501720547676086,
          -0.42047378420829773,
          null
         ],
         "y": [
          -0.38968345522880554,
          -0.7559973001480103,
          null
         ]
        },
        {
         "hoverinfo": "text",
         "line": {
          "color": "#888",
          "width": 1.666102255087602
         },
         "mode": "lines",
         "showlegend": false,
         "text": "hicbir → zaman: 27",
         "type": "scatter",
         "x": [
          -0.32154422998428345,
          -0.23115754127502441,
          null
         ],
         "y": [
          0.32976287603378296,
          0.507307231426239,
          null
         ]
        },
        {
         "hoverinfo": "text",
         "line": {
          "color": "#888",
          "width": 1.666102255087602
         },
         "mode": "lines",
         "showlegend": false,
         "text": "tüm → dünyada: 27",
         "type": "scatter",
         "x": [
          -0.8759576082229614,
          -0.9469701051712036,
          null
         ],
         "y": [
          0.30402952432632446,
          0.14699526131153107,
          null
         ]
        },
        {
         "hoverinfo": "text",
         "line": {
          "color": "#888",
          "width": 1.666102255087602
         },
         "mode": "lines",
         "showlegend": false,
         "text": "amına → koyim: 27",
         "type": "scatter",
         "x": [
          -0.7442037463188171,
          -0.6474953889846802,
          null
         ],
         "y": [
          -0.5023193359375,
          -0.6255823969841003,
          null
         ]
        },
        {
         "hoverinfo": "text",
         "line": {
          "color": "#888",
          "width": 1.666102255087602
         },
         "mode": "lines",
         "showlegend": false,
         "text": "yerli → milli: 27",
         "type": "scatter",
         "x": [
          -0.5313724875450134,
          -0.7504805326461792,
          null
         ],
         "y": [
          -0.053838592022657394,
          -0.009913243353366852,
          null
         ]
        },
        {
         "hoverinfo": "text",
         "line": {
          "color": "#888",
          "width": 1.666102255087602
         },
         "mode": "lines",
         "showlegend": false,
         "text": "anasını → satayım: 27",
         "type": "scatter",
         "x": [
          0.28639352321624756,
          0.2734335958957672,
          null
         ],
         "y": [
          0.7112748026847839,
          0.945829451084137,
          null
         ]
        },
        {
         "hoverinfo": "text",
         "line": {
          "color": "#888",
          "width": 1.666102255087602
         },
         "mode": "lines",
         "showlegend": false,
         "text": "kat → fazla: 27",
         "type": "scatter",
         "x": [
          -0.8802469968795776,
          -0.7389399409294128,
          null
         ],
         "y": [
          -0.4461269676685333,
          -0.5126063823699951,
          null
         ]
        },
        {
         "hoverinfo": "text",
         "line": {
          "color": "#888",
          "width": 1.6479184330021646
         },
         "mode": "lines",
         "showlegend": false,
         "text": "ülkeye → dair: 26",
         "type": "scatter",
         "x": [
          0.2954387962818146,
          0.49038058519363403,
          null
         ],
         "y": [
          0.807645320892334,
          0.893304705619812,
          null
         ]
        },
        {
         "hoverinfo": "text",
         "line": {
          "color": "#888",
          "width": 1.6479184330021646
         },
         "mode": "lines",
         "showlegend": false,
         "text": "yönetim → şekli: 26",
         "type": "scatter",
         "x": [
          0.8838275671005249,
          0.8200621008872986,
          null
         ],
         "y": [
          -0.2220088690519333,
          -0.37831705808639526,
          null
         ]
        },
        {
         "hoverinfo": "text",
         "line": {
          "color": "#888",
          "width": 1.6479184330021646
         },
         "mode": "lines",
         "showlegend": false,
         "text": "demokrat → parti: 26",
         "type": "scatter",
         "x": [
          -0.8050683736801147,
          -0.9609361886978149,
          null
         ],
         "y": [
          0.0937749519944191,
          -0.06806067377328873,
          null
         ]
        },
        {
         "hoverinfo": "text",
         "line": {
          "color": "#888",
          "width": 1.6479184330021646
         },
         "mode": "lines",
         "showlegend": false,
         "text": "önümüzdeki → yıl: 26",
         "type": "scatter",
         "x": [
          0.022897815331816673,
          0.12153756618499756,
          null
         ],
         "y": [
          -0.4842372536659241,
          -0.45215079188346863,
          null
         ]
        },
        {
         "hoverinfo": "text",
         "line": {
          "color": "#888",
          "width": 1.6479184330021646
         },
         "mode": "lines",
         "showlegend": false,
         "text": "belasını → versin: 26",
         "type": "scatter",
         "x": [
          0.5001003742218018,
          0.7504655718803406,
          null
         ],
         "y": [
          -0.6593793630599976,
          -0.6876144409179688,
          null
         ]
        },
        {
         "hoverinfo": "text",
         "line": {
          "color": "#888",
          "width": 1.6479184330021646
         },
         "mode": "lines",
         "showlegend": false,
         "text": "üzerine → kurulu: 26",
         "type": "scatter",
         "x": [
          -0.38246774673461914,
          -0.9210042357444763,
          null
         ],
         "y": [
          -0.03753402829170227,
          -0.013885626569390297,
          null
         ]
        },
        {
         "hoverinfo": "text",
         "line": {
          "color": "#888",
          "width": 1.6479184330021646
         },
         "mode": "lines",
         "showlegend": false,
         "text": "darbe → girişimi: 26",
         "type": "scatter",
         "x": [
          0.5371615290641785,
          0.45050597190856934,
          null
         ],
         "y": [
          0.7024015188217163,
          0.8536796569824219,
          null
         ]
        },
        {
         "hoverinfo": "text",
         "line": {
          "color": "#888",
          "width": 1.6479184330021646
         },
         "mode": "lines",
         "showlegend": false,
         "text": "ara → sıra: 26",
         "type": "scatter",
         "x": [
          -0.12035290151834488,
          0.01920883171260357,
          null
         ],
         "y": [
          -0.7080271244049072,
          -0.8998875617980957,
          null
         ]
        },
        {
         "hoverinfo": "text",
         "line": {
          "color": "#888",
          "width": 1.6479184330021646
         },
         "mode": "lines",
         "showlegend": false,
         "text": "iş → gücü: 26",
         "type": "scatter",
         "x": [
          -0.5157173871994019,
          -0.8624261617660522,
          null
         ],
         "y": [
          0.10228947550058365,
          0.5136305689811707,
          null
         ]
        },
        {
         "hoverinfo": "text",
         "line": {
          "color": "#888",
          "width": 1.6094379124341003
         },
         "mode": "lines",
         "showlegend": false,
         "text": "iş → birliği: 24",
         "type": "scatter",
         "x": [
          -0.5157173871994019,
          -0.9352884888648987,
          null
         ],
         "y": [
          0.10228947550058365,
          -0.08950752019882202,
          null
         ]
        },
        {
         "hoverinfo": "text",
         "line": {
          "color": "#888",
          "width": 1.6479184330021646
         },
         "mode": "lines",
         "showlegend": false,
         "text": "doğal → gaz: 26",
         "type": "scatter",
         "x": [
          -0.5430851578712463,
          -0.9193223714828491,
          null
         ],
         "y": [
          0.2075948268175125,
          0.09501659125089645,
          null
         ]
        },
        {
         "hoverinfo": "text",
         "line": {
          "color": "#888",
          "width": 1.6479184330021646
         },
         "mode": "lines",
         "showlegend": false,
         "text": "mansur → yavaş: 26",
         "type": "scatter",
         "x": [
          -0.19183239340782166,
          -0.4991118609905243,
          null
         ],
         "y": [
          0.4072903096675873,
          0.8974511027336121,
          null
         ]
        },
        {
         "hoverinfo": "text",
         "line": {
          "color": "#888",
          "width": 1.6479184330021646
         },
         "mode": "lines",
         "showlegend": false,
         "text": "yapılması → gereken: 26",
         "type": "scatter",
         "x": [
          -0.3890780508518219,
          -0.37731343507766724,
          null
         ],
         "y": [
          0.21106407046318054,
          0.49593785405158997,
          null
         ]
        },
        {
         "hoverinfo": "text",
         "line": {
          "color": "#888",
          "width": 1.6479184330021646
         },
         "mode": "lines",
         "showlegend": false,
         "text": "kusura → bakmayın: 26",
         "type": "scatter",
         "x": [
          0.8575994968414307,
          0.9819986820220947,
          null
         ],
         "y": [
          0.0825473889708519,
          -0.08583834022283554,
          null
         ]
        },
        {
         "hoverinfo": "text",
         "line": {
          "color": "#888",
          "width": 1.629048269010741
         },
         "mode": "lines",
         "showlegend": false,
         "text": "türlü → türlü: 25",
         "type": "scatter",
         "x": [
          0.6944891810417175,
          0.6944891810417175,
          null
         ],
         "y": [
          0.7196769118309021,
          0.7196769118309021,
          null
         ]
        },
        {
         "hoverinfo": "text",
         "line": {
          "color": "#888",
          "width": 1.6479184330021646
         },
         "mode": "lines",
         "showlegend": false,
         "text": "cari → açık: 26",
         "type": "scatter",
         "x": [
          0.2447299212217331,
          0.4601946175098419,
          null
         ],
         "y": [
          0.6387429237365723,
          0.5526686310768127,
          null
         ]
        },
        {
         "hoverinfo": "text",
         "line": {
          "color": "#888",
          "width": 1.629048269010741
         },
         "mode": "lines",
         "showlegend": false,
         "text": "karadeniz → deki: 25",
         "type": "scatter",
         "x": [
          -0.5929688811302185,
          -0.7683178782463074,
          null
         ],
         "y": [
          0.3444109559059143,
          0.6756305694580078,
          null
         ]
        },
        {
         "hoverinfo": "text",
         "line": {
          "color": "#888",
          "width": 1.629048269010741
         },
         "mode": "lines",
         "showlegend": false,
         "text": "muz → cumhuriyeti: 25",
         "type": "scatter",
         "x": [
          -0.8714945316314697,
          -0.8134280443191528,
          null
         ],
         "y": [
          0.42033103108406067,
          0.5932604670524597,
          null
         ]
        },
        {
         "hoverinfo": "text",
         "line": {
          "color": "#888",
          "width": 1.629048269010741
         },
         "mode": "lines",
         "showlegend": false,
         "text": "tarım → hayvancılık: 25",
         "type": "scatter",
         "x": [
          -0.7547884583473206,
          -0.9193575978279114,
          null
         ],
         "y": [
          -0.1542767733335495,
          -0.3148520588874817,
          null
         ]
        },
        {
         "hoverinfo": "text",
         "line": {
          "color": "#888",
          "width": 1.629048269010741
         },
         "mode": "lines",
         "showlegend": false,
         "text": "konuyla → ilgili: 25",
         "type": "scatter",
         "x": [
          -0.3811745345592499,
          -0.5653529167175293,
          null
         ],
         "y": [
          0.7076225876808167,
          0.6884479522705078,
          null
         ]
        },
        {
         "hoverinfo": "text",
         "line": {
          "color": "#888",
          "width": 1.629048269010741
         },
         "mode": "lines",
         "showlegend": false,
         "text": "nüfusu → milyon: 25",
         "type": "scatter",
         "x": [
          0.7185264825820923,
          0.5425376296043396,
          null
         ],
         "y": [
          -0.15066003799438477,
          -0.1985252946615219,
          null
         ]
        },
        {
         "hoverinfo": "text",
         "line": {
          "color": "#888",
          "width": 1.629048269010741
         },
         "mode": "lines",
         "showlegend": false,
         "text": "durduk → yere: 25",
         "type": "scatter",
         "x": [
          0.3776146173477173,
          0.6346508264541626,
          null
         ],
         "y": [
          -0.7642486691474915,
          -0.8152626752853394,
          null
         ]
        },
        {
         "hoverinfo": "text",
         "line": {
          "color": "#888",
          "width": 1.629048269010741
         },
         "mode": "lines",
         "showlegend": false,
         "text": "tepeden → tırnağa: 25",
         "type": "scatter",
         "x": [
          0.9038247466087341,
          0.9544694423675537,
          null
         ],
         "y": [
          -0.06675015389919281,
          -0.329031378030777,
          null
         ]
        },
        {
         "hoverinfo": "text",
         "line": {
          "color": "#888",
          "width": 1.629048269010741
         },
         "mode": "lines",
         "showlegend": false,
         "text": "neler → neler: 25",
         "type": "scatter",
         "x": [
          0.8106275200843811,
          0.8106275200843811,
          null
         ],
         "y": [
          -0.4583336114883423,
          -0.4583336114883423,
          null
         ]
        },
        {
         "hoverinfo": "text",
         "line": {
          "color": "#888",
          "width": 1.629048269010741
         },
         "mode": "lines",
         "showlegend": false,
         "text": "yılları → arasında: 25",
         "type": "scatter",
         "x": [
          0.2922043800354004,
          0.14957131445407867,
          null
         ],
         "y": [
          -0.23086103796958923,
          -0.14647914469242096,
          null
         ]
        },
        {
         "hoverinfo": "text",
         "line": {
          "color": "#888",
          "width": 1.629048269010741
         },
         "mode": "lines",
         "showlegend": false,
         "text": "bölgesel → güç: 25",
         "type": "scatter",
         "x": [
          -0.053328245878219604,
          -0.2273489385843277,
          null
         ],
         "y": [
          0.6460561156272888,
          0.9674692749977112,
          null
         ]
        },
        {
         "hoverinfo": "text",
         "line": {
          "color": "#888",
          "width": 1.629048269010741
         },
         "mode": "lines",
         "showlegend": false,
         "text": "al → sana: 25",
         "type": "scatter",
         "x": [
          -0.36108115315437317,
          -0.4211866855621338,
          null
         ],
         "y": [
          -0.5113228559494019,
          -0.8799501657485962,
          null
         ]
        },
        {
         "hoverinfo": "text",
         "line": {
          "color": "#888",
          "width": 1.629048269010741
         },
         "mode": "lines",
         "showlegend": false,
         "text": "belediye → başkanı: 25",
         "type": "scatter",
         "x": [
          -0.4383361339569092,
          -0.5019665956497192,
          null
         ],
         "y": [
          -0.7945736050605774,
          -0.7834886908531189,
          null
         ]
        },
        {
         "hoverinfo": "text",
         "line": {
          "color": "#888",
          "width": 1.629048269010741
         },
         "mode": "lines",
         "showlegend": false,
         "text": "olur → türkiye: 25",
         "type": "scatter",
         "x": [
          -0.31686723232269287,
          -0.19381746649742126,
          null
         ],
         "y": [
          0.2699432075023651,
          0.3322831392288208,
          null
         ]
        },
        {
         "hoverinfo": "text",
         "line": {
          "color": "#888",
          "width": 1.629048269010741
         },
         "mode": "lines",
         "showlegend": false,
         "text": "almış → başını: 25",
         "type": "scatter",
         "x": [
          -0.0259164497256279,
          -0.23590326309204102,
          null
         ],
         "y": [
          0.5318858623504639,
          0.8535696268081665,
          null
         ]
        },
        {
         "hoverinfo": "text",
         "line": {
          "color": "#888",
          "width": 1.629048269010741
         },
         "mode": "lines",
         "showlegend": false,
         "text": "benzer → şekilde: 25",
         "type": "scatter",
         "x": [
          -0.23468737304210663,
          -0.09263414144515991,
          null
         ],
         "y": [
          0.9575210213661194,
          0.9090508222579956,
          null
         ]
        },
        {
         "hoverinfo": "text",
         "line": {
          "color": "#888",
          "width": 1.6094379124341003
         },
         "mode": "lines",
         "showlegend": false,
         "text": "ümit → özdağ: 24",
         "type": "scatter",
         "x": [
          0.40379348397254944,
          0.25155478715896606,
          null
         ],
         "y": [
          -0.6729151606559753,
          -0.9123308658599854,
          null
         ]
        },
        {
         "hoverinfo": "text",
         "line": {
          "color": "#888",
          "width": 1.6094379124341003
         },
         "mode": "lines",
         "showlegend": false,
         "text": "hayat → pahalılığı: 24",
         "type": "scatter",
         "x": [
          -0.3421785831451416,
          -0.6415656208992004,
          null
         ],
         "y": [
          -0.6029391288757324,
          -0.6910865902900696,
          null
         ]
        },
        {
         "hoverinfo": "text",
         "line": {
          "color": "#888",
          "width": 1.6094379124341003
         },
         "mode": "lines",
         "showlegend": false,
         "text": "seviyede → yüzde: 24",
         "type": "scatter",
         "x": [
          0.019100317731499672,
          0.0072871847078204155,
          null
         ],
         "y": [
          0.12557581067085266,
          0.18397632241249084,
          null
         ]
        },
        {
         "hoverinfo": "text",
         "line": {
          "color": "#888",
          "width": 1.6094379124341003
         },
         "mode": "lines",
         "showlegend": false,
         "text": "giriş → ücreti: 24",
         "type": "scatter",
         "x": [
          -0.2889209985733032,
          -0.633284330368042,
          null
         ],
         "y": [
          0.47429126501083374,
          0.8131662607192993,
          null
         ]
        },
        {
         "hoverinfo": "text",
         "line": {
          "color": "#888",
          "width": 1.6094379124341003
         },
         "mode": "lines",
         "showlegend": false,
         "text": "merkez → bankası: 24",
         "type": "scatter",
         "x": [
          0.34507110714912415,
          0.46581798791885376,
          null
         ],
         "y": [
          -0.4409865438938141,
          -0.8444057106971741,
          null
         ]
        },
        {
         "hoverinfo": "text",
         "line": {
          "color": "#888",
          "width": 1.6094379124341003
         },
         "mode": "lines",
         "showlegend": false,
         "text": "geldiğimiz → noktada: 24",
         "type": "scatter",
         "x": [
          0.3244340121746063,
          0.6428179740905762,
          null
         ],
         "y": [
          0.4550993740558624,
          0.5984771251678467,
          null
         ]
        },
        {
         "hoverinfo": "text",
         "line": {
          "color": "#888",
          "width": 1.6094379124341003
         },
         "mode": "lines",
         "showlegend": false,
         "text": "milyondan → fazla: 24",
         "type": "scatter",
         "x": [
          -0.6240656971931458,
          -0.7389399409294128,
          null
         ],
         "y": [
          -0.7060674428939819,
          -0.5126063823699951,
          null
         ]
        },
        {
         "hoverinfo": "text",
         "line": {
          "color": "#888",
          "width": 1.6094379124341003
         },
         "mode": "lines",
         "showlegend": false,
         "text": "birbirine → düşman: 24",
         "type": "scatter",
         "x": [
          -0.6164597272872925,
          -0.9233497977256775,
          null
         ],
         "y": [
          -0.1576932668685913,
          -0.24540245532989502,
          null
         ]
        },
        {
         "hoverinfo": "text",
         "line": {
          "color": "#888",
          "width": 1.6094379124341003
         },
         "mode": "lines",
         "showlegend": false,
         "text": "demografik → yapısı: 24",
         "type": "scatter",
         "x": [
          0.16437512636184692,
          0.41052913665771484,
          null
         ],
         "y": [
          -0.7105969786643982,
          -0.8946531414985657,
          null
         ]
        },
        {
         "hoverinfo": "text",
         "line": {
          "color": "#888",
          "width": 1.6094379124341003
         },
         "mode": "lines",
         "showlegend": false,
         "text": "binlerce → yıllık: 24",
         "type": "scatter",
         "x": [
          -0.21551468968391418,
          -0.598956823348999,
          null
         ],
         "y": [
          0.4366146922111511,
          0.5920559763908386,
          null
         ]
        },
        {
         "hoverinfo": "text",
         "line": {
          "color": "#888",
          "width": 1.6094379124341003
         },
         "mode": "lines",
         "showlegend": false,
         "text": "yaşanmaz → hale: 24",
         "type": "scatter",
         "x": [
          0.5247583985328674,
          0.45409849286079407,
          null
         ],
         "y": [
          0.03007771261036396,
          -0.08555926382541656,
          null
         ]
        },
        {
         "hoverinfo": "text",
         "hovertext": [
          "güzel<br>Connections: 8",
          "ülkem<br>Connections: 2",
          "türkiye<br>Connections: 27",
          "cumhuriyeti<br>Connections: 2",
          "atatürk<br>Connections: 2",
          "ün<br>Connections: 2",
          "aynı<br>Connections: 6",
          "zamanda<br>Connections: 3",
          "olursa<br>Connections: 1",
          "olsun<br>Connections: 4",
          "canım<br>Connections: 1",
          "mustafa<br>Connections: 1",
          "kemal<br>Connections: 3",
          "orta<br>Connections: 4",
          "doğu<br>Connections: 6",
          "geçen<br>Connections: 3",
          "gün<br>Connections: 3",
          "devam<br>Connections: 12",
          "ediyor<br>Connections: 2",
          "avrupa<br>Connections: 8",
          "birliği<br>Connections: 2",
          "deki<br>Connections: 2",
          "olmak<br>Connections: 6",
          "üzere<br>Connections: 1",
          "son<br>Connections: 13",
          "yılda<br>Connections: 1",
          "söz<br>Connections: 2",
          "konusu<br>Connections: 1",
          "olmasına<br>Connections: 1",
          "rağmen<br>Connections: 3",
          "tayyip<br>Connections: 2",
          "erdoğan<br>Connections: 1",
          "saçma<br>Connections: 1",
          "sapan<br>Connections: 1",
          "yavaş<br>Connections: 3",
          "türk<br>Connections: 11",
          "milleti<br>Connections: 1",
          "suudi<br>Connections: 1",
          "arabistan<br>Connections: 1",
          "haber<br>Connections: 1",
          "içeriği<br>Connections: 3",
          "birleşik<br>Connections: 3",
          "devletleri<br>Connections: 1",
          "amerika<br>Connections: 2",
          "derece<br>Connections: 1",
          "insanların<br>Connections: 3",
          "yaşadığı<br>Connections: 2",
          "tek<br>Connections: 7",
          "başına<br>Connections: 5",
          "ülkedir<br>Connections: 4",
          "siyasal<br>Connections: 1",
          "islam<br>Connections: 1",
          "yıllarda<br>Connections: 1",
          "şekilde<br>Connections: 4",
          "vatan<br>Connections: 2",
          "haini<br>Connections: 1",
          "sosyal<br>Connections: 2",
          "medya<br>Connections: 1",
          "önceki<br>Connections: 4",
          "yılın<br>Connections: 3",
          "asgari<br>Connections: 4",
          "ücret<br>Connections: 1",
          "zamanlarda<br>Connections: 1",
          "recep<br>Connections: 1",
          "yer<br>Connections: 8",
          "alan<br>Connections: 1",
          "edecek<br>Connections: 1",
          "merak<br>Connections: 2",
          "ediyorum<br>Connections: 3",
          "ülkesi<br>Connections: 5",
          "iç<br>Connections: 6",
          "savaş<br>Connections: 2",
          "yıldır<br>Connections: 1",
          "dünyanın<br>Connections: 4",
          "terör<br>Connections: 1",
          "örgütü<br>Connections: 1",
          "milyon<br>Connections: 8",
          "bin<br>Connections: 7",
          "olması<br>Connections: 3",
          "gereken<br>Connections: 4",
          "tarafı<br>Connections: 1",
          "denizlerle<br>Connections: 2",
          "eden<br>Connections: 5",
          "anda<br>Connections: 2",
          "ortadoğu<br>Connections: 1",
          "milletinin<br>Connections: 1",
          "kişi<br>Connections: 5",
          "başı<br>Connections: 1",
          "medyada<br>Connections: 1",
          "uzun<br>Connections: 10",
          "süre<br>Connections: 2",
          "eğitim<br>Connections: 4",
          "sistemi<br>Connections: 2",
          "lira<br>Connections: 2",
          "ekonomik<br>Connections: 1",
          "kriz<br>Connections: 1",
          "kılıçdaroğlu<br>Connections: 1",
          "yurt<br>Connections: 2",
          "dışına<br>Connections: 1",
          "hale<br>Connections: 5",
          "geldi<br>Connections: 2",
          "hemen<br>Connections: 2",
          "vs<br>Connections: 2",
          "halkı<br>Connections: 1",
          "su<br>Connections: 2",
          "an<br>Connections: 2",
          "milyar<br>Connections: 2",
          "dolar<br>Connections: 2",
          "konut<br>Connections: 4",
          "satışları<br>Connections: 1",
          "güney<br>Connections: 1",
          "kore<br>Connections: 2",
          "ev<br>Connections: 3",
          "sahipliği<br>Connections: 1",
          "iyi<br>Connections: 9",
          "kötü<br>Connections: 1",
          "ilk<br>Connections: 4",
          "kez<br>Connections: 1",
          "yakın<br>Connections: 2",
          "asya<br>Connections: 3",
          "zamandır<br>Connections: 1",
          "itibariyle<br>Connections: 1",
          "zaman<br>Connections: 7",
          "haline<br>Connections: 3",
          "ye<br>Connections: 1",
          "büyük<br>Connections: 9",
          "aya<br>Connections: 1",
          "ayında<br>Connections: 2",
          "eder<br>Connections: 1",
          "ayına<br>Connections: 2",
          "düşen<br>Connections: 2",
          "failed<br>Connections: 1",
          "state<br>Connections: 1",
          "geçtikçe<br>Connections: 1",
          "hukuk<br>Connections: 3",
          "devleti<br>Connections: 3",
          "vadede<br>Connections: 1",
          "geri<br>Connections: 4",
          "kalan<br>Connections: 1",
          "olma<br>Connections: 1",
          "yolunda<br>Connections: 1",
          "günden<br>Connections: 1",
          "güne<br>Connections: 1",
          "çevrili<br>Connections: 1",
          "geçmiş<br>Connections: 1",
          "istanbul<br>Connections: 2",
          "un<br>Connections: 1",
          "oranı<br>Connections: 2",
          "yüzde<br>Connections: 7",
          "siyasi<br>Connections: 2",
          "parti<br>Connections: 4",
          "sırada<br>Connections: 2",
          "yeni<br>Connections: 4",
          "öte<br>Connections: 1",
          "yandan<br>Connections: 1",
          "sahibi<br>Connections: 3",
          "ciddi<br>Connections: 3",
          "kaynak<br>Connections: 1",
          "nefret<br>Connections: 4",
          "çin<br>Connections: 1",
          "abd<br>Connections: 3",
          "siktir<br>Connections: 2",
          "gitmek<br>Connections: 1",
          "rusya<br>Connections: 3",
          "ukrayna<br>Connections: 1",
          "aldı<br>Connections: 1",
          "muharrem<br>Connections: 1",
          "ince<br>Connections: 1",
          "ortaya<br>Connections: 2",
          "çıktı<br>Connections: 1",
          "şeye<br>Connections: 1",
          "ak<br>Connections: 1",
          "yaşayan<br>Connections: 3",
          "batı<br>Connections: 1",
          "yıl<br>Connections: 7",
          "istatistik<br>Connections: 2",
          "kurumu<br>Connections: 2",
          "dışında<br>Connections: 1",
          "kalmış<br>Connections: 1",
          "kendi<br>Connections: 6",
          "kendine<br>Connections: 1",
          "biliyor<br>Connections: 1",
          "musunuz<br>Connections: 1",
          "kısa<br>Connections: 3",
          "sürede<br>Connections: 1",
          "akp<br>Connections: 5",
          "li<br>Connections: 1",
          "olduğunu<br>Connections: 4",
          "düşünüyorum<br>Connections: 1",
          "osmanlı<br>Connections: 2",
          "imparatorluğu<br>Connections: 1",
          "gelmiş<br>Connections: 2",
          "ekşi<br>Connections: 1",
          "sözlük<br>Connections: 1",
          "aklı<br>Connections: 1",
          "başında<br>Connections: 1",
          "mhp<br>Connections: 1",
          "dış<br>Connections: 4",
          "politika<br>Connections: 1",
          "belli<br>Connections: 1",
          "olmayan<br>Connections: 1",
          "ülkede<br>Connections: 3",
          "yaşamak<br>Connections: 2",
          "kuzey<br>Connections: 2",
          "çoğunluğu<br>Connections: 1",
          "çıkan<br>Connections: 1",
          "adam<br>Connections: 1",
          "bol<br>Connections: 2",
          "bununla<br>Connections: 1",
          "birlikte<br>Connections: 1",
          "vatandaşı<br>Connections: 3",
          "imam<br>Connections: 1",
          "hatip<br>Connections: 1",
          "kurtuluş<br>Connections: 1",
          "savaşı<br>Connections: 2",
          "açık<br>Connections: 4",
          "çoğu<br>Connections: 1",
          "sık<br>Connections: 2",
          "başka<br>Connections: 4",
          "aşağı<br>Connections: 1",
          "yukarı<br>Connections: 1",
          "gelmiştir<br>Connections: 1",
          "hak<br>Connections: 3",
          "anlamda<br>Connections: 2",
          "sağ<br>Connections: 1",
          "sol<br>Connections: 1",
          "yemin<br>Connections: 2",
          "iddia<br>Connections: 3",
          "falan<br>Connections: 1",
          "filan<br>Connections: 1",
          "yi<br>Connections: 1",
          "günler<br>Connections: 1",
          "kısmı<br>Connections: 1",
          "süper<br>Connections: 1",
          "güç<br>Connections: 2",
          "etmek<br>Connections: 2",
          "zorunda<br>Connections: 3",
          "ihtimalle<br>Connections: 2",
          "ettiği<br>Connections: 2",
          "adım<br>Connections: 2",
          "gezi<br>Connections: 1",
          "parkı<br>Connections: 1",
          "ülkenin<br>Connections: 6",
          "süredir<br>Connections: 1",
          "ertesi<br>Connections: 1",
          "toprak<br>Connections: 1",
          "parçası<br>Connections: 2",
          "kürt<br>Connections: 1",
          "yerde<br>Connections: 1",
          "etti<br>Connections: 1",
          "içten<br>Connections: 1",
          "içe<br>Connections: 2",
          "başta<br>Connections: 2",
          "akdeniz<br>Connections: 1",
          "yan<br>Connections: 1",
          "yana<br>Connections: 1",
          "yıllar<br>Connections: 1",
          "bilmem<br>Connections: 1",
          "kaç<br>Connections: 3",
          "lazım<br>Connections: 1",
          "lanet<br>Connections: 1",
          "genelinde<br>Connections: 1",
          "kimi<br>Connections: 1",
          "alım<br>Connections: 1",
          "gücü<br>Connections: 2",
          "insanlarla<br>Connections: 1",
          "dolu<br>Connections: 1",
          "oy<br>Connections: 3",
          "veren<br>Connections: 1",
          "elini<br>Connections: 1",
          "kolunu<br>Connections: 1",
          "dahil<br>Connections: 1",
          "edilen<br>Connections: 1",
          "maddi<br>Connections: 1",
          "manevi<br>Connections: 1",
          "lirası<br>Connections: 1",
          "beyin<br>Connections: 1",
          "göçü<br>Connections: 1",
          "ab<br>Connections: 2",
          "halkının<br>Connections: 1",
          "okuma<br>Connections: 1",
          "yazma<br>Connections: 1",
          "vadeli<br>Connections: 1",
          "insanı<br>Connections: 2",
          "kadın<br>Connections: 2",
          "erkek<br>Connections: 1",
          "geleceğe<br>Connections: 1",
          "dair<br>Connections: 2",
          "yanı<br>Connections: 1",
          "sıra<br>Connections: 2",
          "akıl<br>Connections: 1",
          "almaz<br>Connections: 1",
          "cennet<br>Connections: 1",
          "işsizlik<br>Connections: 1",
          "anadolu<br>Connections: 2",
          "milli<br>Connections: 4",
          "gelir<br>Connections: 1",
          "iyiden<br>Connections: 1",
          "iyiye<br>Connections: 1",
          "tekrar<br>Connections: 2",
          "si<br>Connections: 1",
          "fark<br>Connections: 1",
          "ettim<br>Connections: 1",
          "ekrem<br>Connections: 1",
          "imamoğlu<br>Connections: 1",
          "hayatını<br>Connections: 1",
          "kaybetti<br>Connections: 1",
          "partiye<br>Connections: 1",
          "gerçek<br>Connections: 1",
          "hava<br>Connections: 1",
          "soğuk<br>Connections: 1",
          "olmaya<br>Connections: 1",
          "güçler<br>Connections: 1",
          "savaşa<br>Connections: 1",
          "burası<br>Connections: 1",
          "sağa<br>Connections: 1",
          "sola<br>Connections: 1",
          "git<br>Connections: 1",
          "gide<br>Connections: 1",
          "emin<br>Connections: 2",
          "olun<br>Connections: 1",
          "kolay<br>Connections: 2",
          "ırak<br>Connections: 3",
          "suriye<br>Connections: 3",
          "araba<br>Connections: 1",
          "toplumu<br>Connections: 1",
          "ülkeyi<br>Connections: 1",
          "terk<br>Connections: 1",
          "ikinci<br>Connections: 1",
          "el<br>Connections: 3",
          "politikada<br>Connections: 1",
          "edit<br>Connections: 1",
          "imla<br>Connections: 1",
          "sınırları<br>Connections: 1",
          "içerisinde<br>Connections: 2",
          "eninde<br>Connections: 1",
          "sonunda<br>Connections: 2",
          "gelecekte<br>Connections: 1",
          "yerin<br>Connections: 1",
          "dibine<br>Connections: 1",
          "ölçüde<br>Connections: 1",
          "sorunu<br>Connections: 1",
          "ettiğim<br>Connections: 1",
          "ana<br>Connections: 2",
          "muhalefet<br>Connections: 1",
          "aralık<br>Connections: 1",
          "günün<br>Connections: 1",
          "niyetli<br>Connections: 1",
          "dönemde<br>Connections: 1",
          "adalet<br>Connections: 1",
          "partilerin<br>Connections: 1",
          "teker<br>Connections: 2",
          "yapay<br>Connections: 1",
          "zeka<br>Connections: 1",
          "iran<br>Connections: 1",
          "özel<br>Connections: 1",
          "sektör<br>Connections: 1",
          "bugün<br>Connections: 1",
          "aklım<br>Connections: 1",
          "almıyor<br>Connections: 1",
          "gelen<br>Connections: 2",
          "halinde<br>Connections: 1",
          "yolu<br>Connections: 1",
          "net<br>Connections: 1",
          "cok<br>Connections: 3",
          "orospu<br>Connections: 2",
          "çocuğu<br>Connections: 1",
          "ederim<br>Connections: 1",
          "kabul<br>Connections: 1",
          "hala<br>Connections: 1",
          "üst<br>Connections: 1",
          "düzey<br>Connections: 1",
          "taşın<br>Connections: 1",
          "altına<br>Connections: 1",
          "geldik<br>Connections: 1",
          "yaşamaya<br>Connections: 1",
          "sokak<br>Connections: 1",
          "ortasında<br>Connections: 1",
          "alıyor<br>Connections: 1",
          "allah<br>Connections: 1",
          "aşkına<br>Connections: 1",
          "içi<br>Connections: 1",
          "boş<br>Connections: 1",
          "özellikle<br>Connections: 1",
          "içler<br>Connections: 1",
          "acısı<br>Connections: 1",
          "göz<br>Connections: 2",
          "önüne<br>Connections: 1",
          "kendini<br>Connections: 1",
          "para<br>Connections: 1",
          "kazanmak<br>Connections: 1",
          "ücretle<br>Connections: 1",
          "sağlık<br>Connections: 2",
          "kara<br>Connections: 1",
          "ingiltere<br>Connections: 1",
          "sınıf<br>Connections: 1",
          "sahip<br>Connections: 6",
          "dönemine<br>Connections: 1",
          "ayrı<br>Connections: 2",
          "ücretin<br>Connections: 1",
          "işin<br>Connections: 1",
          "kötüsü<br>Connections: 1",
          "günlerde<br>Connections: 1",
          "ülkemiz<br>Connections: 1",
          "muasır<br>Connections: 1",
          "medeniyetler<br>Connections: 2",
          "çocukları<br>Connections: 1",
          "ülkeler<br>Connections: 1",
          "arasında<br>Connections: 3",
          "idüğü<br>Connections: 1",
          "belirsiz<br>Connections: 1",
          "yapması<br>Connections: 1",
          "değilim<br>Connections: 1",
          "geleceği<br>Connections: 1",
          "yıllardır<br>Connections: 1",
          "mümkün<br>Connections: 1",
          "değildir<br>Connections: 1",
          "yüz<br>Connections: 1",
          "birbirinden<br>Connections: 1",
          "sedat<br>Connections: 1",
          "peker<br>Connections: 1",
          "bundan<br>Connections: 2",
          "sene<br>Connections: 3",
          "ifade<br>Connections: 1",
          "özgürlüğü<br>Connections: 2",
          "güçlü<br>Connections: 1",
          "tüik<br>Connections: 1",
          "kendime<br>Connections: 1",
          "senede<br>Connections: 1",
          "rahat<br>Connections: 2",
          "üniversite<br>Connections: 1",
          "mezunu<br>Connections: 1",
          "durumda<br>Connections: 1",
          "krallık<br>Connections: 1",
          "takip<br>Connections: 1",
          "cirit<br>Connections: 1",
          "attığı<br>Connections: 1",
          "nesil<br>Connections: 1",
          "oranında<br>Connections: 1",
          "insanları<br>Connections: 1",
          "sayısı<br>Connections: 1",
          "ele<br>Connections: 1",
          "seviyesine<br>Connections: 1",
          "halka<br>Connections: 1",
          "pahalı<br>Connections: 1",
          "yazıklar<br>Connections: 1",
          "öncesine<br>Connections: 1",
          "edeceğiz<br>Connections: 1",
          "guzel<br>Connections: 1",
          "ulkem<br>Connections: 1",
          "ankara<br>Connections: 1",
          "grup<br>Connections: 1",
          "senedir<br>Connections: 1",
          "den<br>Connections: 2",
          "fazla<br>Connections: 4",
          "azalarak<br>Connections: 1",
          "chp<br>Connections: 1",
          "birden<br>Connections: 1",
          "hayatta<br>Connections: 2",
          "kalmak<br>Connections: 1",
          "uzar<br>Connections: 1",
          "gider<br>Connections: 1",
          "eski<br>Connections: 1",
          "düşündüğüm<br>Connections: 1",
          "yaklaşık<br>Connections: 1",
          "çocuk<br>Connections: 1",
          "işçi<br>Connections: 1",
          "kendisinden<br>Connections: 1",
          "hareket<br>Connections: 1",
          "elinden<br>Connections: 1",
          "geleni<br>Connections: 1",
          "olmasan<br>Connections: 1",
          "olanlar<br>Connections: 1",
          "fırsatta<br>Connections: 1",
          "pay<br>Connections: 1",
          "basın<br>Connections: 1",
          "erken<br>Connections: 1",
          "seçim<br>Connections: 1",
          "hicbir<br>Connections: 1",
          "tüm<br>Connections: 1",
          "dünyada<br>Connections: 1",
          "amına<br>Connections: 1",
          "koyim<br>Connections: 1",
          "yerli<br>Connections: 1",
          "anasını<br>Connections: 1",
          "satayım<br>Connections: 1",
          "insanlar<br>Connections: 2",
          "kat<br>Connections: 1",
          "ücrete<br>Connections: 1",
          "cinayetleri<br>Connections: 1",
          "ülkeye<br>Connections: 1",
          "ediyorlar<br>Connections: 1",
          "yönetim<br>Connections: 1",
          "şekli<br>Connections: 1",
          "demokrat<br>Connections: 1",
          "daki<br>Connections: 1",
          "önümüzdeki<br>Connections: 1",
          "belasını<br>Connections: 1",
          "versin<br>Connections: 1",
          "üzerine<br>Connections: 1",
          "kurulu<br>Connections: 1",
          "ediyoruz<br>Connections: 1",
          "darbe<br>Connections: 1",
          "girişimi<br>Connections: 1",
          "ara<br>Connections: 1",
          "ini<br>Connections: 1",
          "iş<br>Connections: 2",
          "doğal<br>Connections: 1",
          "gaz<br>Connections: 1",
          "mansur<br>Connections: 1",
          "yapılması<br>Connections: 1",
          "kusura<br>Connections: 1",
          "bakmayın<br>Connections: 1",
          "türlü<br>Connections: 3",
          "cari<br>Connections: 1",
          "eğitimli<br>Connections: 1",
          "karadeniz<br>Connections: 1",
          "muz<br>Connections: 1",
          "tarım<br>Connections: 1",
          "hayvancılık<br>Connections: 1",
          "konuyla<br>Connections: 1",
          "ilgili<br>Connections: 1",
          "nüfusu<br>Connections: 1",
          "durduk<br>Connections: 1",
          "yere<br>Connections: 1",
          "ardı<br>Connections: 1",
          "tepeden<br>Connections: 1",
          "tırnağa<br>Connections: 1",
          "neler<br>Connections: 2",
          "olacak<br>Connections: 1",
          "yılları<br>Connections: 1",
          "bölgesel<br>Connections: 1",
          "al<br>Connections: 1",
          "sana<br>Connections: 1",
          "belediye<br>Connections: 1",
          "başkanı<br>Connections: 1",
          "olur<br>Connections: 2",
          "almış<br>Connections: 1",
          "başını<br>Connections: 1",
          "benzer<br>Connections: 1",
          "oranda<br>Connections: 1",
          "etmiyor<br>Connections: 1",
          "ümit<br>Connections: 1",
          "özdağ<br>Connections: 1",
          "uyum<br>Connections: 1",
          "ülkesinde<br>Connections: 1",
          "hayat<br>Connections: 1",
          "pahalılığı<br>Connections: 1",
          "seviyede<br>Connections: 1",
          "giriş<br>Connections: 1",
          "ücreti<br>Connections: 1",
          "iktidarı<br>Connections: 1",
          "ederken<br>Connections: 1",
          "merkez<br>Connections: 1",
          "bankası<br>Connections: 1",
          "kalma<br>Connections: 1",
          "geldiğimiz<br>Connections: 1",
          "noktada<br>Connections: 1",
          "model<br>Connections: 1",
          "milyondan<br>Connections: 1",
          "çağ<br>Connections: 1",
          "once<br>Connections: 1",
          "birbirine<br>Connections: 1",
          "düşman<br>Connections: 1",
          "kelime<br>Connections: 1",
          "dönüş<br>Connections: 1",
          "demografik<br>Connections: 1",
          "yapısı<br>Connections: 1",
          "binlerce<br>Connections: 1",
          "yıllık<br>Connections: 1",
          "satışı<br>Connections: 1",
          "aldığı<br>Connections: 1",
          "yaşanmaz<br>Connections: 1",
          "tane<br>Connections: 1",
          "yurdum<br>Connections: 1"
         ],
         "marker": {
          "color": "lightblue",
          "line": {
           "color": "darkblue",
           "width": 2
          },
          "size": [
           34,
           16,
           91,
           16,
           16,
           16,
           28,
           19,
           13,
           22,
           13,
           13,
           19,
           22,
           28,
           19,
           19,
           46,
           16,
           34,
           16,
           16,
           28,
           13,
           49,
           13,
           16,
           13,
           13,
           19,
           16,
           13,
           13,
           13,
           19,
           43,
           13,
           13,
           13,
           13,
           19,
           19,
           13,
           16,
           13,
           19,
           16,
           31,
           25,
           22,
           13,
           13,
           13,
           22,
           16,
           13,
           16,
           13,
           22,
           19,
           22,
           13,
           13,
           13,
           34,
           13,
           13,
           16,
           19,
           25,
           28,
           16,
           13,
           22,
           13,
           13,
           34,
           31,
           19,
           22,
           13,
           16,
           25,
           16,
           13,
           13,
           25,
           13,
           13,
           40,
           16,
           22,
           16,
           16,
           13,
           13,
           13,
           16,
           13,
           25,
           16,
           16,
           16,
           13,
           16,
           16,
           16,
           16,
           22,
           13,
           13,
           16,
           19,
           13,
           37,
           13,
           22,
           13,
           16,
           19,
           13,
           13,
           31,
           19,
           13,
           37,
           13,
           16,
           13,
           16,
           16,
           13,
           13,
           13,
           19,
           19,
           13,
           22,
           13,
           13,
           13,
           13,
           13,
           13,
           13,
           16,
           13,
           16,
           31,
           16,
           22,
           16,
           22,
           13,
           13,
           19,
           19,
           13,
           22,
           13,
           19,
           16,
           13,
           19,
           13,
           13,
           13,
           13,
           16,
           13,
           13,
           13,
           19,
           13,
           31,
           16,
           16,
           13,
           13,
           28,
           13,
           13,
           13,
           19,
           13,
           25,
           13,
           22,
           13,
           16,
           13,
           16,
           13,
           13,
           13,
           13,
           13,
           22,
           13,
           13,
           13,
           19,
           16,
           16,
           13,
           13,
           13,
           16,
           13,
           13,
           19,
           13,
           13,
           13,
           16,
           22,
           13,
           16,
           22,
           13,
           13,
           13,
           19,
           16,
           13,
           13,
           16,
           19,
           13,
           13,
           13,
           13,
           13,
           13,
           16,
           16,
           19,
           16,
           16,
           16,
           13,
           13,
           28,
           13,
           13,
           13,
           16,
           13,
           13,
           13,
           13,
           16,
           16,
           13,
           13,
           13,
           13,
           13,
           19,
           13,
           13,
           13,
           13,
           13,
           16,
           13,
           13,
           19,
           13,
           13,
           13,
           13,
           13,
           13,
           13,
           13,
           13,
           13,
           16,
           13,
           13,
           13,
           13,
           16,
           16,
           13,
           13,
           16,
           13,
           16,
           13,
           13,
           13,
           13,
           16,
           22,
           13,
           13,
           13,
           16,
           13,
           13,
           13,
           13,
           13,
           13,
           13,
           13,
           13,
           13,
           13,
           13,
           13,
           13,
           13,
           13,
           13,
           13,
           13,
           16,
           13,
           16,
           19,
           19,
           13,
           13,
           13,
           13,
           13,
           19,
           13,
           13,
           13,
           13,
           16,
           13,
           16,
           13,
           13,
           13,
           13,
           13,
           13,
           16,
           13,
           13,
           13,
           13,
           13,
           13,
           13,
           16,
           13,
           13,
           13,
           13,
           13,
           13,
           13,
           13,
           16,
           13,
           13,
           13,
           19,
           16,
           13,
           13,
           13,
           13,
           13,
           13,
           13,
           13,
           13,
           13,
           13,
           13,
           13,
           13,
           13,
           13,
           13,
           13,
           13,
           13,
           16,
           13,
           13,
           13,
           13,
           13,
           16,
           13,
           13,
           13,
           28,
           13,
           16,
           13,
           13,
           13,
           13,
           13,
           13,
           16,
           13,
           13,
           19,
           13,
           13,
           13,
           13,
           13,
           13,
           13,
           13,
           13,
           13,
           13,
           13,
           16,
           19,
           13,
           16,
           13,
           13,
           13,
           13,
           16,
           13,
           13,
           13,
           13,
           13,
           13,
           13,
           13,
           13,
           13,
           13,
           13,
           13,
           13,
           13,
           13,
           13,
           13,
           13,
           13,
           13,
           13,
           13,
           16,
           22,
           13,
           13,
           13,
           16,
           13,
           13,
           13,
           13,
           13,
           13,
           13,
           13,
           13,
           13,
           13,
           13,
           13,
           13,
           13,
           13,
           13,
           13,
           13,
           13,
           13,
           13,
           13,
           13,
           13,
           13,
           13,
           16,
           13,
           13,
           13,
           13,
           13,
           13,
           13,
           13,
           13,
           13,
           13,
           13,
           13,
           13,
           13,
           13,
           13,
           13,
           13,
           16,
           13,
           13,
           13,
           13,
           13,
           13,
           19,
           13,
           13,
           13,
           13,
           13,
           13,
           13,
           13,
           13,
           13,
           13,
           13,
           13,
           13,
           16,
           13,
           13,
           13,
           13,
           13,
           13,
           13,
           16,
           13,
           13,
           13,
           13,
           13,
           13,
           13,
           13,
           13,
           13,
           13,
           13,
           13,
           13,
           13,
           13,
           13,
           13,
           13,
           13,
           13,
           13,
           13,
           13,
           13,
           13,
           13,
           13,
           13,
           13,
           13,
           13,
           13,
           13,
           13,
           13,
           13,
           13
          ]
         },
         "mode": "markers+text",
         "showlegend": false,
         "text": [
          "güzel",
          "ülkem",
          "türkiye",
          "cumhuriyeti",
          "atatürk",
          "ün",
          "aynı",
          "zamanda",
          "olursa",
          "olsun",
          "canım",
          "mustafa",
          "kemal",
          "orta",
          "doğu",
          "geçen",
          "gün",
          "devam",
          "ediyor",
          "avrupa",
          "birliği",
          "deki",
          "olmak",
          "üzere",
          "son",
          "yılda",
          "söz",
          "konusu",
          "olmasına",
          "rağmen",
          "tayyip",
          "erdoğan",
          "saçma",
          "sapan",
          "yavaş",
          "türk",
          "milleti",
          "suudi",
          "arabistan",
          "haber",
          "içeriği",
          "birleşik",
          "devletleri",
          "amerika",
          "derece",
          "insanların",
          "yaşadığı",
          "tek",
          "başına",
          "ülkedir",
          "siyasal",
          "islam",
          "yıllarda",
          "şekilde",
          "vatan",
          "haini",
          "sosyal",
          "medya",
          "önceki",
          "yılın",
          "asgari",
          "ücret",
          "zamanlarda",
          "recep",
          "yer",
          "alan",
          "edecek",
          "merak",
          "ediyorum",
          "ülkesi",
          "iç",
          "savaş",
          "yıldır",
          "dünyanın",
          "terör",
          "örgütü",
          "milyon",
          "bin",
          "olması",
          "gereken",
          "tarafı",
          "denizlerle",
          "eden",
          "anda",
          "ortadoğu",
          "milletinin",
          "kişi",
          "başı",
          "medyada",
          "uzun",
          "süre",
          "eğitim",
          "sistemi",
          "lira",
          "ekonomik",
          "kriz",
          "kılıçdaroğlu",
          "yurt",
          "dışına",
          "hale",
          "geldi",
          "hemen",
          "vs",
          "halkı",
          "su",
          "an",
          "milyar",
          "dolar",
          "konut",
          "satışları",
          "güney",
          "kore",
          "ev",
          "sahipliği",
          "iyi",
          "kötü",
          "ilk",
          "kez",
          "yakın",
          "asya",
          "zamandır",
          "itibariyle",
          "zaman",
          "haline",
          "ye",
          "büyük",
          "aya",
          "ayında",
          "eder",
          "ayına",
          "düşen",
          "failed",
          "state",
          "geçtikçe",
          "hukuk",
          "devleti",
          "vadede",
          "geri",
          "kalan",
          "olma",
          "yolunda",
          "günden",
          "güne",
          "çevrili",
          "geçmiş",
          "istanbul",
          "un",
          "oranı",
          "yüzde",
          "siyasi",
          "parti",
          "sırada",
          "yeni",
          "öte",
          "yandan",
          "sahibi",
          "ciddi",
          "kaynak",
          "nefret",
          "çin",
          "abd",
          "siktir",
          "gitmek",
          "rusya",
          "ukrayna",
          "aldı",
          "muharrem",
          "ince",
          "ortaya",
          "çıktı",
          "şeye",
          "ak",
          "yaşayan",
          "batı",
          "yıl",
          "istatistik",
          "kurumu",
          "dışında",
          "kalmış",
          "kendi",
          "kendine",
          "biliyor",
          "musunuz",
          "kısa",
          "sürede",
          "akp",
          "li",
          "olduğunu",
          "düşünüyorum",
          "osmanlı",
          "imparatorluğu",
          "gelmiş",
          "ekşi",
          "sözlük",
          "aklı",
          "başında",
          "mhp",
          "dış",
          "politika",
          "belli",
          "olmayan",
          "ülkede",
          "yaşamak",
          "kuzey",
          "çoğunluğu",
          "çıkan",
          "adam",
          "bol",
          "bununla",
          "birlikte",
          "vatandaşı",
          "imam",
          "hatip",
          "kurtuluş",
          "savaşı",
          "açık",
          "çoğu",
          "sık",
          "başka",
          "aşağı",
          "yukarı",
          "gelmiştir",
          "hak",
          "anlamda",
          "sağ",
          "sol",
          "yemin",
          "iddia",
          "falan",
          "filan",
          "yi",
          "günler",
          "kısmı",
          "süper",
          "güç",
          "etmek",
          "zorunda",
          "ihtimalle",
          "ettiği",
          "adım",
          "gezi",
          "parkı",
          "ülkenin",
          "süredir",
          "ertesi",
          "toprak",
          "parçası",
          "kürt",
          "yerde",
          "etti",
          "içten",
          "içe",
          "başta",
          "akdeniz",
          "yan",
          "yana",
          "yıllar",
          "bilmem",
          "kaç",
          "lazım",
          "lanet",
          "genelinde",
          "kimi",
          "alım",
          "gücü",
          "insanlarla",
          "dolu",
          "oy",
          "veren",
          "elini",
          "kolunu",
          "dahil",
          "edilen",
          "maddi",
          "manevi",
          "lirası",
          "beyin",
          "göçü",
          "ab",
          "halkının",
          "okuma",
          "yazma",
          "vadeli",
          "insanı",
          "kadın",
          "erkek",
          "geleceğe",
          "dair",
          "yanı",
          "sıra",
          "akıl",
          "almaz",
          "cennet",
          "işsizlik",
          "anadolu",
          "milli",
          "gelir",
          "iyiden",
          "iyiye",
          "tekrar",
          "si",
          "fark",
          "ettim",
          "ekrem",
          "imamoğlu",
          "hayatını",
          "kaybetti",
          "partiye",
          "gerçek",
          "hava",
          "soğuk",
          "olmaya",
          "güçler",
          "savaşa",
          "burası",
          "sağa",
          "sola",
          "git",
          "gide",
          "emin",
          "olun",
          "kolay",
          "ırak",
          "suriye",
          "araba",
          "toplumu",
          "ülkeyi",
          "terk",
          "ikinci",
          "el",
          "politikada",
          "edit",
          "imla",
          "sınırları",
          "içerisinde",
          "eninde",
          "sonunda",
          "gelecekte",
          "yerin",
          "dibine",
          "ölçüde",
          "sorunu",
          "ettiğim",
          "ana",
          "muhalefet",
          "aralık",
          "günün",
          "niyetli",
          "dönemde",
          "adalet",
          "partilerin",
          "teker",
          "yapay",
          "zeka",
          "iran",
          "özel",
          "sektör",
          "bugün",
          "aklım",
          "almıyor",
          "gelen",
          "halinde",
          "yolu",
          "net",
          "cok",
          "orospu",
          "çocuğu",
          "ederim",
          "kabul",
          "hala",
          "üst",
          "düzey",
          "taşın",
          "altına",
          "geldik",
          "yaşamaya",
          "sokak",
          "ortasında",
          "alıyor",
          "allah",
          "aşkına",
          "içi",
          "boş",
          "özellikle",
          "içler",
          "acısı",
          "göz",
          "önüne",
          "kendini",
          "para",
          "kazanmak",
          "ücretle",
          "sağlık",
          "kara",
          "ingiltere",
          "sınıf",
          "sahip",
          "dönemine",
          "ayrı",
          "ücretin",
          "işin",
          "kötüsü",
          "günlerde",
          "ülkemiz",
          "muasır",
          "medeniyetler",
          "çocukları",
          "ülkeler",
          "arasında",
          "idüğü",
          "belirsiz",
          "yapması",
          "değilim",
          "geleceği",
          "yıllardır",
          "mümkün",
          "değildir",
          "yüz",
          "birbirinden",
          "sedat",
          "peker",
          "bundan",
          "sene",
          "ifade",
          "özgürlüğü",
          "güçlü",
          "tüik",
          "kendime",
          "senede",
          "rahat",
          "üniversite",
          "mezunu",
          "durumda",
          "krallık",
          "takip",
          "cirit",
          "attığı",
          "nesil",
          "oranında",
          "insanları",
          "sayısı",
          "ele",
          "seviyesine",
          "halka",
          "pahalı",
          "yazıklar",
          "öncesine",
          "edeceğiz",
          "guzel",
          "ulkem",
          "ankara",
          "grup",
          "senedir",
          "den",
          "fazla",
          "azalarak",
          "chp",
          "birden",
          "hayatta",
          "kalmak",
          "uzar",
          "gider",
          "eski",
          "düşündüğüm",
          "yaklaşık",
          "çocuk",
          "işçi",
          "kendisinden",
          "hareket",
          "elinden",
          "geleni",
          "olmasan",
          "olanlar",
          "fırsatta",
          "pay",
          "basın",
          "erken",
          "seçim",
          "hicbir",
          "tüm",
          "dünyada",
          "amına",
          "koyim",
          "yerli",
          "anasını",
          "satayım",
          "insanlar",
          "kat",
          "ücrete",
          "cinayetleri",
          "ülkeye",
          "ediyorlar",
          "yönetim",
          "şekli",
          "demokrat",
          "daki",
          "önümüzdeki",
          "belasını",
          "versin",
          "üzerine",
          "kurulu",
          "ediyoruz",
          "darbe",
          "girişimi",
          "ara",
          "ini",
          "iş",
          "doğal",
          "gaz",
          "mansur",
          "yapılması",
          "kusura",
          "bakmayın",
          "türlü",
          "cari",
          "eğitimli",
          "karadeniz",
          "muz",
          "tarım",
          "hayvancılık",
          "konuyla",
          "ilgili",
          "nüfusu",
          "durduk",
          "yere",
          "ardı",
          "tepeden",
          "tırnağa",
          "neler",
          "olacak",
          "yılları",
          "bölgesel",
          "al",
          "sana",
          "belediye",
          "başkanı",
          "olur",
          "almış",
          "başını",
          "benzer",
          "oranda",
          "etmiyor",
          "ümit",
          "özdağ",
          "uyum",
          "ülkesinde",
          "hayat",
          "pahalılığı",
          "seviyede",
          "giriş",
          "ücreti",
          "iktidarı",
          "ederken",
          "merkez",
          "bankası",
          "kalma",
          "geldiğimiz",
          "noktada",
          "model",
          "milyondan",
          "çağ",
          "once",
          "birbirine",
          "düşman",
          "kelime",
          "dönüş",
          "demografik",
          "yapısı",
          "binlerce",
          "yıllık",
          "satışı",
          "aldığı",
          "yaşanmaz",
          "tane",
          "yurdum"
         ],
         "textposition": "top center",
         "type": "scatter",
         "x": [
          0.5987740159034729,
          0.8111803531646729,
          -0.19381746649742126,
          -0.8134280443191528,
          -0.5656076669692993,
          -0.6992175579071045,
          -0.37530064582824707,
          -0.672446072101593,
          -0.13117602467536926,
          -0.14415571093559265,
          0.6836415529251099,
          0.08475061506032944,
          0.06353196501731873,
          -0.10825619101524353,
          0.0669407919049263,
          0.34031954407691956,
          0.4502981901168823,
          -0.08236609399318695,
          -0.2773623466491699,
          -0.42112934589385986,
          -0.9352884888648987,
          -0.7683178782463074,
          -0.8680338263511658,
          -0.8776980638504028,
          0.15418051183223724,
          0.9180112481117249,
          -0.10508449375629425,
          0.1995304822921753,
          -0.311861515045166,
          -0.23387093842029572,
          0.7438772916793823,
          0.867988646030426,
          -0.6047040224075317,
          -0.6355873942375183,
          -0.4991118609905243,
          -0.17883606255054474,
          -0.924105167388916,
          0.3872441351413727,
          0.48168691992759705,
          0.4646279811859131,
          0.42041507363319397,
          -0.5891454815864563,
          -0.5849413871765137,
          -0.39424213767051697,
          0.9567868709564209,
          -0.1806456744670868,
          -0.2766476273536682,
          0.06521209329366684,
          -0.03756548836827278,
          -0.25073155760765076,
          -0.880774736404419,
          -0.8353387713432312,
          0.8722475171089172,
          -0.09263414144515991,
          -0.34493494033813477,
          -0.3190118372440338,
          0.5059007406234741,
          0.32058975100517273,
          0.14357785880565643,
          -0.4118562638759613,
          -0.06751114875078201,
          -0.22335927188396454,
          -0.8493870496749878,
          0.6900906562805176,
          0.0668497160077095,
          -0.04028201103210449,
          -0.8917462825775146,
          0.5519158244132996,
          0.2791956961154938,
          -0.07695940881967545,
          -0.06780628859996796,
          0.18623439967632294,
          -0.19322679936885834,
          -0.028586341068148613,
          0.5597859025001526,
          0.8120995759963989,
          0.5425376296043396,
          0.5529413819313049,
          0.11680855602025986,
          -0.37731343507766724,
          0.25696951150894165,
          0.2525828778743744,
          -0.8222485184669495,
          -0.2580379545688629,
          -0.09895264357328415,
          0.3543272614479065,
          0.15260706841945648,
          0.335615336894989,
          0.7055573463439941,
          0.12192656844854355,
          -0.13043558597564697,
          -0.5630401968955994,
          -0.7619493007659912,
          0.9228454828262329,
          -0.5040432810783386,
          -0.6869683265686035,
          0.9148269891738892,
          -0.1703880876302719,
          0.48497703671455383,
          0.45409849286079407,
          0.37282508611679077,
          -0.47842708230018616,
          0.20330080389976501,
          -0.9172688722610474,
          0.3238052427768707,
          0.7572160363197327,
          0.6266430020332336,
          0.6445372700691223,
          0.5388368368148804,
          0.3771902322769165,
          -0.6779274344444275,
          -0.9146296977996826,
          0.29604804515838623,
          0.9810906052589417,
          -0.036087024956941605,
          0.9354307055473328,
          -0.4335179626941681,
          -0.7326481342315674,
          -0.4074176847934723,
          -0.3904929757118225,
          0.736003577709198,
          0.9163867235183716,
          -0.23115754127502441,
          0.0931764766573906,
          0.874866247177124,
          0.29181185364723206,
          0.8341747522354126,
          0.20301814377307892,
          0.9499658942222595,
          0.13095083832740784,
          -0.5409420728683472,
          0.5578564405441284,
          0.8380560278892517,
          0.5835842490196228,
          -0.05485802888870239,
          0.5642960667610168,
          0.5426046252250671,
          0.07869815081357956,
          0.8902576565742493,
          0.7284536361694336,
          0.8741985559463501,
          0.06665994226932526,
          0.14365330338478088,
          0.22506092488765717,
          -0.1434904783964157,
          0.37314602732658386,
          0.882378101348877,
          0.07862471789121628,
          0.0072871847078204155,
          -0.5454433560371399,
          -0.9609361886978149,
          0.09117958694696426,
          -0.4776047170162201,
          0.6176992654800415,
          0.7194585204124451,
          -0.6090236306190491,
          0.5654045939445496,
          0.8418775796890259,
          -0.18792451918125153,
          0.037140022963285446,
          -0.006758902221918106,
          0.7929267883300781,
          0.9450874924659729,
          -0.061343688517808914,
          -0.08663606643676758,
          -0.3792921304702759,
          -0.7479870915412903,
          -0.6758520603179932,
          -0.04888547956943512,
          0.08500736951828003,
          -0.3593685030937195,
          -0.9128805994987488,
          0.14483724534511566,
          0.2824179530143738,
          0.12153756618499756,
          -0.15497757494449615,
          -0.22319646179676056,
          -0.9420804977416992,
          -0.9712229371070862,
          -0.266279011964798,
          -0.36197179555892944,
          0.7432976365089417,
          0.9626932740211487,
          -0.26624831557273865,
          -0.5271503925323486,
          0.005505160894244909,
          -0.9096481204032898,
          -0.04990391060709953,
          0.5537233948707581,
          -0.23244638741016388,
          -0.8351303935050964,
          0.23634591698646545,
          -0.21514174342155457,
          -0.37153300642967224,
          0.8564241528511047,
          0.9939920902252197,
          -0.18602193892002106,
          0.4307171702384949,
          0.9424205422401428,
          -0.444250226020813,
          -0.6331291794776917,
          -0.2230401337146759,
          -0.5782604813575745,
          -0.6245033144950867,
          0.704201340675354,
          -0.19088545441627502,
          0.9787623882293701,
          0.818004310131073,
          0.3350416421890259,
          0.48460063338279724,
          0.5257895588874817,
          -0.9437322616577148,
          -0.9618474245071411,
          -0.05932791903614998,
          -0.08537464588880539,
          0.4601946175098419,
          -0.33736085891723633,
          -0.8682976365089417,
          0.19380591809749603,
          -0.26653459668159485,
          -0.4517727494239807,
          -0.5072922706604004,
          -0.46003320813179016,
          0.94089275598526,
          0.6365013718605042,
          0.9041773080825806,
          0.09348880499601364,
          -0.14307458698749542,
          -0.7184202075004578,
          -0.7158414125442505,
          -0.9204415678977966,
          0.8868983387947083,
          0.9537320733070374,
          -0.2615763545036316,
          -0.2273489385843277,
          -0.772513210773468,
          -0.7971958518028259,
          0.11025314778089523,
          -0.956629753112793,
          0.9920386672019958,
          -0.06283415853977203,
          -0.18249917030334473,
          -0.1577533781528473,
          -0.9120025634765625,
          0.4455280303955078,
          -0.4063098132610321,
          -0.45708104968070984,
          0.0004792813560925424,
          0.17661961913108826,
          0.7141814827919006,
          -0.31578361988067627,
          -0.5790159106254578,
          -0.5532602071762085,
          0.8036237955093384,
          0.8200095295906067,
          0.759535014629364,
          0.7902361154556274,
          0.36573246121406555,
          0.45062386989593506,
          0.8311991691589355,
          -0.0399601012468338,
          0.9013486504554749,
          -0.30997541546821594,
          -0.6640323996543884,
          -0.8624261617660522,
          0.8398967385292053,
          1,
          0.6341591477394104,
          0.8127243518829346,
          0.7047618627548218,
          0.9738028049468994,
          -0.8701577186584473,
          0.5066928267478943,
          0.10681363195180893,
          0.2149643898010254,
          0.1677294224500656,
          0.8315553069114685,
          0.9346731901168823,
          0.5047954320907593,
          0.8499131202697754,
          -0.3348451852798462,
          -0.521844208240509,
          -0.592186450958252,
          -0.6518498063087463,
          0.19392377138137817,
          0.11245463043451309,
          0.38168787956237793,
          0.49038058519363403,
          -0.060101695358753204,
          0.01920883171260357,
          0.08280183374881744,
          0.1212356761097908,
          -0.20603197813034058,
          -0.0625513419508934,
          -0.6459575891494751,
          -0.7504805326461792,
          -0.851492166519165,
          0.3983929753303528,
          0.41686227917671204,
          -0.46362653374671936,
          -0.8189868330955505,
          -0.8445882201194763,
          -0.9139554500579834,
          0.010988549329340458,
          0.1272590011358261,
          0.08855737745761871,
          0.312118798494339,
          0.5842174887657166,
          0.5032218098640442,
          0.697950541973114,
          0.0771733820438385,
          -0.14935952425003052,
          0.5942659378051758,
          0.045916344970464706,
          -0.2983001172542572,
          0.6812971234321594,
          0.6716116666793823,
          0.0850764811038971,
          0.24680402874946594,
          -0.43937909603118896,
          -0.9498306512832642,
          -0.7574753761291504,
          -0.28086090087890625,
          -0.165602445602417,
          0.9301260113716125,
          -0.947844922542572,
          0.028589611873030663,
          -0.02220875583589077,
          -0.22608499228954315,
          -0.12792754173278809,
          -0.13366061449050903,
          -0.5256506204605103,
          -0.7549366354942322,
          -0.6317644119262695,
          -0.7159672975540161,
          -0.7973544597625732,
          -0.9477617144584656,
          -0.014123257249593735,
          0.43283015489578247,
          0.8444475531578064,
          0.7571311593055725,
          -0.8423379063606262,
          0.9805129766464233,
          -0.12225335836410522,
          0.5761251449584961,
          0.18565306067466736,
          -0.7211790680885315,
          -0.930330216884613,
          -0.8727342486381531,
          -0.9177685976028442,
          0.04740959778428078,
          -0.17252235114574432,
          -0.5120155215263367,
          -0.37560853362083435,
          -0.513909637928009,
          -0.0952136442065239,
          -0.27699121832847595,
          -0.17118994891643524,
          -0.5136924982070923,
          -0.8140308260917664,
          0.7883198857307434,
          -0.9128811955451965,
          0.2805916965007782,
          -0.2443062961101532,
          -0.12595899403095245,
          0.18835221230983734,
          0.8905680179595947,
          -0.14328192174434662,
          -0.5461785197257996,
          -0.1218823492527008,
          0.6868571639060974,
          0.9013098478317261,
          -0.7624160647392273,
          -0.8495702743530273,
          0.9517205357551575,
          -0.19438108801841736,
          -0.5169689059257507,
          -0.7771593928337097,
          0.7899952530860901,
          -0.42943257093429565,
          -0.8346656560897827,
          -0.8193145990371704,
          -0.9704455733299255,
          0.29518064856529236,
          -0.5955651998519897,
          -0.7511178851127625,
          0.5634399056434631,
          0.6327718496322632,
          -0.673262894153595,
          0.8408697843551636,
          0.8906103372573853,
          -0.7111348509788513,
          -0.7065749764442444,
          -0.32750022411346436,
          0.04703270271420479,
          -0.921778678894043,
          -0.34752774238586426,
          -0.8943601250648499,
          0.977074384689331,
          0.3643433451652527,
          0.4429776668548584,
          0.5238178372383118,
          -0.01675235666334629,
          0.767512321472168,
          0.7080824971199036,
          0.6206252574920654,
          -0.5383207201957703,
          0.24461789429187775,
          0.14957131445407867,
          0.23087069392204285,
          0.4650906026363373,
          -0.549024760723114,
          0.14086899161338806,
          -0.35533609986305237,
          0.8672075271606445,
          -0.7652696967124939,
          -0.7871894836425781,
          0.1631758213043213,
          -0.1775413155555725,
          -0.683506429195404,
          -0.9537633061408997,
          0.25007864832878113,
          0.3480840027332306,
          0.2868303060531616,
          0.4364446997642517,
          -0.8706504106521606,
          -0.3905442953109741,
          -0.6357421875,
          -0.9524574875831604,
          0.11221801489591599,
          0.4530889391899109,
          0.3544381558895111,
          -0.7488613724708557,
          -0.7056729793548584,
          -0.479523241519928,
          0.5189631581306458,
          0.7120879888534546,
          -0.8597253561019897,
          0.6333733201026917,
          -0.8846912980079651,
          0.5876269936561584,
          -0.7913511395454407,
          0.6717489361763,
          -0.3886977732181549,
          -0.8358615636825562,
          -0.009065909311175346,
          0.9070639610290527,
          0.5009271502494812,
          -0.5602229237556458,
          -0.7646653652191162,
          -0.39950236678123474,
          -0.8831479549407959,
          -0.009163547307252884,
          -0.4388519525527954,
          -0.7389399409294128,
          0.6864872574806213,
          0.6486803293228149,
          -0.5273351669311523,
          0.3862054944038391,
          0.5244702100753784,
          0.8067212700843811,
          0.8258988857269287,
          -0.22651542723178864,
          -0.884099543094635,
          0.66078782081604,
          0.5810405611991882,
          0.9984371066093445,
          0.21205361187458038,
          -0.857401967048645,
          -0.9417283535003662,
          -0.8879112601280212,
          0.423786461353302,
          -0.3134717047214508,
          -0.5745856761932373,
          0.9558603763580322,
          0.49097663164138794,
          -0.36501720547676086,
          -0.42047378420829773,
          -0.32154422998428345,
          -0.8759576082229614,
          -0.9469701051712036,
          -0.7442037463188171,
          -0.6474953889846802,
          -0.5313724875450134,
          0.28639352321624756,
          0.2734335958957672,
          0.6019275188446045,
          -0.8802469968795776,
          0.23697501420974731,
          0.35823479294776917,
          0.2954387962818146,
          -0.596367359161377,
          0.8838275671005249,
          0.8200621008872986,
          -0.8050683736801147,
          0.7364510297775269,
          0.022897815331816673,
          0.5001003742218018,
          0.7504655718803406,
          -0.38246774673461914,
          -0.9210042357444763,
          0.8818355202674866,
          0.5371615290641785,
          0.45050597190856934,
          -0.12035290151834488,
          -0.3060186803340912,
          -0.5157173871994019,
          -0.5430851578712463,
          -0.9193223714828491,
          -0.19183239340782166,
          -0.3890780508518219,
          0.8575994968414307,
          0.9819986820220947,
          0.6944891810417175,
          0.2447299212217331,
          -0.9635301232337952,
          -0.5929688811302185,
          -0.8714945316314697,
          -0.7547884583473206,
          -0.9193575978279114,
          -0.3811745345592499,
          -0.5653529167175293,
          0.7185264825820923,
          0.3776146173477173,
          0.6346508264541626,
          0.9604123830795288,
          0.9038247466087341,
          0.9544694423675537,
          0.8106275200843811,
          0.3065909147262573,
          0.2922043800354004,
          -0.053328245878219604,
          -0.36108115315437317,
          -0.4211866855621338,
          -0.4383361339569092,
          -0.5019665956497192,
          -0.31686723232269287,
          -0.0259164497256279,
          -0.23590326309204102,
          -0.23468737304210663,
          0.5735846757888794,
          -0.07086265832185745,
          0.40379348397254944,
          0.25155478715896606,
          0.9205488562583923,
          0.9580173492431641,
          -0.3421785831451416,
          -0.6415656208992004,
          0.019100317731499672,
          -0.2889209985733032,
          -0.633284330368042,
          0.6643149852752686,
          0.8823921084403992,
          0.34507110714912415,
          0.46581798791885376,
          0.7030115723609924,
          0.3244340121746063,
          0.6428179740905762,
          -0.7171306610107422,
          -0.6240656971931458,
          0.5964155197143555,
          0.746071457862854,
          -0.6164597272872925,
          -0.9233497977256775,
          -0.22826972603797913,
          0.8798435926437378,
          0.16437512636184692,
          0.41052913665771484,
          -0.21551468968391418,
          -0.598956823348999,
          0.7954176664352417,
          0.7595285773277283,
          0.5247583985328674,
          0.7624974846839905,
          0.6250095367431641
         ],
         "y": [
          0.36732205748558044,
          0.4322383403778076,
          0.3322831392288208,
          0.5932604670524597,
          0.6290233731269836,
          0.7699806094169617,
          -0.11503373831510544,
          -0.693753719329834,
          -0.7996610403060913,
          -0.8822418451309204,
          0.3430110216140747,
          0.5740659236907959,
          0.5126522779464722,
          0.1778889149427414,
          -0.02840241976082325,
          0.27236407995224,
          0.6372872591018677,
          -0.14926636219024658,
          -0.9286184310913086,
          0.17259937524795532,
          -0.08950752019882202,
          0.6756305694580078,
          0.1992875188589096,
          -0.0296239722520113,
          -0.059341106563806534,
          0.4362010955810547,
          0.602954089641571,
          0.9531565308570862,
          -0.6803086400032043,
          -0.7109636664390564,
          -0.34960195422172546,
          -0.4021548330783844,
          0.6298580765724182,
          0.7359357476234436,
          0.8974511027336121,
          0.08138802647590637,
          0.40107056498527527,
          -0.6738560795783997,
          -0.8750473260879517,
          0.45777463912963867,
          0.4314350485801697,
          -0.7312055230140686,
          -0.6886435151100159,
          -0.5752014517784119,
          -0.13084110617637634,
          0.5511398315429688,
          0.17091968655586243,
          0.03545209765434265,
          -0.16432452201843262,
          0.37556007504463196,
          -0.2102111130952835,
          -0.22718055546283722,
          -0.4797625243663788,
          0.9090508222579956,
          -0.9225537776947021,
          -0.8972619771957397,
          0.21606376767158508,
          0.9079998135566711,
          -0.319405734539032,
          -0.17427533864974976,
          -0.34568631649017334,
          -0.9376835227012634,
          -0.31181836128234863,
          -0.3644130825996399,
          -0.05190369486808777,
          -0.919590413570404,
          -0.33657771348953247,
          0.5383343696594238,
          0.85170578956604,
          0.9831793308258057,
          -0.1867263913154602,
          -0.874442458152771,
          -0.9692258834838867,
          0.1365433633327484,
          -0.42778828740119934,
          -0.5771908760070801,
          -0.1985252946615219,
          -0.185560405254364,
          0.04495890438556671,
          0.49593785405158997,
          -0.49245941638946533,
          -0.7093441486358643,
          0.5546495914459229,
          -0.9047446846961975,
          0.7920451760292053,
          -0.9362018704414368,
          -0.5334652066230774,
          -0.8865699172019958,
          -0.5741273164749146,
          0.10457908362150192,
          -0.9499034881591797,
          0.44859829545021057,
          0.5036308765411377,
          0.1660752147436142,
          0.49996477365493774,
          0.7359828352928162,
          0.34609490633010864,
          0.5711459517478943,
          0.8565030097961426,
          -0.08555926382541656,
          -0.9027599692344666,
          0.8627509474754333,
          -0.9742692708969116,
          0.27984434366226196,
          -0.4475710391998291,
          -0.2400210201740265,
          -0.4961160123348236,
          -0.6939284205436707,
          0.37273821234703064,
          0.8799423575401306,
          -0.19617430865764618,
          -0.28343692421913147,
          -0.09203772991895676,
          -0.18717141449451447,
          0.3088294565677643,
          -0.01631862297654152,
          0.3625600337982178,
          0.5951319336891174,
          -0.002993496833369136,
          0.054883524775505066,
          0.7393870949745178,
          -0.3504013121128082,
          0.507307231426239,
          -0.18331730365753174,
          0.5407548546791077,
          -0.04070991277694702,
          -0.49192383885383606,
          -0.39385274052619934,
          0.29719987511634827,
          0.20880664885044098,
          0.12870126962661743,
          0.3721882700920105,
          0.5188561081886292,
          0.723490834236145,
          0.4069433808326721,
          0.7949053049087524,
          0.8548178672790527,
          0.13010607659816742,
          0.3274172842502594,
          -0.2995976209640503,
          -0.43459826707839966,
          -0.9526693820953369,
          -0.9734919667243958,
          -0.7793774008750916,
          -0.7020032405853271,
          -0.5981303453445435,
          -0.3627406358718872,
          0.26632556319236755,
          0.18397632241249084,
          -0.46334728598594666,
          -0.06806067377328873,
          -0.1197873055934906,
          -0.019500020891427994,
          -0.616456925868988,
          -0.6355280876159668,
          0.0053492081351578236,
          0.324632465839386,
          0.4753747880458832,
          0.15289512276649475,
          0.27655574679374695,
          0.17603462934494019,
          0.24948173761367798,
          0.33925268054008484,
          -0.7195103764533997,
          -0.9082993865013123,
          0.8319516181945801,
          -0.6766570806503296,
          -0.7784121632575989,
          -0.03354302793741226,
          -0.9559049606323242,
          -0.5724204182624817,
          -0.15953151881694794,
          0.02857513725757599,
          -0.9457547068595886,
          -0.45215079188346863,
          0.2968931794166565,
          0.4349968433380127,
          0.21122623980045319,
          0.07565826922655106,
          0.24176137149333954,
          0.8047019839286804,
          -0.17282767593860626,
          -0.22711814939975739,
          -0.5629677772521973,
          -0.8433498740196228,
          0.22505834698677063,
          0.3176184594631195,
          -0.46935489773750305,
          -0.8641636967658997,
          0.5634691715240479,
          0.47088342905044556,
          0.9329344630241394,
          -0.536526620388031,
          -0.8736796975135803,
          -0.05580440163612366,
          -0.13580746948719025,
          0.9043254852294922,
          0.11953813582658768,
          -0.17651166021823883,
          0.6455569863319397,
          0.7807559370994568,
          0.3902184069156647,
          0.7297720313072205,
          0.21319957077503204,
          -0.7440494894981384,
          0.9637556076049805,
          0.14840617775917053,
          -0.32273003458976746,
          0.5298080444335938,
          0.800917387008667,
          0.8031151294708252,
          -0.11542533338069916,
          -0.01742018200457096,
          -0.5687240958213806,
          -0.9525659084320068,
          0.5526686310768127,
          0.46288061141967773,
          0.42955899238586426,
          -0.0787731185555458,
          0.480209618806839,
          0.9199963808059692,
          -0.7188493609428406,
          0.40245044231414795,
          0.3839889466762543,
          0.07179635763168335,
          0.21282747387886047,
          0.9553757309913635,
          -0.1068125069141388,
          -0.5547085404396057,
          -0.7139050960540771,
          0.24346818029880524,
          0.2628214359283447,
          -0.28683987259864807,
          0.9149718880653381,
          0.9674692749977112,
          0.6985272765159607,
          0.6304923295974731,
          0.9857863783836365,
          0.03716474026441574,
          -0.046949584037065506,
          0.8152357935905457,
          0.8370935320854187,
          -0.1297227442264557,
          -0.3649056851863861,
          0.7987597584724426,
          -0.6189972758293152,
          -0.8278061747550964,
          -0.8743046522140503,
          -0.9552854299545288,
          0.780453622341156,
          0.6077761054039001,
          0.7252933382987976,
          0.0794120728969574,
          0.610908031463623,
          -0.31465381383895874,
          -0.45043864846229553,
          0.6475732326507568,
          0.023286478593945503,
          -0.029435794800519943,
          -0.6145873665809631,
          -0.8242139220237732,
          0.49313315749168396,
          0.5775746703147888,
          0.3283981382846832,
          0.5136305689811707,
          0.1735735386610031,
          0.08805333077907562,
          -0.31378403306007385,
          -0.546807050704956,
          0.07154504954814911,
          0.19143949449062347,
          0.28939080238342285,
          -0.7348789572715759,
          0.7377462983131409,
          0.8944433927536011,
          0.9315599799156189,
          -0.15978460013866425,
          -0.2476113736629486,
          -0.4385986030101776,
          0.38022658228874207,
          -0.7316505312919617,
          -0.875745952129364,
          0.6353007555007935,
          -0.5596188306808472,
          0.6481826901435852,
          0.9166290163993835,
          0.7464513182640076,
          0.893304705619812,
          -0.49043330550193787,
          -0.8998875617980957,
          -0.4245944917201996,
          -0.8774023652076721,
          -0.8370651006698608,
          0.10100383311510086,
          -0.743965208530426,
          -0.009913243353366852,
          -0.3840007483959198,
          -0.6757366061210632,
          -0.8576280474662781,
          -0.8892637491226196,
          -0.47528767585754395,
          -0.3253569006919861,
          -0.22086726129055023,
          0.6000373959541321,
          0.8828079104423523,
          -0.5354685187339783,
          -0.9241580367088318,
          -0.03344622626900673,
          0.2031490057706833,
          0.6668649911880493,
          -0.8075894117355347,
          -0.2551459074020386,
          -0.6661210656166077,
          0.9098498225212097,
          0.4318903386592865,
          0.6383320093154907,
          0.5189851522445679,
          -0.672123372554779,
          -0.8807192444801331,
          0.3293856382369995,
          -0.25731903314590454,
          -0.5388116240501404,
          0.9111136198043823,
          0.845562219619751,
          -0.09609104692935944,
          -0.046907056123018265,
          -0.5888566970825195,
          -0.9500261545181274,
          -0.24346081912517548,
          -0.13954266905784607,
          0.9831889867782593,
          -0.5830883383750916,
          -0.643742561340332,
          -0.6989069581031799,
          -0.6143384575843811,
          0.016529811546206474,
          -0.10100209712982178,
          0.9877545237541199,
          0.3614621162414551,
          0.5947327613830566,
          -0.6038480401039124,
          0.4116002023220062,
          -0.003951886668801308,
          -0.2872072160243988,
          -0.7801483273506165,
          -0.4622746407985687,
          -0.17052917182445526,
          0.18843378126621246,
          0.1664087176322937,
          -0.147941455245018,
          -0.9746867418289185,
          -0.9379072785377502,
          0.8902456164360046,
          0.8610250949859619,
          0.7543476223945618,
          -0.5362177491188049,
          -0.8061988949775696,
          0.4914482533931732,
          0.48674649000167847,
          0.5158263444900513,
          -0.6379832029342651,
          0.3533439040184021,
          0.9050803780555725,
          0.8576741218566895,
          0.25489524006843567,
          0.4062565565109253,
          -0.04942438006401062,
          0.9463241100311279,
          0.6880514621734619,
          -0.8551861047744751,
          -0.09487296640872955,
          -0.07261838763952255,
          0.21689091622829437,
          0.08435329794883728,
          0.22731147706508636,
          -0.20944096148014069,
          0.32672929763793945,
          0.5832533240318298,
          0.38396042585372925,
          -0.20806650817394257,
          -0.43268248438835144,
          0.10426165163516998,
          0.012972937896847725,
          -0.07025717198848724,
          0.6716042757034302,
          0.6467884182929993,
          -0.29873764514923096,
          -0.7568419575691223,
          0.6467067003250122,
          0.26351845264434814,
          0.14683938026428223,
          -0.5746008157730103,
          0.6181504726409912,
          -0.7550374269485474,
          0.9744078516960144,
          0.15470606088638306,
          -0.1884394735097885,
          0.478356271982193,
          0.09964459389448166,
          0.9144446849822998,
          0.39091262221336365,
          0.7072604894638062,
          0.905615508556366,
          0.6954917907714844,
          -0.3342340886592865,
          -0.43316197395324707,
          0.8481665849685669,
          -0.24943192303180695,
          -0.14647914469242096,
          -0.6536407470703125,
          -0.9104816913604736,
          0.29092612862586975,
          0.9591884613037109,
          -0.8155748248100281,
          -0.3017663359642029,
          -0.4413723051548004,
          -0.5761595368385315,
          -0.6234593391418457,
          0.17745542526245117,
          0.26051992177963257,
          0.24953767657279968,
          -0.024895602837204933,
          0.3926302492618561,
          0.7634965777397156,
          0.7422594428062439,
          0.4552198350429535,
          0.9006129503250122,
          -0.7143850326538086,
          -0.1721389889717102,
          -0.9668260812759399,
          -0.6812200546264648,
          -0.7685375809669495,
          0.41248807311058044,
          -0.6695851683616638,
          0.5228281021118164,
          -0.5344304442405701,
          -0.5361432433128357,
          -0.5290083885192871,
          0.6727550029754639,
          -0.46104496717453003,
          -0.07543188333511353,
          -0.6427503228187561,
          -0.7142311930656433,
          -0.3145085871219635,
          -0.4998631775379181,
          -0.4779750406742096,
          -0.29209306836128235,
          -0.8008086681365967,
          -0.3519993722438812,
          -0.6880900859832764,
          -0.9209179282188416,
          0.27559176087379456,
          0.9584907293319702,
          -0.411928653717041,
          -0.5126063823699951,
          -0.2681257426738739,
          -0.6049903035163879,
          -0.4392203688621521,
          -0.3953121304512024,
          -0.8279011845588684,
          0.37825122475624084,
          0.5649023056030273,
          0.21352890133857727,
          -0.1058981716632843,
          -0.28250816464424133,
          0.10656484216451645,
          0.016621138900518417,
          -0.2014908790588379,
          0.5601227879524231,
          0.06816083937883377,
          0.059092406183481216,
          0.8524451851844788,
          -0.9559975862503052,
          0.8139355778694153,
          0.08073270320892334,
          0.7522081136703491,
          -0.38968345522880554,
          -0.7559973001480103,
          0.32976287603378296,
          0.30402952432632446,
          0.14699526131153107,
          -0.5023193359375,
          -0.6255823969841003,
          -0.053838592022657394,
          0.7112748026847839,
          0.945829451084137,
          -0.7430306673049927,
          -0.4461269676685333,
          -0.9523460268974304,
          0.781933069229126,
          0.807645320892334,
          -0.8143559694290161,
          -0.2220088690519333,
          -0.37831705808639526,
          0.0937749519944191,
          0.6061339378356934,
          -0.4842372536659241,
          -0.6593793630599976,
          -0.6876144409179688,
          -0.03753402829170227,
          -0.013885626569390297,
          0.43331754207611084,
          0.7024015188217163,
          0.8536796569824219,
          -0.7080271244049072,
          0.9570304155349731,
          0.10228947550058365,
          0.2075948268175125,
          0.09501659125089645,
          0.4072903096675873,
          0.21106407046318054,
          0.0825473889708519,
          -0.08583834022283554,
          0.7196769118309021,
          0.6387429237365723,
          0.11841347813606262,
          0.3444109559059143,
          0.42033103108406067,
          -0.1542767733335495,
          -0.3148520588874817,
          0.7076225876808167,
          0.6884479522705078,
          -0.15066003799438477,
          -0.7642486691474915,
          -0.8152626752853394,
          0.042587656527757645,
          -0.06675015389919281,
          -0.329031378030777,
          -0.4583336114883423,
          0.8044912219047546,
          -0.23086103796958923,
          0.6460561156272888,
          -0.5113228559494019,
          -0.8799501657485962,
          -0.7945736050605774,
          -0.7834886908531189,
          0.2699432075023651,
          0.5318858623504639,
          0.8535696268081665,
          0.9575210213661194,
          -0.8179096579551697,
          0.9513604044914246,
          -0.6729151606559753,
          -0.9123308658599854,
          -0.4429808557033539,
          0.2608206868171692,
          -0.6029391288757324,
          -0.6910865902900696,
          0.12557581067085266,
          0.47429126501083374,
          0.8131662607192993,
          0.7793015241622925,
          -0.5352770090103149,
          -0.4409865438938141,
          -0.8444057106971741,
          -0.6740721464157104,
          0.4550993740558624,
          0.5984771251678467,
          0.6995149850845337,
          -0.7060674428939819,
          0.8403626084327698,
          0.6568855047225952,
          -0.1576932668685913,
          -0.24540245532989502,
          -0.8836529850959778,
          -0.23254729807376862,
          -0.7105969786643982,
          -0.8946531414985657,
          0.4366146922111511,
          0.5920559763908386,
          -0.5276821851730347,
          0.4818758964538574,
          0.03007771261036396,
          0.5576505661010742,
          0.7825543284416199
         ]
        }
       ],
       "layout": {
        "height": 600,
        "hovermode": "closest",
        "margin": {
         "b": 20,
         "l": 5,
         "r": 5,
         "t": 40
        },
        "plot_bgcolor": "white",
        "showlegend": false,
        "template": {
         "data": {
          "bar": [
           {
            "error_x": {
             "color": "#2a3f5f"
            },
            "error_y": {
             "color": "#2a3f5f"
            },
            "marker": {
             "line": {
              "color": "#E5ECF6",
              "width": 0.5
             },
             "pattern": {
              "fillmode": "overlay",
              "size": 10,
              "solidity": 0.2
             }
            },
            "type": "bar"
           }
          ],
          "barpolar": [
           {
            "marker": {
             "line": {
              "color": "#E5ECF6",
              "width": 0.5
             },
             "pattern": {
              "fillmode": "overlay",
              "size": 10,
              "solidity": 0.2
             }
            },
            "type": "barpolar"
           }
          ],
          "carpet": [
           {
            "aaxis": {
             "endlinecolor": "#2a3f5f",
             "gridcolor": "white",
             "linecolor": "white",
             "minorgridcolor": "white",
             "startlinecolor": "#2a3f5f"
            },
            "baxis": {
             "endlinecolor": "#2a3f5f",
             "gridcolor": "white",
             "linecolor": "white",
             "minorgridcolor": "white",
             "startlinecolor": "#2a3f5f"
            },
            "type": "carpet"
           }
          ],
          "choropleth": [
           {
            "colorbar": {
             "outlinewidth": 0,
             "ticks": ""
            },
            "type": "choropleth"
           }
          ],
          "contour": [
           {
            "colorbar": {
             "outlinewidth": 0,
             "ticks": ""
            },
            "colorscale": [
             [
              0,
              "#0d0887"
             ],
             [
              0.1111111111111111,
              "#46039f"
             ],
             [
              0.2222222222222222,
              "#7201a8"
             ],
             [
              0.3333333333333333,
              "#9c179e"
             ],
             [
              0.4444444444444444,
              "#bd3786"
             ],
             [
              0.5555555555555556,
              "#d8576b"
             ],
             [
              0.6666666666666666,
              "#ed7953"
             ],
             [
              0.7777777777777778,
              "#fb9f3a"
             ],
             [
              0.8888888888888888,
              "#fdca26"
             ],
             [
              1,
              "#f0f921"
             ]
            ],
            "type": "contour"
           }
          ],
          "contourcarpet": [
           {
            "colorbar": {
             "outlinewidth": 0,
             "ticks": ""
            },
            "type": "contourcarpet"
           }
          ],
          "heatmap": [
           {
            "colorbar": {
             "outlinewidth": 0,
             "ticks": ""
            },
            "colorscale": [
             [
              0,
              "#0d0887"
             ],
             [
              0.1111111111111111,
              "#46039f"
             ],
             [
              0.2222222222222222,
              "#7201a8"
             ],
             [
              0.3333333333333333,
              "#9c179e"
             ],
             [
              0.4444444444444444,
              "#bd3786"
             ],
             [
              0.5555555555555556,
              "#d8576b"
             ],
             [
              0.6666666666666666,
              "#ed7953"
             ],
             [
              0.7777777777777778,
              "#fb9f3a"
             ],
             [
              0.8888888888888888,
              "#fdca26"
             ],
             [
              1,
              "#f0f921"
             ]
            ],
            "type": "heatmap"
           }
          ],
          "histogram": [
           {
            "marker": {
             "pattern": {
              "fillmode": "overlay",
              "size": 10,
              "solidity": 0.2
             }
            },
            "type": "histogram"
           }
          ],
          "histogram2d": [
           {
            "colorbar": {
             "outlinewidth": 0,
             "ticks": ""
            },
            "colorscale": [
             [
              0,
              "#0d0887"
             ],
             [
              0.1111111111111111,
              "#46039f"
             ],
             [
              0.2222222222222222,
              "#7201a8"
             ],
             [
              0.3333333333333333,
              "#9c179e"
             ],
             [
              0.4444444444444444,
              "#bd3786"
             ],
             [
              0.5555555555555556,
              "#d8576b"
             ],
             [
              0.6666666666666666,
              "#ed7953"
             ],
             [
              0.7777777777777778,
              "#fb9f3a"
             ],
             [
              0.8888888888888888,
              "#fdca26"
             ],
             [
              1,
              "#f0f921"
             ]
            ],
            "type": "histogram2d"
           }
          ],
          "histogram2dcontour": [
           {
            "colorbar": {
             "outlinewidth": 0,
             "ticks": ""
            },
            "colorscale": [
             [
              0,
              "#0d0887"
             ],
             [
              0.1111111111111111,
              "#46039f"
             ],
             [
              0.2222222222222222,
              "#7201a8"
             ],
             [
              0.3333333333333333,
              "#9c179e"
             ],
             [
              0.4444444444444444,
              "#bd3786"
             ],
             [
              0.5555555555555556,
              "#d8576b"
             ],
             [
              0.6666666666666666,
              "#ed7953"
             ],
             [
              0.7777777777777778,
              "#fb9f3a"
             ],
             [
              0.8888888888888888,
              "#fdca26"
             ],
             [
              1,
              "#f0f921"
             ]
            ],
            "type": "histogram2dcontour"
           }
          ],
          "mesh3d": [
           {
            "colorbar": {
             "outlinewidth": 0,
             "ticks": ""
            },
            "type": "mesh3d"
           }
          ],
          "parcoords": [
           {
            "line": {
             "colorbar": {
              "outlinewidth": 0,
              "ticks": ""
             }
            },
            "type": "parcoords"
           }
          ],
          "pie": [
           {
            "automargin": true,
            "type": "pie"
           }
          ],
          "scatter": [
           {
            "fillpattern": {
             "fillmode": "overlay",
             "size": 10,
             "solidity": 0.2
            },
            "type": "scatter"
           }
          ],
          "scatter3d": [
           {
            "line": {
             "colorbar": {
              "outlinewidth": 0,
              "ticks": ""
             }
            },
            "marker": {
             "colorbar": {
              "outlinewidth": 0,
              "ticks": ""
             }
            },
            "type": "scatter3d"
           }
          ],
          "scattercarpet": [
           {
            "marker": {
             "colorbar": {
              "outlinewidth": 0,
              "ticks": ""
             }
            },
            "type": "scattercarpet"
           }
          ],
          "scattergeo": [
           {
            "marker": {
             "colorbar": {
              "outlinewidth": 0,
              "ticks": ""
             }
            },
            "type": "scattergeo"
           }
          ],
          "scattergl": [
           {
            "marker": {
             "colorbar": {
              "outlinewidth": 0,
              "ticks": ""
             }
            },
            "type": "scattergl"
           }
          ],
          "scattermap": [
           {
            "marker": {
             "colorbar": {
              "outlinewidth": 0,
              "ticks": ""
             }
            },
            "type": "scattermap"
           }
          ],
          "scattermapbox": [
           {
            "marker": {
             "colorbar": {
              "outlinewidth": 0,
              "ticks": ""
             }
            },
            "type": "scattermapbox"
           }
          ],
          "scatterpolar": [
           {
            "marker": {
             "colorbar": {
              "outlinewidth": 0,
              "ticks": ""
             }
            },
            "type": "scatterpolar"
           }
          ],
          "scatterpolargl": [
           {
            "marker": {
             "colorbar": {
              "outlinewidth": 0,
              "ticks": ""
             }
            },
            "type": "scatterpolargl"
           }
          ],
          "scatterternary": [
           {
            "marker": {
             "colorbar": {
              "outlinewidth": 0,
              "ticks": ""
             }
            },
            "type": "scatterternary"
           }
          ],
          "surface": [
           {
            "colorbar": {
             "outlinewidth": 0,
             "ticks": ""
            },
            "colorscale": [
             [
              0,
              "#0d0887"
             ],
             [
              0.1111111111111111,
              "#46039f"
             ],
             [
              0.2222222222222222,
              "#7201a8"
             ],
             [
              0.3333333333333333,
              "#9c179e"
             ],
             [
              0.4444444444444444,
              "#bd3786"
             ],
             [
              0.5555555555555556,
              "#d8576b"
             ],
             [
              0.6666666666666666,
              "#ed7953"
             ],
             [
              0.7777777777777778,
              "#fb9f3a"
             ],
             [
              0.8888888888888888,
              "#fdca26"
             ],
             [
              1,
              "#f0f921"
             ]
            ],
            "type": "surface"
           }
          ],
          "table": [
           {
            "cells": {
             "fill": {
              "color": "#EBF0F8"
             },
             "line": {
              "color": "white"
             }
            },
            "header": {
             "fill": {
              "color": "#C8D4E3"
             },
             "line": {
              "color": "white"
             }
            },
            "type": "table"
           }
          ]
         },
         "layout": {
          "annotationdefaults": {
           "arrowcolor": "#2a3f5f",
           "arrowhead": 0,
           "arrowwidth": 1
          },
          "autotypenumbers": "strict",
          "coloraxis": {
           "colorbar": {
            "outlinewidth": 0,
            "ticks": ""
           }
          },
          "colorscale": {
           "diverging": [
            [
             0,
             "#8e0152"
            ],
            [
             0.1,
             "#c51b7d"
            ],
            [
             0.2,
             "#de77ae"
            ],
            [
             0.3,
             "#f1b6da"
            ],
            [
             0.4,
             "#fde0ef"
            ],
            [
             0.5,
             "#f7f7f7"
            ],
            [
             0.6,
             "#e6f5d0"
            ],
            [
             0.7,
             "#b8e186"
            ],
            [
             0.8,
             "#7fbc41"
            ],
            [
             0.9,
             "#4d9221"
            ],
            [
             1,
             "#276419"
            ]
           ],
           "sequential": [
            [
             0,
             "#0d0887"
            ],
            [
             0.1111111111111111,
             "#46039f"
            ],
            [
             0.2222222222222222,
             "#7201a8"
            ],
            [
             0.3333333333333333,
             "#9c179e"
            ],
            [
             0.4444444444444444,
             "#bd3786"
            ],
            [
             0.5555555555555556,
             "#d8576b"
            ],
            [
             0.6666666666666666,
             "#ed7953"
            ],
            [
             0.7777777777777778,
             "#fb9f3a"
            ],
            [
             0.8888888888888888,
             "#fdca26"
            ],
            [
             1,
             "#f0f921"
            ]
           ],
           "sequentialminus": [
            [
             0,
             "#0d0887"
            ],
            [
             0.1111111111111111,
             "#46039f"
            ],
            [
             0.2222222222222222,
             "#7201a8"
            ],
            [
             0.3333333333333333,
             "#9c179e"
            ],
            [
             0.4444444444444444,
             "#bd3786"
            ],
            [
             0.5555555555555556,
             "#d8576b"
            ],
            [
             0.6666666666666666,
             "#ed7953"
            ],
            [
             0.7777777777777778,
             "#fb9f3a"
            ],
            [
             0.8888888888888888,
             "#fdca26"
            ],
            [
             1,
             "#f0f921"
            ]
           ]
          },
          "colorway": [
           "#636efa",
           "#EF553B",
           "#00cc96",
           "#ab63fa",
           "#FFA15A",
           "#19d3f3",
           "#FF6692",
           "#B6E880",
           "#FF97FF",
           "#FECB52"
          ],
          "font": {
           "color": "#2a3f5f"
          },
          "geo": {
           "bgcolor": "white",
           "lakecolor": "white",
           "landcolor": "#E5ECF6",
           "showlakes": true,
           "showland": true,
           "subunitcolor": "white"
          },
          "hoverlabel": {
           "align": "left"
          },
          "hovermode": "closest",
          "mapbox": {
           "style": "light"
          },
          "paper_bgcolor": "white",
          "plot_bgcolor": "#E5ECF6",
          "polar": {
           "angularaxis": {
            "gridcolor": "white",
            "linecolor": "white",
            "ticks": ""
           },
           "bgcolor": "#E5ECF6",
           "radialaxis": {
            "gridcolor": "white",
            "linecolor": "white",
            "ticks": ""
           }
          },
          "scene": {
           "xaxis": {
            "backgroundcolor": "#E5ECF6",
            "gridcolor": "white",
            "gridwidth": 2,
            "linecolor": "white",
            "showbackground": true,
            "ticks": "",
            "zerolinecolor": "white"
           },
           "yaxis": {
            "backgroundcolor": "#E5ECF6",
            "gridcolor": "white",
            "gridwidth": 2,
            "linecolor": "white",
            "showbackground": true,
            "ticks": "",
            "zerolinecolor": "white"
           },
           "zaxis": {
            "backgroundcolor": "#E5ECF6",
            "gridcolor": "white",
            "gridwidth": 2,
            "linecolor": "white",
            "showbackground": true,
            "ticks": "",
            "zerolinecolor": "white"
           }
          },
          "shapedefaults": {
           "line": {
            "color": "#2a3f5f"
           }
          },
          "ternary": {
           "aaxis": {
            "gridcolor": "white",
            "linecolor": "white",
            "ticks": ""
           },
           "baxis": {
            "gridcolor": "white",
            "linecolor": "white",
            "ticks": ""
           },
           "bgcolor": "#E5ECF6",
           "caxis": {
            "gridcolor": "white",
            "linecolor": "white",
            "ticks": ""
           }
          },
          "title": {
           "x": 0.05
          },
          "xaxis": {
           "automargin": true,
           "gridcolor": "white",
           "linecolor": "white",
           "ticks": "",
           "title": {
            "standoff": 15
           },
           "zerolinecolor": "white",
           "zerolinewidth": 2
          },
          "yaxis": {
           "automargin": true,
           "gridcolor": "white",
           "linecolor": "white",
           "ticks": "",
           "title": {
            "standoff": 15
           },
           "zerolinecolor": "white",
           "zerolinewidth": 2
          }
         }
        },
        "title": {
         "text": "Bigram Network for Türkiye"
        },
        "xaxis": {
         "showgrid": false,
         "showticklabels": false,
         "zeroline": false
        },
        "yaxis": {
         "showgrid": false,
         "showticklabels": false,
         "zeroline": false
        }
       }
      }
     },
     "metadata": {},
     "output_type": "display_data"
    }
   ],
   "source": [
    "# create the network visualization for Turkey only\n",
    "plot_bigram_network(\n",
    "    bigram_df=topic_bigrams.get('türkiye', pd.DataFrame(columns=['word1', 'word2', 'count'])),\n",
    "    n_bigrams=500,\n",
    "    title=\"Bigram Network for Türkiye\"\n",
    ")"
   ]
  }
 ],
 "metadata": {
  "kernelspec": {
   "display_name": "nlp.env",
   "language": "python",
   "name": "python3"
  },
  "language_info": {
   "codemirror_mode": {
    "name": "ipython",
    "version": 3
   },
   "file_extension": ".py",
   "mimetype": "text/x-python",
   "name": "python",
   "nbconvert_exporter": "python",
   "pygments_lexer": "ipython3",
   "version": "3.10.18"
  }
 },
 "nbformat": 4,
 "nbformat_minor": 4
}
